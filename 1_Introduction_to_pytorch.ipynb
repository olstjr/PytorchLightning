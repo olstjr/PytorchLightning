{
  "nbformat": 4,
  "nbformat_minor": 0,
  "metadata": {
    "colab": {
      "provenance": [],
      "gpuType": "T4",
      "authorship_tag": "ABX9TyNIqmVhSUEzNWe6vA1a3LeP"
    },
    "kernelspec": {
      "name": "python3",
      "display_name": "Python 3"
    },
    "language_info": {
      "name": "python"
    },
    "accelerator": "GPU",
    "widgets": {
      "application/vnd.jupyter.widget-state+json": {
        "242916899efc45a5abcd5abb1d91589d": {
          "model_module": "@jupyter-widgets/controls",
          "model_name": "HBoxModel",
          "model_module_version": "1.5.0",
          "state": {
            "_dom_classes": [],
            "_model_module": "@jupyter-widgets/controls",
            "_model_module_version": "1.5.0",
            "_model_name": "HBoxModel",
            "_view_count": null,
            "_view_module": "@jupyter-widgets/controls",
            "_view_module_version": "1.5.0",
            "_view_name": "HBoxView",
            "box_style": "",
            "children": [
              "IPY_MODEL_72d3e3d5fda04aa7ae7df8d35f3e2027",
              "IPY_MODEL_f9fcf5bc11574935ba0a0255fc195b4e",
              "IPY_MODEL_2882887a00604a638d36011503bac937"
            ],
            "layout": "IPY_MODEL_c4e7b965a24242ea944e6243022bdfd0"
          }
        },
        "72d3e3d5fda04aa7ae7df8d35f3e2027": {
          "model_module": "@jupyter-widgets/controls",
          "model_name": "HTMLModel",
          "model_module_version": "1.5.0",
          "state": {
            "_dom_classes": [],
            "_model_module": "@jupyter-widgets/controls",
            "_model_module_version": "1.5.0",
            "_model_name": "HTMLModel",
            "_view_count": null,
            "_view_module": "@jupyter-widgets/controls",
            "_view_module_version": "1.5.0",
            "_view_name": "HTMLView",
            "description": "",
            "description_tooltip": null,
            "layout": "IPY_MODEL_5b713dc3833f4c94a3c3bc90bcafe927",
            "placeholder": "​",
            "style": "IPY_MODEL_319e792faabb41dbb2a01d7f12cd72bc",
            "value": "100%"
          }
        },
        "f9fcf5bc11574935ba0a0255fc195b4e": {
          "model_module": "@jupyter-widgets/controls",
          "model_name": "FloatProgressModel",
          "model_module_version": "1.5.0",
          "state": {
            "_dom_classes": [],
            "_model_module": "@jupyter-widgets/controls",
            "_model_module_version": "1.5.0",
            "_model_name": "FloatProgressModel",
            "_view_count": null,
            "_view_module": "@jupyter-widgets/controls",
            "_view_module_version": "1.5.0",
            "_view_name": "ProgressView",
            "bar_style": "success",
            "description": "",
            "description_tooltip": null,
            "layout": "IPY_MODEL_a814d554b6454d9390c76584bba1cae2",
            "max": 100,
            "min": 0,
            "orientation": "horizontal",
            "style": "IPY_MODEL_cb9982d01169428d948190c8f1399618",
            "value": 100
          }
        },
        "2882887a00604a638d36011503bac937": {
          "model_module": "@jupyter-widgets/controls",
          "model_name": "HTMLModel",
          "model_module_version": "1.5.0",
          "state": {
            "_dom_classes": [],
            "_model_module": "@jupyter-widgets/controls",
            "_model_module_version": "1.5.0",
            "_model_name": "HTMLModel",
            "_view_count": null,
            "_view_module": "@jupyter-widgets/controls",
            "_view_module_version": "1.5.0",
            "_view_name": "HTMLView",
            "description": "",
            "description_tooltip": null,
            "layout": "IPY_MODEL_69e4badd5efb43d1850cde77b94b80be",
            "placeholder": "​",
            "style": "IPY_MODEL_74807a719eae476f9f73c01a73a0cd1d",
            "value": " 100/100 [00:02&lt;00:00, 60.37it/s]"
          }
        },
        "c4e7b965a24242ea944e6243022bdfd0": {
          "model_module": "@jupyter-widgets/base",
          "model_name": "LayoutModel",
          "model_module_version": "1.2.0",
          "state": {
            "_model_module": "@jupyter-widgets/base",
            "_model_module_version": "1.2.0",
            "_model_name": "LayoutModel",
            "_view_count": null,
            "_view_module": "@jupyter-widgets/base",
            "_view_module_version": "1.2.0",
            "_view_name": "LayoutView",
            "align_content": null,
            "align_items": null,
            "align_self": null,
            "border": null,
            "bottom": null,
            "display": null,
            "flex": null,
            "flex_flow": null,
            "grid_area": null,
            "grid_auto_columns": null,
            "grid_auto_flow": null,
            "grid_auto_rows": null,
            "grid_column": null,
            "grid_gap": null,
            "grid_row": null,
            "grid_template_areas": null,
            "grid_template_columns": null,
            "grid_template_rows": null,
            "height": null,
            "justify_content": null,
            "justify_items": null,
            "left": null,
            "margin": null,
            "max_height": null,
            "max_width": null,
            "min_height": null,
            "min_width": null,
            "object_fit": null,
            "object_position": null,
            "order": null,
            "overflow": null,
            "overflow_x": null,
            "overflow_y": null,
            "padding": null,
            "right": null,
            "top": null,
            "visibility": null,
            "width": null
          }
        },
        "5b713dc3833f4c94a3c3bc90bcafe927": {
          "model_module": "@jupyter-widgets/base",
          "model_name": "LayoutModel",
          "model_module_version": "1.2.0",
          "state": {
            "_model_module": "@jupyter-widgets/base",
            "_model_module_version": "1.2.0",
            "_model_name": "LayoutModel",
            "_view_count": null,
            "_view_module": "@jupyter-widgets/base",
            "_view_module_version": "1.2.0",
            "_view_name": "LayoutView",
            "align_content": null,
            "align_items": null,
            "align_self": null,
            "border": null,
            "bottom": null,
            "display": null,
            "flex": null,
            "flex_flow": null,
            "grid_area": null,
            "grid_auto_columns": null,
            "grid_auto_flow": null,
            "grid_auto_rows": null,
            "grid_column": null,
            "grid_gap": null,
            "grid_row": null,
            "grid_template_areas": null,
            "grid_template_columns": null,
            "grid_template_rows": null,
            "height": null,
            "justify_content": null,
            "justify_items": null,
            "left": null,
            "margin": null,
            "max_height": null,
            "max_width": null,
            "min_height": null,
            "min_width": null,
            "object_fit": null,
            "object_position": null,
            "order": null,
            "overflow": null,
            "overflow_x": null,
            "overflow_y": null,
            "padding": null,
            "right": null,
            "top": null,
            "visibility": null,
            "width": null
          }
        },
        "319e792faabb41dbb2a01d7f12cd72bc": {
          "model_module": "@jupyter-widgets/controls",
          "model_name": "DescriptionStyleModel",
          "model_module_version": "1.5.0",
          "state": {
            "_model_module": "@jupyter-widgets/controls",
            "_model_module_version": "1.5.0",
            "_model_name": "DescriptionStyleModel",
            "_view_count": null,
            "_view_module": "@jupyter-widgets/base",
            "_view_module_version": "1.2.0",
            "_view_name": "StyleView",
            "description_width": ""
          }
        },
        "a814d554b6454d9390c76584bba1cae2": {
          "model_module": "@jupyter-widgets/base",
          "model_name": "LayoutModel",
          "model_module_version": "1.2.0",
          "state": {
            "_model_module": "@jupyter-widgets/base",
            "_model_module_version": "1.2.0",
            "_model_name": "LayoutModel",
            "_view_count": null,
            "_view_module": "@jupyter-widgets/base",
            "_view_module_version": "1.2.0",
            "_view_name": "LayoutView",
            "align_content": null,
            "align_items": null,
            "align_self": null,
            "border": null,
            "bottom": null,
            "display": null,
            "flex": null,
            "flex_flow": null,
            "grid_area": null,
            "grid_auto_columns": null,
            "grid_auto_flow": null,
            "grid_auto_rows": null,
            "grid_column": null,
            "grid_gap": null,
            "grid_row": null,
            "grid_template_areas": null,
            "grid_template_columns": null,
            "grid_template_rows": null,
            "height": null,
            "justify_content": null,
            "justify_items": null,
            "left": null,
            "margin": null,
            "max_height": null,
            "max_width": null,
            "min_height": null,
            "min_width": null,
            "object_fit": null,
            "object_position": null,
            "order": null,
            "overflow": null,
            "overflow_x": null,
            "overflow_y": null,
            "padding": null,
            "right": null,
            "top": null,
            "visibility": null,
            "width": null
          }
        },
        "cb9982d01169428d948190c8f1399618": {
          "model_module": "@jupyter-widgets/controls",
          "model_name": "ProgressStyleModel",
          "model_module_version": "1.5.0",
          "state": {
            "_model_module": "@jupyter-widgets/controls",
            "_model_module_version": "1.5.0",
            "_model_name": "ProgressStyleModel",
            "_view_count": null,
            "_view_module": "@jupyter-widgets/base",
            "_view_module_version": "1.2.0",
            "_view_name": "StyleView",
            "bar_color": null,
            "description_width": ""
          }
        },
        "69e4badd5efb43d1850cde77b94b80be": {
          "model_module": "@jupyter-widgets/base",
          "model_name": "LayoutModel",
          "model_module_version": "1.2.0",
          "state": {
            "_model_module": "@jupyter-widgets/base",
            "_model_module_version": "1.2.0",
            "_model_name": "LayoutModel",
            "_view_count": null,
            "_view_module": "@jupyter-widgets/base",
            "_view_module_version": "1.2.0",
            "_view_name": "LayoutView",
            "align_content": null,
            "align_items": null,
            "align_self": null,
            "border": null,
            "bottom": null,
            "display": null,
            "flex": null,
            "flex_flow": null,
            "grid_area": null,
            "grid_auto_columns": null,
            "grid_auto_flow": null,
            "grid_auto_rows": null,
            "grid_column": null,
            "grid_gap": null,
            "grid_row": null,
            "grid_template_areas": null,
            "grid_template_columns": null,
            "grid_template_rows": null,
            "height": null,
            "justify_content": null,
            "justify_items": null,
            "left": null,
            "margin": null,
            "max_height": null,
            "max_width": null,
            "min_height": null,
            "min_width": null,
            "object_fit": null,
            "object_position": null,
            "order": null,
            "overflow": null,
            "overflow_x": null,
            "overflow_y": null,
            "padding": null,
            "right": null,
            "top": null,
            "visibility": null,
            "width": null
          }
        },
        "74807a719eae476f9f73c01a73a0cd1d": {
          "model_module": "@jupyter-widgets/controls",
          "model_name": "DescriptionStyleModel",
          "model_module_version": "1.5.0",
          "state": {
            "_model_module": "@jupyter-widgets/controls",
            "_model_module_version": "1.5.0",
            "_model_name": "DescriptionStyleModel",
            "_view_count": null,
            "_view_module": "@jupyter-widgets/base",
            "_view_module_version": "1.2.0",
            "_view_name": "StyleView",
            "description_width": ""
          }
        }
      }
    }
  },
  "cells": [
    {
      "cell_type": "code",
      "source": [
        "#ctrl + F9 = 모든 셀 실행\n",
        "#특정 셀 선택 후 shift + Enter = 해당 셀 부터 실행"
      ],
      "metadata": {
        "id": "aAgiGub9Te4G"
      },
      "execution_count": null,
      "outputs": []
    },
    {
      "cell_type": "code",
      "execution_count": null,
      "metadata": {
        "colab": {
          "base_uri": "https://localhost:8080/",
          "height": 93
        },
        "id": "VowS-LqlcJ6A",
        "outputId": "a6ca765b-d22a-439d-ca2a-8c46191fbea1"
      },
      "outputs": [
        {
          "output_type": "stream",
          "name": "stdout",
          "text": [
            "\u001b[?25l   \u001b[90m━━━━━━━━━━━━━━━━━━━━━━━━━━━━━━━━━━━━━━━━\u001b[0m \u001b[32m0.0/727.7 kB\u001b[0m \u001b[31m?\u001b[0m eta \u001b[36m-:--:--\u001b[0m\r\u001b[2K   \u001b[91m━━━━━━━━━━━━━━━━━━━━━\u001b[0m\u001b[90m╺\u001b[0m\u001b[90m━━━━━━━━━━━━━━━━━━\u001b[0m \u001b[32m389.1/727.7 kB\u001b[0m \u001b[31m19.1 MB/s\u001b[0m eta \u001b[36m0:00:01\u001b[0m\r\u001b[2K   \u001b[90m━━━━━━━━━━━━━━━━━━━━━━━━━━━━━━━━━━━━━━━━\u001b[0m \u001b[32m727.7/727.7 kB\u001b[0m \u001b[31m10.9 MB/s\u001b[0m eta \u001b[36m0:00:00\u001b[0m\n",
            "\u001b[?25h\u001b[?25l   \u001b[90m━━━━━━━━━━━━━━━━━━━━━━━━━━━━━━━━━━━━━━━━\u001b[0m \u001b[32m0.0/927.3 kB\u001b[0m \u001b[31m?\u001b[0m eta \u001b[36m-:--:--\u001b[0m\r\u001b[2K   \u001b[90m━━━━━━━━━━━━━━━━━━━━━━━━━━━━━━━━━━━━━━━━\u001b[0m \u001b[32m927.3/927.3 kB\u001b[0m \u001b[31m33.3 MB/s\u001b[0m eta \u001b[36m0:00:00\u001b[0m\n",
            "\u001b[?25h"
          ]
        },
        {
          "output_type": "execute_result",
          "data": {
            "text/plain": [
              "'matplotlib>=3.0.0, <3.9.0matplotliblightning>=2.0.0setuptools>=68.0.0, <68.3.0'"
            ],
            "application/vnd.google.colaboratory.intrinsic+json": {
              "type": "string"
            }
          },
          "metadata": {},
          "execution_count": 2
        }
      ],
      "source": [
        "! pip install --quiet \"pytorch-lightning>=1.4, <2.1.0\" \"urllib3\"\n",
        "\"ipython[notebook]>=8.0.0, <8.17.0\" \"torchmetrics>=0.7, <1.3\" \"torch>=1.8.1,<2.1.0\"\n",
        "\"matplotlib>=3.0.0, <3.9.0\" \"matplotlib\" \"lightning>=2.0.0\" \"setuptools>=68.0.0, <68.3.0\""
      ]
    },
    {
      "cell_type": "code",
      "source": [
        "import time\n",
        "\n",
        "import matplotlib.pyplot as plt\n",
        "\n",
        "%matplotlib inline\n",
        "import matplotlib_inline.backend_inline\n",
        "import numpy as np\n",
        "import torch\n",
        "import torch.nn as nn\n",
        "import torch.utils.data as data\n",
        "from matplotlib.colors import to_rgba\n",
        "from torch import Tensor\n",
        "from tqdm.notebook import tqdm  # Progress bar\n",
        "\n",
        "matplotlib_inline.backend_inline.set_matplotlib_formats(\"svg\", \"pdf\")  # For export\n",
        "##코랩에 이미 설치 완료된듯."
      ],
      "metadata": {
        "id": "2FCdyHLWf0dD"
      },
      "execution_count": null,
      "outputs": []
    },
    {
      "cell_type": "code",
      "source": [
        "#The basic of pytorch\n",
        "\n",
        "print(\"Using torch\", torch.__version__) #version check\n",
        "#코드가 최신일 경우 수정필요 x"
      ],
      "metadata": {
        "colab": {
          "base_uri": "https://localhost:8080/"
        },
        "id": "aKV73to4f-sH",
        "outputId": "e19cb483-4a82-4f73-9984-367cc731c65d"
      },
      "execution_count": null,
      "outputs": [
        {
          "output_type": "stream",
          "name": "stdout",
          "text": [
            "Using torch 2.5.1+cu121\n"
          ]
        }
      ]
    },
    {
      "cell_type": "code",
      "source": [
        "#정확히 동일한 난수로 코드를 재현할 수 있도록 시드설정\n",
        "torch.manual_seed(42)  # Setting the seed"
      ],
      "metadata": {
        "colab": {
          "base_uri": "https://localhost:8080/"
        },
        "id": "W2-FOtRLgQfb",
        "outputId": "bec1aff9-dc1a-417f-8b84-c54aab733c9e"
      },
      "execution_count": null,
      "outputs": [
        {
          "output_type": "execute_result",
          "data": {
            "text/plain": [
              "<torch._C.Generator at 0x791402b390f0>"
            ]
          },
          "metadata": {},
          "execution_count": 5
        }
      ]
    },
    {
      "cell_type": "code",
      "source": [
        "#Tensors\n",
        "\n",
        "#텐서란 numpy 배열과 동일한 pytorch(+gpu가속을 지원) / 벡터는 1차원 텐서 / 행렬은 2차원 텐서\n",
        "\n",
        "#초기화_텐서 만드는 법\n",
        "torch.zeros\n",
        "x = torch.randn(2, 3, 4) # x = Tensor(2,3,4)로도 가능, 이 경우 난수로 채워지는듯.\n",
        "print(x) ##형태가 중요한듯"
      ],
      "metadata": {
        "colab": {
          "base_uri": "https://localhost:8080/"
        },
        "id": "j3EP4woUgQkX",
        "outputId": "98a0e4e1-a85c-469b-8b72-7fdcc0059edf"
      },
      "execution_count": null,
      "outputs": [
        {
          "output_type": "stream",
          "name": "stdout",
          "text": [
            "tensor([[[ 1.9269,  1.4873,  0.9007, -2.1055],\n",
            "         [ 0.6784, -1.2345, -0.0431, -1.6047],\n",
            "         [ 0.3559, -0.6866, -0.4934,  0.2415]],\n",
            "\n",
            "        [[-1.1109,  0.0915, -2.3169, -0.2168],\n",
            "         [-0.3097, -0.3957,  0.8034, -0.6216],\n",
            "         [-0.5920, -0.0631, -0.8286,  0.3309]]])\n"
          ]
        }
      ]
    },
    {
      "cell_type": "code",
      "source": [
        "# Create a tensor from a (nested) list\n",
        "x = Tensor([[1, 2], [3, 4]])\n",
        "print(x)"
      ],
      "metadata": {
        "colab": {
          "base_uri": "https://localhost:8080/"
        },
        "id": "mmUbuigIhqim",
        "outputId": "99235505-8c47-495e-9b66-110ff9e3ae7e"
      },
      "execution_count": null,
      "outputs": [
        {
          "output_type": "stream",
          "name": "stdout",
          "text": [
            "tensor([[1., 2.],\n",
            "        [3., 4.]])\n"
          ]
        }
      ]
    },
    {
      "cell_type": "code",
      "source": [
        "# Create a tensor with random values between 0 and 1 with the shape [2, 3, 4]\n",
        "x = torch.rand(2, 3, 4)\n",
        "print(x)"
      ],
      "metadata": {
        "colab": {
          "base_uri": "https://localhost:8080/"
        },
        "id": "q6eggivfjCcY",
        "outputId": "46a98005-7c47-4fd1-9ad9-3636b0743f3b"
      },
      "execution_count": null,
      "outputs": [
        {
          "output_type": "stream",
          "name": "stdout",
          "text": [
            "tensor([[[0.6343, 0.3644, 0.7104, 0.9464],\n",
            "         [0.7890, 0.2814, 0.7886, 0.5895],\n",
            "         [0.7539, 0.1952, 0.0050, 0.3068]],\n",
            "\n",
            "        [[0.1165, 0.9103, 0.6440, 0.7071],\n",
            "         [0.6581, 0.4913, 0.8913, 0.1447],\n",
            "         [0.5315, 0.1587, 0.6542, 0.3278]]])\n"
          ]
        }
      ]
    },
    {
      "cell_type": "code",
      "source": [
        "#텐서의 모양 얻기 - .shape 또는 .size\n",
        "\n",
        "shape = x.shape\n",
        "print(\"Shape:\", x.shape)\n",
        "\n",
        "size = x.size()\n",
        "print(\"Size:\", size)\n",
        "\n",
        "dim1, dim2, dim3 = x.size()\n",
        "print(\"Size:\", dim1, dim2, dim3)"
      ],
      "metadata": {
        "colab": {
          "base_uri": "https://localhost:8080/"
        },
        "id": "FH2_yXEYjomJ",
        "outputId": "83bfd831-5fe2-4b5c-be06-0a49b769cf6b"
      },
      "execution_count": null,
      "outputs": [
        {
          "output_type": "stream",
          "name": "stdout",
          "text": [
            "Shape: torch.Size([2, 3, 4])\n",
            "Size: torch.Size([2, 3, 4])\n",
            "Size: 2 3 4\n"
          ]
        }
      ]
    },
    {
      "cell_type": "code",
      "source": [
        "#Tensor <- numpy - torch.from_numpy\n",
        "np_arr = np.array([[1, 2], [3, 4]])\n",
        "tensor = torch.from_numpy(np_arr)\n",
        "\n",
        "print(\"Numpy array:\", np_arr)\n",
        "print(\"PyTorch tensor:\", tensor)\n",
        "\n",
        "\n",
        "#Tensor -> numpy - .numpy() / 텐서를 넘파이로 변환하려면 텐서가 gpu가 아닌 cpu에 있어야 함. (.cpu()활용), 근데 자동으로 될때도 있음.\n",
        "tensor= torch.arange(4)\n",
        "np_arr = tensor.numpy()\n",
        "\n",
        "print(\"Pytorch tensor:\", tensor)\n",
        "print(\"Numpy array:\", np_arr)"
      ],
      "metadata": {
        "id": "YVwq0yKJoX9e",
        "colab": {
          "base_uri": "https://localhost:8080/"
        },
        "outputId": "455fdfe7-8477-41b4-b20b-c04478e96c67"
      },
      "execution_count": null,
      "outputs": [
        {
          "output_type": "stream",
          "name": "stdout",
          "text": [
            "Numpy array: [[1 2]\n",
            " [3 4]]\n",
            "PyTorch tensor: tensor([[1, 2],\n",
            "        [3, 4]])\n",
            "Pytorch tensor: tensor([0, 1, 2, 3])\n",
            "Numpy array: [0 1 2 3]\n"
          ]
        }
      ]
    },
    {
      "cell_type": "code",
      "source": [
        "#연산 - numpy에 존재하는 대부분의 연산은 Pytorch에도 존재함\n",
        "x1 = torch.rand(2, 3)\n",
        "x2 = torch.rand(2, 3)\n",
        "y = x1 + x2\n",
        "\n",
        "print(\"X1\", x1)\n",
        "print(\"X2\", x2)\n",
        "print(\"Y\", y)"
      ],
      "metadata": {
        "colab": {
          "base_uri": "https://localhost:8080/"
        },
        "id": "qMXHCWvwpp95",
        "outputId": "ef793527-37b6-4efa-dab1-5f244822452d"
      },
      "execution_count": null,
      "outputs": [
        {
          "output_type": "stream",
          "name": "stdout",
          "text": [
            "X1 tensor([[0.6532, 0.3958, 0.9147],\n",
            "        [0.2036, 0.2018, 0.2018]])\n",
            "X2 tensor([[0.9497, 0.6666, 0.9811],\n",
            "        [0.0874, 0.0041, 0.1088]])\n",
            "Y tensor([[1.6029, 1.0625, 1.8958],\n",
            "        [0.2910, 0.2059, 0.3106]])\n"
          ]
        }
      ]
    },
    {
      "cell_type": "code",
      "source": [
        "x1 = torch.rand(2, 3)\n",
        "x2 = torch.rand(2, 3)\n",
        "print(\"X1 (before)\", x1)\n",
        "print(\"X2 (before)\", x2)\n",
        "\n",
        "x2.add_(x1) # in-place operation =  _활용 / 연산전의 x2값에 다시 접근 불가능\n",
        "print(\"X1 (after)\", x1)\n",
        "print(\"X2 (after)\", x2)"
      ],
      "metadata": {
        "colab": {
          "base_uri": "https://localhost:8080/"
        },
        "id": "RkFyA8j3qSfF",
        "outputId": "c6d0c4e0-6794-4d28-8e0b-f71fce60186d"
      },
      "execution_count": null,
      "outputs": [
        {
          "output_type": "stream",
          "name": "stdout",
          "text": [
            "X1 (before) tensor([[0.1637, 0.7025, 0.6790],\n",
            "        [0.9155, 0.2418, 0.1591]])\n",
            "X2 (before) tensor([[0.7653, 0.2979, 0.8035],\n",
            "        [0.3813, 0.7860, 0.1115]])\n",
            "X1 (after) tensor([[0.1637, 0.7025, 0.6790],\n",
            "        [0.9155, 0.2418, 0.1591]])\n",
            "X2 (after) tensor([[0.9289, 1.0004, 1.4825],\n",
            "        [1.2968, 1.0278, 0.2707]])\n"
          ]
        }
      ]
    },
    {
      "cell_type": "code",
      "source": [
        "#일반적인 연산은 텐서의 모양을 변경하는 것을 목표로 함.\n",
        "x = torch.arange(6)\n",
        "print(\"X\", x)\n",
        "\n",
        "x = x.view(2,3) #행,열의 순서\n",
        "print(\"X\", x)\n",
        "\n",
        "x = x.permute(1,0) #0차원과 1차원을 교환 - 직관적이진 않음. 모양으로 이해.\n",
        "print(\"X\", x)"
      ],
      "metadata": {
        "colab": {
          "base_uri": "https://localhost:8080/"
        },
        "id": "Bu2HUSykq6bK",
        "outputId": "055d508f-0878-4c19-8886-a8ea609fe143"
      },
      "execution_count": null,
      "outputs": [
        {
          "output_type": "stream",
          "name": "stdout",
          "text": [
            "X tensor([0, 1, 2, 3, 4, 5])\n",
            "X tensor([[0, 1, 2],\n",
            "        [3, 4, 5]])\n",
            "X tensor([[0, 3],\n",
            "        [1, 4],\n",
            "        [2, 5]])\n"
          ]
        }
      ]
    },
    {
      "cell_type": "code",
      "source": [
        "#신경망에 필수적인 행렬곱셈 - torch.(matmul/mm/bmm/einsum...)\n",
        "#주로matmul 또는 bmm 을 사용\n",
        "\n",
        "#matmul\n",
        "x = torch.arange(6)\n",
        "x = x.view(2, 3)\n",
        "print(\"X\", x)\n",
        "\n",
        "W = torch.arange(9).view(3, 3)  # We can also stack multiple operations in a single line\n",
        "print(\"W\", W)\n",
        "\n",
        "h = torch.matmul(x, W)  # Verify the result by calculating it by hand too!\n",
        "print(\"h\", h)"
      ],
      "metadata": {
        "colab": {
          "base_uri": "https://localhost:8080/"
        },
        "id": "3r6q4EvKquf5",
        "outputId": "6a55fd13-abc2-43fb-9c4a-9d8909dab8f4"
      },
      "execution_count": null,
      "outputs": [
        {
          "output_type": "stream",
          "name": "stdout",
          "text": [
            "X tensor([[0, 1, 2],\n",
            "        [3, 4, 5]])\n",
            "W tensor([[0, 1, 2],\n",
            "        [3, 4, 5],\n",
            "        [6, 7, 8]])\n",
            "h tensor([[15, 18, 21],\n",
            "        [42, 54, 66]])\n"
          ]
        }
      ]
    },
    {
      "cell_type": "code",
      "source": [
        "#tensor indexing(선택)\n",
        "\n",
        "x = torch.arange(12).view(3, 4)\n",
        "print(\"X\", x)\n",
        "\n",
        "print(x[:, 1])  # Second column\n",
        "print(x[0]) #First row\n",
        "\n",
        "print(x[:2,-1]) #First two rows, last column\n",
        "print(x[1:3, :])"
      ],
      "metadata": {
        "colab": {
          "base_uri": "https://localhost:8080/"
        },
        "id": "UHa7kamdu7HQ",
        "outputId": "0745423a-bbe1-4d1b-9e89-046728a7e199"
      },
      "execution_count": null,
      "outputs": [
        {
          "output_type": "stream",
          "name": "stdout",
          "text": [
            "X tensor([[ 0,  1,  2,  3],\n",
            "        [ 4,  5,  6,  7],\n",
            "        [ 8,  9, 10, 11]])\n",
            "tensor([1, 5, 9])\n",
            "tensor([0, 1, 2, 3])\n",
            "tensor([3, 7])\n",
            "tensor([[ 4,  5,  6,  7],\n",
            "        [ 8,  9, 10, 11]])\n"
          ]
        }
      ]
    },
    {
      "cell_type": "code",
      "source": [
        "#Dynamic Computation Graph and Backpropagation\n",
        "\n",
        "#어떤 텐서가 그래디언트를 필요로 하는지 지정/기본적으로, 텐서를 생성할때 그래디언트 필요x\n",
        "\n",
        "x = torch.ones((3,))\n",
        "print(x.requires_grad)\n",
        "\n",
        "#함수를 사용하여 기존텐서에 대해 변경\n",
        "x.requires_grad_(True) #_indicating that this is a in-place operation\n",
        "print(x.requires_grad)"
      ],
      "metadata": {
        "colab": {
          "base_uri": "https://localhost:8080/"
        },
        "id": "I7bnoqhPxFWT",
        "outputId": "0ec35954-2e69-4c00-cfc5-c84c6efaba5c"
      },
      "execution_count": null,
      "outputs": [
        {
          "output_type": "stream",
          "name": "stdout",
          "text": [
            "False\n",
            "True\n"
          ]
        }
      ]
    },
    {
      "cell_type": "code",
      "source": [
        "#특정 함수에대한 계산그래프 만들기 / x매개변수 투입, 출력을 최적화, 기울기를 얻고싶음\n",
        "\n",
        "x = torch.arange(3, dtype=torch.float32, requires_grad=True) #only float tensors can have gradients\n",
        "print(\"X\", x)\n",
        "\n",
        "a = x + 2\n",
        "b = a ** 2\n",
        "c = b + 3\n",
        "y = c.mean() #mean() - 평균계산\n",
        "print(\"Y\", y) #grad_fn에서 볼 수 있듯이, 계산그래프의 각 노드는 입력에 대한 그래디언트를 계산하기 위한 함수를 자동으로 정의\n",
        "\n",
        "\n",
        "#역전파\n",
        "y.backward() #이제 그래디언트가 포함됨.\n",
        "print(x.grad) #수동계산결과와 일치"
      ],
      "metadata": {
        "colab": {
          "base_uri": "https://localhost:8080/"
        },
        "id": "5zuyCn4HziHx",
        "outputId": "92c2f378-0883-40d1-ce3c-11e0a953d6c9"
      },
      "execution_count": null,
      "outputs": [
        {
          "output_type": "stream",
          "name": "stdout",
          "text": [
            "X tensor([0., 1., 2.], requires_grad=True)\n",
            "Y tensor(12.6667, grad_fn=<MeanBackward0>)\n",
            "tensor([1.3333, 2.0000, 2.6667])\n"
          ]
        }
      ]
    },
    {
      "cell_type": "code",
      "source": [
        "gpu_avail = torch.cuda.is_available()\n",
        "print(f\"Is the GPU available? {gpu_avail}\")"
      ],
      "metadata": {
        "id": "Uaj4pSwBzrLs",
        "colab": {
          "base_uri": "https://localhost:8080/"
        },
        "outputId": "949c8bf2-7c8f-4fb1-c8d2-9ad1afbbd784"
      },
      "execution_count": null,
      "outputs": [
        {
          "output_type": "stream",
          "name": "stdout",
          "text": [
            "Is the GPU available? True\n"
          ]
        }
      ]
    },
    {
      "cell_type": "code",
      "source": [
        "#기본적으로, 생성한 모든 텐서는 cpu에 저장됨. 함수를 사용하여 gpu에 푸시 가능\n",
        "#gpu가 있으면 gpu를 사용하도록하는 장치설정 코드\n",
        "\n",
        "device = torch.device(\"cuda\") if torch.cuda.is_available() else torch.device(\"cpu\")\n",
        "print(\"Device\", device)\n",
        "\n",
        "#텐서를 생성하여 장치에 푸시\n",
        "x = torch.zeros(2, 3)\n",
        "x = x.to(device)\n",
        "print(\"X\", x)"
      ],
      "metadata": {
        "colab": {
          "base_uri": "https://localhost:8080/"
        },
        "id": "-pcKIpw2cHmW",
        "outputId": "269d474a-aa01-4c18-b751-067491317f19"
      },
      "execution_count": null,
      "outputs": [
        {
          "output_type": "stream",
          "name": "stdout",
          "text": [
            "Device cuda\n",
            "X tensor([[0., 0., 0.],\n",
            "        [0., 0., 0.]], device='cuda:0')\n"
          ]
        }
      ]
    },
    {
      "cell_type": "code",
      "source": [
        "#cpu에서 큰 행렬 곱셈의 런타임을 gpu에서 비교\n",
        "\n",
        "x = torch.randn(5000, 5000)\n",
        "\n",
        "# CPU version\n",
        "start_time = time.time()\n",
        "_ = torch.matmul(x, x)\n",
        "end_time = time.time()\n",
        "print(f\"CPU time: {(end_time - start_time):6.5f}s\")\n",
        "\n",
        "# GPU version\n",
        "if torch.cuda.is_available():\n",
        "    x = x.to(device)\n",
        "    # CUDA is asynchronous, so we need to use different timing functions\n",
        "    start = torch.cuda.Event(enable_timing=True)\n",
        "    end = torch.cuda.Event(enable_timing=True)\n",
        "    start.record()\n",
        "    _ = torch.matmul(x, x)\n",
        "    end.record()\n",
        "    torch.cuda.synchronize()  # Waits for everything to finish running on the GPU\n",
        "    print(f\"GPU time: {0.001 * start.elapsed_time(end):6.5f}s\")  # Milliseconds to seconds\n",
        "    #솔직히 cpu에 비해 구조는 잘 모르겠지만 일단 넘어감."
      ],
      "metadata": {
        "colab": {
          "base_uri": "https://localhost:8080/"
        },
        "id": "dLRyCEGnc5so",
        "outputId": "ff3bd146-2ede-43f3-90fb-7124e54d44e5"
      },
      "execution_count": null,
      "outputs": [
        {
          "output_type": "stream",
          "name": "stdout",
          "text": [
            "CPU time: 6.17953s\n",
            "GPU time: 0.22813s\n"
          ]
        }
      ]
    },
    {
      "cell_type": "code",
      "source": [
        "#난수를 생성할때 cpu와gpu간의시드는 동기화 되지 않음.\n",
        "#따라서, 재현 가능한 코드를 보장하기 위해 gpu에 별도로 시드를 설정해야 함.\n",
        "\n",
        "# GPU operations have a separate seed we also want to set\n",
        "if torch.cuda.is_available():\n",
        "    torch.cuda.manual_seed(42)\n",
        "    torch.cuda.manual_seed_all(42)\n",
        "\n",
        "# Additionally, some operations on a GPU are implemented stochastic for efficiency\n",
        "# We want to ensure that all operations are deterministic on GPU (if used) for reproducibility\n",
        "torch.backends.cudnn.deterministic = True\n",
        "torch.backends.cudnn.benchmark = False"
      ],
      "metadata": {
        "id": "EqFQjpERdus6"
      },
      "execution_count": null,
      "outputs": []
    },
    {
      "cell_type": "code",
      "source": [
        "#Pytorch에서 신경망을 구축하려면 Tensors(with requires_grad=True)를 사용하여 모든 매개변수를 지정하고\n",
        "#기울기를 계산하게 한 다음 매개변수를 조정할 수 있다.\n",
        "#Pytorch에는 신경망을 더 편리하게 구축할 수 있는 torch.nn패키지가 있다.\n",
        "\n",
        "#torch.nn 패키지는 선형네트워크 계층, 활성화 함수, 손실함수 등과 같은 일련의 유옹한 클래스를 정의함.\n",
        "#따라서, 패키지에 이미 해당코드가 포함되어 있을 가능성이 높음\n",
        "\n",
        "#torch.nn .functional은 네트워크 계층에서 사용되는 함수를 포함하며,\n",
        "#이는 torch.nn에서 nn.Modules로 정의하는 것과 대조적이며 실제로 torch.nn.functional에서 많은 기능을 사용한다.\n",
        "\n",
        "#nn.Module - Pytorch에서, 신경망은 모듈로 구성 / 모듈은 다른 모듈을 포함할 수 있다. / 신경망은 모듈 자체로도 간주\n",
        "\n",
        "class MyModule(nn.Module):   #nn.Module은 이미 파이토치에 정의되어 있는 모듈.\n",
        "    def __init__(self):\n",
        "        super().__init__()   #부모클래스nn.Module 의 초기화 매서드를 호출, 부모클래스에서 필요한 모든 설정이 완료되도록 함.\n",
        "        # Some init for my module\n",
        "\n",
        "    def forward(self, x):\n",
        "        # Function for performing the calculation of the module.\n",
        "        pass\n",
        "\n",
        "#init함수에서, 우리는 일반적으로 forward함수에서 사용되는 다른 모듈을 정의하거나\n",
        "#nn.Parameter을 사용하여 모듈의 파라미터를 만든다.\n",
        "#backward계산은 자동으로 수행되지만 원하는 경우 덮어쓸 수도 있음."
      ],
      "metadata": {
        "id": "OUG3R9TWeYDV"
      },
      "execution_count": null,
      "outputs": []
    },
    {
      "cell_type": "code",
      "source": [
        "#Simple Classifier\n",
        "\n",
        "class SimpleClassifier(nn.Module):\n",
        "    def __init__(self, num_inputs, num_hidden, num_outputs):\n",
        "        super().__init__()\n",
        "        # Initialize the modules we need to build the network\n",
        "        self.linear1 = nn.Linear(num_inputs, num_hidden)\n",
        "        self.act_fn = nn.Tanh() #활성함수\n",
        "        self.linear2 = nn.Linear(num_hidden, num_outputs)\n",
        "\n",
        "    def forward(self, x):\n",
        "        # Perform the calculation of the model to determine the prediction\n",
        "        x = self.linear1(x)\n",
        "        x = self.act_fn(x)\n",
        "        x = self.linear2(x)\n",
        "        return x"
      ],
      "metadata": {
        "id": "IhWh3h9srja8"
      },
      "execution_count": null,
      "outputs": []
    },
    {
      "cell_type": "code",
      "source": [
        "model = SimpleClassifier(num_inputs=2, num_hidden=4, num_outputs=1)\n",
        "#printing a module shows all its submodules\n",
        "print(model)"
      ],
      "metadata": {
        "id": "_bsUyAxUtwrh",
        "colab": {
          "base_uri": "https://localhost:8080/"
        },
        "outputId": "3a7b25d6-bf15-4679-f901-fa8f6056637d"
      },
      "execution_count": null,
      "outputs": [
        {
          "output_type": "stream",
          "name": "stdout",
          "text": [
            "SimpleClassifier(\n",
            "  (linear1): Linear(in_features=2, out_features=4, bias=True)\n",
            "  (act_fn): Tanh()\n",
            "  (linear2): Linear(in_features=4, out_features=1, bias=True)\n",
            ")\n"
          ]
        }
      ]
    },
    {
      "cell_type": "code",
      "source": [
        "#모듈의 매개변수는 parameters()함수를 사용하거나 named_parameters()를 사용하여 각 매개변수 객체에 이름을 지정하여 얻을 수 있다.\n",
        "\n",
        "for name, param in model.named_parameters():\n",
        "    print(f\"Parameter {name}, shape {param.shape}\")"
      ],
      "metadata": {
        "colab": {
          "base_uri": "https://localhost:8080/"
        },
        "id": "Laydk70FRxtj",
        "outputId": "2a8db458-5632-4733-b1aa-68bfeb4a8ac9"
      },
      "execution_count": null,
      "outputs": [
        {
          "output_type": "stream",
          "name": "stdout",
          "text": [
            "Parameter linear1.weight, shape torch.Size([4, 2])\n",
            "Parameter linear1.bias, shape torch.Size([4])\n",
            "Parameter linear2.weight, shape torch.Size([1, 4])\n",
            "Parameter linear2.bias, shape torch.Size([1])\n"
          ]
        }
      ]
    },
    {
      "cell_type": "code",
      "source": [
        "#the data\n",
        "#파이토치는 학습 및 테스트 데이터를 효율적으로 로드하기 위한 몇 가지 기능을 제공 - torch.utils.data\n",
        "\n",
        "#파이토치에서 데이터를 처리하기 위한 두개의 클래스 정의\n",
        "#data.Dataset - 학습/테스트 데이터에 액세스하기 위한 균일한 인터페이스를 제공\n",
        "#data.DataLoader - 학습 중에 데이터 세트에서 데이터 포인트를 배치로 효율적으로 로드하고 스택\n",
        "\n",
        "#파이토치에서 데이터 세트를 정의하려면 두 가지 함수 __getitem__ / __len__ 를 지정해야함.\n",
        "\n",
        "\n",
        "#데이터 세트 클래스 정의\n",
        "class XORDataset(data.Dataset):\n",
        "    def __init__(self, size, std=0.1):\n",
        "        \"\"\"XORDataset.\n",
        "\n",
        "        Args:\n",
        "            size: Number of data points we want to generate\n",
        "            std: Standard deviation of the noise (see generate_continuous_xor function)\n",
        "\n",
        "        \"\"\"\n",
        "        super().__init__()\n",
        "        self.size = size\n",
        "        self.std = std\n",
        "        self.generate_continuous_xor()\n",
        "\n",
        "    def generate_continuous_xor(self):\n",
        "        # Each data point in the XOR dataset has two variables, x and y, that can be either 0 or 1\n",
        "        # The label is their XOR combination, i.e. 1 if only x or only y is 1 while the other is 0.\n",
        "        # If x=y, the label is 0.\n",
        "        data = torch.randint(low=0, high=2, size=(self.size, 2), dtype=torch.float32) #주어진 범위내의 난수 생성/2차원 벡터로 표현\n",
        "        label = (data.sum(dim=1) == 1).to(torch.long)\n",
        "        #XOR연산에 따라 레이블 형성 / 두 입력이 다를때 1 (두 값을 더해서 1이 될때 레이블을 1로 설정)\n",
        "        # To make it slightly more challenging, we add a bit of gaussian noise to the data points.\n",
        "        data += self.std * torch.randn(data.shape) #가우시안 노이즈 추가\n",
        "\n",
        "        self.data = data\n",
        "        self.label = label\n",
        "\n",
        "    def __len__(self):\n",
        "        # Number of data point we have. Alternatively self.data.shape[0], or self.label.shape[0]\n",
        "        return self.size\n",
        "\n",
        "    def __getitem__(self, idx):\n",
        "        # Return the idx-th data point of the dataset\n",
        "        # If we have multiple things to return (data point and label), we can return them as tuple\n",
        "        data_point = self.data[idx]\n",
        "        data_label = self.label[idx]\n",
        "        return data_point, data_label\n"
      ],
      "metadata": {
        "id": "LGJ3mmoTSjQt"
      },
      "execution_count": null,
      "outputs": []
    },
    {
      "cell_type": "code",
      "source": [
        "dataset = XORDataset(size=200)\n",
        "print(\"Size of dataset:\", len(dataset))\n",
        "print(\"Data point 0:\", dataset[0])"
      ],
      "metadata": {
        "colab": {
          "base_uri": "https://localhost:8080/"
        },
        "id": "YmkMbXW7ZTQD",
        "outputId": "7e6fd8b3-405c-4fec-d6f4-e1a4ec13f579"
      },
      "execution_count": null,
      "outputs": [
        {
          "output_type": "stream",
          "name": "stdout",
          "text": [
            "Size of dataset: 200\n",
            "Data point 0: (tensor([-0.0993,  1.0482]), tensor(1))\n"
          ]
        }
      ]
    },
    {
      "cell_type": "code",
      "source": [
        "#데이터 세트와 더 잘 연관시키기 위해 아래 샘플을 시각화\n",
        "def visualize_samples(data, label):\n",
        "    if isinstance(data, Tensor):\n",
        "        data = data.cpu().numpy()\n",
        "    if isinstance(label, Tensor):\n",
        "        label = label.cpu().numpy()\n",
        "    data_0 = data[label == 0]\n",
        "    data_1 = data[label == 1]\n",
        "\n",
        "    plt.figure(figsize=(4, 4))\n",
        "    plt.scatter(data_0[:, 0], data_0[:, 1], edgecolor=\"#333\", label=\"Class 0\")\n",
        "    plt.scatter(data_1[:, 0], data_1[:, 1], edgecolor=\"#333\", label=\"Class 1\")\n",
        "    plt.title(\"Dataset samples\")\n",
        "    plt.ylabel(r\"$x_2$\")\n",
        "    plt.xlabel(r\"$x_1$\")\n",
        "    plt.legend()"
      ],
      "metadata": {
        "id": "a4IR4H3YZf1P"
      },
      "execution_count": null,
      "outputs": []
    },
    {
      "cell_type": "code",
      "source": [
        "visualize_samples(dataset.data, dataset.label)\n",
        "plt.show()"
      ],
      "metadata": {
        "colab": {
          "base_uri": "https://localhost:8080/",
          "height": 395
        },
        "id": "WKlUIT37aL7K",
        "outputId": "93a17d8a-ebe6-4aae-f040-e0235994eacd"
      },
      "execution_count": null,
      "outputs": [
        {
          "output_type": "display_data",
          "data": {
            "text/plain": [
              "<Figure size 400x400 with 1 Axes>"
            ],
            "image/svg+xml": "<?xml version=\"1.0\" encoding=\"utf-8\" standalone=\"no\"?>\n<!DOCTYPE svg PUBLIC \"-//W3C//DTD SVG 1.1//EN\"\n  \"http://www.w3.org/Graphics/SVG/1.1/DTD/svg11.dtd\">\n<svg xmlns:xlink=\"http://www.w3.org/1999/xlink\" width=\"286.594752pt\" height=\"281.634375pt\" viewBox=\"0 0 286.594752 281.634375\" xmlns=\"http://www.w3.org/2000/svg\" version=\"1.1\">\n <metadata>\n  <rdf:RDF xmlns:dc=\"http://purl.org/dc/elements/1.1/\" xmlns:cc=\"http://creativecommons.org/ns#\" xmlns:rdf=\"http://www.w3.org/1999/02/22-rdf-syntax-ns#\">\n   <cc:Work>\n    <dc:type rdf:resource=\"http://purl.org/dc/dcmitype/StillImage\"/>\n    <dc:date>2025-01-04T10:44:56.150994</dc:date>\n    <dc:format>image/svg+xml</dc:format>\n    <dc:creator>\n     <cc:Agent>\n      <dc:title>Matplotlib v3.8.0, https://matplotlib.org/</dc:title>\n     </cc:Agent>\n    </dc:creator>\n   </cc:Work>\n  </rdf:RDF>\n </metadata>\n <defs>\n  <style type=\"text/css\">*{stroke-linejoin: round; stroke-linecap: butt}</style>\n </defs>\n <g id=\"figure_1\">\n  <g id=\"patch_1\">\n   <path d=\"M 0 281.634375 \nL 286.594752 281.634375 \nL 286.594752 0 \nL 0 0 \nz\n\" style=\"fill: #ffffff\"/>\n  </g>\n  <g id=\"axes_1\">\n   <g id=\"patch_2\">\n    <path d=\"M 52.160938 244.078125 \nL 275.360937 244.078125 \nL 275.360937 22.318125 \nL 52.160938 22.318125 \nz\n\" style=\"fill: #ffffff\"/>\n   </g>\n   <g id=\"PathCollection_1\">\n    <defs>\n     <path id=\"mf04464a5ae\" d=\"M 0 3 \nC 0.795609 3 1.55874 2.683901 2.12132 2.12132 \nC 2.683901 1.55874 3 0.795609 3 0 \nC 3 -0.795609 2.683901 -1.55874 2.12132 -2.12132 \nC 1.55874 -2.683901 0.795609 -3 0 -3 \nC -0.795609 -3 -1.55874 -2.683901 -2.12132 -2.12132 \nC -2.683901 -1.55874 -3 -0.795609 -3 0 \nC -3 0.795609 -2.683901 1.55874 -2.12132 2.12132 \nC -1.55874 2.683901 -0.795609 3 0 3 \nz\n\" style=\"stroke: #333333\"/>\n    </defs>\n    <g clip-path=\"url(#p449d9b2c9f)\">\n     <use xlink:href=\"#mf04464a5ae\" x=\"244.988212\" y=\"53.267455\" style=\"fill: #1f77b4; stroke: #333333\"/>\n     <use xlink:href=\"#mf04464a5ae\" x=\"103.484582\" y=\"195.541278\" style=\"fill: #1f77b4; stroke: #333333\"/>\n     <use xlink:href=\"#mf04464a5ae\" x=\"234.519276\" y=\"57.718616\" style=\"fill: #1f77b4; stroke: #333333\"/>\n     <use xlink:href=\"#mf04464a5ae\" x=\"237.234506\" y=\"56.644268\" style=\"fill: #1f77b4; stroke: #333333\"/>\n     <use xlink:href=\"#mf04464a5ae\" x=\"251.225194\" y=\"59.097279\" style=\"fill: #1f77b4; stroke: #333333\"/>\n     <use xlink:href=\"#mf04464a5ae\" x=\"98.699083\" y=\"205.167745\" style=\"fill: #1f77b4; stroke: #333333\"/>\n     <use xlink:href=\"#mf04464a5ae\" x=\"77.848167\" y=\"209.74263\" style=\"fill: #1f77b4; stroke: #333333\"/>\n     <use xlink:href=\"#mf04464a5ae\" x=\"227.739653\" y=\"56.37465\" style=\"fill: #1f77b4; stroke: #333333\"/>\n     <use xlink:href=\"#mf04464a5ae\" x=\"236.703961\" y=\"53.655508\" style=\"fill: #1f77b4; stroke: #333333\"/>\n     <use xlink:href=\"#mf04464a5ae\" x=\"223.720333\" y=\"84.000201\" style=\"fill: #1f77b4; stroke: #333333\"/>\n     <use xlink:href=\"#mf04464a5ae\" x=\"98.28044\" y=\"223.361277\" style=\"fill: #1f77b4; stroke: #333333\"/>\n     <use xlink:href=\"#mf04464a5ae\" x=\"221.442783\" y=\"70.582852\" style=\"fill: #1f77b4; stroke: #333333\"/>\n     <use xlink:href=\"#mf04464a5ae\" x=\"260.754758\" y=\"73.967598\" style=\"fill: #1f77b4; stroke: #333333\"/>\n     <use xlink:href=\"#mf04464a5ae\" x=\"91.039552\" y=\"212.109623\" style=\"fill: #1f77b4; stroke: #333333\"/>\n     <use xlink:href=\"#mf04464a5ae\" x=\"240.191748\" y=\"70.960147\" style=\"fill: #1f77b4; stroke: #333333\"/>\n     <use xlink:href=\"#mf04464a5ae\" x=\"93.230452\" y=\"204.992271\" style=\"fill: #1f77b4; stroke: #333333\"/>\n     <use xlink:href=\"#mf04464a5ae\" x=\"214.927777\" y=\"64.84921\" style=\"fill: #1f77b4; stroke: #333333\"/>\n     <use xlink:href=\"#mf04464a5ae\" x=\"112.610474\" y=\"211.43012\" style=\"fill: #1f77b4; stroke: #333333\"/>\n     <use xlink:href=\"#mf04464a5ae\" x=\"223.709208\" y=\"74.981877\" style=\"fill: #1f77b4; stroke: #333333\"/>\n     <use xlink:href=\"#mf04464a5ae\" x=\"239.269913\" y=\"75.608519\" style=\"fill: #1f77b4; stroke: #333333\"/>\n     <use xlink:href=\"#mf04464a5ae\" x=\"238.828201\" y=\"74.973722\" style=\"fill: #1f77b4; stroke: #333333\"/>\n     <use xlink:href=\"#mf04464a5ae\" x=\"100.251996\" y=\"179.979231\" style=\"fill: #1f77b4; stroke: #333333\"/>\n     <use xlink:href=\"#mf04464a5ae\" x=\"93.609084\" y=\"196.637543\" style=\"fill: #1f77b4; stroke: #333333\"/>\n     <use xlink:href=\"#mf04464a5ae\" x=\"118.764336\" y=\"213.741201\" style=\"fill: #1f77b4; stroke: #333333\"/>\n     <use xlink:href=\"#mf04464a5ae\" x=\"108.006572\" y=\"231.438672\" style=\"fill: #1f77b4; stroke: #333333\"/>\n     <use xlink:href=\"#mf04464a5ae\" x=\"100.320433\" y=\"216.95255\" style=\"fill: #1f77b4; stroke: #333333\"/>\n     <use xlink:href=\"#mf04464a5ae\" x=\"109.074579\" y=\"202.927665\" style=\"fill: #1f77b4; stroke: #333333\"/>\n     <use xlink:href=\"#mf04464a5ae\" x=\"92.22782\" y=\"201.45254\" style=\"fill: #1f77b4; stroke: #333333\"/>\n     <use xlink:href=\"#mf04464a5ae\" x=\"227.175094\" y=\"75.735436\" style=\"fill: #1f77b4; stroke: #333333\"/>\n     <use xlink:href=\"#mf04464a5ae\" x=\"229.48163\" y=\"63.8437\" style=\"fill: #1f77b4; stroke: #333333\"/>\n     <use xlink:href=\"#mf04464a5ae\" x=\"239.787849\" y=\"55.245579\" style=\"fill: #1f77b4; stroke: #333333\"/>\n     <use xlink:href=\"#mf04464a5ae\" x=\"101.057938\" y=\"222.031921\" style=\"fill: #1f77b4; stroke: #333333\"/>\n     <use xlink:href=\"#mf04464a5ae\" x=\"233.524287\" y=\"54.675199\" style=\"fill: #1f77b4; stroke: #333333\"/>\n     <use xlink:href=\"#mf04464a5ae\" x=\"233.397292\" y=\"70.055347\" style=\"fill: #1f77b4; stroke: #333333\"/>\n     <use xlink:href=\"#mf04464a5ae\" x=\"108.090528\" y=\"222.101211\" style=\"fill: #1f77b4; stroke: #333333\"/>\n     <use xlink:href=\"#mf04464a5ae\" x=\"63.752239\" y=\"226.548341\" style=\"fill: #1f77b4; stroke: #333333\"/>\n     <use xlink:href=\"#mf04464a5ae\" x=\"86.640134\" y=\"217.806016\" style=\"fill: #1f77b4; stroke: #333333\"/>\n     <use xlink:href=\"#mf04464a5ae\" x=\"224.851401\" y=\"52.332305\" style=\"fill: #1f77b4; stroke: #333333\"/>\n     <use xlink:href=\"#mf04464a5ae\" x=\"239.418793\" y=\"60.228887\" style=\"fill: #1f77b4; stroke: #333333\"/>\n     <use xlink:href=\"#mf04464a5ae\" x=\"62.306392\" y=\"215.742229\" style=\"fill: #1f77b4; stroke: #333333\"/>\n     <use xlink:href=\"#mf04464a5ae\" x=\"220.986976\" y=\"77.122163\" style=\"fill: #1f77b4; stroke: #333333\"/>\n     <use xlink:href=\"#mf04464a5ae\" x=\"116.930161\" y=\"217.192092\" style=\"fill: #1f77b4; stroke: #333333\"/>\n     <use xlink:href=\"#mf04464a5ae\" x=\"236.049838\" y=\"74.177704\" style=\"fill: #1f77b4; stroke: #333333\"/>\n     <use xlink:href=\"#mf04464a5ae\" x=\"124.934742\" y=\"210.203491\" style=\"fill: #1f77b4; stroke: #333333\"/>\n     <use xlink:href=\"#mf04464a5ae\" x=\"248.006794\" y=\"88.567701\" style=\"fill: #1f77b4; stroke: #333333\"/>\n     <use xlink:href=\"#mf04464a5ae\" x=\"244.533558\" y=\"53.722234\" style=\"fill: #1f77b4; stroke: #333333\"/>\n     <use xlink:href=\"#mf04464a5ae\" x=\"78.152713\" y=\"182.151059\" style=\"fill: #1f77b4; stroke: #333333\"/>\n     <use xlink:href=\"#mf04464a5ae\" x=\"252.336443\" y=\"66.925858\" style=\"fill: #1f77b4; stroke: #333333\"/>\n     <use xlink:href=\"#mf04464a5ae\" x=\"220.245073\" y=\"39.9227\" style=\"fill: #1f77b4; stroke: #333333\"/>\n     <use xlink:href=\"#mf04464a5ae\" x=\"101.097058\" y=\"211.575291\" style=\"fill: #1f77b4; stroke: #333333\"/>\n     <use xlink:href=\"#mf04464a5ae\" x=\"77.224455\" y=\"206.675249\" style=\"fill: #1f77b4; stroke: #333333\"/>\n     <use xlink:href=\"#mf04464a5ae\" x=\"88.426356\" y=\"187.707049\" style=\"fill: #1f77b4; stroke: #333333\"/>\n     <use xlink:href=\"#mf04464a5ae\" x=\"74.272319\" y=\"195.498127\" style=\"fill: #1f77b4; stroke: #333333\"/>\n     <use xlink:href=\"#mf04464a5ae\" x=\"241.214462\" y=\"70.355282\" style=\"fill: #1f77b4; stroke: #333333\"/>\n     <use xlink:href=\"#mf04464a5ae\" x=\"253.348273\" y=\"61.962053\" style=\"fill: #1f77b4; stroke: #333333\"/>\n     <use xlink:href=\"#mf04464a5ae\" x=\"225.603923\" y=\"85.655229\" style=\"fill: #1f77b4; stroke: #333333\"/>\n     <use xlink:href=\"#mf04464a5ae\" x=\"82.466989\" y=\"220.148724\" style=\"fill: #1f77b4; stroke: #333333\"/>\n     <use xlink:href=\"#mf04464a5ae\" x=\"227.668274\" y=\"66.125812\" style=\"fill: #1f77b4; stroke: #333333\"/>\n     <use xlink:href=\"#mf04464a5ae\" x=\"223.830703\" y=\"66.560361\" style=\"fill: #1f77b4; stroke: #333333\"/>\n     <use xlink:href=\"#mf04464a5ae\" x=\"79.514349\" y=\"228.220707\" style=\"fill: #1f77b4; stroke: #333333\"/>\n     <use xlink:href=\"#mf04464a5ae\" x=\"108.149131\" y=\"199.450846\" style=\"fill: #1f77b4; stroke: #333333\"/>\n     <use xlink:href=\"#mf04464a5ae\" x=\"70.563574\" y=\"210.616065\" style=\"fill: #1f77b4; stroke: #333333\"/>\n     <use xlink:href=\"#mf04464a5ae\" x=\"97.595243\" y=\"185.769053\" style=\"fill: #1f77b4; stroke: #333333\"/>\n     <use xlink:href=\"#mf04464a5ae\" x=\"230.285513\" y=\"60.088019\" style=\"fill: #1f77b4; stroke: #333333\"/>\n     <use xlink:href=\"#mf04464a5ae\" x=\"249.275485\" y=\"71.747217\" style=\"fill: #1f77b4; stroke: #333333\"/>\n     <use xlink:href=\"#mf04464a5ae\" x=\"105.907925\" y=\"202.369882\" style=\"fill: #1f77b4; stroke: #333333\"/>\n     <use xlink:href=\"#mf04464a5ae\" x=\"126.045321\" y=\"213.731069\" style=\"fill: #1f77b4; stroke: #333333\"/>\n     <use xlink:href=\"#mf04464a5ae\" x=\"97.959955\" y=\"207.244025\" style=\"fill: #1f77b4; stroke: #333333\"/>\n     <use xlink:href=\"#mf04464a5ae\" x=\"238.170046\" y=\"72.095374\" style=\"fill: #1f77b4; stroke: #333333\"/>\n     <use xlink:href=\"#mf04464a5ae\" x=\"237.273564\" y=\"72.871162\" style=\"fill: #1f77b4; stroke: #333333\"/>\n     <use xlink:href=\"#mf04464a5ae\" x=\"90.470473\" y=\"212.375139\" style=\"fill: #1f77b4; stroke: #333333\"/>\n     <use xlink:href=\"#mf04464a5ae\" x=\"225.219926\" y=\"68.727477\" style=\"fill: #1f77b4; stroke: #333333\"/>\n     <use xlink:href=\"#mf04464a5ae\" x=\"202.873144\" y=\"83.874144\" style=\"fill: #1f77b4; stroke: #333333\"/>\n     <use xlink:href=\"#mf04464a5ae\" x=\"234.883653\" y=\"67.541236\" style=\"fill: #1f77b4; stroke: #333333\"/>\n     <use xlink:href=\"#mf04464a5ae\" x=\"118.284143\" y=\"204.816096\" style=\"fill: #1f77b4; stroke: #333333\"/>\n     <use xlink:href=\"#mf04464a5ae\" x=\"240.163094\" y=\"58.260653\" style=\"fill: #1f77b4; stroke: #333333\"/>\n     <use xlink:href=\"#mf04464a5ae\" x=\"100.585786\" y=\"197.257524\" style=\"fill: #1f77b4; stroke: #333333\"/>\n     <use xlink:href=\"#mf04464a5ae\" x=\"103.590143\" y=\"221.330241\" style=\"fill: #1f77b4; stroke: #333333\"/>\n     <use xlink:href=\"#mf04464a5ae\" x=\"116.342012\" y=\"208.190766\" style=\"fill: #1f77b4; stroke: #333333\"/>\n     <use xlink:href=\"#mf04464a5ae\" x=\"218.91612\" y=\"42.170214\" style=\"fill: #1f77b4; stroke: #333333\"/>\n     <use xlink:href=\"#mf04464a5ae\" x=\"240.856589\" y=\"49.668984\" style=\"fill: #1f77b4; stroke: #333333\"/>\n     <use xlink:href=\"#mf04464a5ae\" x=\"230.44234\" y=\"66.149293\" style=\"fill: #1f77b4; stroke: #333333\"/>\n     <use xlink:href=\"#mf04464a5ae\" x=\"107.596365\" y=\"206.662341\" style=\"fill: #1f77b4; stroke: #333333\"/>\n     <use xlink:href=\"#mf04464a5ae\" x=\"82.410156\" y=\"209.932249\" style=\"fill: #1f77b4; stroke: #333333\"/>\n     <use xlink:href=\"#mf04464a5ae\" x=\"108.379667\" y=\"199.350568\" style=\"fill: #1f77b4; stroke: #333333\"/>\n     <use xlink:href=\"#mf04464a5ae\" x=\"215.346576\" y=\"71.801554\" style=\"fill: #1f77b4; stroke: #333333\"/>\n     <use xlink:href=\"#mf04464a5ae\" x=\"107.99408\" y=\"197.048908\" style=\"fill: #1f77b4; stroke: #333333\"/>\n     <use xlink:href=\"#mf04464a5ae\" x=\"97.365651\" y=\"206.821658\" style=\"fill: #1f77b4; stroke: #333333\"/>\n     <use xlink:href=\"#mf04464a5ae\" x=\"87.875118\" y=\"213.823048\" style=\"fill: #1f77b4; stroke: #333333\"/>\n     <use xlink:href=\"#mf04464a5ae\" x=\"95.084147\" y=\"217.652952\" style=\"fill: #1f77b4; stroke: #333333\"/>\n     <use xlink:href=\"#mf04464a5ae\" x=\"212.68541\" y=\"55.571296\" style=\"fill: #1f77b4; stroke: #333333\"/>\n     <use xlink:href=\"#mf04464a5ae\" x=\"216.204623\" y=\"71.601518\" style=\"fill: #1f77b4; stroke: #333333\"/>\n     <use xlink:href=\"#mf04464a5ae\" x=\"76.219437\" y=\"214.616684\" style=\"fill: #1f77b4; stroke: #333333\"/>\n     <use xlink:href=\"#mf04464a5ae\" x=\"194.819023\" y=\"82.68742\" style=\"fill: #1f77b4; stroke: #333333\"/>\n     <use xlink:href=\"#mf04464a5ae\" x=\"82.312801\" y=\"184.49864\" style=\"fill: #1f77b4; stroke: #333333\"/>\n     <use xlink:href=\"#mf04464a5ae\" x=\"86.031848\" y=\"196.031068\" style=\"fill: #1f77b4; stroke: #333333\"/>\n     <use xlink:href=\"#mf04464a5ae\" x=\"221.982462\" y=\"61.70704\" style=\"fill: #1f77b4; stroke: #333333\"/>\n     <use xlink:href=\"#mf04464a5ae\" x=\"90.155067\" y=\"189.931707\" style=\"fill: #1f77b4; stroke: #333333\"/>\n     <use xlink:href=\"#mf04464a5ae\" x=\"214.130831\" y=\"95.017757\" style=\"fill: #1f77b4; stroke: #333333\"/>\n     <use xlink:href=\"#mf04464a5ae\" x=\"218.51213\" y=\"53.822935\" style=\"fill: #1f77b4; stroke: #333333\"/>\n    </g>\n   </g>\n   <g id=\"PathCollection_2\">\n    <defs>\n     <path id=\"m8535e28f97\" d=\"M 0 3 \nC 0.795609 3 1.55874 2.683901 2.12132 2.12132 \nC 2.683901 1.55874 3 0.795609 3 0 \nC 3 -0.795609 2.683901 -1.55874 2.12132 -2.12132 \nC 1.55874 -2.683901 0.795609 -3 0 -3 \nC -0.795609 -3 -1.55874 -2.683901 -2.12132 -2.12132 \nC -2.683901 -1.55874 -3 -0.795609 -3 0 \nC -3 0.795609 -2.683901 1.55874 -2.12132 2.12132 \nC -1.55874 2.683901 -0.795609 3 0 3 \nz\n\" style=\"stroke: #333333\"/>\n    </defs>\n    <g clip-path=\"url(#p449d9b2c9f)\">\n     <use xlink:href=\"#m8535e28f97\" x=\"80.454367\" y=\"58.889653\" style=\"fill: #ff7f0e; stroke: #333333\"/>\n     <use xlink:href=\"#m8535e28f97\" x=\"103.359001\" y=\"63.772063\" style=\"fill: #ff7f0e; stroke: #333333\"/>\n     <use xlink:href=\"#m8535e28f97\" x=\"95.519561\" y=\"87.811301\" style=\"fill: #ff7f0e; stroke: #333333\"/>\n     <use xlink:href=\"#m8535e28f97\" x=\"79.378942\" y=\"69.368701\" style=\"fill: #ff7f0e; stroke: #333333\"/>\n     <use xlink:href=\"#m8535e28f97\" x=\"86.869222\" y=\"70.832297\" style=\"fill: #ff7f0e; stroke: #333333\"/>\n     <use xlink:href=\"#m8535e28f97\" x=\"250.561547\" y=\"191.725835\" style=\"fill: #ff7f0e; stroke: #333333\"/>\n     <use xlink:href=\"#m8535e28f97\" x=\"241.032232\" y=\"204.307848\" style=\"fill: #ff7f0e; stroke: #333333\"/>\n     <use xlink:href=\"#m8535e28f97\" x=\"211.769748\" y=\"191.241502\" style=\"fill: #ff7f0e; stroke: #333333\"/>\n     <use xlink:href=\"#m8535e28f97\" x=\"83.680921\" y=\"63.102929\" style=\"fill: #ff7f0e; stroke: #333333\"/>\n     <use xlink:href=\"#m8535e28f97\" x=\"230.999499\" y=\"220.119688\" style=\"fill: #ff7f0e; stroke: #333333\"/>\n     <use xlink:href=\"#m8535e28f97\" x=\"227.830378\" y=\"216.481044\" style=\"fill: #ff7f0e; stroke: #333333\"/>\n     <use xlink:href=\"#m8535e28f97\" x=\"226.895568\" y=\"185.912642\" style=\"fill: #ff7f0e; stroke: #333333\"/>\n     <use xlink:href=\"#m8535e28f97\" x=\"220.391605\" y=\"195.288481\" style=\"fill: #ff7f0e; stroke: #333333\"/>\n     <use xlink:href=\"#m8535e28f97\" x=\"219.93725\" y=\"223.456688\" style=\"fill: #ff7f0e; stroke: #333333\"/>\n     <use xlink:href=\"#m8535e28f97\" x=\"112.001245\" y=\"45.215187\" style=\"fill: #ff7f0e; stroke: #333333\"/>\n     <use xlink:href=\"#m8535e28f97\" x=\"232.68104\" y=\"198.960417\" style=\"fill: #ff7f0e; stroke: #333333\"/>\n     <use xlink:href=\"#m8535e28f97\" x=\"85.647629\" y=\"61.554809\" style=\"fill: #ff7f0e; stroke: #333333\"/>\n     <use xlink:href=\"#m8535e28f97\" x=\"249.638982\" y=\"212.724991\" style=\"fill: #ff7f0e; stroke: #333333\"/>\n     <use xlink:href=\"#m8535e28f97\" x=\"68.505411\" y=\"67.578831\" style=\"fill: #ff7f0e; stroke: #333333\"/>\n     <use xlink:href=\"#m8535e28f97\" x=\"122.709521\" y=\"61.159469\" style=\"fill: #ff7f0e; stroke: #333333\"/>\n     <use xlink:href=\"#m8535e28f97\" x=\"233.548544\" y=\"207.366996\" style=\"fill: #ff7f0e; stroke: #333333\"/>\n     <use xlink:href=\"#m8535e28f97\" x=\"230.645418\" y=\"203.123462\" style=\"fill: #ff7f0e; stroke: #333333\"/>\n     <use xlink:href=\"#m8535e28f97\" x=\"101.025962\" y=\"61.603014\" style=\"fill: #ff7f0e; stroke: #333333\"/>\n     <use xlink:href=\"#m8535e28f97\" x=\"223.539339\" y=\"195.4985\" style=\"fill: #ff7f0e; stroke: #333333\"/>\n     <use xlink:href=\"#m8535e28f97\" x=\"108.878187\" y=\"83.586997\" style=\"fill: #ff7f0e; stroke: #333333\"/>\n     <use xlink:href=\"#m8535e28f97\" x=\"92.91238\" y=\"94.00469\" style=\"fill: #ff7f0e; stroke: #333333\"/>\n     <use xlink:href=\"#m8535e28f97\" x=\"225.18495\" y=\"187.769787\" style=\"fill: #ff7f0e; stroke: #333333\"/>\n     <use xlink:href=\"#m8535e28f97\" x=\"252.204819\" y=\"203.186999\" style=\"fill: #ff7f0e; stroke: #333333\"/>\n     <use xlink:href=\"#m8535e28f97\" x=\"102.644078\" y=\"50.292368\" style=\"fill: #ff7f0e; stroke: #333333\"/>\n     <use xlink:href=\"#m8535e28f97\" x=\"87.783274\" y=\"66.665074\" style=\"fill: #ff7f0e; stroke: #333333\"/>\n     <use xlink:href=\"#m8535e28f97\" x=\"66.206275\" y=\"68.954448\" style=\"fill: #ff7f0e; stroke: #333333\"/>\n     <use xlink:href=\"#m8535e28f97\" x=\"238.291118\" y=\"185.055391\" style=\"fill: #ff7f0e; stroke: #333333\"/>\n     <use xlink:href=\"#m8535e28f97\" x=\"106.592006\" y=\"65.393458\" style=\"fill: #ff7f0e; stroke: #333333\"/>\n     <use xlink:href=\"#m8535e28f97\" x=\"258.862208\" y=\"209.5006\" style=\"fill: #ff7f0e; stroke: #333333\"/>\n     <use xlink:href=\"#m8535e28f97\" x=\"102.742943\" y=\"76.841902\" style=\"fill: #ff7f0e; stroke: #333333\"/>\n     <use xlink:href=\"#m8535e28f97\" x=\"111.657431\" y=\"89.290968\" style=\"fill: #ff7f0e; stroke: #333333\"/>\n     <use xlink:href=\"#m8535e28f97\" x=\"120.631238\" y=\"52.475694\" style=\"fill: #ff7f0e; stroke: #333333\"/>\n     <use xlink:href=\"#m8535e28f97\" x=\"221.066767\" y=\"231.567684\" style=\"fill: #ff7f0e; stroke: #333333\"/>\n     <use xlink:href=\"#m8535e28f97\" x=\"111.753037\" y=\"59.157192\" style=\"fill: #ff7f0e; stroke: #333333\"/>\n     <use xlink:href=\"#m8535e28f97\" x=\"99.598031\" y=\"68.450449\" style=\"fill: #ff7f0e; stroke: #333333\"/>\n     <use xlink:href=\"#m8535e28f97\" x=\"214.520742\" y=\"206.405554\" style=\"fill: #ff7f0e; stroke: #333333\"/>\n     <use xlink:href=\"#m8535e28f97\" x=\"229.174604\" y=\"201.876739\" style=\"fill: #ff7f0e; stroke: #333333\"/>\n     <use xlink:href=\"#m8535e28f97\" x=\"98.378658\" y=\"70.442426\" style=\"fill: #ff7f0e; stroke: #333333\"/>\n     <use xlink:href=\"#m8535e28f97\" x=\"95.833853\" y=\"38.847681\" style=\"fill: #ff7f0e; stroke: #333333\"/>\n     <use xlink:href=\"#m8535e28f97\" x=\"231.134119\" y=\"196.520544\" style=\"fill: #ff7f0e; stroke: #333333\"/>\n     <use xlink:href=\"#m8535e28f97\" x=\"226.076753\" y=\"207.550907\" style=\"fill: #ff7f0e; stroke: #333333\"/>\n     <use xlink:href=\"#m8535e28f97\" x=\"97.145078\" y=\"56.353314\" style=\"fill: #ff7f0e; stroke: #333333\"/>\n     <use xlink:href=\"#m8535e28f97\" x=\"88.088624\" y=\"43.242024\" style=\"fill: #ff7f0e; stroke: #333333\"/>\n     <use xlink:href=\"#m8535e28f97\" x=\"78.592175\" y=\"87.858107\" style=\"fill: #ff7f0e; stroke: #333333\"/>\n     <use xlink:href=\"#m8535e28f97\" x=\"101.291332\" y=\"67.888828\" style=\"fill: #ff7f0e; stroke: #333333\"/>\n     <use xlink:href=\"#m8535e28f97\" x=\"95.245816\" y=\"43.034398\" style=\"fill: #ff7f0e; stroke: #333333\"/>\n     <use xlink:href=\"#m8535e28f97\" x=\"94.263341\" y=\"60.295907\" style=\"fill: #ff7f0e; stroke: #333333\"/>\n     <use xlink:href=\"#m8535e28f97\" x=\"88.870561\" y=\"54.209155\" style=\"fill: #ff7f0e; stroke: #333333\"/>\n     <use xlink:href=\"#m8535e28f97\" x=\"216.507866\" y=\"215.830208\" style=\"fill: #ff7f0e; stroke: #333333\"/>\n     <use xlink:href=\"#m8535e28f97\" x=\"71.572564\" y=\"90.312468\" style=\"fill: #ff7f0e; stroke: #333333\"/>\n     <use xlink:href=\"#m8535e28f97\" x=\"230.239428\" y=\"197.421168\" style=\"fill: #ff7f0e; stroke: #333333\"/>\n     <use xlink:href=\"#m8535e28f97\" x=\"228.833198\" y=\"200.257195\" style=\"fill: #ff7f0e; stroke: #333333\"/>\n     <use xlink:href=\"#m8535e28f97\" x=\"250.910676\" y=\"173.932758\" style=\"fill: #ff7f0e; stroke: #333333\"/>\n     <use xlink:href=\"#m8535e28f97\" x=\"226.441885\" y=\"205.028466\" style=\"fill: #ff7f0e; stroke: #333333\"/>\n     <use xlink:href=\"#m8535e28f97\" x=\"96.145072\" y=\"76.529751\" style=\"fill: #ff7f0e; stroke: #333333\"/>\n     <use xlink:href=\"#m8535e28f97\" x=\"210.343392\" y=\"196.380034\" style=\"fill: #ff7f0e; stroke: #333333\"/>\n     <use xlink:href=\"#m8535e28f97\" x=\"222.180554\" y=\"193.329008\" style=\"fill: #ff7f0e; stroke: #333333\"/>\n     <use xlink:href=\"#m8535e28f97\" x=\"98.632897\" y=\"68.535603\" style=\"fill: #ff7f0e; stroke: #333333\"/>\n     <use xlink:href=\"#m8535e28f97\" x=\"117.451718\" y=\"56.210727\" style=\"fill: #ff7f0e; stroke: #333333\"/>\n     <use xlink:href=\"#m8535e28f97\" x=\"265.215483\" y=\"189.8548\" style=\"fill: #ff7f0e; stroke: #333333\"/>\n     <use xlink:href=\"#m8535e28f97\" x=\"98.550397\" y=\"62.576857\" style=\"fill: #ff7f0e; stroke: #333333\"/>\n     <use xlink:href=\"#m8535e28f97\" x=\"99.304273\" y=\"32.398125\" style=\"fill: #ff7f0e; stroke: #333333\"/>\n     <use xlink:href=\"#m8535e28f97\" x=\"104.421812\" y=\"89.631848\" style=\"fill: #ff7f0e; stroke: #333333\"/>\n     <use xlink:href=\"#m8535e28f97\" x=\"236.621698\" y=\"212.722339\" style=\"fill: #ff7f0e; stroke: #333333\"/>\n     <use xlink:href=\"#m8535e28f97\" x=\"221.189838\" y=\"195.558199\" style=\"fill: #ff7f0e; stroke: #333333\"/>\n     <use xlink:href=\"#m8535e28f97\" x=\"222.732089\" y=\"210.754776\" style=\"fill: #ff7f0e; stroke: #333333\"/>\n     <use xlink:href=\"#m8535e28f97\" x=\"93.683405\" y=\"60.636344\" style=\"fill: #ff7f0e; stroke: #333333\"/>\n     <use xlink:href=\"#m8535e28f97\" x=\"243.443248\" y=\"229.153602\" style=\"fill: #ff7f0e; stroke: #333333\"/>\n     <use xlink:href=\"#m8535e28f97\" x=\"224.358768\" y=\"216.603231\" style=\"fill: #ff7f0e; stroke: #333333\"/>\n     <use xlink:href=\"#m8535e28f97\" x=\"238.878989\" y=\"188.448484\" style=\"fill: #ff7f0e; stroke: #333333\"/>\n     <use xlink:href=\"#m8535e28f97\" x=\"120.432294\" y=\"52.50543\" style=\"fill: #ff7f0e; stroke: #333333\"/>\n     <use xlink:href=\"#m8535e28f97\" x=\"75.804816\" y=\"69.95887\" style=\"fill: #ff7f0e; stroke: #333333\"/>\n     <use xlink:href=\"#m8535e28f97\" x=\"224.146258\" y=\"204.11051\" style=\"fill: #ff7f0e; stroke: #333333\"/>\n     <use xlink:href=\"#m8535e28f97\" x=\"107.872468\" y=\"90.267815\" style=\"fill: #ff7f0e; stroke: #333333\"/>\n     <use xlink:href=\"#m8535e28f97\" x=\"113.250622\" y=\"49.747318\" style=\"fill: #ff7f0e; stroke: #333333\"/>\n     <use xlink:href=\"#m8535e28f97\" x=\"102.531243\" y=\"64.494413\" style=\"fill: #ff7f0e; stroke: #333333\"/>\n     <use xlink:href=\"#m8535e28f97\" x=\"106.166595\" y=\"59.338995\" style=\"fill: #ff7f0e; stroke: #333333\"/>\n     <use xlink:href=\"#m8535e28f97\" x=\"237.222793\" y=\"219.308198\" style=\"fill: #ff7f0e; stroke: #333333\"/>\n     <use xlink:href=\"#m8535e28f97\" x=\"238.461767\" y=\"214.990324\" style=\"fill: #ff7f0e; stroke: #333333\"/>\n     <use xlink:href=\"#m8535e28f97\" x=\"80.277509\" y=\"73.211206\" style=\"fill: #ff7f0e; stroke: #333333\"/>\n     <use xlink:href=\"#m8535e28f97\" x=\"239.824467\" y=\"173.213322\" style=\"fill: #ff7f0e; stroke: #333333\"/>\n     <use xlink:href=\"#m8535e28f97\" x=\"117.860692\" y=\"76.701149\" style=\"fill: #ff7f0e; stroke: #333333\"/>\n     <use xlink:href=\"#m8535e28f97\" x=\"242.326093\" y=\"164.900427\" style=\"fill: #ff7f0e; stroke: #333333\"/>\n     <use xlink:href=\"#m8535e28f97\" x=\"213.428375\" y=\"225.756861\" style=\"fill: #ff7f0e; stroke: #333333\"/>\n     <use xlink:href=\"#m8535e28f97\" x=\"244.341456\" y=\"206.542756\" style=\"fill: #ff7f0e; stroke: #333333\"/>\n     <use xlink:href=\"#m8535e28f97\" x=\"100.21807\" y=\"67.18169\" style=\"fill: #ff7f0e; stroke: #333333\"/>\n     <use xlink:href=\"#m8535e28f97\" x=\"109.744701\" y=\"55.515558\" style=\"fill: #ff7f0e; stroke: #333333\"/>\n     <use xlink:href=\"#m8535e28f97\" x=\"105.551136\" y=\"63.948937\" style=\"fill: #ff7f0e; stroke: #333333\"/>\n     <use xlink:href=\"#m8535e28f97\" x=\"85.13081\" y=\"69.479972\" style=\"fill: #ff7f0e; stroke: #333333\"/>\n     <use xlink:href=\"#m8535e28f97\" x=\"89.239884\" y=\"64.545566\" style=\"fill: #ff7f0e; stroke: #333333\"/>\n     <use xlink:href=\"#m8535e28f97\" x=\"217.000217\" y=\"203.784723\" style=\"fill: #ff7f0e; stroke: #333333\"/>\n     <use xlink:href=\"#m8535e28f97\" x=\"225.568424\" y=\"233.998125\" style=\"fill: #ff7f0e; stroke: #333333\"/>\n     <use xlink:href=\"#m8535e28f97\" x=\"134.697519\" y=\"77.331738\" style=\"fill: #ff7f0e; stroke: #333333\"/>\n     <use xlink:href=\"#m8535e28f97\" x=\"247.871404\" y=\"203.115622\" style=\"fill: #ff7f0e; stroke: #333333\"/>\n     <use xlink:href=\"#m8535e28f97\" x=\"74.718855\" y=\"55.106906\" style=\"fill: #ff7f0e; stroke: #333333\"/>\n    </g>\n   </g>\n   <g id=\"matplotlib.axis_1\">\n    <g id=\"xtick_1\">\n     <g id=\"line2d_1\">\n      <defs>\n       <path id=\"m400741151a\" d=\"M 0 0 \nL 0 3.5 \n\" style=\"stroke: #000000; stroke-width: 0.8\"/>\n      </defs>\n      <g>\n       <use xlink:href=\"#m400741151a\" x=\"59.486298\" y=\"244.078125\" style=\"stroke: #000000; stroke-width: 0.8\"/>\n      </g>\n     </g>\n     <g id=\"text_1\">\n      <!-- −0.25 -->\n      <g transform=\"translate(44.163642 258.676562) scale(0.1 -0.1)\">\n       <defs>\n        <path id=\"DejaVuSans-2212\" d=\"M 678 2272 \nL 4684 2272 \nL 4684 1741 \nL 678 1741 \nL 678 2272 \nz\n\" transform=\"scale(0.015625)\"/>\n        <path id=\"DejaVuSans-30\" d=\"M 2034 4250 \nQ 1547 4250 1301 3770 \nQ 1056 3291 1056 2328 \nQ 1056 1369 1301 889 \nQ 1547 409 2034 409 \nQ 2525 409 2770 889 \nQ 3016 1369 3016 2328 \nQ 3016 3291 2770 3770 \nQ 2525 4250 2034 4250 \nz\nM 2034 4750 \nQ 2819 4750 3233 4129 \nQ 3647 3509 3647 2328 \nQ 3647 1150 3233 529 \nQ 2819 -91 2034 -91 \nQ 1250 -91 836 529 \nQ 422 1150 422 2328 \nQ 422 3509 836 4129 \nQ 1250 4750 2034 4750 \nz\n\" transform=\"scale(0.015625)\"/>\n        <path id=\"DejaVuSans-2e\" d=\"M 684 794 \nL 1344 794 \nL 1344 0 \nL 684 0 \nL 684 794 \nz\n\" transform=\"scale(0.015625)\"/>\n        <path id=\"DejaVuSans-32\" d=\"M 1228 531 \nL 3431 531 \nL 3431 0 \nL 469 0 \nL 469 531 \nQ 828 903 1448 1529 \nQ 2069 2156 2228 2338 \nQ 2531 2678 2651 2914 \nQ 2772 3150 2772 3378 \nQ 2772 3750 2511 3984 \nQ 2250 4219 1831 4219 \nQ 1534 4219 1204 4116 \nQ 875 4013 500 3803 \nL 500 4441 \nQ 881 4594 1212 4672 \nQ 1544 4750 1819 4750 \nQ 2544 4750 2975 4387 \nQ 3406 4025 3406 3419 \nQ 3406 3131 3298 2873 \nQ 3191 2616 2906 2266 \nQ 2828 2175 2409 1742 \nQ 1991 1309 1228 531 \nz\n\" transform=\"scale(0.015625)\"/>\n        <path id=\"DejaVuSans-35\" d=\"M 691 4666 \nL 3169 4666 \nL 3169 4134 \nL 1269 4134 \nL 1269 2991 \nQ 1406 3038 1543 3061 \nQ 1681 3084 1819 3084 \nQ 2600 3084 3056 2656 \nQ 3513 2228 3513 1497 \nQ 3513 744 3044 326 \nQ 2575 -91 1722 -91 \nQ 1428 -91 1123 -41 \nQ 819 9 494 109 \nL 494 744 \nQ 775 591 1075 516 \nQ 1375 441 1709 441 \nQ 2250 441 2565 725 \nQ 2881 1009 2881 1497 \nQ 2881 1984 2565 2268 \nQ 2250 2553 1709 2553 \nQ 1456 2553 1204 2497 \nQ 953 2441 691 2322 \nL 691 4666 \nz\n\" transform=\"scale(0.015625)\"/>\n       </defs>\n       <use xlink:href=\"#DejaVuSans-2212\"/>\n       <use xlink:href=\"#DejaVuSans-30\" x=\"83.789062\"/>\n       <use xlink:href=\"#DejaVuSans-2e\" x=\"147.412109\"/>\n       <use xlink:href=\"#DejaVuSans-32\" x=\"179.199219\"/>\n       <use xlink:href=\"#DejaVuSans-35\" x=\"242.822266\"/>\n      </g>\n     </g>\n    </g>\n    <g id=\"xtick_2\">\n     <g id=\"line2d_2\">\n      <g>\n       <use xlink:href=\"#m400741151a\" x=\"94.282238\" y=\"244.078125\" style=\"stroke: #000000; stroke-width: 0.8\"/>\n      </g>\n     </g>\n     <g id=\"text_2\">\n      <!-- 0.00 -->\n      <g transform=\"translate(83.149426 258.676562) scale(0.1 -0.1)\">\n       <use xlink:href=\"#DejaVuSans-30\"/>\n       <use xlink:href=\"#DejaVuSans-2e\" x=\"63.623047\"/>\n       <use xlink:href=\"#DejaVuSans-30\" x=\"95.410156\"/>\n       <use xlink:href=\"#DejaVuSans-30\" x=\"159.033203\"/>\n      </g>\n     </g>\n    </g>\n    <g id=\"xtick_3\">\n     <g id=\"line2d_3\">\n      <g>\n       <use xlink:href=\"#m400741151a\" x=\"129.078179\" y=\"244.078125\" style=\"stroke: #000000; stroke-width: 0.8\"/>\n      </g>\n     </g>\n     <g id=\"text_3\">\n      <!-- 0.25 -->\n      <g transform=\"translate(117.945366 258.676562) scale(0.1 -0.1)\">\n       <use xlink:href=\"#DejaVuSans-30\"/>\n       <use xlink:href=\"#DejaVuSans-2e\" x=\"63.623047\"/>\n       <use xlink:href=\"#DejaVuSans-32\" x=\"95.410156\"/>\n       <use xlink:href=\"#DejaVuSans-35\" x=\"159.033203\"/>\n      </g>\n     </g>\n    </g>\n    <g id=\"xtick_4\">\n     <g id=\"line2d_4\">\n      <g>\n       <use xlink:href=\"#m400741151a\" x=\"163.874119\" y=\"244.078125\" style=\"stroke: #000000; stroke-width: 0.8\"/>\n      </g>\n     </g>\n     <g id=\"text_4\">\n      <!-- 0.50 -->\n      <g transform=\"translate(152.741306 258.676562) scale(0.1 -0.1)\">\n       <use xlink:href=\"#DejaVuSans-30\"/>\n       <use xlink:href=\"#DejaVuSans-2e\" x=\"63.623047\"/>\n       <use xlink:href=\"#DejaVuSans-35\" x=\"95.410156\"/>\n       <use xlink:href=\"#DejaVuSans-30\" x=\"159.033203\"/>\n      </g>\n     </g>\n    </g>\n    <g id=\"xtick_5\">\n     <g id=\"line2d_5\">\n      <g>\n       <use xlink:href=\"#m400741151a\" x=\"198.670059\" y=\"244.078125\" style=\"stroke: #000000; stroke-width: 0.8\"/>\n      </g>\n     </g>\n     <g id=\"text_5\">\n      <!-- 0.75 -->\n      <g transform=\"translate(187.537247 258.676562) scale(0.1 -0.1)\">\n       <defs>\n        <path id=\"DejaVuSans-37\" d=\"M 525 4666 \nL 3525 4666 \nL 3525 4397 \nL 1831 0 \nL 1172 0 \nL 2766 4134 \nL 525 4134 \nL 525 4666 \nz\n\" transform=\"scale(0.015625)\"/>\n       </defs>\n       <use xlink:href=\"#DejaVuSans-30\"/>\n       <use xlink:href=\"#DejaVuSans-2e\" x=\"63.623047\"/>\n       <use xlink:href=\"#DejaVuSans-37\" x=\"95.410156\"/>\n       <use xlink:href=\"#DejaVuSans-35\" x=\"159.033203\"/>\n      </g>\n     </g>\n    </g>\n    <g id=\"xtick_6\">\n     <g id=\"line2d_6\">\n      <g>\n       <use xlink:href=\"#m400741151a\" x=\"233.465999\" y=\"244.078125\" style=\"stroke: #000000; stroke-width: 0.8\"/>\n      </g>\n     </g>\n     <g id=\"text_6\">\n      <!-- 1.00 -->\n      <g transform=\"translate(222.333187 258.676562) scale(0.1 -0.1)\">\n       <defs>\n        <path id=\"DejaVuSans-31\" d=\"M 794 531 \nL 1825 531 \nL 1825 4091 \nL 703 3866 \nL 703 4441 \nL 1819 4666 \nL 2450 4666 \nL 2450 531 \nL 3481 531 \nL 3481 0 \nL 794 0 \nL 794 531 \nz\n\" transform=\"scale(0.015625)\"/>\n       </defs>\n       <use xlink:href=\"#DejaVuSans-31\"/>\n       <use xlink:href=\"#DejaVuSans-2e\" x=\"63.623047\"/>\n       <use xlink:href=\"#DejaVuSans-30\" x=\"95.410156\"/>\n       <use xlink:href=\"#DejaVuSans-30\" x=\"159.033203\"/>\n      </g>\n     </g>\n    </g>\n    <g id=\"xtick_7\">\n     <g id=\"line2d_7\">\n      <g>\n       <use xlink:href=\"#m400741151a\" x=\"268.26194\" y=\"244.078125\" style=\"stroke: #000000; stroke-width: 0.8\"/>\n      </g>\n     </g>\n     <g id=\"text_7\">\n      <!-- 1.25 -->\n      <g transform=\"translate(257.129127 258.676562) scale(0.1 -0.1)\">\n       <use xlink:href=\"#DejaVuSans-31\"/>\n       <use xlink:href=\"#DejaVuSans-2e\" x=\"63.623047\"/>\n       <use xlink:href=\"#DejaVuSans-32\" x=\"95.410156\"/>\n       <use xlink:href=\"#DejaVuSans-35\" x=\"159.033203\"/>\n      </g>\n     </g>\n    </g>\n    <g id=\"text_8\">\n     <!-- $x_1$ -->\n     <g transform=\"translate(158.410938 272.354687) scale(0.1 -0.1)\">\n      <defs>\n       <path id=\"DejaVuSans-Oblique-78\" d=\"M 3841 3500 \nL 2234 1784 \nL 3219 0 \nL 2559 0 \nL 1819 1388 \nL 531 0 \nL -166 0 \nL 1556 1844 \nL 641 3500 \nL 1300 3500 \nL 1972 2234 \nL 3144 3500 \nL 3841 3500 \nz\n\" transform=\"scale(0.015625)\"/>\n      </defs>\n      <use xlink:href=\"#DejaVuSans-Oblique-78\" transform=\"translate(0 0.3125)\"/>\n      <use xlink:href=\"#DejaVuSans-31\" transform=\"translate(59.179688 -16.09375) scale(0.7)\"/>\n     </g>\n    </g>\n   </g>\n   <g id=\"matplotlib.axis_2\">\n    <g id=\"ytick_1\">\n     <g id=\"line2d_8\">\n      <defs>\n       <path id=\"m8506c13f89\" d=\"M 0 0 \nL -3.5 0 \n\" style=\"stroke: #000000; stroke-width: 0.8\"/>\n      </defs>\n      <g>\n       <use xlink:href=\"#m8506c13f89\" x=\"52.160938\" y=\"230.337971\" style=\"stroke: #000000; stroke-width: 0.8\"/>\n      </g>\n     </g>\n     <g id=\"text_9\">\n      <!-- −0.2 -->\n      <g transform=\"translate(20.878125 234.13719) scale(0.1 -0.1)\">\n       <use xlink:href=\"#DejaVuSans-2212\"/>\n       <use xlink:href=\"#DejaVuSans-30\" x=\"83.789062\"/>\n       <use xlink:href=\"#DejaVuSans-2e\" x=\"147.412109\"/>\n       <use xlink:href=\"#DejaVuSans-32\" x=\"179.199219\"/>\n      </g>\n     </g>\n    </g>\n    <g id=\"ytick_2\">\n     <g id=\"line2d_9\">\n      <g>\n       <use xlink:href=\"#m8506c13f89\" x=\"52.160938\" y=\"202.866532\" style=\"stroke: #000000; stroke-width: 0.8\"/>\n      </g>\n     </g>\n     <g id=\"text_10\">\n      <!-- 0.0 -->\n      <g transform=\"translate(29.257812 206.665751) scale(0.1 -0.1)\">\n       <use xlink:href=\"#DejaVuSans-30\"/>\n       <use xlink:href=\"#DejaVuSans-2e\" x=\"63.623047\"/>\n       <use xlink:href=\"#DejaVuSans-30\" x=\"95.410156\"/>\n      </g>\n     </g>\n    </g>\n    <g id=\"ytick_3\">\n     <g id=\"line2d_10\">\n      <g>\n       <use xlink:href=\"#m8506c13f89\" x=\"52.160938\" y=\"175.395094\" style=\"stroke: #000000; stroke-width: 0.8\"/>\n      </g>\n     </g>\n     <g id=\"text_11\">\n      <!-- 0.2 -->\n      <g transform=\"translate(29.257812 179.194312) scale(0.1 -0.1)\">\n       <use xlink:href=\"#DejaVuSans-30\"/>\n       <use xlink:href=\"#DejaVuSans-2e\" x=\"63.623047\"/>\n       <use xlink:href=\"#DejaVuSans-32\" x=\"95.410156\"/>\n      </g>\n     </g>\n    </g>\n    <g id=\"ytick_4\">\n     <g id=\"line2d_11\">\n      <g>\n       <use xlink:href=\"#m8506c13f89\" x=\"52.160938\" y=\"147.923655\" style=\"stroke: #000000; stroke-width: 0.8\"/>\n      </g>\n     </g>\n     <g id=\"text_12\">\n      <!-- 0.4 -->\n      <g transform=\"translate(29.257812 151.722874) scale(0.1 -0.1)\">\n       <defs>\n        <path id=\"DejaVuSans-34\" d=\"M 2419 4116 \nL 825 1625 \nL 2419 1625 \nL 2419 4116 \nz\nM 2253 4666 \nL 3047 4666 \nL 3047 1625 \nL 3713 1625 \nL 3713 1100 \nL 3047 1100 \nL 3047 0 \nL 2419 0 \nL 2419 1100 \nL 313 1100 \nL 313 1709 \nL 2253 4666 \nz\n\" transform=\"scale(0.015625)\"/>\n       </defs>\n       <use xlink:href=\"#DejaVuSans-30\"/>\n       <use xlink:href=\"#DejaVuSans-2e\" x=\"63.623047\"/>\n       <use xlink:href=\"#DejaVuSans-34\" x=\"95.410156\"/>\n      </g>\n     </g>\n    </g>\n    <g id=\"ytick_5\">\n     <g id=\"line2d_12\">\n      <g>\n       <use xlink:href=\"#m8506c13f89\" x=\"52.160938\" y=\"120.452216\" style=\"stroke: #000000; stroke-width: 0.8\"/>\n      </g>\n     </g>\n     <g id=\"text_13\">\n      <!-- 0.6 -->\n      <g transform=\"translate(29.257812 124.251435) scale(0.1 -0.1)\">\n       <defs>\n        <path id=\"DejaVuSans-36\" d=\"M 2113 2584 \nQ 1688 2584 1439 2293 \nQ 1191 2003 1191 1497 \nQ 1191 994 1439 701 \nQ 1688 409 2113 409 \nQ 2538 409 2786 701 \nQ 3034 994 3034 1497 \nQ 3034 2003 2786 2293 \nQ 2538 2584 2113 2584 \nz\nM 3366 4563 \nL 3366 3988 \nQ 3128 4100 2886 4159 \nQ 2644 4219 2406 4219 \nQ 1781 4219 1451 3797 \nQ 1122 3375 1075 2522 \nQ 1259 2794 1537 2939 \nQ 1816 3084 2150 3084 \nQ 2853 3084 3261 2657 \nQ 3669 2231 3669 1497 \nQ 3669 778 3244 343 \nQ 2819 -91 2113 -91 \nQ 1303 -91 875 529 \nQ 447 1150 447 2328 \nQ 447 3434 972 4092 \nQ 1497 4750 2381 4750 \nQ 2619 4750 2861 4703 \nQ 3103 4656 3366 4563 \nz\n\" transform=\"scale(0.015625)\"/>\n       </defs>\n       <use xlink:href=\"#DejaVuSans-30\"/>\n       <use xlink:href=\"#DejaVuSans-2e\" x=\"63.623047\"/>\n       <use xlink:href=\"#DejaVuSans-36\" x=\"95.410156\"/>\n      </g>\n     </g>\n    </g>\n    <g id=\"ytick_6\">\n     <g id=\"line2d_13\">\n      <g>\n       <use xlink:href=\"#m8506c13f89\" x=\"52.160938\" y=\"92.980777\" style=\"stroke: #000000; stroke-width: 0.8\"/>\n      </g>\n     </g>\n     <g id=\"text_14\">\n      <!-- 0.8 -->\n      <g transform=\"translate(29.257812 96.779996) scale(0.1 -0.1)\">\n       <defs>\n        <path id=\"DejaVuSans-38\" d=\"M 2034 2216 \nQ 1584 2216 1326 1975 \nQ 1069 1734 1069 1313 \nQ 1069 891 1326 650 \nQ 1584 409 2034 409 \nQ 2484 409 2743 651 \nQ 3003 894 3003 1313 \nQ 3003 1734 2745 1975 \nQ 2488 2216 2034 2216 \nz\nM 1403 2484 \nQ 997 2584 770 2862 \nQ 544 3141 544 3541 \nQ 544 4100 942 4425 \nQ 1341 4750 2034 4750 \nQ 2731 4750 3128 4425 \nQ 3525 4100 3525 3541 \nQ 3525 3141 3298 2862 \nQ 3072 2584 2669 2484 \nQ 3125 2378 3379 2068 \nQ 3634 1759 3634 1313 \nQ 3634 634 3220 271 \nQ 2806 -91 2034 -91 \nQ 1263 -91 848 271 \nQ 434 634 434 1313 \nQ 434 1759 690 2068 \nQ 947 2378 1403 2484 \nz\nM 1172 3481 \nQ 1172 3119 1398 2916 \nQ 1625 2713 2034 2713 \nQ 2441 2713 2670 2916 \nQ 2900 3119 2900 3481 \nQ 2900 3844 2670 4047 \nQ 2441 4250 2034 4250 \nQ 1625 4250 1398 4047 \nQ 1172 3844 1172 3481 \nz\n\" transform=\"scale(0.015625)\"/>\n       </defs>\n       <use xlink:href=\"#DejaVuSans-30\"/>\n       <use xlink:href=\"#DejaVuSans-2e\" x=\"63.623047\"/>\n       <use xlink:href=\"#DejaVuSans-38\" x=\"95.410156\"/>\n      </g>\n     </g>\n    </g>\n    <g id=\"ytick_7\">\n     <g id=\"line2d_14\">\n      <g>\n       <use xlink:href=\"#m8506c13f89\" x=\"52.160938\" y=\"65.509338\" style=\"stroke: #000000; stroke-width: 0.8\"/>\n      </g>\n     </g>\n     <g id=\"text_15\">\n      <!-- 1.0 -->\n      <g transform=\"translate(29.257812 69.308557) scale(0.1 -0.1)\">\n       <use xlink:href=\"#DejaVuSans-31\"/>\n       <use xlink:href=\"#DejaVuSans-2e\" x=\"63.623047\"/>\n       <use xlink:href=\"#DejaVuSans-30\" x=\"95.410156\"/>\n      </g>\n     </g>\n    </g>\n    <g id=\"ytick_8\">\n     <g id=\"line2d_15\">\n      <g>\n       <use xlink:href=\"#m8506c13f89\" x=\"52.160938\" y=\"38.037899\" style=\"stroke: #000000; stroke-width: 0.8\"/>\n      </g>\n     </g>\n     <g id=\"text_16\">\n      <!-- 1.2 -->\n      <g transform=\"translate(29.257812 41.837118) scale(0.1 -0.1)\">\n       <use xlink:href=\"#DejaVuSans-31\"/>\n       <use xlink:href=\"#DejaVuSans-2e\" x=\"63.623047\"/>\n       <use xlink:href=\"#DejaVuSans-32\" x=\"95.410156\"/>\n      </g>\n     </g>\n    </g>\n    <g id=\"text_17\">\n     <!-- $x_2$ -->\n     <g transform=\"translate(14.798438 138.548125) rotate(-90) scale(0.1 -0.1)\">\n      <use xlink:href=\"#DejaVuSans-Oblique-78\" transform=\"translate(0 0.3125)\"/>\n      <use xlink:href=\"#DejaVuSans-32\" transform=\"translate(59.179688 -16.09375) scale(0.7)\"/>\n     </g>\n    </g>\n   </g>\n   <g id=\"patch_3\">\n    <path d=\"M 52.160938 244.078125 \nL 52.160938 22.318125 \n\" style=\"fill: none; stroke: #000000; stroke-width: 0.8; stroke-linejoin: miter; stroke-linecap: square\"/>\n   </g>\n   <g id=\"patch_4\">\n    <path d=\"M 275.360937 244.078125 \nL 275.360937 22.318125 \n\" style=\"fill: none; stroke: #000000; stroke-width: 0.8; stroke-linejoin: miter; stroke-linecap: square\"/>\n   </g>\n   <g id=\"patch_5\">\n    <path d=\"M 52.160938 244.078125 \nL 275.360937 244.078125 \n\" style=\"fill: none; stroke: #000000; stroke-width: 0.8; stroke-linejoin: miter; stroke-linecap: square\"/>\n   </g>\n   <g id=\"patch_6\">\n    <path d=\"M 52.160938 22.318125 \nL 275.360937 22.318125 \n\" style=\"fill: none; stroke: #000000; stroke-width: 0.8; stroke-linejoin: miter; stroke-linecap: square\"/>\n   </g>\n   <g id=\"text_18\">\n    <!-- Dataset samples -->\n    <g transform=\"translate(113.418125 16.318125) scale(0.12 -0.12)\">\n     <defs>\n      <path id=\"DejaVuSans-44\" d=\"M 1259 4147 \nL 1259 519 \nL 2022 519 \nQ 2988 519 3436 956 \nQ 3884 1394 3884 2338 \nQ 3884 3275 3436 3711 \nQ 2988 4147 2022 4147 \nL 1259 4147 \nz\nM 628 4666 \nL 1925 4666 \nQ 3281 4666 3915 4102 \nQ 4550 3538 4550 2338 \nQ 4550 1131 3912 565 \nQ 3275 0 1925 0 \nL 628 0 \nL 628 4666 \nz\n\" transform=\"scale(0.015625)\"/>\n      <path id=\"DejaVuSans-61\" d=\"M 2194 1759 \nQ 1497 1759 1228 1600 \nQ 959 1441 959 1056 \nQ 959 750 1161 570 \nQ 1363 391 1709 391 \nQ 2188 391 2477 730 \nQ 2766 1069 2766 1631 \nL 2766 1759 \nL 2194 1759 \nz\nM 3341 1997 \nL 3341 0 \nL 2766 0 \nL 2766 531 \nQ 2569 213 2275 61 \nQ 1981 -91 1556 -91 \nQ 1019 -91 701 211 \nQ 384 513 384 1019 \nQ 384 1609 779 1909 \nQ 1175 2209 1959 2209 \nL 2766 2209 \nL 2766 2266 \nQ 2766 2663 2505 2880 \nQ 2244 3097 1772 3097 \nQ 1472 3097 1187 3025 \nQ 903 2953 641 2809 \nL 641 3341 \nQ 956 3463 1253 3523 \nQ 1550 3584 1831 3584 \nQ 2591 3584 2966 3190 \nQ 3341 2797 3341 1997 \nz\n\" transform=\"scale(0.015625)\"/>\n      <path id=\"DejaVuSans-74\" d=\"M 1172 4494 \nL 1172 3500 \nL 2356 3500 \nL 2356 3053 \nL 1172 3053 \nL 1172 1153 \nQ 1172 725 1289 603 \nQ 1406 481 1766 481 \nL 2356 481 \nL 2356 0 \nL 1766 0 \nQ 1100 0 847 248 \nQ 594 497 594 1153 \nL 594 3053 \nL 172 3053 \nL 172 3500 \nL 594 3500 \nL 594 4494 \nL 1172 4494 \nz\n\" transform=\"scale(0.015625)\"/>\n      <path id=\"DejaVuSans-73\" d=\"M 2834 3397 \nL 2834 2853 \nQ 2591 2978 2328 3040 \nQ 2066 3103 1784 3103 \nQ 1356 3103 1142 2972 \nQ 928 2841 928 2578 \nQ 928 2378 1081 2264 \nQ 1234 2150 1697 2047 \nL 1894 2003 \nQ 2506 1872 2764 1633 \nQ 3022 1394 3022 966 \nQ 3022 478 2636 193 \nQ 2250 -91 1575 -91 \nQ 1294 -91 989 -36 \nQ 684 19 347 128 \nL 347 722 \nQ 666 556 975 473 \nQ 1284 391 1588 391 \nQ 1994 391 2212 530 \nQ 2431 669 2431 922 \nQ 2431 1156 2273 1281 \nQ 2116 1406 1581 1522 \nL 1381 1569 \nQ 847 1681 609 1914 \nQ 372 2147 372 2553 \nQ 372 3047 722 3315 \nQ 1072 3584 1716 3584 \nQ 2034 3584 2315 3537 \nQ 2597 3491 2834 3397 \nz\n\" transform=\"scale(0.015625)\"/>\n      <path id=\"DejaVuSans-65\" d=\"M 3597 1894 \nL 3597 1613 \nL 953 1613 \nQ 991 1019 1311 708 \nQ 1631 397 2203 397 \nQ 2534 397 2845 478 \nQ 3156 559 3463 722 \nL 3463 178 \nQ 3153 47 2828 -22 \nQ 2503 -91 2169 -91 \nQ 1331 -91 842 396 \nQ 353 884 353 1716 \nQ 353 2575 817 3079 \nQ 1281 3584 2069 3584 \nQ 2775 3584 3186 3129 \nQ 3597 2675 3597 1894 \nz\nM 3022 2063 \nQ 3016 2534 2758 2815 \nQ 2500 3097 2075 3097 \nQ 1594 3097 1305 2825 \nQ 1016 2553 972 2059 \nL 3022 2063 \nz\n\" transform=\"scale(0.015625)\"/>\n      <path id=\"DejaVuSans-20\" transform=\"scale(0.015625)\"/>\n      <path id=\"DejaVuSans-6d\" d=\"M 3328 2828 \nQ 3544 3216 3844 3400 \nQ 4144 3584 4550 3584 \nQ 5097 3584 5394 3201 \nQ 5691 2819 5691 2113 \nL 5691 0 \nL 5113 0 \nL 5113 2094 \nQ 5113 2597 4934 2840 \nQ 4756 3084 4391 3084 \nQ 3944 3084 3684 2787 \nQ 3425 2491 3425 1978 \nL 3425 0 \nL 2847 0 \nL 2847 2094 \nQ 2847 2600 2669 2842 \nQ 2491 3084 2119 3084 \nQ 1678 3084 1418 2786 \nQ 1159 2488 1159 1978 \nL 1159 0 \nL 581 0 \nL 581 3500 \nL 1159 3500 \nL 1159 2956 \nQ 1356 3278 1631 3431 \nQ 1906 3584 2284 3584 \nQ 2666 3584 2933 3390 \nQ 3200 3197 3328 2828 \nz\n\" transform=\"scale(0.015625)\"/>\n      <path id=\"DejaVuSans-70\" d=\"M 1159 525 \nL 1159 -1331 \nL 581 -1331 \nL 581 3500 \nL 1159 3500 \nL 1159 2969 \nQ 1341 3281 1617 3432 \nQ 1894 3584 2278 3584 \nQ 2916 3584 3314 3078 \nQ 3713 2572 3713 1747 \nQ 3713 922 3314 415 \nQ 2916 -91 2278 -91 \nQ 1894 -91 1617 61 \nQ 1341 213 1159 525 \nz\nM 3116 1747 \nQ 3116 2381 2855 2742 \nQ 2594 3103 2138 3103 \nQ 1681 3103 1420 2742 \nQ 1159 2381 1159 1747 \nQ 1159 1113 1420 752 \nQ 1681 391 2138 391 \nQ 2594 391 2855 752 \nQ 3116 1113 3116 1747 \nz\n\" transform=\"scale(0.015625)\"/>\n      <path id=\"DejaVuSans-6c\" d=\"M 603 4863 \nL 1178 4863 \nL 1178 0 \nL 603 0 \nL 603 4863 \nz\n\" transform=\"scale(0.015625)\"/>\n     </defs>\n     <use xlink:href=\"#DejaVuSans-44\"/>\n     <use xlink:href=\"#DejaVuSans-61\" x=\"77.001953\"/>\n     <use xlink:href=\"#DejaVuSans-74\" x=\"138.28125\"/>\n     <use xlink:href=\"#DejaVuSans-61\" x=\"177.490234\"/>\n     <use xlink:href=\"#DejaVuSans-73\" x=\"238.769531\"/>\n     <use xlink:href=\"#DejaVuSans-65\" x=\"290.869141\"/>\n     <use xlink:href=\"#DejaVuSans-74\" x=\"352.392578\"/>\n     <use xlink:href=\"#DejaVuSans-20\" x=\"391.601562\"/>\n     <use xlink:href=\"#DejaVuSans-73\" x=\"423.388672\"/>\n     <use xlink:href=\"#DejaVuSans-61\" x=\"475.488281\"/>\n     <use xlink:href=\"#DejaVuSans-6d\" x=\"536.767578\"/>\n     <use xlink:href=\"#DejaVuSans-70\" x=\"634.179688\"/>\n     <use xlink:href=\"#DejaVuSans-6c\" x=\"697.65625\"/>\n     <use xlink:href=\"#DejaVuSans-65\" x=\"725.439453\"/>\n     <use xlink:href=\"#DejaVuSans-73\" x=\"786.962891\"/>\n    </g>\n   </g>\n   <g id=\"legend_1\">\n    <g id=\"patch_7\">\n     <path d=\"M 200.5125 149.37625 \nL 268.360937 149.37625 \nQ 270.360937 149.37625 270.360937 147.37625 \nL 270.360937 119.02 \nQ 270.360937 117.02 268.360937 117.02 \nL 200.5125 117.02 \nQ 198.5125 117.02 198.5125 119.02 \nL 198.5125 147.37625 \nQ 198.5125 149.37625 200.5125 149.37625 \nz\n\" style=\"fill: #ffffff; opacity: 0.8; stroke: #cccccc; stroke-linejoin: miter\"/>\n    </g>\n    <g id=\"PathCollection_3\">\n     <g>\n      <use xlink:href=\"#mf04464a5ae\" x=\"212.5125\" y=\"125.993437\" style=\"fill: #1f77b4; stroke: #333333\"/>\n     </g>\n    </g>\n    <g id=\"text_19\">\n     <!-- Class 0 -->\n     <g transform=\"translate(230.5125 128.618437) scale(0.1 -0.1)\">\n      <defs>\n       <path id=\"DejaVuSans-43\" d=\"M 4122 4306 \nL 4122 3641 \nQ 3803 3938 3442 4084 \nQ 3081 4231 2675 4231 \nQ 1875 4231 1450 3742 \nQ 1025 3253 1025 2328 \nQ 1025 1406 1450 917 \nQ 1875 428 2675 428 \nQ 3081 428 3442 575 \nQ 3803 722 4122 1019 \nL 4122 359 \nQ 3791 134 3420 21 \nQ 3050 -91 2638 -91 \nQ 1578 -91 968 557 \nQ 359 1206 359 2328 \nQ 359 3453 968 4101 \nQ 1578 4750 2638 4750 \nQ 3056 4750 3426 4639 \nQ 3797 4528 4122 4306 \nz\n\" transform=\"scale(0.015625)\"/>\n      </defs>\n      <use xlink:href=\"#DejaVuSans-43\"/>\n      <use xlink:href=\"#DejaVuSans-6c\" x=\"69.824219\"/>\n      <use xlink:href=\"#DejaVuSans-61\" x=\"97.607422\"/>\n      <use xlink:href=\"#DejaVuSans-73\" x=\"158.886719\"/>\n      <use xlink:href=\"#DejaVuSans-73\" x=\"210.986328\"/>\n      <use xlink:href=\"#DejaVuSans-20\" x=\"263.085938\"/>\n      <use xlink:href=\"#DejaVuSans-30\" x=\"294.873047\"/>\n     </g>\n    </g>\n    <g id=\"PathCollection_4\">\n     <g>\n      <use xlink:href=\"#m8535e28f97\" x=\"212.5125\" y=\"140.671562\" style=\"fill: #ff7f0e; stroke: #333333\"/>\n     </g>\n    </g>\n    <g id=\"text_20\">\n     <!-- Class 1 -->\n     <g transform=\"translate(230.5125 143.296562) scale(0.1 -0.1)\">\n      <use xlink:href=\"#DejaVuSans-43\"/>\n      <use xlink:href=\"#DejaVuSans-6c\" x=\"69.824219\"/>\n      <use xlink:href=\"#DejaVuSans-61\" x=\"97.607422\"/>\n      <use xlink:href=\"#DejaVuSans-73\" x=\"158.886719\"/>\n      <use xlink:href=\"#DejaVuSans-73\" x=\"210.986328\"/>\n      <use xlink:href=\"#DejaVuSans-20\" x=\"263.085938\"/>\n      <use xlink:href=\"#DejaVuSans-31\" x=\"294.873047\"/>\n     </g>\n    </g>\n   </g>\n  </g>\n </g>\n <defs>\n  <clipPath id=\"p449d9b2c9f\">\n   <rect x=\"52.160938\" y=\"22.318125\" width=\"223.2\" height=\"221.76\"/>\n  </clipPath>\n </defs>\n</svg>\n",
            "application/pdf": "[encoded data removed]"
          },
          "metadata": {}
        }
      ]
    },
    {
      "cell_type": "code",
      "source": [
        "#The data loader class\n",
        "\n",
        "#데이터 로더 클래스는 파이토치에서 torch.utils.data.DataLoader라는 이름으로 제공된다.\n",
        "\n",
        "#이 클래스는 데이터셋을 자동으로 배치로 묶고, 데이터를 불러오는 등의 다양한 기능을 지원하는 파이썬 반복 객체를 나타냄.\n",
        "\n",
        "#shuffle:데이터를 무작위 순서로 반환 / 훈련과정에서 무작위성을 도입하여 모델이 다양한 패턴을 학습하도록 도와줌.\n",
        "#num_workers:데이터를 불러올때 사용할 서브프로세스의 수를 설정\n",
        "#(기본값0-이때 데이터가 메인 프로세서에 불러와짐, 로딩이 오래 걸릴수 있음.이럴때는 값을 늘리는게 좋다)\n",
        "\n",
        "#pin_memory:True 이면 데이터로더는 텐서를반환하기 전에 CUDA고정 메모리에 복사. 메모리 사정 봐가며 유동적으로 사용해야함.\n",
        "#drop_last:True 이면 지정된 배치 크기보다 작은 경우 마지막 배치가 삭제됨. 일관된 배치크기를 유지하기 위해 훈련중에만 잠재적으로 유용."
      ],
      "metadata": {
        "id": "3PW_40LZdrBx"
      },
      "execution_count": null,
      "outputs": []
    },
    {
      "cell_type": "code",
      "source": [
        "data_loader = data.DataLoader(dataset, batch_size=8, shuffle=True)\n",
        "#dataset은 내가 클래스로 정해주고, dataloader는 파이토치 모듈안에 이미 존재하는 것 같다."
      ],
      "metadata": {
        "id": "7W_5EpqLoh_1"
      },
      "execution_count": null,
      "outputs": []
    },
    {
      "cell_type": "code",
      "source": [
        "# next(iter(...)) catches the first batch of the data loader\n",
        "# If shuffle is True, this will return a different batch every time we run this cell\n",
        "# For iterating over the whole dataset, we can simple use \"for batch in data_loader: ...\"\n",
        "data_inputs, data_labels = next(iter(data_loader))\n",
        "\n",
        "# The shape of the outputs are [batch_size, d_1,...,d_N] where d_1,...,d_N are the\n",
        "# dimensions of the data point returned from the dataset class\n",
        "print(\"Data inputs\", data_inputs.shape, \"\\n\", data_inputs)\n",
        "print(\"Data labels\", data_labels.shape, \"\\n\", data_labels)"
      ],
      "metadata": {
        "colab": {
          "base_uri": "https://localhost:8080/"
        },
        "id": "5Wz--akZomjE",
        "outputId": "947397e0-dec1-48f3-de55-8917bc39fca5"
      },
      "execution_count": null,
      "outputs": [
        {
          "output_type": "stream",
          "name": "stdout",
          "text": [
            "Data inputs torch.Size([8, 2]) \n",
            " tensor([[0.9995, 0.9669],\n",
            "        [0.9189, 0.0694],\n",
            "        [1.0428, 1.0384],\n",
            "        [0.0996, 0.0249],\n",
            "        [0.9300, 0.8654],\n",
            "        [0.9287, 0.0536],\n",
            "        [0.0426, 0.9878],\n",
            "        [1.1961, 0.9384]])\n",
            "Data labels torch.Size([8]) \n",
            " tensor([0, 1, 0, 0, 0, 1, 1, 0])\n"
          ]
        }
      ]
    },
    {
      "cell_type": "code",
      "source": [
        "#Optimization\n",
        "\n",
        "#모델과 데이터 세트를 정의했으면, 최적화를 준비한다.\n",
        "#1-데이터 로더에서 배치 가져오기\n",
        "#2-배치에 대한 모델에서 예측을 얻기\n",
        "#3-예측과 레이블의 차이에 따라 손실을 계산\n",
        "#4-역전파: 손실을 기준으로 모든 매개변수에 대한 기울기를 계산\n",
        "#5-그래디언트 방향으로 모델의 매개변수를 업데이트\n",
        "\n",
        "\n",
        "#Loss modules\n",
        "#nn.BCELoss()와 nn.BCEWithLogitsLoss() 두개의 정의된 손실함수가 있다.\n",
        "#nn.BCELoss()가 입력으로 시그모이드를 통과한 값을 받는데 반해 nn.BCEWithLogitsLoss()은\n",
        "#입력값이 로짓값인 것을 전제로 하여, 함수내부에서 로짓 값을 자동으로 시그모이드 함수에 넣어\n",
        "#확률로 변환한 다음 BCE손실을 계산한다. - 이는 수치적으로 더 안정적이다.\n",
        "#따라서 로짓이 적용된 손실함수를 사용할 때는 출력에 시그모이드를 적용하지 않도록 주의"
      ],
      "metadata": {
        "id": "-pKpYDvvqA8e"
      },
      "execution_count": null,
      "outputs": []
    },
    {
      "cell_type": "code",
      "source": [
        "loss_module = nn.BCEWithLogitsLoss()"
      ],
      "metadata": {
        "id": "A_06Z-rQMdVe"
      },
      "execution_count": null,
      "outputs": []
    },
    {
      "cell_type": "code",
      "source": [
        "#Stochastic gradient descent 확률적 경사 하강법\n",
        "\n",
        "#torch.optim - torch.optim.SGD\n",
        "\n",
        "# Input to the optimizer are the parameters of the model: model.parameters()\n",
        "optimizer = torch.optim.SGD(model.parameters(), lr=0.1)\n",
        "\n",
        "#optimizer.zero_grad() - 모든 매개변수의 기울기를 0으로 설정/역전파를 수행하기 전 중요한 사전단계\n",
        "#역전파를 통해 미분 값을 계산 시, 기본적으로 미분값은 파라미터에 더해진다.\n",
        "#이때 각 배치바다 새로운 미분 값을 계산하고 이를 기반으로 파라미터를 올바르게 업데이트 하기\n",
        "#위해서는 이전 배치의 미분값을 남겨두면 안된다. 따라서 모든 배치바다optimizer.zero_grad()를 호출한다.\n",
        "\n",
        "\n"
      ],
      "metadata": {
        "id": "j7b0_9j0MnwP"
      },
      "execution_count": null,
      "outputs": []
    },
    {
      "cell_type": "code",
      "source": [
        "#Training\n",
        "\n",
        "#모델 훈련 전, 약간 더 큰 데이터 셋을 만들고 더 큰 배치크기의 데이터 로더를 지정\n",
        "\n",
        "train_dataset = XORDataset(size=1000)\n",
        "train_data_loader = data.DataLoader(train_dataset, batch_size=128, shuffle=True)\n",
        "\n",
        "#5단계 기억 - 배치로드, 예측획득, 손실계산, 역전파, 업데이트\n",
        "\n",
        "# Push model to device. Has to be only done once\n",
        "model.to(device) #모델을 위에서 이미 정의했다."
      ],
      "metadata": {
        "id": "SyjzkMJTNIEj",
        "colab": {
          "base_uri": "https://localhost:8080/"
        },
        "outputId": "34a871b9-e738-4ad1-d7ad-d15341065e81"
      },
      "execution_count": null,
      "outputs": [
        {
          "output_type": "execute_result",
          "data": {
            "text/plain": [
              "SimpleClassifier(\n",
              "  (linear1): Linear(in_features=2, out_features=4, bias=True)\n",
              "  (act_fn): Tanh()\n",
              "  (linear2): Linear(in_features=4, out_features=1, bias=True)\n",
              ")"
            ]
          },
          "metadata": {},
          "execution_count": 36
        }
      ]
    },
    {
      "cell_type": "code",
      "source": [
        "#훈련중과 테스트중일때 사용되는 서로다른 모듈이 있다. 따라서, model.train() 과 model.eval()로 스위치한다.\n",
        "\n",
        "\n",
        "def train_model(model, optimizer, data_loader, loss_module, num_epochs=100):\n",
        "    model.train()\n",
        "\n",
        "    # Training loop\n",
        "    for epoch in tqdm(range(num_epochs)):   #tqdm = 파이썬에서 반복문의 진행상황을 시각적으로 표시해줌.\n",
        "        for data_inputs, data_labels in data_loader:\n",
        "            # Step 1: Move input data to device (only strictly necessary if we use GPU)\n",
        "            data_inputs = data_inputs.to(device)\n",
        "            data_labels = data_labels.to(device)\n",
        "\n",
        "            # Step 2: Run the model on the input data\n",
        "            preds = model(data_inputs)\n",
        "            preds = preds.squeeze(dim=1)  # Output is [Batch size, 1], but we want [Batch size]\n",
        "\n",
        "            # Step 3: Calculate the loss\n",
        "            loss = loss_module(preds, data_labels.float())\n",
        "\n",
        "            # Step 4: Perform backpropagation\n",
        "            # Before calculating the gradients, we need to ensure that they are all zero.\n",
        "            # The gradients would not be overwritten, but actually added to the existing ones.\n",
        "            optimizer.zero_grad()\n",
        "            # Perform backpropagation\n",
        "            loss.backward()\n",
        "\n",
        "            # Step 5: Update the parameters\n",
        "            optimizer.step()"
      ],
      "metadata": {
        "id": "RBTqr3GeXedz"
      },
      "execution_count": null,
      "outputs": []
    },
    {
      "cell_type": "code",
      "source": [
        "train_model(model, optimizer, train_data_loader, loss_module)"
      ],
      "metadata": {
        "colab": {
          "base_uri": "https://localhost:8080/",
          "height": 49,
          "referenced_widgets": [
            "242916899efc45a5abcd5abb1d91589d",
            "72d3e3d5fda04aa7ae7df8d35f3e2027",
            "f9fcf5bc11574935ba0a0255fc195b4e",
            "2882887a00604a638d36011503bac937",
            "c4e7b965a24242ea944e6243022bdfd0",
            "5b713dc3833f4c94a3c3bc90bcafe927",
            "319e792faabb41dbb2a01d7f12cd72bc",
            "a814d554b6454d9390c76584bba1cae2",
            "cb9982d01169428d948190c8f1399618",
            "69e4badd5efb43d1850cde77b94b80be",
            "74807a719eae476f9f73c01a73a0cd1d"
          ]
        },
        "id": "Yb1WDl7RZtWw",
        "outputId": "5260f27a-d21b-4936-8a8d-573a92a7c175"
      },
      "execution_count": null,
      "outputs": [
        {
          "output_type": "display_data",
          "data": {
            "text/plain": [
              "  0%|          | 0/100 [00:00<?, ?it/s]"
            ],
            "application/vnd.jupyter.widget-view+json": {
              "version_major": 2,
              "version_minor": 0,
              "model_id": "242916899efc45a5abcd5abb1d91589d"
            }
          },
          "metadata": {}
        }
      ]
    },
    {
      "cell_type": "code",
      "source": [
        "#모델 저장 - 파라미터 저장\n",
        "\n",
        "state_dict = model.state_dict() #파라미터를 담고 있는 딕셔너리\n",
        "print(state_dict)"
      ],
      "metadata": {
        "colab": {
          "base_uri": "https://localhost:8080/"
        },
        "id": "mCRIW8WJZxOf",
        "outputId": "dd4f1f98-ca28-4060-d6a1-b7d9b94c27ef"
      },
      "execution_count": null,
      "outputs": [
        {
          "output_type": "stream",
          "name": "stdout",
          "text": [
            "OrderedDict([('linear1.weight', tensor([[ 1.9703, -2.3484],\n",
            "        [-0.6047,  0.0454],\n",
            "        [ 2.6473, -2.3114],\n",
            "        [-1.1799, -0.9869]], device='cuda:0')), ('linear1.bias', tensor([-0.9203, -0.4652,  1.1698, -0.2060], device='cuda:0')), ('linear2.weight', tensor([[ 2.9751, -0.3390, -3.0778, -1.5865]], device='cuda:0')), ('linear2.bias', tensor([1.2967], device='cuda:0'))])\n"
          ]
        }
      ]
    },
    {
      "cell_type": "code",
      "source": [
        "#모델의 상태를 저장한 것을 파일로 저장\n",
        "\n",
        "# torch.save(object, filename). For the filename, any extension can be used\n",
        "torch.save(state_dict, \"our_model.tar\")"
      ],
      "metadata": {
        "id": "_ipk2eojaFGK"
      },
      "execution_count": null,
      "outputs": []
    },
    {
      "cell_type": "code",
      "source": [
        "# Load state dict from the disk (make sure it is the same name as above)\n",
        "state_dict = torch.load(\"our_model.tar\")\n",
        "\n",
        "# Create a new model and load the state\n",
        "new_model = SimpleClassifier(num_inputs=2, num_hidden=4, num_outputs=1)\n",
        "new_model.load_state_dict(state_dict)\n",
        "\n",
        "# Verify that the parameters are the same\n",
        "print(\"Original model\\n\", model.state_dict())\n",
        "print(\"\\nLoaded model\\n\", new_model.state_dict())\n",
        "\n",
        "#동일한 파라미터 도출"
      ],
      "metadata": {
        "colab": {
          "base_uri": "https://localhost:8080/"
        },
        "id": "YP6UEx91aYW8",
        "outputId": "5f00e0c9-0707-4bc5-9978-bef67715e478"
      },
      "execution_count": null,
      "outputs": [
        {
          "output_type": "stream",
          "name": "stdout",
          "text": [
            "Original model\n",
            " OrderedDict([('linear1.weight', tensor([[ 1.9703, -2.3484],\n",
            "        [-0.6047,  0.0454],\n",
            "        [ 2.6473, -2.3114],\n",
            "        [-1.1799, -0.9869]], device='cuda:0')), ('linear1.bias', tensor([-0.9203, -0.4652,  1.1698, -0.2060], device='cuda:0')), ('linear2.weight', tensor([[ 2.9751, -0.3390, -3.0778, -1.5865]], device='cuda:0')), ('linear2.bias', tensor([1.2967], device='cuda:0'))])\n",
            "\n",
            "Loaded model\n",
            " OrderedDict([('linear1.weight', tensor([[ 1.9703, -2.3484],\n",
            "        [-0.6047,  0.0454],\n",
            "        [ 2.6473, -2.3114],\n",
            "        [-1.1799, -0.9869]])), ('linear1.bias', tensor([-0.9203, -0.4652,  1.1698, -0.2060])), ('linear2.weight', tensor([[ 2.9751, -0.3390, -3.0778, -1.5865]])), ('linear2.bias', tensor([1.2967]))])\n"
          ]
        },
        {
          "output_type": "stream",
          "name": "stderr",
          "text": [
            "<ipython-input-41-e81ffd59f3f2>:2: FutureWarning: You are using `torch.load` with `weights_only=False` (the current default value), which uses the default pickle module implicitly. It is possible to construct malicious pickle data which will execute arbitrary code during unpickling (See https://github.com/pytorch/pytorch/blob/main/SECURITY.md#untrusted-models for more details). In a future release, the default value for `weights_only` will be flipped to `True`. This limits the functions that could be executed during unpickling. Arbitrary objects will no longer be allowed to be loaded via this mode unless they are explicitly allowlisted by the user via `torch.serialization.add_safe_globals`. We recommend you start setting `weights_only=True` for any use case where you don't have full control of the loaded file. Please open an issue on GitHub for any issues related to this experimental feature.\n",
            "  state_dict = torch.load(\"our_model.tar\")\n"
          ]
        }
      ]
    },
    {
      "cell_type": "code",
      "source": [
        "#evaluation\n",
        "\n",
        "#먼저, 데이터 로더가 있는 데스트 세트를 만들어야 함.\n",
        "test_dataset = XORDataset(size=500)\n",
        "# drop_last -> Don't drop the last batch although it is smaller than 128\n",
        "test_data_loader = data.DataLoader(test_dataset, batch_size=128, shuffle=False, drop_last=False)"
      ],
      "metadata": {
        "id": "7zlFSQQjdCcX"
      },
      "execution_count": null,
      "outputs": []
    },
    {
      "cell_type": "code",
      "source": [
        "#모델 평가시 그래디언트 계산 할 필요 X, 따라서 평가모드에서는 계산그래프를 비활성화(속도 빨라짐)\n",
        "\n",
        "def eval_model(model, data_loader):\n",
        "    model.eval()  # Set model to eval mode\n",
        "    true_preds, num_preds = 0.0, 0.0\n",
        "\n",
        "    with torch.no_grad():  # Deactivate gradients for the following code\n",
        "        for data_inputs, data_labels in data_loader:\n",
        "            # Determine prediction of model on dev set\n",
        "            data_inputs, data_labels = data_inputs.to(device), data_labels.to(device)\n",
        "            preds = model(data_inputs)\n",
        "            preds = preds.squeeze(dim=1)\n",
        "            preds = torch.sigmoid(preds)  # Sigmoid to map predictions between 0 and 1\n",
        "            pred_labels = (preds >= 0.5).long()  # Binarize predictions to 0 and 1\n",
        "\n",
        "            # Keep records of predictions for the accuracy metric (true_preds=TP+TN, num_preds=TP+TN+FP+FN)\n",
        "            true_preds += (pred_labels == data_labels).sum()\n",
        "            num_preds += data_labels.shape[0]\n",
        "\n",
        "    acc = true_preds / num_preds\n",
        "    print(f\"Accuracy of the model: {100.0*acc:4.2f}%\")"
      ],
      "metadata": {
        "id": "y9Y8v3oKetap"
      },
      "execution_count": null,
      "outputs": []
    },
    {
      "cell_type": "code",
      "source": [
        "eval_model(model, test_data_loader)"
      ],
      "metadata": {
        "colab": {
          "base_uri": "https://localhost:8080/"
        },
        "id": "FwygkzG-gH9R",
        "outputId": "80aa91f3-15df-4fe6-ef9e-852cff6471ed"
      },
      "execution_count": null,
      "outputs": [
        {
          "output_type": "stream",
          "name": "stdout",
          "text": [
            "Accuracy of the model: 99.80%\n"
          ]
        }
      ]
    },
    {
      "cell_type": "code",
      "source": [
        "#분류 경계 시각화 Visualizing classification boundaries\n",
        "\n",
        "\n",
        "@torch.no_grad()  # Decorator, same effect as \"with torch.no_grad(): ...\" over the whole function.\n",
        "def visualize_classification(model, data, label):\n",
        "    if isinstance(data, Tensor):\n",
        "        data = data.cpu().numpy()\n",
        "    if isinstance(label, Tensor):\n",
        "        label = label.cpu().numpy()\n",
        "    data_0 = data[label == 0]\n",
        "    data_1 = data[label == 1]\n",
        "\n",
        "    plt.figure(figsize=(4, 4))\n",
        "    plt.scatter(data_0[:, 0], data_0[:, 1], edgecolor=\"#333\", label=\"Class 0\")\n",
        "    plt.scatter(data_1[:, 0], data_1[:, 1], edgecolor=\"#333\", label=\"Class 1\")\n",
        "    plt.title(\"Dataset samples\")\n",
        "    plt.ylabel(r\"$x_2$\")\n",
        "    plt.xlabel(r\"$x_1$\")\n",
        "    plt.legend()\n",
        "\n",
        "    # Let's make use of a lot of operations we have learned above\n",
        "    model.to(device)\n",
        "    c0 = Tensor(to_rgba(\"C0\")).to(device)\n",
        "    c1 = Tensor(to_rgba(\"C1\")).to(device)\n",
        "    x1 = torch.arange(-0.5, 1.5, step=0.01, device=device)\n",
        "    x2 = torch.arange(-0.5, 1.5, step=0.01, device=device)\n",
        "    xx1, xx2 = torch.meshgrid(x1, x2)  # Meshgrid function as in numpy\n",
        "    model_inputs = torch.stack([xx1, xx2], dim=-1)\n",
        "    preds = model(model_inputs)\n",
        "    preds = torch.sigmoid(preds)\n",
        "    # Specifying \"None\" in a dimension creates a new one\n",
        "    output_image = (1 - preds) * c0[None, None] + preds * c1[None, None]\n",
        "    output_image = (\n",
        "        output_image.cpu().numpy()\n",
        "    )  # Convert to numpy array. This only works for tensors on CPU, hence first push to CPU\n",
        "    plt.imshow(output_image, origin=\"lower\", extent=(-0.5, 1.5, -0.5, 1.5))\n",
        "    plt.grid(False)\n",
        "\n",
        "\n",
        "visualize_classification(model, dataset.data, dataset.label)\n",
        "plt.show()\n"
      ],
      "metadata": {
        "colab": {
          "base_uri": "https://localhost:8080/",
          "height": 453
        },
        "id": "m84mjRsYgMqz",
        "outputId": "bc9e5ce4-9794-4ba7-d23f-cd47be533c76"
      },
      "execution_count": null,
      "outputs": [
        {
          "output_type": "stream",
          "name": "stderr",
          "text": [
            "/usr/local/lib/python3.10/dist-packages/torch/functional.py:534: UserWarning: torch.meshgrid: in an upcoming release, it will be required to pass the indexing argument. (Triggered internally at ../aten/src/ATen/native/TensorShape.cpp:3595.)\n",
            "  return _VF.meshgrid(tensors, **kwargs)  # type: ignore[attr-defined]\n"
          ]
        },
        {
          "output_type": "display_data",
          "data": {
            "text/plain": [
              "<Figure size 400x400 with 1 Axes>"
            ],
            "image/svg+xml": "<?xml version=\"1.0\" encoding=\"utf-8\" standalone=\"no\"?>\n<!DOCTYPE svg PUBLIC \"-//W3C//DTD SVG 1.1//EN\"\n  \"http://www.w3.org/Graphics/SVG/1.1/DTD/svg11.dtd\">\n<svg xmlns:xlink=\"http://www.w3.org/1999/xlink\" width=\"295.435pt\" height=\"281.634375pt\" viewBox=\"0 0 295.435 281.634375\" xmlns=\"http://www.w3.org/2000/svg\" version=\"1.1\">\n <metadata>\n  <rdf:RDF xmlns:dc=\"http://purl.org/dc/elements/1.1/\" xmlns:cc=\"http://creativecommons.org/ns#\" xmlns:rdf=\"http://www.w3.org/1999/02/22-rdf-syntax-ns#\">\n   <cc:Work>\n    <dc:type rdf:resource=\"http://purl.org/dc/dcmitype/StillImage\"/>\n    <dc:date>2025-01-04T10:45:06.325590</dc:date>\n    <dc:format>image/svg+xml</dc:format>\n    <dc:creator>\n     <cc:Agent>\n      <dc:title>Matplotlib v3.8.0, https://matplotlib.org/</dc:title>\n     </cc:Agent>\n    </dc:creator>\n   </cc:Work>\n  </rdf:RDF>\n </metadata>\n <defs>\n  <style type=\"text/css\">*{stroke-linejoin: round; stroke-linecap: butt}</style>\n </defs>\n <g id=\"figure_1\">\n  <g id=\"patch_1\">\n   <path d=\"M 0 281.634375 \nL 295.435 281.634375 \nL 295.435 0 \nL 0 0 \nz\n\" style=\"fill: #ffffff\"/>\n  </g>\n  <g id=\"axes_1\">\n   <g id=\"patch_2\">\n    <path d=\"M 58.523438 244.078125 \nL 280.283437 244.078125 \nL 280.283437 22.318125 \nL 58.523438 22.318125 \nz\n\" style=\"fill: #ffffff\"/>\n   </g>\n   <g clip-path=\"url(#pa2321ff412)\">\n    <image xlink:href=\"data:image/png;base64,\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\" id=\"image0b230f08b8\" transform=\"scale(1 -1) translate(0 -221.76)\" x=\"58.523438\" y=\"-22.318125\" width=\"221.76\" height=\"221.76\"/>\n   </g>\n   <g id=\"PathCollection_1\">\n    <defs>\n     <path id=\"m2d2354c077\" d=\"M 0 3 \nC 0.795609 3 1.55874 2.683901 2.12132 2.12132 \nC 2.683901 1.55874 3 0.795609 3 0 \nC 3 -0.795609 2.683901 -1.55874 2.12132 -2.12132 \nC 1.55874 -2.683901 0.795609 -3 0 -3 \nC -0.795609 -3 -1.55874 -2.683901 -2.12132 -2.12132 \nC -2.683901 -1.55874 -3 -0.795609 -3 0 \nC -3 0.795609 -2.683901 1.55874 -2.12132 2.12132 \nC -1.55874 2.683901 -0.795609 3 0 3 \nz\n\" style=\"stroke: #333333\"/>\n    </defs>\n    <g clip-path=\"url(#pa2321ff412)\">\n     <use xlink:href=\"#m2d2354c077\" x=\"234.022547\" y=\"67.876007\" style=\"fill: #1f77b4; stroke: #333333\"/>\n     <use xlink:href=\"#m2d2354c077\" x=\"121.294436\" y=\"182.724899\" style=\"fill: #1f77b4; stroke: #333333\"/>\n     <use xlink:href=\"#m2d2354c077\" x=\"225.682525\" y=\"71.469155\" style=\"fill: #1f77b4; stroke: #333333\"/>\n     <use xlink:href=\"#m2d2354c077\" x=\"227.845599\" y=\"70.6019\" style=\"fill: #1f77b4; stroke: #333333\"/>\n     <use xlink:href=\"#m2d2354c077\" x=\"238.991205\" y=\"72.582064\" style=\"fill: #1f77b4; stroke: #333333\"/>\n     <use xlink:href=\"#m2d2354c077\" x=\"117.482094\" y=\"190.495752\" style=\"fill: #1f77b4; stroke: #333333\"/>\n     <use xlink:href=\"#m2d2354c077\" x=\"100.871322\" y=\"194.188775\" style=\"fill: #1f77b4; stroke: #333333\"/>\n     <use xlink:href=\"#m2d2354c077\" x=\"220.281574\" y=\"70.384254\" style=\"fill: #1f77b4; stroke: #333333\"/>\n     <use xlink:href=\"#m2d2354c077\" x=\"227.422942\" y=\"68.189259\" style=\"fill: #1f77b4; stroke: #333333\"/>\n     <use xlink:href=\"#m2d2354c077\" x=\"217.079604\" y=\"92.68466\" style=\"fill: #1f77b4; stroke: #333333\"/>\n     <use xlink:href=\"#m2d2354c077\" x=\"117.148584\" y=\"205.182269\" style=\"fill: #1f77b4; stroke: #333333\"/>\n     <use xlink:href=\"#m2d2354c077\" x=\"215.265206\" y=\"81.85366\" style=\"fill: #1f77b4; stroke: #333333\"/>\n     <use xlink:href=\"#m2d2354c077\" x=\"246.582881\" y=\"84.585957\" style=\"fill: #1f77b4; stroke: #333333\"/>\n     <use xlink:href=\"#m2d2354c077\" x=\"111.380169\" y=\"196.099502\" style=\"fill: #1f77b4; stroke: #333333\"/>\n     <use xlink:href=\"#m2d2354c077\" x=\"230.201469\" y=\"82.158227\" style=\"fill: #1f77b4; stroke: #333333\"/>\n     <use xlink:href=\"#m2d2354c077\" x=\"113.125538\" y=\"190.354103\" style=\"fill: #1f77b4; stroke: #333333\"/>\n     <use xlink:href=\"#m2d2354c077\" x=\"210.075062\" y=\"77.225244\" style=\"fill: #1f77b4; stroke: #333333\"/>\n     <use xlink:href=\"#m2d2354c077\" x=\"128.564529\" y=\"195.550981\" style=\"fill: #1f77b4; stroke: #333333\"/>\n     <use xlink:href=\"#m2d2354c077\" x=\"217.070742\" y=\"85.404722\" style=\"fill: #1f77b4; stroke: #333333\"/>\n     <use xlink:href=\"#m2d2354c077\" x=\"229.467094\" y=\"85.910572\" style=\"fill: #1f77b4; stroke: #333333\"/>\n     <use xlink:href=\"#m2d2354c077\" x=\"229.115207\" y=\"85.398139\" style=\"fill: #1f77b4; stroke: #333333\"/>\n     <use xlink:href=\"#m2d2354c077\" x=\"118.719213\" y=\"170.162617\" style=\"fill: #1f77b4; stroke: #333333\"/>\n     <use xlink:href=\"#m2d2354c077\" x=\"113.427173\" y=\"183.609846\" style=\"fill: #1f77b4; stroke: #333333\"/>\n     <use xlink:href=\"#m2d2354c077\" x=\"133.46697\" y=\"197.416575\" style=\"fill: #1f77b4; stroke: #333333\"/>\n     <use xlink:href=\"#m2d2354c077\" x=\"124.896855\" y=\"211.702652\" style=\"fill: #1f77b4; stroke: #333333\"/>\n     <use xlink:href=\"#m2d2354c077\" x=\"118.773733\" y=\"200.008899\" style=\"fill: #1f77b4; stroke: #333333\"/>\n     <use xlink:href=\"#m2d2354c077\" x=\"125.747677\" y=\"188.687474\" style=\"fill: #1f77b4; stroke: #333333\"/>\n     <use xlink:href=\"#m2d2354c077\" x=\"112.326796\" y=\"187.496696\" style=\"fill: #1f77b4; stroke: #333333\"/>\n     <use xlink:href=\"#m2d2354c077\" x=\"219.831821\" y=\"86.013024\" style=\"fill: #1f77b4; stroke: #333333\"/>\n     <use xlink:href=\"#m2d2354c077\" x=\"221.669311\" y=\"76.413558\" style=\"fill: #1f77b4; stroke: #333333\"/>\n     <use xlink:href=\"#m2d2354c077\" x=\"229.879705\" y=\"69.472825\" style=\"fill: #1f77b4; stroke: #333333\"/>\n     <use xlink:href=\"#m2d2354c077\" x=\"119.361263\" y=\"204.109162\" style=\"fill: #1f77b4; stroke: #333333\"/>\n     <use xlink:href=\"#m2d2354c077\" x=\"224.889872\" y=\"69.012392\" style=\"fill: #1f77b4; stroke: #333333\"/>\n     <use xlink:href=\"#m2d2354c077\" x=\"224.788702\" y=\"81.427838\" style=\"fill: #1f77b4; stroke: #333333\"/>\n     <use xlink:href=\"#m2d2354c077\" x=\"124.963738\" y=\"204.165095\" style=\"fill: #1f77b4; stroke: #333333\"/>\n     <use xlink:href=\"#m2d2354c077\" x=\"89.641877\" y=\"207.75499\" style=\"fill: #1f77b4; stroke: #333333\"/>\n     <use xlink:href=\"#m2d2354c077\" x=\"107.875396\" y=\"200.697849\" style=\"fill: #1f77b4; stroke: #333333\"/>\n     <use xlink:href=\"#m2d2354c077\" x=\"217.980664\" y=\"67.121118\" style=\"fill: #1f77b4; stroke: #333333\"/>\n     <use xlink:href=\"#m2d2354c077\" x=\"229.585699\" y=\"73.495542\" style=\"fill: #1f77b4; stroke: #333333\"/>\n     <use xlink:href=\"#m2d2354c077\" x=\"88.49005\" y=\"199.031882\" style=\"fill: #1f77b4; stroke: #333333\"/>\n     <use xlink:href=\"#m2d2354c077\" x=\"214.90209\" y=\"87.132443\" style=\"fill: #1f77b4; stroke: #333333\"/>\n     <use xlink:href=\"#m2d2354c077\" x=\"132.005784\" y=\"200.202266\" style=\"fill: #1f77b4; stroke: #333333\"/>\n     <use xlink:href=\"#m2d2354c077\" x=\"226.901839\" y=\"84.755563\" style=\"fill: #1f77b4; stroke: #333333\"/>\n     <use xlink:href=\"#m2d2354c077\" x=\"138.382591\" y=\"194.5608\" style=\"fill: #1f77b4; stroke: #333333\"/>\n     <use xlink:href=\"#m2d2354c077\" x=\"236.427284\" y=\"96.371721\" style=\"fill: #1f77b4; stroke: #333333\"/>\n     <use xlink:href=\"#m2d2354c077\" x=\"233.660349\" y=\"68.243122\" style=\"fill: #1f77b4; stroke: #333333\"/>\n     <use xlink:href=\"#m2d2354c077\" x=\"101.113937\" y=\"171.9158\" style=\"fill: #1f77b4; stroke: #333333\"/>\n     <use xlink:href=\"#m2d2354c077\" x=\"239.876476\" y=\"78.901595\" style=\"fill: #1f77b4; stroke: #333333\"/>\n     <use xlink:href=\"#m2d2354c077\" x=\"214.311057\" y=\"57.103609\" style=\"fill: #1f77b4; stroke: #333333\"/>\n     <use xlink:href=\"#m2d2354c077\" x=\"119.392428\" y=\"195.668169\" style=\"fill: #1f77b4; stroke: #333333\"/>\n     <use xlink:href=\"#m2d2354c077\" x=\"100.374445\" y=\"191.712667\" style=\"fill: #1f77b4; stroke: #333333\"/>\n     <use xlink:href=\"#m2d2354c077\" x=\"109.29838\" y=\"176.400808\" style=\"fill: #1f77b4; stroke: #333333\"/>\n     <use xlink:href=\"#m2d2354c077\" x=\"98.022642\" y=\"182.690065\" style=\"fill: #1f77b4; stroke: #333333\"/>\n     <use xlink:href=\"#m2d2354c077\" x=\"231.016209\" y=\"81.669957\" style=\"fill: #1f77b4; stroke: #333333\"/>\n     <use xlink:href=\"#m2d2354c077\" x=\"240.682544\" y=\"74.89462\" style=\"fill: #1f77b4; stroke: #333333\"/>\n     <use xlink:href=\"#m2d2354c077\" x=\"218.580156\" y=\"94.020661\" style=\"fill: #1f77b4; stroke: #333333\"/>\n     <use xlink:href=\"#m2d2354c077\" x=\"104.550882\" y=\"202.588973\" style=\"fill: #1f77b4; stroke: #333333\"/>\n     <use xlink:href=\"#m2d2354c077\" x=\"220.224711\" y=\"78.255767\" style=\"fill: #1f77b4; stroke: #333333\"/>\n     <use xlink:href=\"#m2d2354c077\" x=\"217.16753\" y=\"78.606551\" style=\"fill: #1f77b4; stroke: #333333\"/>\n     <use xlink:href=\"#m2d2354c077\" x=\"102.198677\" y=\"209.104988\" style=\"fill: #1f77b4; stroke: #333333\"/>\n     <use xlink:href=\"#m2d2354c077\" x=\"125.010423\" y=\"185.880852\" style=\"fill: #1f77b4; stroke: #333333\"/>\n     <use xlink:href=\"#m2d2354c077\" x=\"95.06809\" y=\"194.893845\" style=\"fill: #1f77b4; stroke: #333333\"/>\n     <use xlink:href=\"#m2d2354c077\" x=\"116.602725\" y=\"174.836383\" style=\"fill: #1f77b4; stroke: #333333\"/>\n     <use xlink:href=\"#m2d2354c077\" x=\"222.30972\" y=\"73.381828\" style=\"fill: #1f77b4; stroke: #333333\"/>\n     <use xlink:href=\"#m2d2354c077\" x=\"237.43798\" y=\"82.79358\" style=\"fill: #1f77b4; stroke: #333333\"/>\n     <use xlink:href=\"#m2d2354c077\" x=\"123.224979\" y=\"188.237209\" style=\"fill: #1f77b4; stroke: #333333\"/>\n     <use xlink:href=\"#m2d2354c077\" x=\"139.267328\" y=\"197.408396\" style=\"fill: #1f77b4; stroke: #333333\"/>\n     <use xlink:href=\"#m2d2354c077\" x=\"116.893271\" y=\"192.171805\" style=\"fill: #1f77b4; stroke: #333333\"/>\n     <use xlink:href=\"#m2d2354c077\" x=\"228.590891\" y=\"83.074626\" style=\"fill: #1f77b4; stroke: #333333\"/>\n     <use xlink:href=\"#m2d2354c077\" x=\"227.876714\" y=\"83.700871\" style=\"fill: #1f77b4; stroke: #333333\"/>\n     <use xlink:href=\"#m2d2354c077\" x=\"110.926815\" y=\"196.313837\" style=\"fill: #1f77b4; stroke: #333333\"/>\n     <use xlink:href=\"#m2d2354c077\" x=\"218.274247\" y=\"80.35593\" style=\"fill: #1f77b4; stroke: #333333\"/>\n     <use xlink:href=\"#m2d2354c077\" x=\"200.471803\" y=\"92.582901\" style=\"fill: #1f77b4; stroke: #333333\"/>\n     <use xlink:href=\"#m2d2354c077\" x=\"225.972804\" y=\"79.398351\" style=\"fill: #1f77b4; stroke: #333333\"/>\n     <use xlink:href=\"#m2d2354c077\" x=\"133.084427\" y=\"190.211887\" style=\"fill: #1f77b4; stroke: #333333\"/>\n     <use xlink:href=\"#m2d2354c077\" x=\"230.178642\" y=\"71.906708\" style=\"fill: #1f77b4; stroke: #333333\"/>\n     <use xlink:href=\"#m2d2354c077\" x=\"118.985125\" y=\"184.110318\" style=\"fill: #1f77b4; stroke: #333333\"/>\n     <use xlink:href=\"#m2d2354c077\" x=\"121.37853\" y=\"203.542739\" style=\"fill: #1f77b4; stroke: #333333\"/>\n     <use xlink:href=\"#m2d2354c077\" x=\"131.537239\" y=\"192.936051\" style=\"fill: #1f77b4; stroke: #333333\"/>\n     <use xlink:href=\"#m2d2354c077\" x=\"213.252354\" y=\"58.917888\" style=\"fill: #1f77b4; stroke: #333333\"/>\n     <use xlink:href=\"#m2d2354c077\" x=\"230.731112\" y=\"64.971183\" style=\"fill: #1f77b4; stroke: #333333\"/>\n     <use xlink:href=\"#m2d2354c077\" x=\"222.434656\" y=\"78.274721\" style=\"fill: #1f77b4; stroke: #333333\"/>\n     <use xlink:href=\"#m2d2354c077\" x=\"124.570066\" y=\"191.702247\" style=\"fill: #1f77b4; stroke: #333333\"/>\n     <use xlink:href=\"#m2d2354c077\" x=\"104.505607\" y=\"194.341843\" style=\"fill: #1f77b4; stroke: #333333\"/>\n     <use xlink:href=\"#m2d2354c077\" x=\"125.194079\" y=\"185.799904\" style=\"fill: #1f77b4; stroke: #333333\"/>\n     <use xlink:href=\"#m2d2354c077\" x=\"210.408696\" y=\"82.837444\" style=\"fill: #1f77b4; stroke: #333333\"/>\n     <use xlink:href=\"#m2d2354c077\" x=\"124.886903\" y=\"183.941915\" style=\"fill: #1f77b4; stroke: #333333\"/>\n     <use xlink:href=\"#m2d2354c077\" x=\"116.419822\" y=\"191.830854\" style=\"fill: #1f77b4; stroke: #333333\"/>\n     <use xlink:href=\"#m2d2354c077\" x=\"108.85924\" y=\"197.482645\" style=\"fill: #1f77b4; stroke: #333333\"/>\n     <use xlink:href=\"#m2d2354c077\" x=\"114.602273\" y=\"200.574291\" style=\"fill: #1f77b4; stroke: #333333\"/>\n     <use xlink:href=\"#m2d2354c077\" x=\"208.288692\" y=\"69.735756\" style=\"fill: #1f77b4; stroke: #333333\"/>\n     <use xlink:href=\"#m2d2354c077\" x=\"211.092254\" y=\"82.675967\" style=\"fill: #1f77b4; stroke: #333333\"/>\n     <use xlink:href=\"#m2d2354c077\" x=\"99.573803\" y=\"198.123298\" style=\"fill: #1f77b4; stroke: #333333\"/>\n     <use xlink:href=\"#m2d2354c077\" x=\"194.05553\" y=\"91.624932\" style=\"fill: #1f77b4; stroke: #333333\"/>\n     <use xlink:href=\"#m2d2354c077\" x=\"104.42805\" y=\"173.810857\" style=\"fill: #1f77b4; stroke: #333333\"/>\n     <use xlink:href=\"#m2d2354c077\" x=\"107.390809\" y=\"183.120276\" style=\"fill: #1f77b4; stroke: #333333\"/>\n     <use xlink:href=\"#m2d2354c077\" x=\"215.695139\" y=\"74.688764\" style=\"fill: #1f77b4; stroke: #333333\"/>\n     <use xlink:href=\"#m2d2354c077\" x=\"110.675549\" y=\"178.196638\" style=\"fill: #1f77b4; stroke: #333333\"/>\n     <use xlink:href=\"#m2d2354c077\" x=\"209.440179\" y=\"101.578454\" style=\"fill: #1f77b4; stroke: #333333\"/>\n     <use xlink:href=\"#m2d2354c077\" x=\"212.930517\" y=\"68.324412\" style=\"fill: #1f77b4; stroke: #333333\"/>\n    </g>\n   </g>\n   <g id=\"PathCollection_2\">\n    <defs>\n     <path id=\"m50c57e311c\" d=\"M 0 3 \nC 0.795609 3 1.55874 2.683901 2.12132 2.12132 \nC 2.683901 1.55874 3 0.795609 3 0 \nC 3 -0.795609 2.683901 -1.55874 2.12132 -2.12132 \nC 1.55874 -2.683901 0.795609 -3 0 -3 \nC -0.795609 -3 -1.55874 -2.683901 -2.12132 -2.12132 \nC -2.683901 -1.55874 -3 -0.795609 -3 0 \nC -3 0.795609 -2.683901 1.55874 -2.12132 2.12132 \nC -1.55874 2.683901 -0.795609 3 0 3 \nz\n\" style=\"stroke: #333333\"/>\n    </defs>\n    <g clip-path=\"url(#pa2321ff412)\">\n     <use xlink:href=\"#m50c57e311c\" x=\"102.947538\" y=\"72.414461\" style=\"fill: #ff7f0e; stroke: #333333\"/>\n     <use xlink:href=\"#m50c57e311c\" x=\"121.194392\" y=\"76.355729\" style=\"fill: #ff7f0e; stroke: #333333\"/>\n     <use xlink:href=\"#m50c57e311c\" x=\"114.949144\" y=\"95.761125\" style=\"fill: #ff7f0e; stroke: #333333\"/>\n     <use xlink:href=\"#m50c57e311c\" x=\"102.090806\" y=\"80.873551\" style=\"fill: #ff7f0e; stroke: #333333\"/>\n     <use xlink:href=\"#m50c57e311c\" x=\"108.057897\" y=\"82.055022\" style=\"fill: #ff7f0e; stroke: #333333\"/>\n     <use xlink:href=\"#m50c57e311c\" x=\"238.462514\" y=\"179.644927\" style=\"fill: #ff7f0e; stroke: #333333\"/>\n     <use xlink:href=\"#m50c57e311c\" x=\"230.871036\" y=\"189.80161\" style=\"fill: #ff7f0e; stroke: #333333\"/>\n     <use xlink:href=\"#m50c57e311c\" x=\"207.559235\" y=\"179.253954\" style=\"fill: #ff7f0e; stroke: #333333\"/>\n     <use xlink:href=\"#m50c57e311c\" x=\"105.517954\" y=\"75.815579\" style=\"fill: #ff7f0e; stroke: #333333\"/>\n     <use xlink:href=\"#m50c57e311c\" x=\"222.878513\" y=\"202.565535\" style=\"fill: #ff7f0e; stroke: #333333\"/>\n     <use xlink:href=\"#m50c57e311c\" x=\"220.35385\" y=\"199.628281\" style=\"fill: #ff7f0e; stroke: #333333\"/>\n     <use xlink:href=\"#m50c57e311c\" x=\"219.609139\" y=\"174.952293\" style=\"fill: #ff7f0e; stroke: #333333\"/>\n     <use xlink:href=\"#m50c57e311c\" x=\"214.427791\" y=\"182.520831\" style=\"fill: #ff7f0e; stroke: #333333\"/>\n     <use xlink:href=\"#m50c57e311c\" x=\"214.065831\" y=\"205.259289\" style=\"fill: #ff7f0e; stroke: #333333\"/>\n     <use xlink:href=\"#m50c57e311c\" x=\"128.079189\" y=\"61.375907\" style=\"fill: #ff7f0e; stroke: #333333\"/>\n     <use xlink:href=\"#m50c57e311c\" x=\"224.218104\" y=\"185.484958\" style=\"fill: #ff7f0e; stroke: #333333\"/>\n     <use xlink:href=\"#m50c57e311c\" x=\"107.084722\" y=\"74.565877\" style=\"fill: #ff7f0e; stroke: #333333\"/>\n     <use xlink:href=\"#m50c57e311c\" x=\"237.727558\" y=\"196.596251\" style=\"fill: #ff7f0e; stroke: #333333\"/>\n     <use xlink:href=\"#m50c57e311c\" x=\"93.428466\" y=\"79.428699\" style=\"fill: #ff7f0e; stroke: #333333\"/>\n     <use xlink:href=\"#m50c57e311c\" x=\"136.60988\" y=\"74.246743\" style=\"fill: #ff7f0e; stroke: #333333\"/>\n     <use xlink:href=\"#m50c57e311c\" x=\"224.909197\" y=\"192.271072\" style=\"fill: #ff7f0e; stroke: #333333\"/>\n     <use xlink:href=\"#m50c57e311c\" x=\"222.596436\" y=\"188.845528\" style=\"fill: #ff7f0e; stroke: #333333\"/>\n     <use xlink:href=\"#m50c57e311c\" x=\"119.335789\" y=\"74.60479\" style=\"fill: #ff7f0e; stroke: #333333\"/>\n     <use xlink:href=\"#m50c57e311c\" x=\"216.935417\" y=\"182.690366\" style=\"fill: #ff7f0e; stroke: #333333\"/>\n     <use xlink:href=\"#m50c57e311c\" x=\"125.591222\" y=\"92.351105\" style=\"fill: #ff7f0e; stroke: #333333\"/>\n     <use xlink:href=\"#m50c57e311c\" x=\"112.872147\" y=\"100.760667\" style=\"fill: #ff7f0e; stroke: #333333\"/>\n     <use xlink:href=\"#m50c57e311c\" x=\"218.246384\" y=\"176.451452\" style=\"fill: #ff7f0e; stroke: #333333\"/>\n     <use xlink:href=\"#m50c57e311c\" x=\"239.771618\" y=\"188.896818\" style=\"fill: #ff7f0e; stroke: #333333\"/>\n     <use xlink:href=\"#m50c57e311c\" x=\"120.624852\" y=\"65.474402\" style=\"fill: #ff7f0e; stroke: #333333\"/>\n     <use xlink:href=\"#m50c57e311c\" x=\"108.786072\" y=\"78.691079\" style=\"fill: #ff7f0e; stroke: #333333\"/>\n     <use xlink:href=\"#m50c57e311c\" x=\"91.596871\" y=\"80.53915\" style=\"fill: #ff7f0e; stroke: #333333\"/>\n     <use xlink:href=\"#m50c57e311c\" x=\"228.687343\" y=\"174.260288\" style=\"fill: #ff7f0e; stroke: #333333\"/>\n     <use xlink:href=\"#m50c57e311c\" x=\"123.769948\" y=\"77.664582\" style=\"fill: #ff7f0e; stroke: #333333\"/>\n     <use xlink:href=\"#m50c57e311c\" x=\"245.075192\" y=\"193.993399\" style=\"fill: #ff7f0e; stroke: #333333\"/>\n     <use xlink:href=\"#m50c57e311c\" x=\"120.703612\" y=\"86.906205\" style=\"fill: #ff7f0e; stroke: #333333\"/>\n     <use xlink:href=\"#m50c57e311c\" x=\"127.805292\" y=\"96.95557\" style=\"fill: #ff7f0e; stroke: #333333\"/>\n     <use xlink:href=\"#m50c57e311c\" x=\"134.954228\" y=\"67.236867\" style=\"fill: #ff7f0e; stroke: #333333\"/>\n     <use xlink:href=\"#m50c57e311c\" x=\"214.965655\" y=\"211.806797\" style=\"fill: #ff7f0e; stroke: #333333\"/>\n     <use xlink:href=\"#m50c57e311c\" x=\"127.881456\" y=\"72.630429\" style=\"fill: #ff7f0e; stroke: #333333\"/>\n     <use xlink:href=\"#m50c57e311c\" x=\"118.198235\" y=\"80.132302\" style=\"fill: #ff7f0e; stroke: #333333\"/>\n     <use xlink:href=\"#m50c57e311c\" x=\"209.7508\" y=\"191.494959\" style=\"fill: #ff7f0e; stroke: #333333\"/>\n     <use xlink:href=\"#m50c57e311c\" x=\"221.42472\" y=\"187.839126\" style=\"fill: #ff7f0e; stroke: #333333\"/>\n     <use xlink:href=\"#m50c57e311c\" x=\"117.226828\" y=\"81.740303\" style=\"fill: #ff7f0e; stroke: #333333\"/>\n     <use xlink:href=\"#m50c57e311c\" x=\"115.199523\" y=\"56.235812\" style=\"fill: #ff7f0e; stroke: #333333\"/>\n     <use xlink:href=\"#m50c57e311c\" x=\"222.985757\" y=\"183.5154\" style=\"fill: #ff7f0e; stroke: #333333\"/>\n     <use xlink:href=\"#m50c57e311c\" x=\"218.956834\" y=\"192.419532\" style=\"fill: #ff7f0e; stroke: #333333\"/>\n     <use xlink:href=\"#m50c57e311c\" x=\"116.244103\" y=\"70.367031\" style=\"fill: #ff7f0e; stroke: #333333\"/>\n     <use xlink:href=\"#m50c57e311c\" x=\"109.029328\" y=\"59.783094\" style=\"fill: #ff7f0e; stroke: #333333\"/>\n     <use xlink:href=\"#m50c57e311c\" x=\"101.464032\" y=\"95.798909\" style=\"fill: #ff7f0e; stroke: #333333\"/>\n     <use xlink:href=\"#m50c57e311c\" x=\"119.547195\" y=\"79.678941\" style=\"fill: #ff7f0e; stroke: #333333\"/>\n     <use xlink:href=\"#m50c57e311c\" x=\"114.731066\" y=\"59.615491\" style=\"fill: #ff7f0e; stroke: #333333\"/>\n     <use xlink:href=\"#m50c57e311c\" x=\"113.948383\" y=\"73.549643\" style=\"fill: #ff7f0e; stroke: #333333\"/>\n     <use xlink:href=\"#m50c57e311c\" x=\"109.652254\" y=\"68.636183\" style=\"fill: #ff7f0e; stroke: #333333\"/>\n     <use xlink:href=\"#m50c57e311c\" x=\"211.333832\" y=\"199.102902\" style=\"fill: #ff7f0e; stroke: #333333\"/>\n     <use xlink:href=\"#m50c57e311c\" x=\"95.871897\" y=\"97.780163\" style=\"fill: #ff7f0e; stroke: #333333\"/>\n     <use xlink:href=\"#m50c57e311c\" x=\"222.273007\" y=\"184.242418\" style=\"fill: #ff7f0e; stroke: #333333\"/>\n     <use xlink:href=\"#m50c57e311c\" x=\"221.152741\" y=\"186.531768\" style=\"fill: #ff7f0e; stroke: #333333\"/>\n     <use xlink:href=\"#m50c57e311c\" x=\"238.740646\" y=\"165.281671\" style=\"fill: #ff7f0e; stroke: #333333\"/>\n     <use xlink:href=\"#m50c57e311c\" x=\"219.247714\" y=\"190.383321\" style=\"fill: #ff7f0e; stroke: #333333\"/>\n     <use xlink:href=\"#m50c57e311c\" x=\"115.447454\" y=\"86.654225\" style=\"fill: #ff7f0e; stroke: #333333\"/>\n     <use xlink:href=\"#m50c57e311c\" x=\"206.422936\" y=\"183.401974\" style=\"fill: #ff7f0e; stroke: #333333\"/>\n     <use xlink:href=\"#m50c57e311c\" x=\"215.852948\" y=\"180.939069\" style=\"fill: #ff7f0e; stroke: #333333\"/>\n     <use xlink:href=\"#m50c57e311c\" x=\"117.429366\" y=\"80.201042\" style=\"fill: #ff7f0e; stroke: #333333\"/>\n     <use xlink:href=\"#m50c57e311c\" x=\"132.42128\" y=\"70.251929\" style=\"fill: #ff7f0e; stroke: #333333\"/>\n     <use xlink:href=\"#m50c57e311c\" x=\"250.136494\" y=\"178.134555\" style=\"fill: #ff7f0e; stroke: #333333\"/>\n     <use xlink:href=\"#m50c57e311c\" x=\"117.363643\" y=\"75.390913\" style=\"fill: #ff7f0e; stroke: #333333\"/>\n     <use xlink:href=\"#m50c57e311c\" x=\"117.964215\" y=\"51.029483\" style=\"fill: #ff7f0e; stroke: #333333\"/>\n     <use xlink:href=\"#m50c57e311c\" x=\"122.041075\" y=\"97.230741\" style=\"fill: #ff7f0e; stroke: #333333\"/>\n     <use xlink:href=\"#m50c57e311c\" x=\"227.357408\" y=\"196.59411\" style=\"fill: #ff7f0e; stroke: #333333\"/>\n     <use xlink:href=\"#m50c57e311c\" x=\"215.063699\" y=\"182.738557\" style=\"fill: #ff7f0e; stroke: #333333\"/>\n     <use xlink:href=\"#m50c57e311c\" x=\"216.292325\" y=\"195.005818\" style=\"fill: #ff7f0e; stroke: #333333\"/>\n     <use xlink:href=\"#m50c57e311c\" x=\"113.48638\" y=\"73.824457\" style=\"fill: #ff7f0e; stroke: #333333\"/>\n     <use xlink:href=\"#m50c57e311c\" x=\"232.79176\" y=\"209.858056\" style=\"fill: #ff7f0e; stroke: #333333\"/>\n     <use xlink:href=\"#m50c57e311c\" x=\"217.58821\" y=\"199.726916\" style=\"fill: #ff7f0e; stroke: #333333\"/>\n     <use xlink:href=\"#m50c57e311c\" x=\"229.155667\" y=\"176.999323\" style=\"fill: #ff7f0e; stroke: #333333\"/>\n     <use xlink:href=\"#m50c57e311c\" x=\"134.79574\" y=\"67.260871\" style=\"fill: #ff7f0e; stroke: #333333\"/>\n     <use xlink:href=\"#m50c57e311c\" x=\"99.243497\" y=\"81.349958\" style=\"fill: #ff7f0e; stroke: #333333\"/>\n     <use xlink:href=\"#m50c57e311c\" x=\"217.418915\" y=\"189.642311\" style=\"fill: #ff7f0e; stroke: #333333\"/>\n     <use xlink:href=\"#m50c57e311c\" x=\"124.790022\" y=\"97.744118\" style=\"fill: #ff7f0e; stroke: #333333\"/>\n     <use xlink:href=\"#m50c57e311c\" x=\"129.074499\" y=\"65.034417\" style=\"fill: #ff7f0e; stroke: #333333\"/>\n     <use xlink:href=\"#m50c57e311c\" x=\"120.534963\" y=\"76.938838\" style=\"fill: #ff7f0e; stroke: #333333\"/>\n     <use xlink:href=\"#m50c57e311c\" x=\"123.431047\" y=\"72.777187\" style=\"fill: #ff7f0e; stroke: #333333\"/>\n     <use xlink:href=\"#m50c57e311c\" x=\"227.836267\" y=\"201.910468\" style=\"fill: #ff7f0e; stroke: #333333\"/>\n     <use xlink:href=\"#m50c57e311c\" x=\"228.823289\" y=\"198.424915\" style=\"fill: #ff7f0e; stroke: #333333\"/>\n     <use xlink:href=\"#m50c57e311c\" x=\"102.806645\" y=\"83.975368\" style=\"fill: #ff7f0e; stroke: #333333\"/>\n     <use xlink:href=\"#m50c57e311c\" x=\"229.908877\" y=\"164.700915\" style=\"fill: #ff7f0e; stroke: #333333\"/>\n     <use xlink:href=\"#m50c57e311c\" x=\"132.747087\" y=\"86.792584\" style=\"fill: #ff7f0e; stroke: #333333\"/>\n     <use xlink:href=\"#m50c57e311c\" x=\"231.901784\" y=\"157.990427\" style=\"fill: #ff7f0e; stroke: #333333\"/>\n     <use xlink:href=\"#m50c57e311c\" x=\"208.880571\" y=\"207.116077\" style=\"fill: #ff7f0e; stroke: #333333\"/>\n     <use xlink:href=\"#m50c57e311c\" x=\"233.507312\" y=\"191.605714\" style=\"fill: #ff7f0e; stroke: #333333\"/>\n     <use xlink:href=\"#m50c57e311c\" x=\"118.692186\" y=\"79.108111\" style=\"fill: #ff7f0e; stroke: #333333\"/>\n     <use xlink:href=\"#m50c57e311c\" x=\"126.281526\" y=\"69.690762\" style=\"fill: #ff7f0e; stroke: #333333\"/>\n     <use xlink:href=\"#m50c57e311c\" x=\"122.940745\" y=\"76.49851\" style=\"fill: #ff7f0e; stroke: #333333\"/>\n     <use xlink:href=\"#m50c57e311c\" x=\"106.673001\" y=\"80.963373\" style=\"fill: #ff7f0e; stroke: #333333\"/>\n     <use xlink:href=\"#m50c57e311c\" x=\"109.946473\" y=\"76.980131\" style=\"fill: #ff7f0e; stroke: #333333\"/>\n     <use xlink:href=\"#m50c57e311c\" x=\"211.72606\" y=\"189.379324\" style=\"fill: #ff7f0e; stroke: #333333\"/>\n     <use xlink:href=\"#m50c57e311c\" x=\"218.551877\" y=\"213.768742\" style=\"fill: #ff7f0e; stroke: #333333\"/>\n     <use xlink:href=\"#m50c57e311c\" x=\"146.160055\" y=\"87.30162\" style=\"fill: #ff7f0e; stroke: #333333\"/>\n     <use xlink:href=\"#m50c57e311c\" x=\"236.319426\" y=\"188.839199\" style=\"fill: #ff7f0e; stroke: #333333\"/>\n     <use xlink:href=\"#m50c57e311c\" x=\"98.378373\" y=\"69.360882\" style=\"fill: #ff7f0e; stroke: #333333\"/>\n    </g>\n   </g>\n   <g id=\"matplotlib.axis_1\">\n    <g id=\"xtick_1\">\n     <g id=\"line2d_1\">\n      <defs>\n       <path id=\"m609288ebb7\" d=\"M 0 0 \nL 0 3.5 \n\" style=\"stroke: #000000; stroke-width: 0.8\"/>\n      </defs>\n      <g>\n       <use xlink:href=\"#m609288ebb7\" x=\"58.523438\" y=\"244.078125\" style=\"stroke: #000000; stroke-width: 0.8\"/>\n      </g>\n     </g>\n     <g id=\"text_1\">\n      <!-- −0.5 -->\n      <g transform=\"translate(46.382031 258.676562) scale(0.1 -0.1)\">\n       <defs>\n        <path id=\"DejaVuSans-2212\" d=\"M 678 2272 \nL 4684 2272 \nL 4684 1741 \nL 678 1741 \nL 678 2272 \nz\n\" transform=\"scale(0.015625)\"/>\n        <path id=\"DejaVuSans-30\" d=\"M 2034 4250 \nQ 1547 4250 1301 3770 \nQ 1056 3291 1056 2328 \nQ 1056 1369 1301 889 \nQ 1547 409 2034 409 \nQ 2525 409 2770 889 \nQ 3016 1369 3016 2328 \nQ 3016 3291 2770 3770 \nQ 2525 4250 2034 4250 \nz\nM 2034 4750 \nQ 2819 4750 3233 4129 \nQ 3647 3509 3647 2328 \nQ 3647 1150 3233 529 \nQ 2819 -91 2034 -91 \nQ 1250 -91 836 529 \nQ 422 1150 422 2328 \nQ 422 3509 836 4129 \nQ 1250 4750 2034 4750 \nz\n\" transform=\"scale(0.015625)\"/>\n        <path id=\"DejaVuSans-2e\" d=\"M 684 794 \nL 1344 794 \nL 1344 0 \nL 684 0 \nL 684 794 \nz\n\" transform=\"scale(0.015625)\"/>\n        <path id=\"DejaVuSans-35\" d=\"M 691 4666 \nL 3169 4666 \nL 3169 4134 \nL 1269 4134 \nL 1269 2991 \nQ 1406 3038 1543 3061 \nQ 1681 3084 1819 3084 \nQ 2600 3084 3056 2656 \nQ 3513 2228 3513 1497 \nQ 3513 744 3044 326 \nQ 2575 -91 1722 -91 \nQ 1428 -91 1123 -41 \nQ 819 9 494 109 \nL 494 744 \nQ 775 591 1075 516 \nQ 1375 441 1709 441 \nQ 2250 441 2565 725 \nQ 2881 1009 2881 1497 \nQ 2881 1984 2565 2268 \nQ 2250 2553 1709 2553 \nQ 1456 2553 1204 2497 \nQ 953 2441 691 2322 \nL 691 4666 \nz\n\" transform=\"scale(0.015625)\"/>\n       </defs>\n       <use xlink:href=\"#DejaVuSans-2212\"/>\n       <use xlink:href=\"#DejaVuSans-30\" x=\"83.789062\"/>\n       <use xlink:href=\"#DejaVuSans-2e\" x=\"147.412109\"/>\n       <use xlink:href=\"#DejaVuSans-35\" x=\"179.199219\"/>\n      </g>\n     </g>\n    </g>\n    <g id=\"xtick_2\">\n     <g id=\"line2d_2\">\n      <g>\n       <use xlink:href=\"#m609288ebb7\" x=\"113.963437\" y=\"244.078125\" style=\"stroke: #000000; stroke-width: 0.8\"/>\n      </g>\n     </g>\n     <g id=\"text_2\">\n      <!-- 0.0 -->\n      <g transform=\"translate(106.011875 258.676562) scale(0.1 -0.1)\">\n       <use xlink:href=\"#DejaVuSans-30\"/>\n       <use xlink:href=\"#DejaVuSans-2e\" x=\"63.623047\"/>\n       <use xlink:href=\"#DejaVuSans-30\" x=\"95.410156\"/>\n      </g>\n     </g>\n    </g>\n    <g id=\"xtick_3\">\n     <g id=\"line2d_3\">\n      <g>\n       <use xlink:href=\"#m609288ebb7\" x=\"169.403437\" y=\"244.078125\" style=\"stroke: #000000; stroke-width: 0.8\"/>\n      </g>\n     </g>\n     <g id=\"text_3\">\n      <!-- 0.5 -->\n      <g transform=\"translate(161.451875 258.676562) scale(0.1 -0.1)\">\n       <use xlink:href=\"#DejaVuSans-30\"/>\n       <use xlink:href=\"#DejaVuSans-2e\" x=\"63.623047\"/>\n       <use xlink:href=\"#DejaVuSans-35\" x=\"95.410156\"/>\n      </g>\n     </g>\n    </g>\n    <g id=\"xtick_4\">\n     <g id=\"line2d_4\">\n      <g>\n       <use xlink:href=\"#m609288ebb7\" x=\"224.843437\" y=\"244.078125\" style=\"stroke: #000000; stroke-width: 0.8\"/>\n      </g>\n     </g>\n     <g id=\"text_4\">\n      <!-- 1.0 -->\n      <g transform=\"translate(216.891875 258.676562) scale(0.1 -0.1)\">\n       <defs>\n        <path id=\"DejaVuSans-31\" d=\"M 794 531 \nL 1825 531 \nL 1825 4091 \nL 703 3866 \nL 703 4441 \nL 1819 4666 \nL 2450 4666 \nL 2450 531 \nL 3481 531 \nL 3481 0 \nL 794 0 \nL 794 531 \nz\n\" transform=\"scale(0.015625)\"/>\n       </defs>\n       <use xlink:href=\"#DejaVuSans-31\"/>\n       <use xlink:href=\"#DejaVuSans-2e\" x=\"63.623047\"/>\n       <use xlink:href=\"#DejaVuSans-30\" x=\"95.410156\"/>\n      </g>\n     </g>\n    </g>\n    <g id=\"xtick_5\">\n     <g id=\"line2d_5\">\n      <g>\n       <use xlink:href=\"#m609288ebb7\" x=\"280.283437\" y=\"244.078125\" style=\"stroke: #000000; stroke-width: 0.8\"/>\n      </g>\n     </g>\n     <g id=\"text_5\">\n      <!-- 1.5 -->\n      <g transform=\"translate(272.331875 258.676562) scale(0.1 -0.1)\">\n       <use xlink:href=\"#DejaVuSans-31\"/>\n       <use xlink:href=\"#DejaVuSans-2e\" x=\"63.623047\"/>\n       <use xlink:href=\"#DejaVuSans-35\" x=\"95.410156\"/>\n      </g>\n     </g>\n    </g>\n    <g id=\"text_6\">\n     <!-- $x_1$ -->\n     <g transform=\"translate(164.053438 272.354687) scale(0.1 -0.1)\">\n      <defs>\n       <path id=\"DejaVuSans-Oblique-78\" d=\"M 3841 3500 \nL 2234 1784 \nL 3219 0 \nL 2559 0 \nL 1819 1388 \nL 531 0 \nL -166 0 \nL 1556 1844 \nL 641 3500 \nL 1300 3500 \nL 1972 2234 \nL 3144 3500 \nL 3841 3500 \nz\n\" transform=\"scale(0.015625)\"/>\n      </defs>\n      <use xlink:href=\"#DejaVuSans-Oblique-78\" transform=\"translate(0 0.3125)\"/>\n      <use xlink:href=\"#DejaVuSans-31\" transform=\"translate(59.179688 -16.09375) scale(0.7)\"/>\n     </g>\n    </g>\n   </g>\n   <g id=\"matplotlib.axis_2\">\n    <g id=\"ytick_1\">\n     <g id=\"line2d_6\">\n      <defs>\n       <path id=\"mdd4017a6bd\" d=\"M 0 0 \nL -3.5 0 \n\" style=\"stroke: #000000; stroke-width: 0.8\"/>\n      </defs>\n      <g>\n       <use xlink:href=\"#mdd4017a6bd\" x=\"58.523438\" y=\"244.078125\" style=\"stroke: #000000; stroke-width: 0.8\"/>\n      </g>\n     </g>\n     <g id=\"text_7\">\n      <!-- −0.50 -->\n      <g transform=\"translate(20.878125 247.877344) scale(0.1 -0.1)\">\n       <use xlink:href=\"#DejaVuSans-2212\"/>\n       <use xlink:href=\"#DejaVuSans-30\" x=\"83.789062\"/>\n       <use xlink:href=\"#DejaVuSans-2e\" x=\"147.412109\"/>\n       <use xlink:href=\"#DejaVuSans-35\" x=\"179.199219\"/>\n       <use xlink:href=\"#DejaVuSans-30\" x=\"242.822266\"/>\n      </g>\n     </g>\n    </g>\n    <g id=\"ytick_2\">\n     <g id=\"line2d_7\">\n      <g>\n       <use xlink:href=\"#mdd4017a6bd\" x=\"58.523438\" y=\"216.358125\" style=\"stroke: #000000; stroke-width: 0.8\"/>\n      </g>\n     </g>\n     <g id=\"text_8\">\n      <!-- −0.25 -->\n      <g transform=\"translate(20.878125 220.157344) scale(0.1 -0.1)\">\n       <defs>\n        <path id=\"DejaVuSans-32\" d=\"M 1228 531 \nL 3431 531 \nL 3431 0 \nL 469 0 \nL 469 531 \nQ 828 903 1448 1529 \nQ 2069 2156 2228 2338 \nQ 2531 2678 2651 2914 \nQ 2772 3150 2772 3378 \nQ 2772 3750 2511 3984 \nQ 2250 4219 1831 4219 \nQ 1534 4219 1204 4116 \nQ 875 4013 500 3803 \nL 500 4441 \nQ 881 4594 1212 4672 \nQ 1544 4750 1819 4750 \nQ 2544 4750 2975 4387 \nQ 3406 4025 3406 3419 \nQ 3406 3131 3298 2873 \nQ 3191 2616 2906 2266 \nQ 2828 2175 2409 1742 \nQ 1991 1309 1228 531 \nz\n\" transform=\"scale(0.015625)\"/>\n       </defs>\n       <use xlink:href=\"#DejaVuSans-2212\"/>\n       <use xlink:href=\"#DejaVuSans-30\" x=\"83.789062\"/>\n       <use xlink:href=\"#DejaVuSans-2e\" x=\"147.412109\"/>\n       <use xlink:href=\"#DejaVuSans-32\" x=\"179.199219\"/>\n       <use xlink:href=\"#DejaVuSans-35\" x=\"242.822266\"/>\n      </g>\n     </g>\n    </g>\n    <g id=\"ytick_3\">\n     <g id=\"line2d_8\">\n      <g>\n       <use xlink:href=\"#mdd4017a6bd\" x=\"58.523438\" y=\"188.638125\" style=\"stroke: #000000; stroke-width: 0.8\"/>\n      </g>\n     </g>\n     <g id=\"text_9\">\n      <!-- 0.00 -->\n      <g transform=\"translate(29.257812 192.437344) scale(0.1 -0.1)\">\n       <use xlink:href=\"#DejaVuSans-30\"/>\n       <use xlink:href=\"#DejaVuSans-2e\" x=\"63.623047\"/>\n       <use xlink:href=\"#DejaVuSans-30\" x=\"95.410156\"/>\n       <use xlink:href=\"#DejaVuSans-30\" x=\"159.033203\"/>\n      </g>\n     </g>\n    </g>\n    <g id=\"ytick_4\">\n     <g id=\"line2d_9\">\n      <g>\n       <use xlink:href=\"#mdd4017a6bd\" x=\"58.523438\" y=\"160.918125\" style=\"stroke: #000000; stroke-width: 0.8\"/>\n      </g>\n     </g>\n     <g id=\"text_10\">\n      <!-- 0.25 -->\n      <g transform=\"translate(29.257812 164.717344) scale(0.1 -0.1)\">\n       <use xlink:href=\"#DejaVuSans-30\"/>\n       <use xlink:href=\"#DejaVuSans-2e\" x=\"63.623047\"/>\n       <use xlink:href=\"#DejaVuSans-32\" x=\"95.410156\"/>\n       <use xlink:href=\"#DejaVuSans-35\" x=\"159.033203\"/>\n      </g>\n     </g>\n    </g>\n    <g id=\"ytick_5\">\n     <g id=\"line2d_10\">\n      <g>\n       <use xlink:href=\"#mdd4017a6bd\" x=\"58.523438\" y=\"133.198125\" style=\"stroke: #000000; stroke-width: 0.8\"/>\n      </g>\n     </g>\n     <g id=\"text_11\">\n      <!-- 0.50 -->\n      <g transform=\"translate(29.257812 136.997344) scale(0.1 -0.1)\">\n       <use xlink:href=\"#DejaVuSans-30\"/>\n       <use xlink:href=\"#DejaVuSans-2e\" x=\"63.623047\"/>\n       <use xlink:href=\"#DejaVuSans-35\" x=\"95.410156\"/>\n       <use xlink:href=\"#DejaVuSans-30\" x=\"159.033203\"/>\n      </g>\n     </g>\n    </g>\n    <g id=\"ytick_6\">\n     <g id=\"line2d_11\">\n      <g>\n       <use xlink:href=\"#mdd4017a6bd\" x=\"58.523438\" y=\"105.478125\" style=\"stroke: #000000; stroke-width: 0.8\"/>\n      </g>\n     </g>\n     <g id=\"text_12\">\n      <!-- 0.75 -->\n      <g transform=\"translate(29.257812 109.277344) scale(0.1 -0.1)\">\n       <defs>\n        <path id=\"DejaVuSans-37\" d=\"M 525 4666 \nL 3525 4666 \nL 3525 4397 \nL 1831 0 \nL 1172 0 \nL 2766 4134 \nL 525 4134 \nL 525 4666 \nz\n\" transform=\"scale(0.015625)\"/>\n       </defs>\n       <use xlink:href=\"#DejaVuSans-30\"/>\n       <use xlink:href=\"#DejaVuSans-2e\" x=\"63.623047\"/>\n       <use xlink:href=\"#DejaVuSans-37\" x=\"95.410156\"/>\n       <use xlink:href=\"#DejaVuSans-35\" x=\"159.033203\"/>\n      </g>\n     </g>\n    </g>\n    <g id=\"ytick_7\">\n     <g id=\"line2d_12\">\n      <g>\n       <use xlink:href=\"#mdd4017a6bd\" x=\"58.523438\" y=\"77.758125\" style=\"stroke: #000000; stroke-width: 0.8\"/>\n      </g>\n     </g>\n     <g id=\"text_13\">\n      <!-- 1.00 -->\n      <g transform=\"translate(29.257812 81.557344) scale(0.1 -0.1)\">\n       <use xlink:href=\"#DejaVuSans-31\"/>\n       <use xlink:href=\"#DejaVuSans-2e\" x=\"63.623047\"/>\n       <use xlink:href=\"#DejaVuSans-30\" x=\"95.410156\"/>\n       <use xlink:href=\"#DejaVuSans-30\" x=\"159.033203\"/>\n      </g>\n     </g>\n    </g>\n    <g id=\"ytick_8\">\n     <g id=\"line2d_13\">\n      <g>\n       <use xlink:href=\"#mdd4017a6bd\" x=\"58.523438\" y=\"50.038125\" style=\"stroke: #000000; stroke-width: 0.8\"/>\n      </g>\n     </g>\n     <g id=\"text_14\">\n      <!-- 1.25 -->\n      <g transform=\"translate(29.257812 53.837344) scale(0.1 -0.1)\">\n       <use xlink:href=\"#DejaVuSans-31\"/>\n       <use xlink:href=\"#DejaVuSans-2e\" x=\"63.623047\"/>\n       <use xlink:href=\"#DejaVuSans-32\" x=\"95.410156\"/>\n       <use xlink:href=\"#DejaVuSans-35\" x=\"159.033203\"/>\n      </g>\n     </g>\n    </g>\n    <g id=\"ytick_9\">\n     <g id=\"line2d_14\">\n      <g>\n       <use xlink:href=\"#mdd4017a6bd\" x=\"58.523438\" y=\"22.318125\" style=\"stroke: #000000; stroke-width: 0.8\"/>\n      </g>\n     </g>\n     <g id=\"text_15\">\n      <!-- 1.50 -->\n      <g transform=\"translate(29.257812 26.117344) scale(0.1 -0.1)\">\n       <use xlink:href=\"#DejaVuSans-31\"/>\n       <use xlink:href=\"#DejaVuSans-2e\" x=\"63.623047\"/>\n       <use xlink:href=\"#DejaVuSans-35\" x=\"95.410156\"/>\n       <use xlink:href=\"#DejaVuSans-30\" x=\"159.033203\"/>\n      </g>\n     </g>\n    </g>\n    <g id=\"text_16\">\n     <!-- $x_2$ -->\n     <g transform=\"translate(14.798437 138.548125) rotate(-90) scale(0.1 -0.1)\">\n      <use xlink:href=\"#DejaVuSans-Oblique-78\" transform=\"translate(0 0.3125)\"/>\n      <use xlink:href=\"#DejaVuSans-32\" transform=\"translate(59.179688 -16.09375) scale(0.7)\"/>\n     </g>\n    </g>\n   </g>\n   <g id=\"patch_3\">\n    <path d=\"M 58.523438 244.078125 \nL 58.523438 22.318125 \n\" style=\"fill: none; stroke: #000000; stroke-width: 0.8; stroke-linejoin: miter; stroke-linecap: square\"/>\n   </g>\n   <g id=\"patch_4\">\n    <path d=\"M 280.283437 244.078125 \nL 280.283437 22.318125 \n\" style=\"fill: none; stroke: #000000; stroke-width: 0.8; stroke-linejoin: miter; stroke-linecap: square\"/>\n   </g>\n   <g id=\"patch_5\">\n    <path d=\"M 58.523438 244.078125 \nL 280.283437 244.078125 \n\" style=\"fill: none; stroke: #000000; stroke-width: 0.8; stroke-linejoin: miter; stroke-linecap: square\"/>\n   </g>\n   <g id=\"patch_6\">\n    <path d=\"M 58.523438 22.318125 \nL 280.283437 22.318125 \n\" style=\"fill: none; stroke: #000000; stroke-width: 0.8; stroke-linejoin: miter; stroke-linecap: square\"/>\n   </g>\n   <g id=\"text_17\">\n    <!-- Dataset samples -->\n    <g transform=\"translate(119.060625 16.318125) scale(0.12 -0.12)\">\n     <defs>\n      <path id=\"DejaVuSans-44\" d=\"M 1259 4147 \nL 1259 519 \nL 2022 519 \nQ 2988 519 3436 956 \nQ 3884 1394 3884 2338 \nQ 3884 3275 3436 3711 \nQ 2988 4147 2022 4147 \nL 1259 4147 \nz\nM 628 4666 \nL 1925 4666 \nQ 3281 4666 3915 4102 \nQ 4550 3538 4550 2338 \nQ 4550 1131 3912 565 \nQ 3275 0 1925 0 \nL 628 0 \nL 628 4666 \nz\n\" transform=\"scale(0.015625)\"/>\n      <path id=\"DejaVuSans-61\" d=\"M 2194 1759 \nQ 1497 1759 1228 1600 \nQ 959 1441 959 1056 \nQ 959 750 1161 570 \nQ 1363 391 1709 391 \nQ 2188 391 2477 730 \nQ 2766 1069 2766 1631 \nL 2766 1759 \nL 2194 1759 \nz\nM 3341 1997 \nL 3341 0 \nL 2766 0 \nL 2766 531 \nQ 2569 213 2275 61 \nQ 1981 -91 1556 -91 \nQ 1019 -91 701 211 \nQ 384 513 384 1019 \nQ 384 1609 779 1909 \nQ 1175 2209 1959 2209 \nL 2766 2209 \nL 2766 2266 \nQ 2766 2663 2505 2880 \nQ 2244 3097 1772 3097 \nQ 1472 3097 1187 3025 \nQ 903 2953 641 2809 \nL 641 3341 \nQ 956 3463 1253 3523 \nQ 1550 3584 1831 3584 \nQ 2591 3584 2966 3190 \nQ 3341 2797 3341 1997 \nz\n\" transform=\"scale(0.015625)\"/>\n      <path id=\"DejaVuSans-74\" d=\"M 1172 4494 \nL 1172 3500 \nL 2356 3500 \nL 2356 3053 \nL 1172 3053 \nL 1172 1153 \nQ 1172 725 1289 603 \nQ 1406 481 1766 481 \nL 2356 481 \nL 2356 0 \nL 1766 0 \nQ 1100 0 847 248 \nQ 594 497 594 1153 \nL 594 3053 \nL 172 3053 \nL 172 3500 \nL 594 3500 \nL 594 4494 \nL 1172 4494 \nz\n\" transform=\"scale(0.015625)\"/>\n      <path id=\"DejaVuSans-73\" d=\"M 2834 3397 \nL 2834 2853 \nQ 2591 2978 2328 3040 \nQ 2066 3103 1784 3103 \nQ 1356 3103 1142 2972 \nQ 928 2841 928 2578 \nQ 928 2378 1081 2264 \nQ 1234 2150 1697 2047 \nL 1894 2003 \nQ 2506 1872 2764 1633 \nQ 3022 1394 3022 966 \nQ 3022 478 2636 193 \nQ 2250 -91 1575 -91 \nQ 1294 -91 989 -36 \nQ 684 19 347 128 \nL 347 722 \nQ 666 556 975 473 \nQ 1284 391 1588 391 \nQ 1994 391 2212 530 \nQ 2431 669 2431 922 \nQ 2431 1156 2273 1281 \nQ 2116 1406 1581 1522 \nL 1381 1569 \nQ 847 1681 609 1914 \nQ 372 2147 372 2553 \nQ 372 3047 722 3315 \nQ 1072 3584 1716 3584 \nQ 2034 3584 2315 3537 \nQ 2597 3491 2834 3397 \nz\n\" transform=\"scale(0.015625)\"/>\n      <path id=\"DejaVuSans-65\" d=\"M 3597 1894 \nL 3597 1613 \nL 953 1613 \nQ 991 1019 1311 708 \nQ 1631 397 2203 397 \nQ 2534 397 2845 478 \nQ 3156 559 3463 722 \nL 3463 178 \nQ 3153 47 2828 -22 \nQ 2503 -91 2169 -91 \nQ 1331 -91 842 396 \nQ 353 884 353 1716 \nQ 353 2575 817 3079 \nQ 1281 3584 2069 3584 \nQ 2775 3584 3186 3129 \nQ 3597 2675 3597 1894 \nz\nM 3022 2063 \nQ 3016 2534 2758 2815 \nQ 2500 3097 2075 3097 \nQ 1594 3097 1305 2825 \nQ 1016 2553 972 2059 \nL 3022 2063 \nz\n\" transform=\"scale(0.015625)\"/>\n      <path id=\"DejaVuSans-20\" transform=\"scale(0.015625)\"/>\n      <path id=\"DejaVuSans-6d\" d=\"M 3328 2828 \nQ 3544 3216 3844 3400 \nQ 4144 3584 4550 3584 \nQ 5097 3584 5394 3201 \nQ 5691 2819 5691 2113 \nL 5691 0 \nL 5113 0 \nL 5113 2094 \nQ 5113 2597 4934 2840 \nQ 4756 3084 4391 3084 \nQ 3944 3084 3684 2787 \nQ 3425 2491 3425 1978 \nL 3425 0 \nL 2847 0 \nL 2847 2094 \nQ 2847 2600 2669 2842 \nQ 2491 3084 2119 3084 \nQ 1678 3084 1418 2786 \nQ 1159 2488 1159 1978 \nL 1159 0 \nL 581 0 \nL 581 3500 \nL 1159 3500 \nL 1159 2956 \nQ 1356 3278 1631 3431 \nQ 1906 3584 2284 3584 \nQ 2666 3584 2933 3390 \nQ 3200 3197 3328 2828 \nz\n\" transform=\"scale(0.015625)\"/>\n      <path id=\"DejaVuSans-70\" d=\"M 1159 525 \nL 1159 -1331 \nL 581 -1331 \nL 581 3500 \nL 1159 3500 \nL 1159 2969 \nQ 1341 3281 1617 3432 \nQ 1894 3584 2278 3584 \nQ 2916 3584 3314 3078 \nQ 3713 2572 3713 1747 \nQ 3713 922 3314 415 \nQ 2916 -91 2278 -91 \nQ 1894 -91 1617 61 \nQ 1341 213 1159 525 \nz\nM 3116 1747 \nQ 3116 2381 2855 2742 \nQ 2594 3103 2138 3103 \nQ 1681 3103 1420 2742 \nQ 1159 2381 1159 1747 \nQ 1159 1113 1420 752 \nQ 1681 391 2138 391 \nQ 2594 391 2855 752 \nQ 3116 1113 3116 1747 \nz\n\" transform=\"scale(0.015625)\"/>\n      <path id=\"DejaVuSans-6c\" d=\"M 603 4863 \nL 1178 4863 \nL 1178 0 \nL 603 0 \nL 603 4863 \nz\n\" transform=\"scale(0.015625)\"/>\n     </defs>\n     <use xlink:href=\"#DejaVuSans-44\"/>\n     <use xlink:href=\"#DejaVuSans-61\" x=\"77.001953\"/>\n     <use xlink:href=\"#DejaVuSans-74\" x=\"138.28125\"/>\n     <use xlink:href=\"#DejaVuSans-61\" x=\"177.490234\"/>\n     <use xlink:href=\"#DejaVuSans-73\" x=\"238.769531\"/>\n     <use xlink:href=\"#DejaVuSans-65\" x=\"290.869141\"/>\n     <use xlink:href=\"#DejaVuSans-74\" x=\"352.392578\"/>\n     <use xlink:href=\"#DejaVuSans-20\" x=\"391.601562\"/>\n     <use xlink:href=\"#DejaVuSans-73\" x=\"423.388672\"/>\n     <use xlink:href=\"#DejaVuSans-61\" x=\"475.488281\"/>\n     <use xlink:href=\"#DejaVuSans-6d\" x=\"536.767578\"/>\n     <use xlink:href=\"#DejaVuSans-70\" x=\"634.179688\"/>\n     <use xlink:href=\"#DejaVuSans-6c\" x=\"697.65625\"/>\n     <use xlink:href=\"#DejaVuSans-65\" x=\"725.439453\"/>\n     <use xlink:href=\"#DejaVuSans-73\" x=\"786.962891\"/>\n    </g>\n   </g>\n   <g id=\"legend_1\">\n    <g id=\"patch_7\">\n     <path d=\"M 205.435 149.37625 \nL 273.283437 149.37625 \nQ 275.283437 149.37625 275.283437 147.37625 \nL 275.283437 119.02 \nQ 275.283437 117.02 273.283437 117.02 \nL 205.435 117.02 \nQ 203.435 117.02 203.435 119.02 \nL 203.435 147.37625 \nQ 203.435 149.37625 205.435 149.37625 \nz\n\" style=\"fill: #ffffff; opacity: 0.8; stroke: #cccccc; stroke-linejoin: miter\"/>\n    </g>\n    <g id=\"PathCollection_3\">\n     <g>\n      <use xlink:href=\"#m2d2354c077\" x=\"217.435\" y=\"125.993437\" style=\"fill: #1f77b4; stroke: #333333\"/>\n     </g>\n    </g>\n    <g id=\"text_18\">\n     <!-- Class 0 -->\n     <g transform=\"translate(235.435 128.618437) scale(0.1 -0.1)\">\n      <defs>\n       <path id=\"DejaVuSans-43\" d=\"M 4122 4306 \nL 4122 3641 \nQ 3803 3938 3442 4084 \nQ 3081 4231 2675 4231 \nQ 1875 4231 1450 3742 \nQ 1025 3253 1025 2328 \nQ 1025 1406 1450 917 \nQ 1875 428 2675 428 \nQ 3081 428 3442 575 \nQ 3803 722 4122 1019 \nL 4122 359 \nQ 3791 134 3420 21 \nQ 3050 -91 2638 -91 \nQ 1578 -91 968 557 \nQ 359 1206 359 2328 \nQ 359 3453 968 4101 \nQ 1578 4750 2638 4750 \nQ 3056 4750 3426 4639 \nQ 3797 4528 4122 4306 \nz\n\" transform=\"scale(0.015625)\"/>\n      </defs>\n      <use xlink:href=\"#DejaVuSans-43\"/>\n      <use xlink:href=\"#DejaVuSans-6c\" x=\"69.824219\"/>\n      <use xlink:href=\"#DejaVuSans-61\" x=\"97.607422\"/>\n      <use xlink:href=\"#DejaVuSans-73\" x=\"158.886719\"/>\n      <use xlink:href=\"#DejaVuSans-73\" x=\"210.986328\"/>\n      <use xlink:href=\"#DejaVuSans-20\" x=\"263.085938\"/>\n      <use xlink:href=\"#DejaVuSans-30\" x=\"294.873047\"/>\n     </g>\n    </g>\n    <g id=\"PathCollection_4\">\n     <g>\n      <use xlink:href=\"#m50c57e311c\" x=\"217.435\" y=\"140.671562\" style=\"fill: #ff7f0e; stroke: #333333\"/>\n     </g>\n    </g>\n    <g id=\"text_19\">\n     <!-- Class 1 -->\n     <g transform=\"translate(235.435 143.296562) scale(0.1 -0.1)\">\n      <use xlink:href=\"#DejaVuSans-43\"/>\n      <use xlink:href=\"#DejaVuSans-6c\" x=\"69.824219\"/>\n      <use xlink:href=\"#DejaVuSans-61\" x=\"97.607422\"/>\n      <use xlink:href=\"#DejaVuSans-73\" x=\"158.886719\"/>\n      <use xlink:href=\"#DejaVuSans-73\" x=\"210.986328\"/>\n      <use xlink:href=\"#DejaVuSans-20\" x=\"263.085938\"/>\n      <use xlink:href=\"#DejaVuSans-31\" x=\"294.873047\"/>\n     </g>\n    </g>\n   </g>\n  </g>\n </g>\n <defs>\n  <clipPath id=\"pa2321ff412\">\n   <rect x=\"58.523438\" y=\"22.318125\" width=\"221.76\" height=\"221.76\"/>\n  </clipPath>\n </defs>\n</svg>\n",
            "application/pdf": "[encoded data removed]"
          },
          "metadata": {}
        }
      ]
    }
  ]
}