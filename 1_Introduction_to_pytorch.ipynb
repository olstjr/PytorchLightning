{
  "nbformat": 4,
  "nbformat_minor": 0,
  "metadata": {
    "colab": {
      "provenance": [],
      "gpuType": "T4",
      "authorship_tag": "ABX9TyNIqmVhSUEzNWe6vA1a3LeP",
      "include_colab_link": true
    },
    "kernelspec": {
      "name": "python3",
      "display_name": "Python 3"
    },
    "language_info": {
      "name": "python"
    },
    "accelerator": "GPU",
    "widgets": {
      "application/vnd.jupyter.widget-state+json": {
        "018f39fb743a4eca865f7c3159d58d20": {
          "model_module": "@jupyter-widgets/controls",
          "model_name": "HBoxModel",
          "model_module_version": "1.5.0",
          "state": {
            "_dom_classes": [],
            "_model_module": "@jupyter-widgets/controls",
            "_model_module_version": "1.5.0",
            "_model_name": "HBoxModel",
            "_view_count": null,
            "_view_module": "@jupyter-widgets/controls",
            "_view_module_version": "1.5.0",
            "_view_name": "HBoxView",
            "box_style": "",
            "children": [
              "IPY_MODEL_254982a994544ccba52630d6e09e90a9",
              "IPY_MODEL_9fb599f1127a40e395ac8e20f349c281",
              "IPY_MODEL_67aba299e3dc415e906e952caaec0a67"
            ],
            "layout": "IPY_MODEL_17bf0763c08b4fc7b7f551f19beb4635"
          }
        },
        "254982a994544ccba52630d6e09e90a9": {
          "model_module": "@jupyter-widgets/controls",
          "model_name": "HTMLModel",
          "model_module_version": "1.5.0",
          "state": {
            "_dom_classes": [],
            "_model_module": "@jupyter-widgets/controls",
            "_model_module_version": "1.5.0",
            "_model_name": "HTMLModel",
            "_view_count": null,
            "_view_module": "@jupyter-widgets/controls",
            "_view_module_version": "1.5.0",
            "_view_name": "HTMLView",
            "description": "",
            "description_tooltip": null,
            "layout": "IPY_MODEL_4d37fa985d7347eb8b0db57054bfc6e9",
            "placeholder": "​",
            "style": "IPY_MODEL_f96a093e0b7d4999beb1f2e5d710c97a",
            "value": "100%"
          }
        },
        "9fb599f1127a40e395ac8e20f349c281": {
          "model_module": "@jupyter-widgets/controls",
          "model_name": "FloatProgressModel",
          "model_module_version": "1.5.0",
          "state": {
            "_dom_classes": [],
            "_model_module": "@jupyter-widgets/controls",
            "_model_module_version": "1.5.0",
            "_model_name": "FloatProgressModel",
            "_view_count": null,
            "_view_module": "@jupyter-widgets/controls",
            "_view_module_version": "1.5.0",
            "_view_name": "ProgressView",
            "bar_style": "success",
            "description": "",
            "description_tooltip": null,
            "layout": "IPY_MODEL_6e70989337914993aef2753a1b506389",
            "max": 100,
            "min": 0,
            "orientation": "horizontal",
            "style": "IPY_MODEL_9ae66eb5a93f455e80d337e60a72e7d5",
            "value": 100
          }
        },
        "67aba299e3dc415e906e952caaec0a67": {
          "model_module": "@jupyter-widgets/controls",
          "model_name": "HTMLModel",
          "model_module_version": "1.5.0",
          "state": {
            "_dom_classes": [],
            "_model_module": "@jupyter-widgets/controls",
            "_model_module_version": "1.5.0",
            "_model_name": "HTMLModel",
            "_view_count": null,
            "_view_module": "@jupyter-widgets/controls",
            "_view_module_version": "1.5.0",
            "_view_name": "HTMLView",
            "description": "",
            "description_tooltip": null,
            "layout": "IPY_MODEL_462e126c1d47474483d29d2ac2e714b7",
            "placeholder": "​",
            "style": "IPY_MODEL_747fb92ce85b4599b5795e5d8f93b0f6",
            "value": " 100/100 [00:02&lt;00:00, 59.87it/s]"
          }
        },
        "17bf0763c08b4fc7b7f551f19beb4635": {
          "model_module": "@jupyter-widgets/base",
          "model_name": "LayoutModel",
          "model_module_version": "1.2.0",
          "state": {
            "_model_module": "@jupyter-widgets/base",
            "_model_module_version": "1.2.0",
            "_model_name": "LayoutModel",
            "_view_count": null,
            "_view_module": "@jupyter-widgets/base",
            "_view_module_version": "1.2.0",
            "_view_name": "LayoutView",
            "align_content": null,
            "align_items": null,
            "align_self": null,
            "border": null,
            "bottom": null,
            "display": null,
            "flex": null,
            "flex_flow": null,
            "grid_area": null,
            "grid_auto_columns": null,
            "grid_auto_flow": null,
            "grid_auto_rows": null,
            "grid_column": null,
            "grid_gap": null,
            "grid_row": null,
            "grid_template_areas": null,
            "grid_template_columns": null,
            "grid_template_rows": null,
            "height": null,
            "justify_content": null,
            "justify_items": null,
            "left": null,
            "margin": null,
            "max_height": null,
            "max_width": null,
            "min_height": null,
            "min_width": null,
            "object_fit": null,
            "object_position": null,
            "order": null,
            "overflow": null,
            "overflow_x": null,
            "overflow_y": null,
            "padding": null,
            "right": null,
            "top": null,
            "visibility": null,
            "width": null
          }
        },
        "4d37fa985d7347eb8b0db57054bfc6e9": {
          "model_module": "@jupyter-widgets/base",
          "model_name": "LayoutModel",
          "model_module_version": "1.2.0",
          "state": {
            "_model_module": "@jupyter-widgets/base",
            "_model_module_version": "1.2.0",
            "_model_name": "LayoutModel",
            "_view_count": null,
            "_view_module": "@jupyter-widgets/base",
            "_view_module_version": "1.2.0",
            "_view_name": "LayoutView",
            "align_content": null,
            "align_items": null,
            "align_self": null,
            "border": null,
            "bottom": null,
            "display": null,
            "flex": null,
            "flex_flow": null,
            "grid_area": null,
            "grid_auto_columns": null,
            "grid_auto_flow": null,
            "grid_auto_rows": null,
            "grid_column": null,
            "grid_gap": null,
            "grid_row": null,
            "grid_template_areas": null,
            "grid_template_columns": null,
            "grid_template_rows": null,
            "height": null,
            "justify_content": null,
            "justify_items": null,
            "left": null,
            "margin": null,
            "max_height": null,
            "max_width": null,
            "min_height": null,
            "min_width": null,
            "object_fit": null,
            "object_position": null,
            "order": null,
            "overflow": null,
            "overflow_x": null,
            "overflow_y": null,
            "padding": null,
            "right": null,
            "top": null,
            "visibility": null,
            "width": null
          }
        },
        "f96a093e0b7d4999beb1f2e5d710c97a": {
          "model_module": "@jupyter-widgets/controls",
          "model_name": "DescriptionStyleModel",
          "model_module_version": "1.5.0",
          "state": {
            "_model_module": "@jupyter-widgets/controls",
            "_model_module_version": "1.5.0",
            "_model_name": "DescriptionStyleModel",
            "_view_count": null,
            "_view_module": "@jupyter-widgets/base",
            "_view_module_version": "1.2.0",
            "_view_name": "StyleView",
            "description_width": ""
          }
        },
        "6e70989337914993aef2753a1b506389": {
          "model_module": "@jupyter-widgets/base",
          "model_name": "LayoutModel",
          "model_module_version": "1.2.0",
          "state": {
            "_model_module": "@jupyter-widgets/base",
            "_model_module_version": "1.2.0",
            "_model_name": "LayoutModel",
            "_view_count": null,
            "_view_module": "@jupyter-widgets/base",
            "_view_module_version": "1.2.0",
            "_view_name": "LayoutView",
            "align_content": null,
            "align_items": null,
            "align_self": null,
            "border": null,
            "bottom": null,
            "display": null,
            "flex": null,
            "flex_flow": null,
            "grid_area": null,
            "grid_auto_columns": null,
            "grid_auto_flow": null,
            "grid_auto_rows": null,
            "grid_column": null,
            "grid_gap": null,
            "grid_row": null,
            "grid_template_areas": null,
            "grid_template_columns": null,
            "grid_template_rows": null,
            "height": null,
            "justify_content": null,
            "justify_items": null,
            "left": null,
            "margin": null,
            "max_height": null,
            "max_width": null,
            "min_height": null,
            "min_width": null,
            "object_fit": null,
            "object_position": null,
            "order": null,
            "overflow": null,
            "overflow_x": null,
            "overflow_y": null,
            "padding": null,
            "right": null,
            "top": null,
            "visibility": null,
            "width": null
          }
        },
        "9ae66eb5a93f455e80d337e60a72e7d5": {
          "model_module": "@jupyter-widgets/controls",
          "model_name": "ProgressStyleModel",
          "model_module_version": "1.5.0",
          "state": {
            "_model_module": "@jupyter-widgets/controls",
            "_model_module_version": "1.5.0",
            "_model_name": "ProgressStyleModel",
            "_view_count": null,
            "_view_module": "@jupyter-widgets/base",
            "_view_module_version": "1.2.0",
            "_view_name": "StyleView",
            "bar_color": null,
            "description_width": ""
          }
        },
        "462e126c1d47474483d29d2ac2e714b7": {
          "model_module": "@jupyter-widgets/base",
          "model_name": "LayoutModel",
          "model_module_version": "1.2.0",
          "state": {
            "_model_module": "@jupyter-widgets/base",
            "_model_module_version": "1.2.0",
            "_model_name": "LayoutModel",
            "_view_count": null,
            "_view_module": "@jupyter-widgets/base",
            "_view_module_version": "1.2.0",
            "_view_name": "LayoutView",
            "align_content": null,
            "align_items": null,
            "align_self": null,
            "border": null,
            "bottom": null,
            "display": null,
            "flex": null,
            "flex_flow": null,
            "grid_area": null,
            "grid_auto_columns": null,
            "grid_auto_flow": null,
            "grid_auto_rows": null,
            "grid_column": null,
            "grid_gap": null,
            "grid_row": null,
            "grid_template_areas": null,
            "grid_template_columns": null,
            "grid_template_rows": null,
            "height": null,
            "justify_content": null,
            "justify_items": null,
            "left": null,
            "margin": null,
            "max_height": null,
            "max_width": null,
            "min_height": null,
            "min_width": null,
            "object_fit": null,
            "object_position": null,
            "order": null,
            "overflow": null,
            "overflow_x": null,
            "overflow_y": null,
            "padding": null,
            "right": null,
            "top": null,
            "visibility": null,
            "width": null
          }
        },
        "747fb92ce85b4599b5795e5d8f93b0f6": {
          "model_module": "@jupyter-widgets/controls",
          "model_name": "DescriptionStyleModel",
          "model_module_version": "1.5.0",
          "state": {
            "_model_module": "@jupyter-widgets/controls",
            "_model_module_version": "1.5.0",
            "_model_name": "DescriptionStyleModel",
            "_view_count": null,
            "_view_module": "@jupyter-widgets/base",
            "_view_module_version": "1.2.0",
            "_view_name": "StyleView",
            "description_width": ""
          }
        }
      }
    }
  },
  "cells": [
    {
      "cell_type": "markdown",
      "metadata": {
        "id": "view-in-github",
        "colab_type": "text"
      },
      "source": [
        "<a href=\"https://colab.research.google.com/github/olstjr/PytorchLightning/blob/tutorial/1_Introduction_to_pytorch.ipynb\" target=\"_parent\"><img src=\"https://colab.research.google.com/assets/colab-badge.svg\" alt=\"Open In Colab\"/></a>"
      ]
    },
    {
      "cell_type": "code",
      "source": [
        "#ctrl + F9 = 모든 셀 실행\n",
        "#특정 셀 선택 후 shift + Enter = 해당 셀 부터 실행"
      ],
      "metadata": {
        "id": "aAgiGub9Te4G"
      },
      "execution_count": 1,
      "outputs": []
    },
    {
      "cell_type": "code",
      "execution_count": 2,
      "metadata": {
        "colab": {
          "base_uri": "https://localhost:8080/",
          "height": 93
        },
        "id": "VowS-LqlcJ6A",
        "outputId": "aeea945c-f78c-4859-c935-53b5e67dc123"
      },
      "outputs": [
        {
          "output_type": "stream",
          "name": "stdout",
          "text": [
            "\u001b[2K   \u001b[90m━━━━━━━━━━━━━━━━━━━━━━━━━━━━━━━━━━━━━━━━\u001b[0m \u001b[32m727.7/727.7 kB\u001b[0m \u001b[31m3.6 MB/s\u001b[0m eta \u001b[36m0:00:00\u001b[0m\n",
            "\u001b[2K   \u001b[90m━━━━━━━━━━━━━━━━━━━━━━━━━━━━━━━━━━━━━━━━\u001b[0m \u001b[32m927.3/927.3 kB\u001b[0m \u001b[31m23.6 MB/s\u001b[0m eta \u001b[36m0:00:00\u001b[0m\n",
            "\u001b[?25h"
          ]
        },
        {
          "output_type": "execute_result",
          "data": {
            "text/plain": [
              "'matplotlib>=3.0.0, <3.9.0matplotliblightning>=2.0.0setuptools>=68.0.0, <68.3.0'"
            ],
            "application/vnd.google.colaboratory.intrinsic+json": {
              "type": "string"
            }
          },
          "metadata": {},
          "execution_count": 2
        }
      ],
      "source": [
        "! pip install --quiet \"pytorch-lightning>=1.4, <2.1.0\" \"urllib3\"\n",
        "\"ipython[notebook]>=8.0.0, <8.17.0\" \"torchmetrics>=0.7, <1.3\" \"torch>=1.8.1,<2.1.0\"\n",
        "\"matplotlib>=3.0.0, <3.9.0\" \"matplotlib\" \"lightning>=2.0.0\" \"setuptools>=68.0.0, <68.3.0\""
      ]
    },
    {
      "cell_type": "code",
      "source": [
        "import time\n",
        "\n",
        "import matplotlib.pyplot as plt\n",
        "\n",
        "%matplotlib inline\n",
        "import matplotlib_inline.backend_inline\n",
        "import numpy as np\n",
        "import torch\n",
        "import torch.nn as nn\n",
        "import torch.utils.data as data\n",
        "from matplotlib.colors import to_rgba\n",
        "from torch import Tensor\n",
        "from tqdm.notebook import tqdm  # Progress bar\n",
        "\n",
        "matplotlib_inline.backend_inline.set_matplotlib_formats(\"svg\", \"pdf\")  # For export\n",
        "##코랩에 이미 설치 완료된듯."
      ],
      "metadata": {
        "id": "2FCdyHLWf0dD"
      },
      "execution_count": 3,
      "outputs": []
    },
    {
      "cell_type": "code",
      "source": [
        "#The basic of pytorch\n",
        "\n",
        "print(\"Using torch\", torch.__version__) #version check\n",
        "#코드가 최신일 경우 수정필요 x"
      ],
      "metadata": {
        "colab": {
          "base_uri": "https://localhost:8080/"
        },
        "id": "aKV73to4f-sH",
        "outputId": "8c70a8b9-3d51-4865-a1c2-5277bc373dc5"
      },
      "execution_count": 4,
      "outputs": [
        {
          "output_type": "stream",
          "name": "stdout",
          "text": [
            "Using torch 2.5.1+cu121\n"
          ]
        }
      ]
    },
    {
      "cell_type": "code",
      "source": [
        "#정확히 동일한 난수로 코드를 재현할 수 있도록 시드설정\n",
        "torch.manual_seed(42)  # Setting the seed"
      ],
      "metadata": {
        "colab": {
          "base_uri": "https://localhost:8080/"
        },
        "id": "W2-FOtRLgQfb",
        "outputId": "d6fc4eda-4c19-40ab-ef53-75597beec2f0"
      },
      "execution_count": 5,
      "outputs": [
        {
          "output_type": "execute_result",
          "data": {
            "text/plain": [
              "<torch._C.Generator at 0x7f12e1f91170>"
            ]
          },
          "metadata": {},
          "execution_count": 5
        }
      ]
    },
    {
      "cell_type": "code",
      "source": [
        "#Tensors\n",
        "\n",
        "#텐서란 numpy 배열과 동일한 pytorch(+gpu가속을 지원) / 벡터는 1차원 텐서 / 행렬은 2차원 텐서\n",
        "\n",
        "#초기화_텐서 만드는 법\n",
        "torch.zeros\n",
        "x = torch.randn(2, 3, 4) # x = Tensor(2,3,4)로도 가능, 이 경우 난수로 채워지는듯.\n",
        "print(x) ##형태가 중요한듯"
      ],
      "metadata": {
        "colab": {
          "base_uri": "https://localhost:8080/"
        },
        "id": "j3EP4woUgQkX",
        "outputId": "0f033da3-8c65-44f5-d9c9-dac10053794d"
      },
      "execution_count": 55,
      "outputs": [
        {
          "output_type": "stream",
          "name": "stdout",
          "text": [
            "tensor([[[ 0.1465,  1.0353, -0.5335,  1.3006],\n",
            "         [-0.2374,  1.4307,  0.9443,  1.9077],\n",
            "         [-0.0701, -0.9624,  0.3315, -1.9415]],\n",
            "\n",
            "        [[ 0.5244, -0.0061, -0.7558, -0.4353],\n",
            "         [-1.2347,  0.1477,  2.0625, -0.2008],\n",
            "         [-0.5542,  1.5810, -0.3432,  0.4406]]])\n"
          ]
        }
      ]
    },
    {
      "cell_type": "code",
      "source": [
        "# Create a tensor from a (nested) list\n",
        "x = Tensor([[1, 2], [3, 4]])\n",
        "print(x)"
      ],
      "metadata": {
        "colab": {
          "base_uri": "https://localhost:8080/"
        },
        "id": "mmUbuigIhqim",
        "outputId": "7fecb5d4-f7ed-42aa-f801-1655e08e7fbc"
      },
      "execution_count": 7,
      "outputs": [
        {
          "output_type": "stream",
          "name": "stdout",
          "text": [
            "tensor([[1., 2.],\n",
            "        [3., 4.]])\n"
          ]
        }
      ]
    },
    {
      "cell_type": "code",
      "source": [
        "# Create a tensor with random values between 0 and 1 with the shape [2, 3, 4]\n",
        "x = torch.rand(2, 3, 4)\n",
        "print(x)"
      ],
      "metadata": {
        "colab": {
          "base_uri": "https://localhost:8080/"
        },
        "id": "q6eggivfjCcY",
        "outputId": "d2dd9b49-563d-40c8-ef8e-8874808ed5ef"
      },
      "execution_count": 8,
      "outputs": [
        {
          "output_type": "stream",
          "name": "stdout",
          "text": [
            "tensor([[[0.8823, 0.9150, 0.3829, 0.9593],\n",
            "         [0.3904, 0.6009, 0.2566, 0.7936],\n",
            "         [0.9408, 0.1332, 0.9346, 0.5936]],\n",
            "\n",
            "        [[0.8694, 0.5677, 0.7411, 0.4294],\n",
            "         [0.8854, 0.5739, 0.2666, 0.6274],\n",
            "         [0.2696, 0.4414, 0.2969, 0.8317]]])\n"
          ]
        }
      ]
    },
    {
      "cell_type": "code",
      "source": [
        "#텐서의 모양 얻기 - .shape 또는 .size\n",
        "\n",
        "shape = x.shape\n",
        "print(\"Shape:\", x.shape)\n",
        "\n",
        "size = x.size()\n",
        "print(\"Size:\", size)\n",
        "\n",
        "dim1, dim2, dim3 = x.size()\n",
        "print(\"Size:\", dim1, dim2, dim3)"
      ],
      "metadata": {
        "colab": {
          "base_uri": "https://localhost:8080/"
        },
        "id": "FH2_yXEYjomJ",
        "outputId": "8eece073-b2f5-422f-d8e3-e20095ebb3e9"
      },
      "execution_count": 9,
      "outputs": [
        {
          "output_type": "stream",
          "name": "stdout",
          "text": [
            "Shape: torch.Size([2, 3, 4])\n",
            "Size: torch.Size([2, 3, 4])\n",
            "Size: 2 3 4\n"
          ]
        }
      ]
    },
    {
      "cell_type": "code",
      "source": [
        "#Tensor <- numpy - torch.from_numpy\n",
        "np_arr = np.array([[1, 2], [3, 4]])\n",
        "tensor = torch.from_numpy(np_arr)\n",
        "\n",
        "print(\"Numpy array:\", np_arr)\n",
        "print(\"PyTorch tensor:\", tensor)\n",
        "\n",
        "\n",
        "#Tensor -> numpy - .numpy() / 텐서를 넘파이로 변환하려면 텐서가 gpu가 아닌 cpu에 있어야 함. (.cpu()활용), 근데 자동으로 될때도 있음.\n",
        "tensor= torch.arange(4)\n",
        "np_arr = tensor.numpy()\n",
        "\n",
        "print(\"Pytorch tensor:\", tensor)\n",
        "print(\"Numpy array:\", np_arr)"
      ],
      "metadata": {
        "id": "YVwq0yKJoX9e",
        "colab": {
          "base_uri": "https://localhost:8080/"
        },
        "outputId": "4fe795da-0d3e-4e1c-f938-4168377ec7a1"
      },
      "execution_count": 10,
      "outputs": [
        {
          "output_type": "stream",
          "name": "stdout",
          "text": [
            "Numpy array: [[1 2]\n",
            " [3 4]]\n",
            "PyTorch tensor: tensor([[1, 2],\n",
            "        [3, 4]])\n",
            "Pytorch tensor: tensor([0, 1, 2, 3])\n",
            "Numpy array: [0 1 2 3]\n"
          ]
        }
      ]
    },
    {
      "cell_type": "code",
      "source": [
        "#연산 - numpy에 존재하는 대부분의 연산은 Pytorch에도 존재함\n",
        "x1 = torch.rand(2, 3)\n",
        "x2 = torch.rand(2, 3)\n",
        "y = x1 + x2\n",
        "\n",
        "print(\"X1\", x1)\n",
        "print(\"X2\", x2)\n",
        "print(\"Y\", y)"
      ],
      "metadata": {
        "colab": {
          "base_uri": "https://localhost:8080/"
        },
        "id": "qMXHCWvwpp95",
        "outputId": "3fda63d1-4f8a-4217-c832-3d0862b0bc12"
      },
      "execution_count": 56,
      "outputs": [
        {
          "output_type": "stream",
          "name": "stdout",
          "text": [
            "X1 tensor([[0.2211, 0.9667, 0.4186],\n",
            "        [0.3249, 0.1045, 0.8198]])\n",
            "X2 tensor([[0.3042, 0.4325, 0.4117],\n",
            "        [0.2295, 0.1562, 0.1330]])\n",
            "Y tensor([[0.5253, 1.3992, 0.8304],\n",
            "        [0.5544, 0.2607, 0.9528]])\n"
          ]
        }
      ]
    },
    {
      "cell_type": "code",
      "source": [
        "x1 = torch.rand(2, 3)\n",
        "x2 = torch.rand(2, 3)\n",
        "print(\"X1 (before)\", x1)\n",
        "print(\"X2 (before)\", x2)\n",
        "\n",
        "x2.add_(x1) # in-place operation =  _활용 / 연산전의 x2값에 다시 접근 불가능\n",
        "print(\"X1 (after)\", x1)\n",
        "print(\"X2 (after)\", x2)"
      ],
      "metadata": {
        "colab": {
          "base_uri": "https://localhost:8080/"
        },
        "id": "RkFyA8j3qSfF",
        "outputId": "9aa9947e-d02e-4aaa-96ac-ed91ff3dd510"
      },
      "execution_count": 12,
      "outputs": [
        {
          "output_type": "stream",
          "name": "stdout",
          "text": [
            "X1 (before) tensor([[0.5779, 0.9040, 0.5547],\n",
            "        [0.3423, 0.6343, 0.3644]])\n",
            "X2 (before) tensor([[0.7104, 0.9464, 0.7890],\n",
            "        [0.2814, 0.7886, 0.5895]])\n",
            "X1 (after) tensor([[0.5779, 0.9040, 0.5547],\n",
            "        [0.3423, 0.6343, 0.3644]])\n",
            "X2 (after) tensor([[1.2884, 1.8504, 1.3437],\n",
            "        [0.6237, 1.4230, 0.9539]])\n"
          ]
        }
      ]
    },
    {
      "cell_type": "code",
      "source": [
        "#일반적인 연산은 텐서의 모양을 변경하는 것을 목표로 함.\n",
        "x = torch.arange(6)\n",
        "print(\"X\", x)\n",
        "\n",
        "x = x.view(2,3) #행,열의 순서\n",
        "print(\"X\", x)\n",
        "\n",
        "x = x.permute(1,0) #0차원과 1차원을 교환 - 직관적이진 않음. 모양으로 이해.\n",
        "print(\"X\", x)"
      ],
      "metadata": {
        "colab": {
          "base_uri": "https://localhost:8080/"
        },
        "id": "Bu2HUSykq6bK",
        "outputId": "4ff5cf37-c31d-4a59-ff71-f59bd1d0d60f"
      },
      "execution_count": 58,
      "outputs": [
        {
          "output_type": "stream",
          "name": "stdout",
          "text": [
            "X tensor([0, 1, 2, 3, 4, 5])\n",
            "X tensor([[0, 1, 2],\n",
            "        [3, 4, 5]])\n",
            "X tensor([[0, 3],\n",
            "        [1, 4],\n",
            "        [2, 5]])\n"
          ]
        }
      ]
    },
    {
      "cell_type": "code",
      "source": [
        "#신경망에 필수적인 행렬곱셈 - torch.(matmul/mm/bmm/einsum...)\n",
        "#주로matmul 또는 bmm 을 사용\n",
        "\n",
        "#matmul\n",
        "x = torch.arange(6)\n",
        "x = x.view(2, 3)\n",
        "print(\"X\", x)\n",
        "\n",
        "W = torch.arange(9).view(3, 3)  # We can also stack multiple operations in a single line\n",
        "print(\"W\", W)\n",
        "\n",
        "h = torch.matmul(x, W)  # Verify the result by calculating it by hand too!\n",
        "print(\"h\", h)"
      ],
      "metadata": {
        "colab": {
          "base_uri": "https://localhost:8080/"
        },
        "id": "3r6q4EvKquf5",
        "outputId": "61d0683c-4ef6-4dd5-f3ad-5105fab6311c"
      },
      "execution_count": 59,
      "outputs": [
        {
          "output_type": "stream",
          "name": "stdout",
          "text": [
            "X tensor([[0, 1, 2],\n",
            "        [3, 4, 5]])\n",
            "W tensor([[0, 1, 2],\n",
            "        [3, 4, 5],\n",
            "        [6, 7, 8]])\n",
            "h tensor([[15, 18, 21],\n",
            "        [42, 54, 66]])\n"
          ]
        }
      ]
    },
    {
      "cell_type": "code",
      "source": [
        "#tensor indexing(선택)\n",
        "\n",
        "x = torch.arange(12).view(3, 4)\n",
        "print(\"X\", x)\n",
        "\n",
        "print(x[:, 1])  # Second column\n",
        "print(x[0]) #First row\n",
        "\n",
        "print(x[:2,-1]) #First two rows, last column\n",
        "print(x[1:3, :])"
      ],
      "metadata": {
        "colab": {
          "base_uri": "https://localhost:8080/"
        },
        "id": "UHa7kamdu7HQ",
        "outputId": "4e047dde-70e2-411a-8da6-a1ed8e44bfb7"
      },
      "execution_count": 15,
      "outputs": [
        {
          "output_type": "stream",
          "name": "stdout",
          "text": [
            "X tensor([[ 0,  1,  2,  3],\n",
            "        [ 4,  5,  6,  7],\n",
            "        [ 8,  9, 10, 11]])\n",
            "tensor([1, 5, 9])\n",
            "tensor([0, 1, 2, 3])\n",
            "tensor([3, 7])\n",
            "tensor([[ 4,  5,  6,  7],\n",
            "        [ 8,  9, 10, 11]])\n"
          ]
        }
      ]
    },
    {
      "cell_type": "code",
      "source": [
        "#Dynamic Computation Graph and Backpropagation\n",
        "\n",
        "#어떤 텐서가 그래디언트를 필요로 하는지 지정/기본적으로, 텐서를 생성할때 그래디언트 필요x\n",
        "\n",
        "x = torch.ones((3,))\n",
        "print(x.requires_grad)\n",
        "\n",
        "#함수를 사용하여 기존텐서에 대해 변경\n",
        "x.requires_grad_(True) #_indicating that this is a in-place operation\n",
        "print(x.requires_grad)"
      ],
      "metadata": {
        "colab": {
          "base_uri": "https://localhost:8080/"
        },
        "id": "I7bnoqhPxFWT",
        "outputId": "aeb814db-3cf6-4c57-95d9-1d826438c936"
      },
      "execution_count": 16,
      "outputs": [
        {
          "output_type": "stream",
          "name": "stdout",
          "text": [
            "False\n",
            "True\n"
          ]
        }
      ]
    },
    {
      "cell_type": "code",
      "source": [
        "#특정 함수에대한 계산그래프 만들기 / x매개변수 투입, 출력을 최적화, 기울기를 얻고싶음\n",
        "\n",
        "x = torch.arange(3, dtype=torch.float32, requires_grad=True) #only float tensors can have gradients\n",
        "print(\"X\", x)\n",
        "\n",
        "a = x + 2\n",
        "b = a ** 2\n",
        "c = b + 3\n",
        "y = c.mean() #mean() - 평균계산\n",
        "print(\"Y\", y) #grad_fn에서 볼 수 있듯이, 계산그래프의 각 노드는 입력에 대한 그래디언트를 계산하기 위한 함수를 자동으로 정의\n",
        "\n",
        "\n",
        "#역전파\n",
        "y.backward() #이제 그래디언트가 포함됨.\n",
        "print(x.grad) #수동계산결과와 일치"
      ],
      "metadata": {
        "colab": {
          "base_uri": "https://localhost:8080/"
        },
        "id": "5zuyCn4HziHx",
        "outputId": "e59fd043-79fe-41db-8bc7-e1f3eb91623c"
      },
      "execution_count": 17,
      "outputs": [
        {
          "output_type": "stream",
          "name": "stdout",
          "text": [
            "X tensor([0., 1., 2.], requires_grad=True)\n",
            "Y tensor(12.6667, grad_fn=<MeanBackward0>)\n",
            "tensor([1.3333, 2.0000, 2.6667])\n"
          ]
        }
      ]
    },
    {
      "cell_type": "code",
      "source": [
        "gpu_avail = torch.cuda.is_available()\n",
        "print(f\"Is the GPU available? {gpu_avail}\")"
      ],
      "metadata": {
        "id": "Uaj4pSwBzrLs",
        "colab": {
          "base_uri": "https://localhost:8080/"
        },
        "outputId": "ac9ba61f-67cc-4cd8-95a1-e94bb7c12395"
      },
      "execution_count": 18,
      "outputs": [
        {
          "output_type": "stream",
          "name": "stdout",
          "text": [
            "Is the GPU available? True\n"
          ]
        }
      ]
    },
    {
      "cell_type": "code",
      "source": [
        "#기본적으로, 생성한 모든 텐서는 cpu에 저장됨. 함수를 사용하여 gpu에 푸시 가능\n",
        "#gpu가 있으면 gpu를 사용하도록하는 장치설정 코드\n",
        "\n",
        "device = torch.device(\"cuda\") if torch.cuda.is_available() else torch.device(\"cpu\")\n",
        "print(\"Device\", device)\n",
        "\n",
        "#텐서를 생성하여 장치에 푸시\n",
        "x = torch.zeros(2, 3)\n",
        "x = x.to(device)\n",
        "print(\"X\", x)"
      ],
      "metadata": {
        "colab": {
          "base_uri": "https://localhost:8080/"
        },
        "id": "-pcKIpw2cHmW",
        "outputId": "a0705191-47e2-44fd-ffed-21d7651d18d6"
      },
      "execution_count": 19,
      "outputs": [
        {
          "output_type": "stream",
          "name": "stdout",
          "text": [
            "Device cuda\n",
            "X tensor([[0., 0., 0.],\n",
            "        [0., 0., 0.]], device='cuda:0')\n"
          ]
        }
      ]
    },
    {
      "cell_type": "code",
      "source": [
        "#cpu에서 큰 행렬 곱셈의 런타임을 gpu에서 비교\n",
        "\n",
        "x = torch.randn(5000, 5000)\n",
        "\n",
        "# CPU version\n",
        "start_time = time.time()\n",
        "_ = torch.matmul(x, x)\n",
        "end_time = time.time()\n",
        "print(f\"CPU time: {(end_time - start_time):6.5f}s\")\n",
        "\n",
        "# GPU version\n",
        "if torch.cuda.is_available():\n",
        "    x = x.to(device)\n",
        "    # CUDA is asynchronous, so we need to use different timing functions\n",
        "    start = torch.cuda.Event(enable_timing=True)\n",
        "    end = torch.cuda.Event(enable_timing=True)\n",
        "    start.record()\n",
        "    _ = torch.matmul(x, x)\n",
        "    end.record()\n",
        "    torch.cuda.synchronize()  # Waits for everything to finish running on the GPU\n",
        "    print(f\"GPU time: {0.001 * start.elapsed_time(end):6.5f}s\")  # Milliseconds to seconds\n",
        "    #솔직히 cpu에 비해 구조는 잘 모르겠지만 일단 넘어감."
      ],
      "metadata": {
        "colab": {
          "base_uri": "https://localhost:8080/"
        },
        "id": "dLRyCEGnc5so",
        "outputId": "b544f188-d1a4-47d4-ecd3-138a5a6676a5"
      },
      "execution_count": 20,
      "outputs": [
        {
          "output_type": "stream",
          "name": "stdout",
          "text": [
            "CPU time: 3.70345s\n",
            "GPU time: 0.33141s\n"
          ]
        }
      ]
    },
    {
      "cell_type": "code",
      "source": [
        "#난수를 생성할때 cpu와gpu간의시드는 동기화 되지 않음.\n",
        "#따라서, 재현 가능한 코드를 보장하기 위해 gpu에 별도로 시드를 설정해야 함.\n",
        "\n",
        "# GPU operations have a separate seed we also want to set\n",
        "if torch.cuda.is_available():\n",
        "    torch.cuda.manual_seed(42)\n",
        "    torch.cuda.manual_seed_all(42)\n",
        "\n",
        "# Additionally, some operations on a GPU are implemented stochastic for efficiency\n",
        "# We want to ensure that all operations are deterministic on GPU (if used) for reproducibility\n",
        "torch.backends.cudnn.deterministic = True\n",
        "torch.backends.cudnn.benchmark = False"
      ],
      "metadata": {
        "id": "EqFQjpERdus6"
      },
      "execution_count": 21,
      "outputs": []
    },
    {
      "cell_type": "code",
      "source": [
        "#Pytorch에서 신경망을 구축하려면 Tensors(with requires_grad=True)를 사용하여 모든 매개변수를 지정하고\n",
        "#기울기를 계산하게 한 다음 매개변수를 조정할 수 있다.\n",
        "#Pytorch에는 신경망을 더 편리하게 구축할 수 있는 torch.nn패키지가 있다.\n",
        "\n",
        "#torch.nn 패키지는 선형네트워크 계층, 활성화 함수, 손실함수 등과 같은 일련의 유옹한 클래스를 정의함.\n",
        "#따라서, 패키지에 이미 해당코드가 포함되어 있을 가능성이 높음\n",
        "\n",
        "#torch.nn .functional은 네트워크 계층에서 사용되는 함수를 포함하며,\n",
        "#이는 torch.nn에서 nn.Modules로 정의하는 것과 대조적이며 실제로 torch.nn.functional에서 많은 기능을 사용한다.\n",
        "\n",
        "#nn.Module - Pytorch에서, 신경망은 모듈로 구성 / 모듈은 다른 모듈을 포함할 수 있다. / 신경망은 모듈 자체로도 간주\n",
        "\n",
        "class MyModule(nn.Module):   #nn.Module은 이미 파이토치에 정의되어 있는 모듈.\n",
        "    def __init__(self):\n",
        "        super().__init__()   #부모클래스nn.Module 의 초기화 매서드를 호출, 부모클래스에서 필요한 모든 설정이 완료되도록 함.\n",
        "        # Some init for my module\n",
        "\n",
        "    def forward(self, x):\n",
        "        # Function for performing the calculation of the module.\n",
        "        pass\n",
        "\n",
        "#init함수에서, 우리는 일반적으로 forward함수에서 사용되는 다른 모듈을 정의하거나\n",
        "#nn.Parameter을 사용하여 모듈의 파라미터를 만든다.\n",
        "#backward계산은 자동으로 수행되지만 원하는 경우 덮어쓸 수도 있음."
      ],
      "metadata": {
        "id": "OUG3R9TWeYDV"
      },
      "execution_count": 22,
      "outputs": []
    },
    {
      "cell_type": "code",
      "source": [
        "#Simple Classifier\n",
        "\n",
        "class SimpleClassifier(nn.Module):\n",
        "    def __init__(self, num_inputs, num_hidden, num_outputs):\n",
        "        super().__init__()\n",
        "        # Initialize the modules we need to build the network\n",
        "        self.linear1 = nn.Linear(num_inputs, num_hidden)\n",
        "        self.act_fn = nn.Tanh() #활성함수\n",
        "        self.linear2 = nn.Linear(num_hidden, num_outputs)\n",
        "\n",
        "    def forward(self, x):\n",
        "        # Perform the calculation of the model to determine the prediction\n",
        "        x = self.linear1(x)\n",
        "        x = self.act_fn(x)\n",
        "        x = self.linear2(x)\n",
        "        return x"
      ],
      "metadata": {
        "id": "IhWh3h9srja8"
      },
      "execution_count": 23,
      "outputs": []
    },
    {
      "cell_type": "code",
      "source": [
        "model = SimpleClassifier(num_inputs=2, num_hidden=4, num_outputs=1)\n",
        "#printing a module shows all its submodules\n",
        "print(model)"
      ],
      "metadata": {
        "id": "_bsUyAxUtwrh",
        "colab": {
          "base_uri": "https://localhost:8080/"
        },
        "outputId": "08669c14-ce00-426d-dfa3-7f87088c50ce"
      },
      "execution_count": 24,
      "outputs": [
        {
          "output_type": "stream",
          "name": "stdout",
          "text": [
            "SimpleClassifier(\n",
            "  (linear1): Linear(in_features=2, out_features=4, bias=True)\n",
            "  (act_fn): Tanh()\n",
            "  (linear2): Linear(in_features=4, out_features=1, bias=True)\n",
            ")\n"
          ]
        }
      ]
    },
    {
      "cell_type": "code",
      "source": [
        "#모듈의 매개변수는 parameters()함수를 사용하거나 named_parameters()를 사용하여 각 매개변수 객체에 이름을 지정하여 얻을 수 있다.\n",
        "\n",
        "for name, param in model.named_parameters():\n",
        "    print(f\"Parameter {name}, shape {param.shape}\")"
      ],
      "metadata": {
        "colab": {
          "base_uri": "https://localhost:8080/"
        },
        "id": "Laydk70FRxtj",
        "outputId": "47615db4-2d25-4aab-f825-cd08244e2b00"
      },
      "execution_count": 25,
      "outputs": [
        {
          "output_type": "stream",
          "name": "stdout",
          "text": [
            "Parameter linear1.weight, shape torch.Size([4, 2])\n",
            "Parameter linear1.bias, shape torch.Size([4])\n",
            "Parameter linear2.weight, shape torch.Size([1, 4])\n",
            "Parameter linear2.bias, shape torch.Size([1])\n"
          ]
        }
      ]
    },
    {
      "cell_type": "code",
      "source": [
        "#the data\n",
        "#파이토치는 학습 및 테스트 데이터를 효율적으로 로드하기 위한 몇 가지 기능을 제공 - torch.utils.data\n",
        "\n",
        "#파이토치에서 데이터를 처리하기 위한 두개의 클래스 정의\n",
        "#data.Dataset - 학습/테스트 데이터에 액세스하기 위한 균일한 인터페이스를 제공\n",
        "#data.DataLoader - 학습 중에 데이터 세트에서 데이터 포인트를 배치로 효율적으로 로드하고 스택\n",
        "\n",
        "#파이토치에서 데이터 세트를 정의하려면 두 가지 함수 __getitem__ / __len__ 를 지정해야함.\n",
        "\n",
        "\n",
        "#데이터 세트 클래스 정의\n",
        "class XORDataset(data.Dataset):\n",
        "    def __init__(self, size, std=0.1):\n",
        "        \"\"\"XORDataset.\n",
        "\n",
        "        Args:\n",
        "            size: Number of data points we want to generate\n",
        "            std: Standard deviation of the noise (see generate_continuous_xor function)\n",
        "\n",
        "        \"\"\"\n",
        "        super().__init__()\n",
        "        self.size = size\n",
        "        self.std = std\n",
        "        self.generate_continuous_xor()\n",
        "\n",
        "    def generate_continuous_xor(self):\n",
        "        # Each data point in the XOR dataset has two variables, x and y, that can be either 0 or 1\n",
        "        # The label is their XOR combination, i.e. 1 if only x or only y is 1 while the other is 0.\n",
        "        # If x=y, the label is 0.\n",
        "        data = torch.randint(low=0, high=2, size=(self.size, 2), dtype=torch.float32) #주어진 범위내의 난수 생성/2차원 벡터로 표현\n",
        "        label = (data.sum(dim=1) == 1).to(torch.long)\n",
        "        #XOR연산에 따라 레이블 형성 / 두 입력이 다를때 1 (두 값을 더해서 1이 될때 레이블을 1로 설정)\n",
        "        # To make it slightly more challenging, we add a bit of gaussian noise to the data points.\n",
        "        data += self.std * torch.randn(data.shape) #가우시안 노이즈 추가\n",
        "\n",
        "        self.data = data\n",
        "        self.label = label\n",
        "\n",
        "    def __len__(self):\n",
        "        # Number of data point we have. Alternatively self.data.shape[0], or self.label.shape[0]\n",
        "        return self.size\n",
        "\n",
        "    def __getitem__(self, idx):\n",
        "        # Return the idx-th data point of the dataset\n",
        "        # If we have multiple things to return (data point and label), we can return them as tuple\n",
        "        data_point = self.data[idx]\n",
        "        data_label = self.label[idx]\n",
        "        return data_point, data_label\n"
      ],
      "metadata": {
        "id": "LGJ3mmoTSjQt"
      },
      "execution_count": 26,
      "outputs": []
    },
    {
      "cell_type": "code",
      "source": [
        "dataset = XORDataset(size=200)\n",
        "print(\"Size of dataset:\", len(dataset))\n",
        "print(\"Data point 0:\", dataset[0])"
      ],
      "metadata": {
        "colab": {
          "base_uri": "https://localhost:8080/"
        },
        "id": "YmkMbXW7ZTQD",
        "outputId": "f1af641e-aba6-4375-a2ae-de287b501242"
      },
      "execution_count": 27,
      "outputs": [
        {
          "output_type": "stream",
          "name": "stdout",
          "text": [
            "Size of dataset: 200\n",
            "Data point 0: (tensor([0.9632, 0.1117]), tensor(1))\n"
          ]
        }
      ]
    },
    {
      "cell_type": "code",
      "source": [
        "#데이터 세트와 더 잘 연관시키기 위해 아래 샘플을 시각화\n",
        "def visualize_samples(data, label):\n",
        "    if isinstance(data, Tensor):\n",
        "        data = data.cpu().numpy()\n",
        "    if isinstance(label, Tensor):\n",
        "        label = label.cpu().numpy()\n",
        "    data_0 = data[label == 0]\n",
        "    data_1 = data[label == 1]\n",
        "\n",
        "    plt.figure(figsize=(4, 4))\n",
        "    plt.scatter(data_0[:, 0], data_0[:, 1], edgecolor=\"#333\", label=\"Class 0\")\n",
        "    plt.scatter(data_1[:, 0], data_1[:, 1], edgecolor=\"#333\", label=\"Class 1\")\n",
        "    plt.title(\"Dataset samples\")\n",
        "    plt.ylabel(r\"$x_2$\")\n",
        "    plt.xlabel(r\"$x_1$\")\n",
        "    plt.legend()"
      ],
      "metadata": {
        "id": "a4IR4H3YZf1P"
      },
      "execution_count": 28,
      "outputs": []
    },
    {
      "cell_type": "code",
      "source": [
        "visualize_samples(dataset.data, dataset.label)\n",
        "plt.show()"
      ],
      "metadata": {
        "colab": {
          "base_uri": "https://localhost:8080/",
          "height": 395
        },
        "id": "WKlUIT37aL7K",
        "outputId": "d58cc565-acfe-4e5e-e00e-3f766f1f9dc5"
      },
      "execution_count": 29,
      "outputs": [
        {
          "output_type": "display_data",
          "data": {
            "text/plain": [
              "<Figure size 400x400 with 1 Axes>"
            ],
            "image/svg+xml": "<?xml version=\"1.0\" encoding=\"utf-8\" standalone=\"no\"?>\n<!DOCTYPE svg PUBLIC \"-//W3C//DTD SVG 1.1//EN\"\n  \"http://www.w3.org/Graphics/SVG/1.1/DTD/svg11.dtd\">\n<svg xmlns:xlink=\"http://www.w3.org/1999/xlink\" width=\"288.985258pt\" height=\"281.634375pt\" viewBox=\"0 0 288.985258 281.634375\" xmlns=\"http://www.w3.org/2000/svg\" version=\"1.1\">\n <metadata>\n  <rdf:RDF xmlns:dc=\"http://purl.org/dc/elements/1.1/\" xmlns:cc=\"http://creativecommons.org/ns#\" xmlns:rdf=\"http://www.w3.org/1999/02/22-rdf-syntax-ns#\">\n   <cc:Work>\n    <dc:type rdf:resource=\"http://purl.org/dc/dcmitype/StillImage\"/>\n    <dc:date>2025-01-03T05:23:51.585973</dc:date>\n    <dc:format>image/svg+xml</dc:format>\n    <dc:creator>\n     <cc:Agent>\n      <dc:title>Matplotlib v3.8.0, https://matplotlib.org/</dc:title>\n     </cc:Agent>\n    </dc:creator>\n   </cc:Work>\n  </rdf:RDF>\n </metadata>\n <defs>\n  <style type=\"text/css\">*{stroke-linejoin: round; stroke-linecap: butt}</style>\n </defs>\n <g id=\"figure_1\">\n  <g id=\"patch_1\">\n   <path d=\"M 0 281.634375 \nL 288.985258 281.634375 \nL 288.985258 0 \nL 0 0 \nz\n\" style=\"fill: #ffffff\"/>\n  </g>\n  <g id=\"axes_1\">\n   <g id=\"patch_2\">\n    <path d=\"M 52.160938 244.078125 \nL 275.360937 244.078125 \nL 275.360937 22.318125 \nL 52.160938 22.318125 \nz\n\" style=\"fill: #ffffff\"/>\n   </g>\n   <g id=\"PathCollection_1\">\n    <defs>\n     <path id=\"m1f93c9707d\" d=\"M 0 3 \nC 0.795609 3 1.55874 2.683901 2.12132 2.12132 \nC 2.683901 1.55874 3 0.795609 3 0 \nC 3 -0.795609 2.683901 -1.55874 2.12132 -2.12132 \nC 1.55874 -2.683901 0.795609 -3 0 -3 \nC -0.795609 -3 -1.55874 -2.683901 -2.12132 -2.12132 \nC -2.683901 -1.55874 -3 -0.795609 -3 0 \nC -3 0.795609 -2.683901 1.55874 -2.12132 2.12132 \nC -1.55874 2.683901 -0.795609 3 0 3 \nz\n\" style=\"stroke: #333333\"/>\n    </defs>\n    <g clip-path=\"url(#pe4139a7146)\">\n     <use xlink:href=\"#m1f93c9707d\" x=\"96.31168\" y=\"196.722839\" style=\"fill: #1f77b4; stroke: #333333\"/>\n     <use xlink:href=\"#m1f93c9707d\" x=\"232.057657\" y=\"62.936312\" style=\"fill: #1f77b4; stroke: #333333\"/>\n     <use xlink:href=\"#m1f93c9707d\" x=\"258.979442\" y=\"64.604217\" style=\"fill: #1f77b4; stroke: #333333\"/>\n     <use xlink:href=\"#m1f93c9707d\" x=\"108.913368\" y=\"208.027289\" style=\"fill: #1f77b4; stroke: #333333\"/>\n     <use xlink:href=\"#m1f93c9707d\" x=\"101.325808\" y=\"208.673311\" style=\"fill: #1f77b4; stroke: #333333\"/>\n     <use xlink:href=\"#m1f93c9707d\" x=\"70.983454\" y=\"192.883124\" style=\"fill: #1f77b4; stroke: #333333\"/>\n     <use xlink:href=\"#m1f93c9707d\" x=\"242.885541\" y=\"59.286292\" style=\"fill: #1f77b4; stroke: #333333\"/>\n     <use xlink:href=\"#m1f93c9707d\" x=\"232.016709\" y=\"52.019112\" style=\"fill: #1f77b4; stroke: #333333\"/>\n     <use xlink:href=\"#m1f93c9707d\" x=\"93.978943\" y=\"208.171202\" style=\"fill: #1f77b4; stroke: #333333\"/>\n     <use xlink:href=\"#m1f93c9707d\" x=\"237.538974\" y=\"54.192986\" style=\"fill: #1f77b4; stroke: #333333\"/>\n     <use xlink:href=\"#m1f93c9707d\" x=\"103.543109\" y=\"203.846094\" style=\"fill: #1f77b4; stroke: #333333\"/>\n     <use xlink:href=\"#m1f93c9707d\" x=\"255.555098\" y=\"32.398125\" style=\"fill: #1f77b4; stroke: #333333\"/>\n     <use xlink:href=\"#m1f93c9707d\" x=\"238.058002\" y=\"63.389821\" style=\"fill: #1f77b4; stroke: #333333\"/>\n     <use xlink:href=\"#m1f93c9707d\" x=\"232.170061\" y=\"58.458486\" style=\"fill: #1f77b4; stroke: #333333\"/>\n     <use xlink:href=\"#m1f93c9707d\" x=\"94.264177\" y=\"216.407122\" style=\"fill: #1f77b4; stroke: #333333\"/>\n     <use xlink:href=\"#m1f93c9707d\" x=\"89.231835\" y=\"188.27051\" style=\"fill: #1f77b4; stroke: #333333\"/>\n     <use xlink:href=\"#m1f93c9707d\" x=\"251.267421\" y=\"92.174531\" style=\"fill: #1f77b4; stroke: #333333\"/>\n     <use xlink:href=\"#m1f93c9707d\" x=\"254.815479\" y=\"84.973665\" style=\"fill: #1f77b4; stroke: #333333\"/>\n     <use xlink:href=\"#m1f93c9707d\" x=\"226.105337\" y=\"59.869761\" style=\"fill: #1f77b4; stroke: #333333\"/>\n     <use xlink:href=\"#m1f93c9707d\" x=\"82.022892\" y=\"212.915172\" style=\"fill: #1f77b4; stroke: #333333\"/>\n     <use xlink:href=\"#m1f93c9707d\" x=\"253.973129\" y=\"32.829691\" style=\"fill: #1f77b4; stroke: #333333\"/>\n     <use xlink:href=\"#m1f93c9707d\" x=\"245.15091\" y=\"60.703566\" style=\"fill: #1f77b4; stroke: #333333\"/>\n     <use xlink:href=\"#m1f93c9707d\" x=\"114.421987\" y=\"178.887482\" style=\"fill: #1f77b4; stroke: #333333\"/>\n     <use xlink:href=\"#m1f93c9707d\" x=\"228.657784\" y=\"32.535284\" style=\"fill: #1f77b4; stroke: #333333\"/>\n     <use xlink:href=\"#m1f93c9707d\" x=\"99.781014\" y=\"198.203555\" style=\"fill: #1f77b4; stroke: #333333\"/>\n     <use xlink:href=\"#m1f93c9707d\" x=\"227.807175\" y=\"52.08478\" style=\"fill: #1f77b4; stroke: #333333\"/>\n     <use xlink:href=\"#m1f93c9707d\" x=\"86.881354\" y=\"182.615423\" style=\"fill: #1f77b4; stroke: #333333\"/>\n     <use xlink:href=\"#m1f93c9707d\" x=\"250.727063\" y=\"49.299705\" style=\"fill: #1f77b4; stroke: #333333\"/>\n     <use xlink:href=\"#m1f93c9707d\" x=\"246.39628\" y=\"62.291446\" style=\"fill: #1f77b4; stroke: #333333\"/>\n     <use xlink:href=\"#m1f93c9707d\" x=\"240.179519\" y=\"44.118696\" style=\"fill: #1f77b4; stroke: #333333\"/>\n     <use xlink:href=\"#m1f93c9707d\" x=\"92.34098\" y=\"187.59289\" style=\"fill: #1f77b4; stroke: #333333\"/>\n     <use xlink:href=\"#m1f93c9707d\" x=\"104.506115\" y=\"213.43273\" style=\"fill: #1f77b4; stroke: #333333\"/>\n     <use xlink:href=\"#m1f93c9707d\" x=\"87.360439\" y=\"172.552241\" style=\"fill: #1f77b4; stroke: #333333\"/>\n     <use xlink:href=\"#m1f93c9707d\" x=\"97.745486\" y=\"204.875134\" style=\"fill: #1f77b4; stroke: #333333\"/>\n     <use xlink:href=\"#m1f93c9707d\" x=\"112.202457\" y=\"204.414963\" style=\"fill: #1f77b4; stroke: #333333\"/>\n     <use xlink:href=\"#m1f93c9707d\" x=\"93.386735\" y=\"199.146562\" style=\"fill: #1f77b4; stroke: #333333\"/>\n     <use xlink:href=\"#m1f93c9707d\" x=\"112.962408\" y=\"215.984474\" style=\"fill: #1f77b4; stroke: #333333\"/>\n     <use xlink:href=\"#m1f93c9707d\" x=\"213.923524\" y=\"39.964075\" style=\"fill: #1f77b4; stroke: #333333\"/>\n     <use xlink:href=\"#m1f93c9707d\" x=\"253.408944\" y=\"65.444962\" style=\"fill: #1f77b4; stroke: #333333\"/>\n     <use xlink:href=\"#m1f93c9707d\" x=\"238.202599\" y=\"64.58313\" style=\"fill: #1f77b4; stroke: #333333\"/>\n     <use xlink:href=\"#m1f93c9707d\" x=\"93.334759\" y=\"209.048204\" style=\"fill: #1f77b4; stroke: #333333\"/>\n     <use xlink:href=\"#m1f93c9707d\" x=\"222.697015\" y=\"90.419292\" style=\"fill: #1f77b4; stroke: #333333\"/>\n     <use xlink:href=\"#m1f93c9707d\" x=\"246.067518\" y=\"57.466065\" style=\"fill: #1f77b4; stroke: #333333\"/>\n     <use xlink:href=\"#m1f93c9707d\" x=\"97.908356\" y=\"215.89812\" style=\"fill: #1f77b4; stroke: #333333\"/>\n     <use xlink:href=\"#m1f93c9707d\" x=\"110.608912\" y=\"221.55911\" style=\"fill: #1f77b4; stroke: #333333\"/>\n     <use xlink:href=\"#m1f93c9707d\" x=\"119.278606\" y=\"180.101675\" style=\"fill: #1f77b4; stroke: #333333\"/>\n     <use xlink:href=\"#m1f93c9707d\" x=\"229.431275\" y=\"72.852515\" style=\"fill: #1f77b4; stroke: #333333\"/>\n     <use xlink:href=\"#m1f93c9707d\" x=\"217.108023\" y=\"44.796606\" style=\"fill: #1f77b4; stroke: #333333\"/>\n     <use xlink:href=\"#m1f93c9707d\" x=\"90.421001\" y=\"209.459161\" style=\"fill: #1f77b4; stroke: #333333\"/>\n     <use xlink:href=\"#m1f93c9707d\" x=\"230.637614\" y=\"69.402923\" style=\"fill: #1f77b4; stroke: #333333\"/>\n     <use xlink:href=\"#m1f93c9707d\" x=\"98.642521\" y=\"204.583978\" style=\"fill: #1f77b4; stroke: #333333\"/>\n     <use xlink:href=\"#m1f93c9707d\" x=\"242.296554\" y=\"33.833591\" style=\"fill: #1f77b4; stroke: #333333\"/>\n     <use xlink:href=\"#m1f93c9707d\" x=\"95.167044\" y=\"192.066827\" style=\"fill: #1f77b4; stroke: #333333\"/>\n     <use xlink:href=\"#m1f93c9707d\" x=\"227.659933\" y=\"77.653923\" style=\"fill: #1f77b4; stroke: #333333\"/>\n     <use xlink:href=\"#m1f93c9707d\" x=\"239.162594\" y=\"47.935546\" style=\"fill: #1f77b4; stroke: #333333\"/>\n     <use xlink:href=\"#m1f93c9707d\" x=\"70.985535\" y=\"193.95253\" style=\"fill: #1f77b4; stroke: #333333\"/>\n     <use xlink:href=\"#m1f93c9707d\" x=\"216.984682\" y=\"47.691351\" style=\"fill: #1f77b4; stroke: #333333\"/>\n     <use xlink:href=\"#m1f93c9707d\" x=\"247.342435\" y=\"66.4751\" style=\"fill: #1f77b4; stroke: #333333\"/>\n     <use xlink:href=\"#m1f93c9707d\" x=\"82.942512\" y=\"200.290075\" style=\"fill: #1f77b4; stroke: #333333\"/>\n     <use xlink:href=\"#m1f93c9707d\" x=\"94.610207\" y=\"233.998125\" style=\"fill: #1f77b4; stroke: #333333\"/>\n     <use xlink:href=\"#m1f93c9707d\" x=\"94.065144\" y=\"203.39981\" style=\"fill: #1f77b4; stroke: #333333\"/>\n     <use xlink:href=\"#m1f93c9707d\" x=\"75.9265\" y=\"203.53779\" style=\"fill: #1f77b4; stroke: #333333\"/>\n     <use xlink:href=\"#m1f93c9707d\" x=\"261.562131\" y=\"66.615549\" style=\"fill: #1f77b4; stroke: #333333\"/>\n     <use xlink:href=\"#m1f93c9707d\" x=\"227.651459\" y=\"74.78159\" style=\"fill: #1f77b4; stroke: #333333\"/>\n     <use xlink:href=\"#m1f93c9707d\" x=\"253.566025\" y=\"40.024793\" style=\"fill: #1f77b4; stroke: #333333\"/>\n     <use xlink:href=\"#m1f93c9707d\" x=\"76.490724\" y=\"188.559525\" style=\"fill: #1f77b4; stroke: #333333\"/>\n     <use xlink:href=\"#m1f93c9707d\" x=\"238.897525\" y=\"83.623854\" style=\"fill: #1f77b4; stroke: #333333\"/>\n     <use xlink:href=\"#m1f93c9707d\" x=\"249.223089\" y=\"90.999539\" style=\"fill: #1f77b4; stroke: #333333\"/>\n     <use xlink:href=\"#m1f93c9707d\" x=\"118.387936\" y=\"222.197319\" style=\"fill: #1f77b4; stroke: #333333\"/>\n     <use xlink:href=\"#m1f93c9707d\" x=\"108.710707\" y=\"210.741125\" style=\"fill: #1f77b4; stroke: #333333\"/>\n     <use xlink:href=\"#m1f93c9707d\" x=\"94.960359\" y=\"193.355747\" style=\"fill: #1f77b4; stroke: #333333\"/>\n     <use xlink:href=\"#m1f93c9707d\" x=\"95.804305\" y=\"190.997518\" style=\"fill: #1f77b4; stroke: #333333\"/>\n     <use xlink:href=\"#m1f93c9707d\" x=\"239.509346\" y=\"54.496271\" style=\"fill: #1f77b4; stroke: #333333\"/>\n     <use xlink:href=\"#m1f93c9707d\" x=\"226.971018\" y=\"89.462105\" style=\"fill: #1f77b4; stroke: #333333\"/>\n     <use xlink:href=\"#m1f93c9707d\" x=\"94.916859\" y=\"198.962686\" style=\"fill: #1f77b4; stroke: #333333\"/>\n     <use xlink:href=\"#m1f93c9707d\" x=\"106.991269\" y=\"190.119326\" style=\"fill: #1f77b4; stroke: #333333\"/>\n     <use xlink:href=\"#m1f93c9707d\" x=\"108.567957\" y=\"197.531041\" style=\"fill: #1f77b4; stroke: #333333\"/>\n     <use xlink:href=\"#m1f93c9707d\" x=\"239.227411\" y=\"37.893897\" style=\"fill: #1f77b4; stroke: #333333\"/>\n     <use xlink:href=\"#m1f93c9707d\" x=\"238.317384\" y=\"36.021226\" style=\"fill: #1f77b4; stroke: #333333\"/>\n     <use xlink:href=\"#m1f93c9707d\" x=\"96.994499\" y=\"211.79954\" style=\"fill: #1f77b4; stroke: #333333\"/>\n     <use xlink:href=\"#m1f93c9707d\" x=\"250.032038\" y=\"38.007226\" style=\"fill: #1f77b4; stroke: #333333\"/>\n     <use xlink:href=\"#m1f93c9707d\" x=\"232.359401\" y=\"73.3692\" style=\"fill: #1f77b4; stroke: #333333\"/>\n     <use xlink:href=\"#m1f93c9707d\" x=\"248.199716\" y=\"33.797493\" style=\"fill: #1f77b4; stroke: #333333\"/>\n     <use xlink:href=\"#m1f93c9707d\" x=\"88.429047\" y=\"196.343137\" style=\"fill: #1f77b4; stroke: #333333\"/>\n     <use xlink:href=\"#m1f93c9707d\" x=\"234.27057\" y=\"48.50558\" style=\"fill: #1f77b4; stroke: #333333\"/>\n     <use xlink:href=\"#m1f93c9707d\" x=\"98.536004\" y=\"216.294179\" style=\"fill: #1f77b4; stroke: #333333\"/>\n     <use xlink:href=\"#m1f93c9707d\" x=\"107.800107\" y=\"207.926453\" style=\"fill: #1f77b4; stroke: #333333\"/>\n     <use xlink:href=\"#m1f93c9707d\" x=\"87.726796\" y=\"194.572188\" style=\"fill: #1f77b4; stroke: #333333\"/>\n     <use xlink:href=\"#m1f93c9707d\" x=\"212.816998\" y=\"54.467641\" style=\"fill: #1f77b4; stroke: #333333\"/>\n     <use xlink:href=\"#m1f93c9707d\" x=\"225.168168\" y=\"48.348216\" style=\"fill: #1f77b4; stroke: #333333\"/>\n     <use xlink:href=\"#m1f93c9707d\" x=\"202.642744\" y=\"45.13765\" style=\"fill: #1f77b4; stroke: #333333\"/>\n     <use xlink:href=\"#m1f93c9707d\" x=\"86.981531\" y=\"194.89677\" style=\"fill: #1f77b4; stroke: #333333\"/>\n     <use xlink:href=\"#m1f93c9707d\" x=\"116.687423\" y=\"210.643828\" style=\"fill: #1f77b4; stroke: #333333\"/>\n     <use xlink:href=\"#m1f93c9707d\" x=\"91.776781\" y=\"213.543031\" style=\"fill: #1f77b4; stroke: #333333\"/>\n     <use xlink:href=\"#m1f93c9707d\" x=\"225.892096\" y=\"92.064122\" style=\"fill: #1f77b4; stroke: #333333\"/>\n     <use xlink:href=\"#m1f93c9707d\" x=\"102.087238\" y=\"198.740065\" style=\"fill: #1f77b4; stroke: #333333\"/>\n     <use xlink:href=\"#m1f93c9707d\" x=\"94.905243\" y=\"192.46262\" style=\"fill: #1f77b4; stroke: #333333\"/>\n     <use xlink:href=\"#m1f93c9707d\" x=\"89.515988\" y=\"203.757936\" style=\"fill: #1f77b4; stroke: #333333\"/>\n     <use xlink:href=\"#m1f93c9707d\" x=\"99.167164\" y=\"211.899265\" style=\"fill: #1f77b4; stroke: #333333\"/>\n     <use xlink:href=\"#m1f93c9707d\" x=\"211.577945\" y=\"58.574265\" style=\"fill: #1f77b4; stroke: #333333\"/>\n     <use xlink:href=\"#m1f93c9707d\" x=\"220.751413\" y=\"41.850088\" style=\"fill: #1f77b4; stroke: #333333\"/>\n     <use xlink:href=\"#m1f93c9707d\" x=\"72.137778\" y=\"218.262582\" style=\"fill: #1f77b4; stroke: #333333\"/>\n     <use xlink:href=\"#m1f93c9707d\" x=\"235.916363\" y=\"81.620158\" style=\"fill: #1f77b4; stroke: #333333\"/>\n    </g>\n   </g>\n   <g id=\"PathCollection_2\">\n    <defs>\n     <path id=\"mc2a1401fd3\" d=\"M 0 3 \nC 0.795609 3 1.55874 2.683901 2.12132 2.12132 \nC 2.683901 1.55874 3 0.795609 3 0 \nC 3 -0.795609 2.683901 -1.55874 2.12132 -2.12132 \nC 1.55874 -2.683901 0.795609 -3 0 -3 \nC -0.795609 -3 -1.55874 -2.683901 -2.12132 -2.12132 \nC -2.683901 -1.55874 -3 -0.795609 -3 0 \nC -3 0.795609 -2.683901 1.55874 -2.12132 2.12132 \nC -1.55874 2.683901 -0.795609 3 0 3 \nz\n\" style=\"stroke: #333333\"/>\n    </defs>\n    <g clip-path=\"url(#pe4139a7146)\">\n     <use xlink:href=\"#mc2a1401fd3\" x=\"230.877063\" y=\"184.064459\" style=\"fill: #ff7f0e; stroke: #333333\"/>\n     <use xlink:href=\"#mc2a1401fd3\" x=\"243.842427\" y=\"184.340261\" style=\"fill: #ff7f0e; stroke: #333333\"/>\n     <use xlink:href=\"#mc2a1401fd3\" x=\"232.017097\" y=\"202.441215\" style=\"fill: #ff7f0e; stroke: #333333\"/>\n     <use xlink:href=\"#mc2a1401fd3\" x=\"89.746376\" y=\"45.851439\" style=\"fill: #ff7f0e; stroke: #333333\"/>\n     <use xlink:href=\"#mc2a1401fd3\" x=\"250.686437\" y=\"205.161614\" style=\"fill: #ff7f0e; stroke: #333333\"/>\n     <use xlink:href=\"#mc2a1401fd3\" x=\"100.400405\" y=\"64.372734\" style=\"fill: #ff7f0e; stroke: #333333\"/>\n     <use xlink:href=\"#mc2a1401fd3\" x=\"219.862038\" y=\"215.105614\" style=\"fill: #ff7f0e; stroke: #333333\"/>\n     <use xlink:href=\"#mc2a1401fd3\" x=\"130.59866\" y=\"60.339707\" style=\"fill: #ff7f0e; stroke: #333333\"/>\n     <use xlink:href=\"#mc2a1401fd3\" x=\"247.536058\" y=\"221.068731\" style=\"fill: #ff7f0e; stroke: #333333\"/>\n     <use xlink:href=\"#mc2a1401fd3\" x=\"214.797166\" y=\"188.801084\" style=\"fill: #ff7f0e; stroke: #333333\"/>\n     <use xlink:href=\"#mc2a1401fd3\" x=\"229.906907\" y=\"176.011923\" style=\"fill: #ff7f0e; stroke: #333333\"/>\n     <use xlink:href=\"#mc2a1401fd3\" x=\"65.731142\" y=\"45.008831\" style=\"fill: #ff7f0e; stroke: #333333\"/>\n     <use xlink:href=\"#mc2a1401fd3\" x=\"116.585574\" y=\"45.994237\" style=\"fill: #ff7f0e; stroke: #333333\"/>\n     <use xlink:href=\"#mc2a1401fd3\" x=\"96.4775\" y=\"77.572203\" style=\"fill: #ff7f0e; stroke: #333333\"/>\n     <use xlink:href=\"#mc2a1401fd3\" x=\"96.788387\" y=\"42.484313\" style=\"fill: #ff7f0e; stroke: #333333\"/>\n     <use xlink:href=\"#mc2a1401fd3\" x=\"75.708547\" y=\"39.362608\" style=\"fill: #ff7f0e; stroke: #333333\"/>\n     <use xlink:href=\"#mc2a1401fd3\" x=\"233.922057\" y=\"205.322233\" style=\"fill: #ff7f0e; stroke: #333333\"/>\n     <use xlink:href=\"#mc2a1401fd3\" x=\"216.28277\" y=\"183.914717\" style=\"fill: #ff7f0e; stroke: #333333\"/>\n     <use xlink:href=\"#mc2a1401fd3\" x=\"225.945553\" y=\"186.021764\" style=\"fill: #ff7f0e; stroke: #333333\"/>\n     <use xlink:href=\"#mc2a1401fd3\" x=\"107.888844\" y=\"59.992966\" style=\"fill: #ff7f0e; stroke: #333333\"/>\n     <use xlink:href=\"#mc2a1401fd3\" x=\"212.266314\" y=\"195.521501\" style=\"fill: #ff7f0e; stroke: #333333\"/>\n     <use xlink:href=\"#mc2a1401fd3\" x=\"257.089413\" y=\"204.08342\" style=\"fill: #ff7f0e; stroke: #333333\"/>\n     <use xlink:href=\"#mc2a1401fd3\" x=\"248.528097\" y=\"201.600425\" style=\"fill: #ff7f0e; stroke: #333333\"/>\n     <use xlink:href=\"#mc2a1401fd3\" x=\"223.275659\" y=\"205.687898\" style=\"fill: #ff7f0e; stroke: #333333\"/>\n     <use xlink:href=\"#mc2a1401fd3\" x=\"254.62465\" y=\"179.518498\" style=\"fill: #ff7f0e; stroke: #333333\"/>\n     <use xlink:href=\"#mc2a1401fd3\" x=\"83.200733\" y=\"71.126184\" style=\"fill: #ff7f0e; stroke: #333333\"/>\n     <use xlink:href=\"#mc2a1401fd3\" x=\"251.724096\" y=\"182.510698\" style=\"fill: #ff7f0e; stroke: #333333\"/>\n     <use xlink:href=\"#mc2a1401fd3\" x=\"110.819287\" y=\"55.774959\" style=\"fill: #ff7f0e; stroke: #333333\"/>\n     <use xlink:href=\"#mc2a1401fd3\" x=\"232.126351\" y=\"181.775374\" style=\"fill: #ff7f0e; stroke: #333333\"/>\n     <use xlink:href=\"#mc2a1401fd3\" x=\"68.497902\" y=\"57.662146\" style=\"fill: #ff7f0e; stroke: #333333\"/>\n     <use xlink:href=\"#mc2a1401fd3\" x=\"95.226666\" y=\"66.990484\" style=\"fill: #ff7f0e; stroke: #333333\"/>\n     <use xlink:href=\"#mc2a1401fd3\" x=\"223.392974\" y=\"212.375041\" style=\"fill: #ff7f0e; stroke: #333333\"/>\n     <use xlink:href=\"#mc2a1401fd3\" x=\"214.945261\" y=\"186.328734\" style=\"fill: #ff7f0e; stroke: #333333\"/>\n     <use xlink:href=\"#mc2a1401fd3\" x=\"100.205618\" y=\"61.423422\" style=\"fill: #ff7f0e; stroke: #333333\"/>\n     <use xlink:href=\"#mc2a1401fd3\" x=\"244.127174\" y=\"187.069023\" style=\"fill: #ff7f0e; stroke: #333333\"/>\n     <use xlink:href=\"#mc2a1401fd3\" x=\"100.782099\" y=\"69.452204\" style=\"fill: #ff7f0e; stroke: #333333\"/>\n     <use xlink:href=\"#mc2a1401fd3\" x=\"97.685973\" y=\"72.257232\" style=\"fill: #ff7f0e; stroke: #333333\"/>\n     <use xlink:href=\"#mc2a1401fd3\" x=\"261.24119\" y=\"213.073602\" style=\"fill: #ff7f0e; stroke: #333333\"/>\n     <use xlink:href=\"#mc2a1401fd3\" x=\"231.536281\" y=\"183.208803\" style=\"fill: #ff7f0e; stroke: #333333\"/>\n     <use xlink:href=\"#mc2a1401fd3\" x=\"84.432042\" y=\"56.491819\" style=\"fill: #ff7f0e; stroke: #333333\"/>\n     <use xlink:href=\"#mc2a1401fd3\" x=\"114.704427\" y=\"58.587926\" style=\"fill: #ff7f0e; stroke: #333333\"/>\n     <use xlink:href=\"#mc2a1401fd3\" x=\"118.139583\" y=\"40.639434\" style=\"fill: #ff7f0e; stroke: #333333\"/>\n     <use xlink:href=\"#mc2a1401fd3\" x=\"244.331312\" y=\"209.984157\" style=\"fill: #ff7f0e; stroke: #333333\"/>\n     <use xlink:href=\"#mc2a1401fd3\" x=\"84.937455\" y=\"60.733388\" style=\"fill: #ff7f0e; stroke: #333333\"/>\n     <use xlink:href=\"#mc2a1401fd3\" x=\"229.111028\" y=\"188.491788\" style=\"fill: #ff7f0e; stroke: #333333\"/>\n     <use xlink:href=\"#mc2a1401fd3\" x=\"99.865846\" y=\"74.521377\" style=\"fill: #ff7f0e; stroke: #333333\"/>\n     <use xlink:href=\"#mc2a1401fd3\" x=\"107.774522\" y=\"50.680713\" style=\"fill: #ff7f0e; stroke: #333333\"/>\n     <use xlink:href=\"#mc2a1401fd3\" x=\"106.681533\" y=\"54.197282\" style=\"fill: #ff7f0e; stroke: #333333\"/>\n     <use xlink:href=\"#mc2a1401fd3\" x=\"220.300095\" y=\"189.409162\" style=\"fill: #ff7f0e; stroke: #333333\"/>\n     <use xlink:href=\"#mc2a1401fd3\" x=\"84.93114\" y=\"78.604599\" style=\"fill: #ff7f0e; stroke: #333333\"/>\n     <use xlink:href=\"#mc2a1401fd3\" x=\"105.491498\" y=\"48.675045\" style=\"fill: #ff7f0e; stroke: #333333\"/>\n     <use xlink:href=\"#mc2a1401fd3\" x=\"212.017878\" y=\"185.380972\" style=\"fill: #ff7f0e; stroke: #333333\"/>\n     <use xlink:href=\"#mc2a1401fd3\" x=\"238.780524\" y=\"214.332575\" style=\"fill: #ff7f0e; stroke: #333333\"/>\n     <use xlink:href=\"#mc2a1401fd3\" x=\"102.920944\" y=\"49.194851\" style=\"fill: #ff7f0e; stroke: #333333\"/>\n     <use xlink:href=\"#mc2a1401fd3\" x=\"109.227118\" y=\"68.69468\" style=\"fill: #ff7f0e; stroke: #333333\"/>\n     <use xlink:href=\"#mc2a1401fd3\" x=\"218.916511\" y=\"198.5437\" style=\"fill: #ff7f0e; stroke: #333333\"/>\n     <use xlink:href=\"#mc2a1401fd3\" x=\"210.412471\" y=\"201.294091\" style=\"fill: #ff7f0e; stroke: #333333\"/>\n     <use xlink:href=\"#mc2a1401fd3\" x=\"106.409234\" y=\"63.165772\" style=\"fill: #ff7f0e; stroke: #333333\"/>\n     <use xlink:href=\"#mc2a1401fd3\" x=\"62.306392\" y=\"70.4775\" style=\"fill: #ff7f0e; stroke: #333333\"/>\n     <use xlink:href=\"#mc2a1401fd3\" x=\"91.834453\" y=\"78.564893\" style=\"fill: #ff7f0e; stroke: #333333\"/>\n     <use xlink:href=\"#mc2a1401fd3\" x=\"109.483259\" y=\"52.708383\" style=\"fill: #ff7f0e; stroke: #333333\"/>\n     <use xlink:href=\"#mc2a1401fd3\" x=\"87.52736\" y=\"64.035928\" style=\"fill: #ff7f0e; stroke: #333333\"/>\n     <use xlink:href=\"#mc2a1401fd3\" x=\"94.034599\" y=\"56.433368\" style=\"fill: #ff7f0e; stroke: #333333\"/>\n     <use xlink:href=\"#mc2a1401fd3\" x=\"110.113367\" y=\"69.173857\" style=\"fill: #ff7f0e; stroke: #333333\"/>\n     <use xlink:href=\"#mc2a1401fd3\" x=\"257.318305\" y=\"205.893872\" style=\"fill: #ff7f0e; stroke: #333333\"/>\n     <use xlink:href=\"#mc2a1401fd3\" x=\"79.762115\" y=\"40.196254\" style=\"fill: #ff7f0e; stroke: #333333\"/>\n     <use xlink:href=\"#mc2a1401fd3\" x=\"258.048499\" y=\"188.24511\" style=\"fill: #ff7f0e; stroke: #333333\"/>\n     <use xlink:href=\"#mc2a1401fd3\" x=\"244.789162\" y=\"174.836438\" style=\"fill: #ff7f0e; stroke: #333333\"/>\n     <use xlink:href=\"#mc2a1401fd3\" x=\"214.47439\" y=\"215.053945\" style=\"fill: #ff7f0e; stroke: #333333\"/>\n     <use xlink:href=\"#mc2a1401fd3\" x=\"218.387835\" y=\"231.325231\" style=\"fill: #ff7f0e; stroke: #333333\"/>\n     <use xlink:href=\"#mc2a1401fd3\" x=\"98.247032\" y=\"41.725431\" style=\"fill: #ff7f0e; stroke: #333333\"/>\n     <use xlink:href=\"#mc2a1401fd3\" x=\"221.09122\" y=\"182.071913\" style=\"fill: #ff7f0e; stroke: #333333\"/>\n     <use xlink:href=\"#mc2a1401fd3\" x=\"207.783237\" y=\"167.860073\" style=\"fill: #ff7f0e; stroke: #333333\"/>\n     <use xlink:href=\"#mc2a1401fd3\" x=\"84.486389\" y=\"47.613063\" style=\"fill: #ff7f0e; stroke: #333333\"/>\n     <use xlink:href=\"#mc2a1401fd3\" x=\"108.320496\" y=\"60.592713\" style=\"fill: #ff7f0e; stroke: #333333\"/>\n     <use xlink:href=\"#mc2a1401fd3\" x=\"247.02495\" y=\"187.512004\" style=\"fill: #ff7f0e; stroke: #333333\"/>\n     <use xlink:href=\"#mc2a1401fd3\" x=\"92.024123\" y=\"51.977778\" style=\"fill: #ff7f0e; stroke: #333333\"/>\n     <use xlink:href=\"#mc2a1401fd3\" x=\"103.976033\" y=\"62.358549\" style=\"fill: #ff7f0e; stroke: #333333\"/>\n     <use xlink:href=\"#mc2a1401fd3\" x=\"102.375453\" y=\"65.661131\" style=\"fill: #ff7f0e; stroke: #333333\"/>\n     <use xlink:href=\"#mc2a1401fd3\" x=\"230.527021\" y=\"180.24788\" style=\"fill: #ff7f0e; stroke: #333333\"/>\n     <use xlink:href=\"#mc2a1401fd3\" x=\"238.484799\" y=\"170.843528\" style=\"fill: #ff7f0e; stroke: #333333\"/>\n     <use xlink:href=\"#mc2a1401fd3\" x=\"247.340005\" y=\"188.41563\" style=\"fill: #ff7f0e; stroke: #333333\"/>\n     <use xlink:href=\"#mc2a1401fd3\" x=\"134.8086\" y=\"60.039544\" style=\"fill: #ff7f0e; stroke: #333333\"/>\n     <use xlink:href=\"#mc2a1401fd3\" x=\"213.726653\" y=\"217.37803\" style=\"fill: #ff7f0e; stroke: #333333\"/>\n     <use xlink:href=\"#mc2a1401fd3\" x=\"265.215483\" y=\"216.407409\" style=\"fill: #ff7f0e; stroke: #333333\"/>\n     <use xlink:href=\"#mc2a1401fd3\" x=\"226.839442\" y=\"213.313899\" style=\"fill: #ff7f0e; stroke: #333333\"/>\n     <use xlink:href=\"#mc2a1401fd3\" x=\"88.454985\" y=\"70.745677\" style=\"fill: #ff7f0e; stroke: #333333\"/>\n     <use xlink:href=\"#mc2a1401fd3\" x=\"86.200641\" y=\"60.036238\" style=\"fill: #ff7f0e; stroke: #333333\"/>\n     <use xlink:href=\"#mc2a1401fd3\" x=\"249.708568\" y=\"216.244964\" style=\"fill: #ff7f0e; stroke: #333333\"/>\n     <use xlink:href=\"#mc2a1401fd3\" x=\"86.639713\" y=\"67.616948\" style=\"fill: #ff7f0e; stroke: #333333\"/>\n     <use xlink:href=\"#mc2a1401fd3\" x=\"72.549088\" y=\"62.572016\" style=\"fill: #ff7f0e; stroke: #333333\"/>\n     <use xlink:href=\"#mc2a1401fd3\" x=\"116.327234\" y=\"49.138967\" style=\"fill: #ff7f0e; stroke: #333333\"/>\n     <use xlink:href=\"#mc2a1401fd3\" x=\"89.624632\" y=\"52.173154\" style=\"fill: #ff7f0e; stroke: #333333\"/>\n     <use xlink:href=\"#mc2a1401fd3\" x=\"257.369976\" y=\"213.711341\" style=\"fill: #ff7f0e; stroke: #333333\"/>\n     <use xlink:href=\"#mc2a1401fd3\" x=\"209.334228\" y=\"195.325995\" style=\"fill: #ff7f0e; stroke: #333333\"/>\n     <use xlink:href=\"#mc2a1401fd3\" x=\"98.138755\" y=\"45.008294\" style=\"fill: #ff7f0e; stroke: #333333\"/>\n     <use xlink:href=\"#mc2a1401fd3\" x=\"254.619078\" y=\"211.240618\" style=\"fill: #ff7f0e; stroke: #333333\"/>\n    </g>\n   </g>\n   <g id=\"matplotlib.axis_1\">\n    <g id=\"xtick_1\">\n     <g id=\"line2d_1\">\n      <defs>\n       <path id=\"m334c681930\" d=\"M 0 0 \nL 0 3.5 \n\" style=\"stroke: #000000; stroke-width: 0.8\"/>\n      </defs>\n      <g>\n       <use xlink:href=\"#m334c681930\" x=\"62.596276\" y=\"244.078125\" style=\"stroke: #000000; stroke-width: 0.8\"/>\n      </g>\n     </g>\n     <g id=\"text_1\">\n      <!-- −0.25 -->\n      <g transform=\"translate(47.27362 258.676562) scale(0.1 -0.1)\">\n       <defs>\n        <path id=\"DejaVuSans-2212\" d=\"M 678 2272 \nL 4684 2272 \nL 4684 1741 \nL 678 1741 \nL 678 2272 \nz\n\" transform=\"scale(0.015625)\"/>\n        <path id=\"DejaVuSans-30\" d=\"M 2034 4250 \nQ 1547 4250 1301 3770 \nQ 1056 3291 1056 2328 \nQ 1056 1369 1301 889 \nQ 1547 409 2034 409 \nQ 2525 409 2770 889 \nQ 3016 1369 3016 2328 \nQ 3016 3291 2770 3770 \nQ 2525 4250 2034 4250 \nz\nM 2034 4750 \nQ 2819 4750 3233 4129 \nQ 3647 3509 3647 2328 \nQ 3647 1150 3233 529 \nQ 2819 -91 2034 -91 \nQ 1250 -91 836 529 \nQ 422 1150 422 2328 \nQ 422 3509 836 4129 \nQ 1250 4750 2034 4750 \nz\n\" transform=\"scale(0.015625)\"/>\n        <path id=\"DejaVuSans-2e\" d=\"M 684 794 \nL 1344 794 \nL 1344 0 \nL 684 0 \nL 684 794 \nz\n\" transform=\"scale(0.015625)\"/>\n        <path id=\"DejaVuSans-32\" d=\"M 1228 531 \nL 3431 531 \nL 3431 0 \nL 469 0 \nL 469 531 \nQ 828 903 1448 1529 \nQ 2069 2156 2228 2338 \nQ 2531 2678 2651 2914 \nQ 2772 3150 2772 3378 \nQ 2772 3750 2511 3984 \nQ 2250 4219 1831 4219 \nQ 1534 4219 1204 4116 \nQ 875 4013 500 3803 \nL 500 4441 \nQ 881 4594 1212 4672 \nQ 1544 4750 1819 4750 \nQ 2544 4750 2975 4387 \nQ 3406 4025 3406 3419 \nQ 3406 3131 3298 2873 \nQ 3191 2616 2906 2266 \nQ 2828 2175 2409 1742 \nQ 1991 1309 1228 531 \nz\n\" transform=\"scale(0.015625)\"/>\n        <path id=\"DejaVuSans-35\" d=\"M 691 4666 \nL 3169 4666 \nL 3169 4134 \nL 1269 4134 \nL 1269 2991 \nQ 1406 3038 1543 3061 \nQ 1681 3084 1819 3084 \nQ 2600 3084 3056 2656 \nQ 3513 2228 3513 1497 \nQ 3513 744 3044 326 \nQ 2575 -91 1722 -91 \nQ 1428 -91 1123 -41 \nQ 819 9 494 109 \nL 494 744 \nQ 775 591 1075 516 \nQ 1375 441 1709 441 \nQ 2250 441 2565 725 \nQ 2881 1009 2881 1497 \nQ 2881 1984 2565 2268 \nQ 2250 2553 1709 2553 \nQ 1456 2553 1204 2497 \nQ 953 2441 691 2322 \nL 691 4666 \nz\n\" transform=\"scale(0.015625)\"/>\n       </defs>\n       <use xlink:href=\"#DejaVuSans-2212\"/>\n       <use xlink:href=\"#DejaVuSans-30\" x=\"83.789062\"/>\n       <use xlink:href=\"#DejaVuSans-2e\" x=\"147.412109\"/>\n       <use xlink:href=\"#DejaVuSans-32\" x=\"179.199219\"/>\n       <use xlink:href=\"#DejaVuSans-35\" x=\"242.822266\"/>\n      </g>\n     </g>\n    </g>\n    <g id=\"xtick_2\">\n     <g id=\"line2d_2\">\n      <g>\n       <use xlink:href=\"#m334c681930\" x=\"97.272305\" y=\"244.078125\" style=\"stroke: #000000; stroke-width: 0.8\"/>\n      </g>\n     </g>\n     <g id=\"text_2\">\n      <!-- 0.00 -->\n      <g transform=\"translate(86.139492 258.676562) scale(0.1 -0.1)\">\n       <use xlink:href=\"#DejaVuSans-30\"/>\n       <use xlink:href=\"#DejaVuSans-2e\" x=\"63.623047\"/>\n       <use xlink:href=\"#DejaVuSans-30\" x=\"95.410156\"/>\n       <use xlink:href=\"#DejaVuSans-30\" x=\"159.033203\"/>\n      </g>\n     </g>\n    </g>\n    <g id=\"xtick_3\">\n     <g id=\"line2d_3\">\n      <g>\n       <use xlink:href=\"#m334c681930\" x=\"131.948333\" y=\"244.078125\" style=\"stroke: #000000; stroke-width: 0.8\"/>\n      </g>\n     </g>\n     <g id=\"text_3\">\n      <!-- 0.25 -->\n      <g transform=\"translate(120.81552 258.676562) scale(0.1 -0.1)\">\n       <use xlink:href=\"#DejaVuSans-30\"/>\n       <use xlink:href=\"#DejaVuSans-2e\" x=\"63.623047\"/>\n       <use xlink:href=\"#DejaVuSans-32\" x=\"95.410156\"/>\n       <use xlink:href=\"#DejaVuSans-35\" x=\"159.033203\"/>\n      </g>\n     </g>\n    </g>\n    <g id=\"xtick_4\">\n     <g id=\"line2d_4\">\n      <g>\n       <use xlink:href=\"#m334c681930\" x=\"166.624361\" y=\"244.078125\" style=\"stroke: #000000; stroke-width: 0.8\"/>\n      </g>\n     </g>\n     <g id=\"text_4\">\n      <!-- 0.50 -->\n      <g transform=\"translate(155.491548 258.676562) scale(0.1 -0.1)\">\n       <use xlink:href=\"#DejaVuSans-30\"/>\n       <use xlink:href=\"#DejaVuSans-2e\" x=\"63.623047\"/>\n       <use xlink:href=\"#DejaVuSans-35\" x=\"95.410156\"/>\n       <use xlink:href=\"#DejaVuSans-30\" x=\"159.033203\"/>\n      </g>\n     </g>\n    </g>\n    <g id=\"xtick_5\">\n     <g id=\"line2d_5\">\n      <g>\n       <use xlink:href=\"#m334c681930\" x=\"201.300389\" y=\"244.078125\" style=\"stroke: #000000; stroke-width: 0.8\"/>\n      </g>\n     </g>\n     <g id=\"text_5\">\n      <!-- 0.75 -->\n      <g transform=\"translate(190.167577 258.676562) scale(0.1 -0.1)\">\n       <defs>\n        <path id=\"DejaVuSans-37\" d=\"M 525 4666 \nL 3525 4666 \nL 3525 4397 \nL 1831 0 \nL 1172 0 \nL 2766 4134 \nL 525 4134 \nL 525 4666 \nz\n\" transform=\"scale(0.015625)\"/>\n       </defs>\n       <use xlink:href=\"#DejaVuSans-30\"/>\n       <use xlink:href=\"#DejaVuSans-2e\" x=\"63.623047\"/>\n       <use xlink:href=\"#DejaVuSans-37\" x=\"95.410156\"/>\n       <use xlink:href=\"#DejaVuSans-35\" x=\"159.033203\"/>\n      </g>\n     </g>\n    </g>\n    <g id=\"xtick_6\">\n     <g id=\"line2d_6\">\n      <g>\n       <use xlink:href=\"#m334c681930\" x=\"235.976417\" y=\"244.078125\" style=\"stroke: #000000; stroke-width: 0.8\"/>\n      </g>\n     </g>\n     <g id=\"text_6\">\n      <!-- 1.00 -->\n      <g transform=\"translate(224.843605 258.676562) scale(0.1 -0.1)\">\n       <defs>\n        <path id=\"DejaVuSans-31\" d=\"M 794 531 \nL 1825 531 \nL 1825 4091 \nL 703 3866 \nL 703 4441 \nL 1819 4666 \nL 2450 4666 \nL 2450 531 \nL 3481 531 \nL 3481 0 \nL 794 0 \nL 794 531 \nz\n\" transform=\"scale(0.015625)\"/>\n       </defs>\n       <use xlink:href=\"#DejaVuSans-31\"/>\n       <use xlink:href=\"#DejaVuSans-2e\" x=\"63.623047\"/>\n       <use xlink:href=\"#DejaVuSans-30\" x=\"95.410156\"/>\n       <use xlink:href=\"#DejaVuSans-30\" x=\"159.033203\"/>\n      </g>\n     </g>\n    </g>\n    <g id=\"xtick_7\">\n     <g id=\"line2d_7\">\n      <g>\n       <use xlink:href=\"#m334c681930\" x=\"270.652446\" y=\"244.078125\" style=\"stroke: #000000; stroke-width: 0.8\"/>\n      </g>\n     </g>\n     <g id=\"text_7\">\n      <!-- 1.25 -->\n      <g transform=\"translate(259.519633 258.676562) scale(0.1 -0.1)\">\n       <use xlink:href=\"#DejaVuSans-31\"/>\n       <use xlink:href=\"#DejaVuSans-2e\" x=\"63.623047\"/>\n       <use xlink:href=\"#DejaVuSans-32\" x=\"95.410156\"/>\n       <use xlink:href=\"#DejaVuSans-35\" x=\"159.033203\"/>\n      </g>\n     </g>\n    </g>\n    <g id=\"text_8\">\n     <!-- $x_1$ -->\n     <g transform=\"translate(158.410938 272.354687) scale(0.1 -0.1)\">\n      <defs>\n       <path id=\"DejaVuSans-Oblique-78\" d=\"M 3841 3500 \nL 2234 1784 \nL 3219 0 \nL 2559 0 \nL 1819 1388 \nL 531 0 \nL -166 0 \nL 1556 1844 \nL 641 3500 \nL 1300 3500 \nL 1972 2234 \nL 3144 3500 \nL 3841 3500 \nz\n\" transform=\"scale(0.015625)\"/>\n      </defs>\n      <use xlink:href=\"#DejaVuSans-Oblique-78\" transform=\"translate(0 0.3125)\"/>\n      <use xlink:href=\"#DejaVuSans-31\" transform=\"translate(59.179688 -16.09375) scale(0.7)\"/>\n     </g>\n    </g>\n   </g>\n   <g id=\"matplotlib.axis_2\">\n    <g id=\"ytick_1\">\n     <g id=\"line2d_8\">\n      <defs>\n       <path id=\"m185a6b7698\" d=\"M 0 0 \nL -3.5 0 \n\" style=\"stroke: #000000; stroke-width: 0.8\"/>\n      </defs>\n      <g>\n       <use xlink:href=\"#m185a6b7698\" x=\"52.160938\" y=\"227.948456\" style=\"stroke: #000000; stroke-width: 0.8\"/>\n      </g>\n     </g>\n     <g id=\"text_9\">\n      <!-- −0.2 -->\n      <g transform=\"translate(20.878125 231.747675) scale(0.1 -0.1)\">\n       <use xlink:href=\"#DejaVuSans-2212\"/>\n       <use xlink:href=\"#DejaVuSans-30\" x=\"83.789062\"/>\n       <use xlink:href=\"#DejaVuSans-2e\" x=\"147.412109\"/>\n       <use xlink:href=\"#DejaVuSans-32\" x=\"179.199219\"/>\n      </g>\n     </g>\n    </g>\n    <g id=\"ytick_2\">\n     <g id=\"line2d_9\">\n      <g>\n       <use xlink:href=\"#m185a6b7698\" x=\"52.160938\" y=\"199.792918\" style=\"stroke: #000000; stroke-width: 0.8\"/>\n      </g>\n     </g>\n     <g id=\"text_10\">\n      <!-- 0.0 -->\n      <g transform=\"translate(29.257812 203.592137) scale(0.1 -0.1)\">\n       <use xlink:href=\"#DejaVuSans-30\"/>\n       <use xlink:href=\"#DejaVuSans-2e\" x=\"63.623047\"/>\n       <use xlink:href=\"#DejaVuSans-30\" x=\"95.410156\"/>\n      </g>\n     </g>\n    </g>\n    <g id=\"ytick_3\">\n     <g id=\"line2d_10\">\n      <g>\n       <use xlink:href=\"#m185a6b7698\" x=\"52.160938\" y=\"171.63738\" style=\"stroke: #000000; stroke-width: 0.8\"/>\n      </g>\n     </g>\n     <g id=\"text_11\">\n      <!-- 0.2 -->\n      <g transform=\"translate(29.257812 175.436599) scale(0.1 -0.1)\">\n       <use xlink:href=\"#DejaVuSans-30\"/>\n       <use xlink:href=\"#DejaVuSans-2e\" x=\"63.623047\"/>\n       <use xlink:href=\"#DejaVuSans-32\" x=\"95.410156\"/>\n      </g>\n     </g>\n    </g>\n    <g id=\"ytick_4\">\n     <g id=\"line2d_11\">\n      <g>\n       <use xlink:href=\"#m185a6b7698\" x=\"52.160938\" y=\"143.481843\" style=\"stroke: #000000; stroke-width: 0.8\"/>\n      </g>\n     </g>\n     <g id=\"text_12\">\n      <!-- 0.4 -->\n      <g transform=\"translate(29.257812 147.281061) scale(0.1 -0.1)\">\n       <defs>\n        <path id=\"DejaVuSans-34\" d=\"M 2419 4116 \nL 825 1625 \nL 2419 1625 \nL 2419 4116 \nz\nM 2253 4666 \nL 3047 4666 \nL 3047 1625 \nL 3713 1625 \nL 3713 1100 \nL 3047 1100 \nL 3047 0 \nL 2419 0 \nL 2419 1100 \nL 313 1100 \nL 313 1709 \nL 2253 4666 \nz\n\" transform=\"scale(0.015625)\"/>\n       </defs>\n       <use xlink:href=\"#DejaVuSans-30\"/>\n       <use xlink:href=\"#DejaVuSans-2e\" x=\"63.623047\"/>\n       <use xlink:href=\"#DejaVuSans-34\" x=\"95.410156\"/>\n      </g>\n     </g>\n    </g>\n    <g id=\"ytick_5\">\n     <g id=\"line2d_12\">\n      <g>\n       <use xlink:href=\"#m185a6b7698\" x=\"52.160938\" y=\"115.326305\" style=\"stroke: #000000; stroke-width: 0.8\"/>\n      </g>\n     </g>\n     <g id=\"text_13\">\n      <!-- 0.6 -->\n      <g transform=\"translate(29.257812 119.125524) scale(0.1 -0.1)\">\n       <defs>\n        <path id=\"DejaVuSans-36\" d=\"M 2113 2584 \nQ 1688 2584 1439 2293 \nQ 1191 2003 1191 1497 \nQ 1191 994 1439 701 \nQ 1688 409 2113 409 \nQ 2538 409 2786 701 \nQ 3034 994 3034 1497 \nQ 3034 2003 2786 2293 \nQ 2538 2584 2113 2584 \nz\nM 3366 4563 \nL 3366 3988 \nQ 3128 4100 2886 4159 \nQ 2644 4219 2406 4219 \nQ 1781 4219 1451 3797 \nQ 1122 3375 1075 2522 \nQ 1259 2794 1537 2939 \nQ 1816 3084 2150 3084 \nQ 2853 3084 3261 2657 \nQ 3669 2231 3669 1497 \nQ 3669 778 3244 343 \nQ 2819 -91 2113 -91 \nQ 1303 -91 875 529 \nQ 447 1150 447 2328 \nQ 447 3434 972 4092 \nQ 1497 4750 2381 4750 \nQ 2619 4750 2861 4703 \nQ 3103 4656 3366 4563 \nz\n\" transform=\"scale(0.015625)\"/>\n       </defs>\n       <use xlink:href=\"#DejaVuSans-30\"/>\n       <use xlink:href=\"#DejaVuSans-2e\" x=\"63.623047\"/>\n       <use xlink:href=\"#DejaVuSans-36\" x=\"95.410156\"/>\n      </g>\n     </g>\n    </g>\n    <g id=\"ytick_6\">\n     <g id=\"line2d_13\">\n      <g>\n       <use xlink:href=\"#m185a6b7698\" x=\"52.160938\" y=\"87.170767\" style=\"stroke: #000000; stroke-width: 0.8\"/>\n      </g>\n     </g>\n     <g id=\"text_14\">\n      <!-- 0.8 -->\n      <g transform=\"translate(29.257812 90.969986) scale(0.1 -0.1)\">\n       <defs>\n        <path id=\"DejaVuSans-38\" d=\"M 2034 2216 \nQ 1584 2216 1326 1975 \nQ 1069 1734 1069 1313 \nQ 1069 891 1326 650 \nQ 1584 409 2034 409 \nQ 2484 409 2743 651 \nQ 3003 894 3003 1313 \nQ 3003 1734 2745 1975 \nQ 2488 2216 2034 2216 \nz\nM 1403 2484 \nQ 997 2584 770 2862 \nQ 544 3141 544 3541 \nQ 544 4100 942 4425 \nQ 1341 4750 2034 4750 \nQ 2731 4750 3128 4425 \nQ 3525 4100 3525 3541 \nQ 3525 3141 3298 2862 \nQ 3072 2584 2669 2484 \nQ 3125 2378 3379 2068 \nQ 3634 1759 3634 1313 \nQ 3634 634 3220 271 \nQ 2806 -91 2034 -91 \nQ 1263 -91 848 271 \nQ 434 634 434 1313 \nQ 434 1759 690 2068 \nQ 947 2378 1403 2484 \nz\nM 1172 3481 \nQ 1172 3119 1398 2916 \nQ 1625 2713 2034 2713 \nQ 2441 2713 2670 2916 \nQ 2900 3119 2900 3481 \nQ 2900 3844 2670 4047 \nQ 2441 4250 2034 4250 \nQ 1625 4250 1398 4047 \nQ 1172 3844 1172 3481 \nz\n\" transform=\"scale(0.015625)\"/>\n       </defs>\n       <use xlink:href=\"#DejaVuSans-30\"/>\n       <use xlink:href=\"#DejaVuSans-2e\" x=\"63.623047\"/>\n       <use xlink:href=\"#DejaVuSans-38\" x=\"95.410156\"/>\n      </g>\n     </g>\n    </g>\n    <g id=\"ytick_7\">\n     <g id=\"line2d_14\">\n      <g>\n       <use xlink:href=\"#m185a6b7698\" x=\"52.160938\" y=\"59.015229\" style=\"stroke: #000000; stroke-width: 0.8\"/>\n      </g>\n     </g>\n     <g id=\"text_15\">\n      <!-- 1.0 -->\n      <g transform=\"translate(29.257812 62.814448) scale(0.1 -0.1)\">\n       <use xlink:href=\"#DejaVuSans-31\"/>\n       <use xlink:href=\"#DejaVuSans-2e\" x=\"63.623047\"/>\n       <use xlink:href=\"#DejaVuSans-30\" x=\"95.410156\"/>\n      </g>\n     </g>\n    </g>\n    <g id=\"ytick_8\">\n     <g id=\"line2d_15\">\n      <g>\n       <use xlink:href=\"#m185a6b7698\" x=\"52.160938\" y=\"30.859691\" style=\"stroke: #000000; stroke-width: 0.8\"/>\n      </g>\n     </g>\n     <g id=\"text_16\">\n      <!-- 1.2 -->\n      <g transform=\"translate(29.257812 34.65891) scale(0.1 -0.1)\">\n       <use xlink:href=\"#DejaVuSans-31\"/>\n       <use xlink:href=\"#DejaVuSans-2e\" x=\"63.623047\"/>\n       <use xlink:href=\"#DejaVuSans-32\" x=\"95.410156\"/>\n      </g>\n     </g>\n    </g>\n    <g id=\"text_17\">\n     <!-- $x_2$ -->\n     <g transform=\"translate(14.798438 138.548125) rotate(-90) scale(0.1 -0.1)\">\n      <use xlink:href=\"#DejaVuSans-Oblique-78\" transform=\"translate(0 0.3125)\"/>\n      <use xlink:href=\"#DejaVuSans-32\" transform=\"translate(59.179688 -16.09375) scale(0.7)\"/>\n     </g>\n    </g>\n   </g>\n   <g id=\"patch_3\">\n    <path d=\"M 52.160938 244.078125 \nL 52.160938 22.318125 \n\" style=\"fill: none; stroke: #000000; stroke-width: 0.8; stroke-linejoin: miter; stroke-linecap: square\"/>\n   </g>\n   <g id=\"patch_4\">\n    <path d=\"M 275.360937 244.078125 \nL 275.360937 22.318125 \n\" style=\"fill: none; stroke: #000000; stroke-width: 0.8; stroke-linejoin: miter; stroke-linecap: square\"/>\n   </g>\n   <g id=\"patch_5\">\n    <path d=\"M 52.160937 244.078125 \nL 275.360937 244.078125 \n\" style=\"fill: none; stroke: #000000; stroke-width: 0.8; stroke-linejoin: miter; stroke-linecap: square\"/>\n   </g>\n   <g id=\"patch_6\">\n    <path d=\"M 52.160937 22.318125 \nL 275.360937 22.318125 \n\" style=\"fill: none; stroke: #000000; stroke-width: 0.8; stroke-linejoin: miter; stroke-linecap: square\"/>\n   </g>\n   <g id=\"text_18\">\n    <!-- Dataset samples -->\n    <g transform=\"translate(113.418125 16.318125) scale(0.12 -0.12)\">\n     <defs>\n      <path id=\"DejaVuSans-44\" d=\"M 1259 4147 \nL 1259 519 \nL 2022 519 \nQ 2988 519 3436 956 \nQ 3884 1394 3884 2338 \nQ 3884 3275 3436 3711 \nQ 2988 4147 2022 4147 \nL 1259 4147 \nz\nM 628 4666 \nL 1925 4666 \nQ 3281 4666 3915 4102 \nQ 4550 3538 4550 2338 \nQ 4550 1131 3912 565 \nQ 3275 0 1925 0 \nL 628 0 \nL 628 4666 \nz\n\" transform=\"scale(0.015625)\"/>\n      <path id=\"DejaVuSans-61\" d=\"M 2194 1759 \nQ 1497 1759 1228 1600 \nQ 959 1441 959 1056 \nQ 959 750 1161 570 \nQ 1363 391 1709 391 \nQ 2188 391 2477 730 \nQ 2766 1069 2766 1631 \nL 2766 1759 \nL 2194 1759 \nz\nM 3341 1997 \nL 3341 0 \nL 2766 0 \nL 2766 531 \nQ 2569 213 2275 61 \nQ 1981 -91 1556 -91 \nQ 1019 -91 701 211 \nQ 384 513 384 1019 \nQ 384 1609 779 1909 \nQ 1175 2209 1959 2209 \nL 2766 2209 \nL 2766 2266 \nQ 2766 2663 2505 2880 \nQ 2244 3097 1772 3097 \nQ 1472 3097 1187 3025 \nQ 903 2953 641 2809 \nL 641 3341 \nQ 956 3463 1253 3523 \nQ 1550 3584 1831 3584 \nQ 2591 3584 2966 3190 \nQ 3341 2797 3341 1997 \nz\n\" transform=\"scale(0.015625)\"/>\n      <path id=\"DejaVuSans-74\" d=\"M 1172 4494 \nL 1172 3500 \nL 2356 3500 \nL 2356 3053 \nL 1172 3053 \nL 1172 1153 \nQ 1172 725 1289 603 \nQ 1406 481 1766 481 \nL 2356 481 \nL 2356 0 \nL 1766 0 \nQ 1100 0 847 248 \nQ 594 497 594 1153 \nL 594 3053 \nL 172 3053 \nL 172 3500 \nL 594 3500 \nL 594 4494 \nL 1172 4494 \nz\n\" transform=\"scale(0.015625)\"/>\n      <path id=\"DejaVuSans-73\" d=\"M 2834 3397 \nL 2834 2853 \nQ 2591 2978 2328 3040 \nQ 2066 3103 1784 3103 \nQ 1356 3103 1142 2972 \nQ 928 2841 928 2578 \nQ 928 2378 1081 2264 \nQ 1234 2150 1697 2047 \nL 1894 2003 \nQ 2506 1872 2764 1633 \nQ 3022 1394 3022 966 \nQ 3022 478 2636 193 \nQ 2250 -91 1575 -91 \nQ 1294 -91 989 -36 \nQ 684 19 347 128 \nL 347 722 \nQ 666 556 975 473 \nQ 1284 391 1588 391 \nQ 1994 391 2212 530 \nQ 2431 669 2431 922 \nQ 2431 1156 2273 1281 \nQ 2116 1406 1581 1522 \nL 1381 1569 \nQ 847 1681 609 1914 \nQ 372 2147 372 2553 \nQ 372 3047 722 3315 \nQ 1072 3584 1716 3584 \nQ 2034 3584 2315 3537 \nQ 2597 3491 2834 3397 \nz\n\" transform=\"scale(0.015625)\"/>\n      <path id=\"DejaVuSans-65\" d=\"M 3597 1894 \nL 3597 1613 \nL 953 1613 \nQ 991 1019 1311 708 \nQ 1631 397 2203 397 \nQ 2534 397 2845 478 \nQ 3156 559 3463 722 \nL 3463 178 \nQ 3153 47 2828 -22 \nQ 2503 -91 2169 -91 \nQ 1331 -91 842 396 \nQ 353 884 353 1716 \nQ 353 2575 817 3079 \nQ 1281 3584 2069 3584 \nQ 2775 3584 3186 3129 \nQ 3597 2675 3597 1894 \nz\nM 3022 2063 \nQ 3016 2534 2758 2815 \nQ 2500 3097 2075 3097 \nQ 1594 3097 1305 2825 \nQ 1016 2553 972 2059 \nL 3022 2063 \nz\n\" transform=\"scale(0.015625)\"/>\n      <path id=\"DejaVuSans-20\" transform=\"scale(0.015625)\"/>\n      <path id=\"DejaVuSans-6d\" d=\"M 3328 2828 \nQ 3544 3216 3844 3400 \nQ 4144 3584 4550 3584 \nQ 5097 3584 5394 3201 \nQ 5691 2819 5691 2113 \nL 5691 0 \nL 5113 0 \nL 5113 2094 \nQ 5113 2597 4934 2840 \nQ 4756 3084 4391 3084 \nQ 3944 3084 3684 2787 \nQ 3425 2491 3425 1978 \nL 3425 0 \nL 2847 0 \nL 2847 2094 \nQ 2847 2600 2669 2842 \nQ 2491 3084 2119 3084 \nQ 1678 3084 1418 2786 \nQ 1159 2488 1159 1978 \nL 1159 0 \nL 581 0 \nL 581 3500 \nL 1159 3500 \nL 1159 2956 \nQ 1356 3278 1631 3431 \nQ 1906 3584 2284 3584 \nQ 2666 3584 2933 3390 \nQ 3200 3197 3328 2828 \nz\n\" transform=\"scale(0.015625)\"/>\n      <path id=\"DejaVuSans-70\" d=\"M 1159 525 \nL 1159 -1331 \nL 581 -1331 \nL 581 3500 \nL 1159 3500 \nL 1159 2969 \nQ 1341 3281 1617 3432 \nQ 1894 3584 2278 3584 \nQ 2916 3584 3314 3078 \nQ 3713 2572 3713 1747 \nQ 3713 922 3314 415 \nQ 2916 -91 2278 -91 \nQ 1894 -91 1617 61 \nQ 1341 213 1159 525 \nz\nM 3116 1747 \nQ 3116 2381 2855 2742 \nQ 2594 3103 2138 3103 \nQ 1681 3103 1420 2742 \nQ 1159 2381 1159 1747 \nQ 1159 1113 1420 752 \nQ 1681 391 2138 391 \nQ 2594 391 2855 752 \nQ 3116 1113 3116 1747 \nz\n\" transform=\"scale(0.015625)\"/>\n      <path id=\"DejaVuSans-6c\" d=\"M 603 4863 \nL 1178 4863 \nL 1178 0 \nL 603 0 \nL 603 4863 \nz\n\" transform=\"scale(0.015625)\"/>\n     </defs>\n     <use xlink:href=\"#DejaVuSans-44\"/>\n     <use xlink:href=\"#DejaVuSans-61\" x=\"77.001953\"/>\n     <use xlink:href=\"#DejaVuSans-74\" x=\"138.28125\"/>\n     <use xlink:href=\"#DejaVuSans-61\" x=\"177.490234\"/>\n     <use xlink:href=\"#DejaVuSans-73\" x=\"238.769531\"/>\n     <use xlink:href=\"#DejaVuSans-65\" x=\"290.869141\"/>\n     <use xlink:href=\"#DejaVuSans-74\" x=\"352.392578\"/>\n     <use xlink:href=\"#DejaVuSans-20\" x=\"391.601562\"/>\n     <use xlink:href=\"#DejaVuSans-73\" x=\"423.388672\"/>\n     <use xlink:href=\"#DejaVuSans-61\" x=\"475.488281\"/>\n     <use xlink:href=\"#DejaVuSans-6d\" x=\"536.767578\"/>\n     <use xlink:href=\"#DejaVuSans-70\" x=\"634.179688\"/>\n     <use xlink:href=\"#DejaVuSans-6c\" x=\"697.65625\"/>\n     <use xlink:href=\"#DejaVuSans-65\" x=\"725.439453\"/>\n     <use xlink:href=\"#DejaVuSans-73\" x=\"786.962891\"/>\n    </g>\n   </g>\n   <g id=\"legend_1\">\n    <g id=\"patch_7\">\n     <path d=\"M 200.5125 149.37625 \nL 268.360937 149.37625 \nQ 270.360937 149.37625 270.360937 147.37625 \nL 270.360937 119.02 \nQ 270.360937 117.02 268.360937 117.02 \nL 200.5125 117.02 \nQ 198.5125 117.02 198.5125 119.02 \nL 198.5125 147.37625 \nQ 198.5125 149.37625 200.5125 149.37625 \nz\n\" style=\"fill: #ffffff; opacity: 0.8; stroke: #cccccc; stroke-linejoin: miter\"/>\n    </g>\n    <g id=\"PathCollection_3\">\n     <g>\n      <use xlink:href=\"#m1f93c9707d\" x=\"212.5125\" y=\"125.993437\" style=\"fill: #1f77b4; stroke: #333333\"/>\n     </g>\n    </g>\n    <g id=\"text_19\">\n     <!-- Class 0 -->\n     <g transform=\"translate(230.5125 128.618437) scale(0.1 -0.1)\">\n      <defs>\n       <path id=\"DejaVuSans-43\" d=\"M 4122 4306 \nL 4122 3641 \nQ 3803 3938 3442 4084 \nQ 3081 4231 2675 4231 \nQ 1875 4231 1450 3742 \nQ 1025 3253 1025 2328 \nQ 1025 1406 1450 917 \nQ 1875 428 2675 428 \nQ 3081 428 3442 575 \nQ 3803 722 4122 1019 \nL 4122 359 \nQ 3791 134 3420 21 \nQ 3050 -91 2638 -91 \nQ 1578 -91 968 557 \nQ 359 1206 359 2328 \nQ 359 3453 968 4101 \nQ 1578 4750 2638 4750 \nQ 3056 4750 3426 4639 \nQ 3797 4528 4122 4306 \nz\n\" transform=\"scale(0.015625)\"/>\n      </defs>\n      <use xlink:href=\"#DejaVuSans-43\"/>\n      <use xlink:href=\"#DejaVuSans-6c\" x=\"69.824219\"/>\n      <use xlink:href=\"#DejaVuSans-61\" x=\"97.607422\"/>\n      <use xlink:href=\"#DejaVuSans-73\" x=\"158.886719\"/>\n      <use xlink:href=\"#DejaVuSans-73\" x=\"210.986328\"/>\n      <use xlink:href=\"#DejaVuSans-20\" x=\"263.085938\"/>\n      <use xlink:href=\"#DejaVuSans-30\" x=\"294.873047\"/>\n     </g>\n    </g>\n    <g id=\"PathCollection_4\">\n     <g>\n      <use xlink:href=\"#mc2a1401fd3\" x=\"212.5125\" y=\"140.671562\" style=\"fill: #ff7f0e; stroke: #333333\"/>\n     </g>\n    </g>\n    <g id=\"text_20\">\n     <!-- Class 1 -->\n     <g transform=\"translate(230.5125 143.296562) scale(0.1 -0.1)\">\n      <use xlink:href=\"#DejaVuSans-43\"/>\n      <use xlink:href=\"#DejaVuSans-6c\" x=\"69.824219\"/>\n      <use xlink:href=\"#DejaVuSans-61\" x=\"97.607422\"/>\n      <use xlink:href=\"#DejaVuSans-73\" x=\"158.886719\"/>\n      <use xlink:href=\"#DejaVuSans-73\" x=\"210.986328\"/>\n      <use xlink:href=\"#DejaVuSans-20\" x=\"263.085938\"/>\n      <use xlink:href=\"#DejaVuSans-31\" x=\"294.873047\"/>\n     </g>\n    </g>\n   </g>\n  </g>\n </g>\n <defs>\n  <clipPath id=\"pe4139a7146\">\n   <rect x=\"52.160938\" y=\"22.318125\" width=\"223.2\" height=\"221.76\"/>\n  </clipPath>\n </defs>\n</svg>\n",
            "application/pdf": "[encoded data removed]"
          },
          "metadata": {}
        }
      ]
    },
    {
      "cell_type": "code",
      "source": [
        "#The data loader class\n",
        "\n",
        "#데이터 로더 클래스는 파이토치에서 torch.utils.data.DataLoader라는 이름으로 제공된다.\n",
        "\n",
        "#이 클래스는 데이터셋을 자동으로 배치로 묶고, 데이터를 불러오는 등의 다양한 기능을 지원하는 파이썬 반복 객체를 나타냄.\n",
        "\n",
        "#shuffle:데이터를 무작위 순서로 반환 / 훈련과정에서 무작위성을 도입하여 모델이 다양한 패턴을 학습하도록 도와줌.\n",
        "#num_workers:데이터를 불러올때 사용할 서브프로세스의 수를 설정\n",
        "#(기본값0-이때 데이터가 메인 프로세서에 불러와짐, 로딩이 오래 걸릴수 있음.이럴때는 값을 늘리는게 좋다)\n",
        "\n",
        "#pin_memory:True 이면 데이터로더는 텐서를반환하기 전에 CUDA고정 메모리에 복사. 메모리 사정 봐가며 유동적으로 사용해야함.\n",
        "#drop_last:True 이면 지정된 배치 크기보다 작은 경우 마지막 배치가 삭제됨. 일관된 배치크기를 유지하기 위해 훈련중에만 잠재적으로 유용."
      ],
      "metadata": {
        "id": "3PW_40LZdrBx"
      },
      "execution_count": 30,
      "outputs": []
    },
    {
      "cell_type": "code",
      "source": [
        "data_loader = data.DataLoader(dataset, batch_size=8, shuffle=True)\n",
        "#dataset은 내가 클래스로 정해주고, dataloader는 파이토치 모듈안에 이미 존재하는 것 같다."
      ],
      "metadata": {
        "id": "7W_5EpqLoh_1"
      },
      "execution_count": 31,
      "outputs": []
    },
    {
      "cell_type": "code",
      "source": [
        "# next(iter(...)) catches the first batch of the data loader\n",
        "# If shuffle is True, this will return a different batch every time we run this cell\n",
        "# For iterating over the whole dataset, we can simple use \"for batch in data_loader: ...\"\n",
        "data_inputs, data_labels = next(iter(data_loader))\n",
        "\n",
        "# The shape of the outputs are [batch_size, d_1,...,d_N] where d_1,...,d_N are the\n",
        "# dimensions of the data point returned from the dataset class\n",
        "print(\"Data inputs\", data_inputs.shape, \"\\n\", data_inputs)\n",
        "print(\"Data labels\", data_labels.shape, \"\\n\", data_labels)"
      ],
      "metadata": {
        "colab": {
          "base_uri": "https://localhost:8080/"
        },
        "id": "5Wz--akZomjE",
        "outputId": "43c573d0-b32c-46fd-cc40-42c543303fad"
      },
      "execution_count": 32,
      "outputs": [
        {
          "output_type": "stream",
          "name": "stdout",
          "text": [
            "Data inputs torch.Size([8, 2]) \n",
            " tensor([[-0.0890,  0.8608],\n",
            "        [ 1.0905, -0.0128],\n",
            "        [ 0.7967,  0.2268],\n",
            "        [-0.0688,  0.0371],\n",
            "        [ 0.8732, -0.2240],\n",
            "        [-0.0559, -0.0282],\n",
            "        [ 0.9277,  0.0978],\n",
            "        [ 1.0150,  0.9689]])\n",
            "Data labels torch.Size([8]) \n",
            " tensor([1, 1, 1, 0, 1, 0, 1, 0])\n"
          ]
        }
      ]
    },
    {
      "cell_type": "code",
      "source": [
        "#Optimization\n",
        "\n",
        "#모델과 데이터 세트를 정의했으면, 최적화를 준비한다.\n",
        "#1-데이터 로더에서 배치 가져오기\n",
        "#2-배치에 대한 모델에서 예측을 얻기\n",
        "#3-예측과 레이블의 차이에 따라 손실을 계산\n",
        "#4-역전파: 손실을 기준으로 모든 매개변수에 대한 기울기를 계산\n",
        "#5-그래디언트 방향으로 모델의 매개변수를 업데이트\n",
        "\n",
        "\n",
        "#Loss modules\n",
        "#nn.BCELoss()와 nn.BCEWithLogitsLoss() 두개의 정의된 손실함수가 있다.\n",
        "#nn.BCELoss()가 입력으로 시그모이드를 통과한 값을 받는데 반해 nn.BCEWithLogitsLoss()은\n",
        "#입력값이 로짓값인 것을 전제로 하여, 함수내부에서 로짓 값을 자동으로 시그모이드 함수에 넣어\n",
        "#확률로 변환한 다음 BCE손실을 계산한다. - 이는 수치적으로 더 안정적이다.\n",
        "#따라서 로짓이 적용된 손실함수를 사용할 때는 출력에 시그모이드를 적용하지 않도록 주의"
      ],
      "metadata": {
        "id": "-pKpYDvvqA8e"
      },
      "execution_count": 33,
      "outputs": []
    },
    {
      "cell_type": "code",
      "source": [
        "loss_module = nn.BCEWithLogitsLoss()"
      ],
      "metadata": {
        "id": "A_06Z-rQMdVe"
      },
      "execution_count": 34,
      "outputs": []
    },
    {
      "cell_type": "code",
      "source": [
        "#Stochastic gradient descent 확률적 경사 하강법\n",
        "\n",
        "#torch.optim - torch.optim.SGD\n",
        "\n",
        "# Input to the optimizer are the parameters of the model: model.parameters()\n",
        "optimizer = torch.optim.SGD(model.parameters(), lr=0.1)\n",
        "\n",
        "#optimizer.zero_grad() - 모든 매개변수의 기울기를 0으로 설정/역전파를 수행하기 전 중요한 사전단계\n",
        "#역전파를 통해 미분 값을 계산 시, 기본적으로 미분값은 파라미터에 더해진다.\n",
        "#이때 각 배치바다 새로운 미분 값을 계산하고 이를 기반으로 파라미터를 올바르게 업데이트 하기\n",
        "#위해서는 이전 배치의 미분값을 남겨두면 안된다. 따라서 모든 배치바다optimizer.zero_grad()를 호출한다.\n",
        "\n",
        "\n"
      ],
      "metadata": {
        "id": "j7b0_9j0MnwP"
      },
      "execution_count": 35,
      "outputs": []
    },
    {
      "cell_type": "code",
      "source": [
        "#Training\n",
        "\n",
        "#모델 훈련 전, 약간 더 큰 데이터 셋을 만들고 더 큰 배치크기의 데이터 로더를 지정\n",
        "\n",
        "train_dataset = XORDataset(size=1000)\n",
        "train_data_loader = data.DataLoader(train_dataset, batch_size=128, shuffle=True)\n",
        "\n",
        "#5단계 기억 - 배치로드, 예측획득, 손실계산, 역전파, 업데이트\n",
        "\n",
        "# Push model to device. Has to be only done once\n",
        "model.to(device) #모델을 위에서 이미 정의했다."
      ],
      "metadata": {
        "id": "SyjzkMJTNIEj",
        "colab": {
          "base_uri": "https://localhost:8080/"
        },
        "outputId": "0751bffc-4af1-4550-8316-591dcd873e51"
      },
      "execution_count": 36,
      "outputs": [
        {
          "output_type": "execute_result",
          "data": {
            "text/plain": [
              "SimpleClassifier(\n",
              "  (linear1): Linear(in_features=2, out_features=4, bias=True)\n",
              "  (act_fn): Tanh()\n",
              "  (linear2): Linear(in_features=4, out_features=1, bias=True)\n",
              ")"
            ]
          },
          "metadata": {},
          "execution_count": 36
        }
      ]
    },
    {
      "cell_type": "code",
      "source": [
        "#훈련중과 테스트중일때 사용되는 서로다른 모듈이 있다. 따라서, model.train() 과 model.eval()로 스위치한다.\n",
        "\n",
        "\n",
        "def train_model(model, optimizer, data_loader, loss_module, num_epochs=100):\n",
        "    model.train()\n",
        "\n",
        "    # Training loop\n",
        "    for epoch in tqdm(range(num_epochs)):   #tqdm = 파이썬에서 반복문의 진행상황을 시각적으로 표시해줌.\n",
        "        for data_inputs, data_labels in data_loader:\n",
        "            # Step 1: Move input data to device (only strictly necessary if we use GPU)\n",
        "            data_inputs = data_inputs.to(device)\n",
        "            data_labels = data_labels.to(device)\n",
        "\n",
        "            # Step 2: Run the model on the input data\n",
        "            preds = model(data_inputs)\n",
        "            preds = preds.squeeze(dim=1)  # Output is [Batch size, 1], but we want [Batch size]\n",
        "\n",
        "            # Step 3: Calculate the loss\n",
        "            loss = loss_module(preds, data_labels.float())\n",
        "\n",
        "            # Step 4: Perform backpropagation\n",
        "            # Before calculating the gradients, we need to ensure that they are all zero.\n",
        "            # The gradients would not be overwritten, but actually added to the existing ones.\n",
        "            optimizer.zero_grad()\n",
        "            # Perform backpropagation\n",
        "            loss.backward()\n",
        "\n",
        "            # Step 5: Update the parameters\n",
        "            optimizer.step()"
      ],
      "metadata": {
        "id": "RBTqr3GeXedz"
      },
      "execution_count": 37,
      "outputs": []
    },
    {
      "cell_type": "code",
      "source": [
        "train_model(model, optimizer, train_data_loader, loss_module)"
      ],
      "metadata": {
        "colab": {
          "base_uri": "https://localhost:8080/",
          "height": 49,
          "referenced_widgets": [
            "018f39fb743a4eca865f7c3159d58d20",
            "254982a994544ccba52630d6e09e90a9",
            "9fb599f1127a40e395ac8e20f349c281",
            "67aba299e3dc415e906e952caaec0a67",
            "17bf0763c08b4fc7b7f551f19beb4635",
            "4d37fa985d7347eb8b0db57054bfc6e9",
            "f96a093e0b7d4999beb1f2e5d710c97a",
            "6e70989337914993aef2753a1b506389",
            "9ae66eb5a93f455e80d337e60a72e7d5",
            "462e126c1d47474483d29d2ac2e714b7",
            "747fb92ce85b4599b5795e5d8f93b0f6"
          ]
        },
        "id": "Yb1WDl7RZtWw",
        "outputId": "3587a02a-67aa-44c3-d2e8-40572f8cd7ad"
      },
      "execution_count": 38,
      "outputs": [
        {
          "output_type": "display_data",
          "data": {
            "text/plain": [
              "  0%|          | 0/100 [00:00<?, ?it/s]"
            ],
            "application/vnd.jupyter.widget-view+json": {
              "version_major": 2,
              "version_minor": 0,
              "model_id": "018f39fb743a4eca865f7c3159d58d20"
            }
          },
          "metadata": {}
        }
      ]
    },
    {
      "cell_type": "code",
      "source": [
        "#모델 저장 - 파라미터 저장\n",
        "\n",
        "state_dict = model.state_dict() #파라미터를 담고 있는 딕셔너리\n",
        "print(state_dict)"
      ],
      "metadata": {
        "colab": {
          "base_uri": "https://localhost:8080/"
        },
        "id": "mCRIW8WJZxOf",
        "outputId": "143a42ee-178d-490a-e194-5d7ccc9745d7"
      },
      "execution_count": 39,
      "outputs": [
        {
          "output_type": "stream",
          "name": "stdout",
          "text": [
            "OrderedDict([('linear1.weight', tensor([[-2.0209, -2.3101],\n",
            "        [ 1.3066, -1.8463],\n",
            "        [-1.5089, -0.6550],\n",
            "        [-0.7824, -0.9385]], device='cuda:0')), ('linear1.bias', tensor([ 0.7382, -0.9136,  1.4607, -0.1769], device='cuda:0')), ('linear2.weight', tensor([[-2.5543,  1.9722,  2.1591, -0.4553]], device='cuda:0')), ('linear2.bias', tensor([-1.0225], device='cuda:0'))])\n"
          ]
        }
      ]
    },
    {
      "cell_type": "code",
      "source": [
        "#모델의 상태를 저장한 것을 파일로 저장\n",
        "\n",
        "# torch.save(object, filename). For the filename, any extension can be used\n",
        "torch.save(state_dict, \"our_model.tar\")"
      ],
      "metadata": {
        "id": "_ipk2eojaFGK"
      },
      "execution_count": 40,
      "outputs": []
    },
    {
      "cell_type": "code",
      "source": [
        "# Load state dict from the disk (make sure it is the same name as above)\n",
        "state_dict = torch.load(\"our_model.tar\")\n",
        "\n",
        "# Create a new model and load the state\n",
        "new_model = SimpleClassifier(num_inputs=2, num_hidden=4, num_outputs=1)\n",
        "new_model.load_state_dict(state_dict)\n",
        "\n",
        "# Verify that the parameters are the same\n",
        "print(\"Original model\\n\", model.state_dict())\n",
        "print(\"\\nLoaded model\\n\", new_model.state_dict())\n",
        "\n",
        "#동일한 파라미터 도출"
      ],
      "metadata": {
        "colab": {
          "base_uri": "https://localhost:8080/"
        },
        "id": "YP6UEx91aYW8",
        "outputId": "c854c5c7-b26c-4ccf-b7bd-00fccc98bdf5"
      },
      "execution_count": 41,
      "outputs": [
        {
          "output_type": "stream",
          "name": "stdout",
          "text": [
            "Original model\n",
            " OrderedDict([('linear1.weight', tensor([[-2.0209, -2.3101],\n",
            "        [ 1.3066, -1.8463],\n",
            "        [-1.5089, -0.6550],\n",
            "        [-0.7824, -0.9385]], device='cuda:0')), ('linear1.bias', tensor([ 0.7382, -0.9136,  1.4607, -0.1769], device='cuda:0')), ('linear2.weight', tensor([[-2.5543,  1.9722,  2.1591, -0.4553]], device='cuda:0')), ('linear2.bias', tensor([-1.0225], device='cuda:0'))])\n",
            "\n",
            "Loaded model\n",
            " OrderedDict([('linear1.weight', tensor([[-2.0209, -2.3101],\n",
            "        [ 1.3066, -1.8463],\n",
            "        [-1.5089, -0.6550],\n",
            "        [-0.7824, -0.9385]])), ('linear1.bias', tensor([ 0.7382, -0.9136,  1.4607, -0.1769])), ('linear2.weight', tensor([[-2.5543,  1.9722,  2.1591, -0.4553]])), ('linear2.bias', tensor([-1.0225]))])\n"
          ]
        },
        {
          "output_type": "stream",
          "name": "stderr",
          "text": [
            "<ipython-input-41-e81ffd59f3f2>:2: FutureWarning: You are using `torch.load` with `weights_only=False` (the current default value), which uses the default pickle module implicitly. It is possible to construct malicious pickle data which will execute arbitrary code during unpickling (See https://github.com/pytorch/pytorch/blob/main/SECURITY.md#untrusted-models for more details). In a future release, the default value for `weights_only` will be flipped to `True`. This limits the functions that could be executed during unpickling. Arbitrary objects will no longer be allowed to be loaded via this mode unless they are explicitly allowlisted by the user via `torch.serialization.add_safe_globals`. We recommend you start setting `weights_only=True` for any use case where you don't have full control of the loaded file. Please open an issue on GitHub for any issues related to this experimental feature.\n",
            "  state_dict = torch.load(\"our_model.tar\")\n"
          ]
        }
      ]
    },
    {
      "cell_type": "code",
      "source": [
        "#evaluation\n",
        "\n",
        "#먼저, 데이터 로더가 있는 데스트 세트를 만들어야 함.\n",
        "test_dataset = XORDataset(size=500)\n",
        "# drop_last -> Don't drop the last batch although it is smaller than 128\n",
        "test_data_loader = data.DataLoader(test_dataset, batch_size=128, shuffle=False, drop_last=False)"
      ],
      "metadata": {
        "id": "7zlFSQQjdCcX"
      },
      "execution_count": 42,
      "outputs": []
    },
    {
      "cell_type": "code",
      "source": [
        "#모델 평가시 그래디언트 계산 할 필요 X, 따라서 평가모드에서는 계산그래프를 비활성화(속도 빨라짐)\n",
        "\n",
        "def eval_model(model, data_loader):\n",
        "    model.eval()  # Set model to eval mode\n",
        "    true_preds, num_preds = 0.0, 0.0\n",
        "\n",
        "    with torch.no_grad():  # Deactivate gradients for the following code\n",
        "        for data_inputs, data_labels in data_loader:\n",
        "            # Determine prediction of model on dev set\n",
        "            data_inputs, data_labels = data_inputs.to(device), data_labels.to(device)\n",
        "            preds = model(data_inputs)\n",
        "            preds = preds.squeeze(dim=1)\n",
        "            preds = torch.sigmoid(preds)  # Sigmoid to map predictions between 0 and 1\n",
        "            pred_labels = (preds >= 0.5).long()  # Binarize predictions to 0 and 1\n",
        "\n",
        "            # Keep records of predictions for the accuracy metric (true_preds=TP+TN, num_preds=TP+TN+FP+FN)\n",
        "            true_preds += (pred_labels == data_labels).sum()\n",
        "            num_preds += data_labels.shape[0]\n",
        "\n",
        "    acc = true_preds / num_preds\n",
        "    print(f\"Accuracy of the model: {100.0*acc:4.2f}%\")"
      ],
      "metadata": {
        "id": "y9Y8v3oKetap"
      },
      "execution_count": 43,
      "outputs": []
    },
    {
      "cell_type": "code",
      "source": [
        "eval_model(model, test_data_loader)"
      ],
      "metadata": {
        "colab": {
          "base_uri": "https://localhost:8080/"
        },
        "id": "FwygkzG-gH9R",
        "outputId": "9c3dee6d-ffad-4da9-dbb0-045b67585e79"
      },
      "execution_count": 44,
      "outputs": [
        {
          "output_type": "stream",
          "name": "stdout",
          "text": [
            "Accuracy of the model: 100.00%\n"
          ]
        }
      ]
    },
    {
      "cell_type": "code",
      "source": [
        "#분류 경계 시각화 Visualizing classification boundaries\n",
        "\n",
        "\n",
        "@torch.no_grad()  # Decorator, same effect as \"with torch.no_grad(): ...\" over the whole function.\n",
        "def visualize_classification(model, data, label):\n",
        "    if isinstance(data, Tensor):\n",
        "        data = data.cpu().numpy()\n",
        "    if isinstance(label, Tensor):\n",
        "        label = label.cpu().numpy()\n",
        "    data_0 = data[label == 0]\n",
        "    data_1 = data[label == 1]\n",
        "\n",
        "    plt.figure(figsize=(4, 4))\n",
        "    plt.scatter(data_0[:, 0], data_0[:, 1], edgecolor=\"#333\", label=\"Class 0\")\n",
        "    plt.scatter(data_1[:, 0], data_1[:, 1], edgecolor=\"#333\", label=\"Class 1\")\n",
        "    plt.title(\"Dataset samples\")\n",
        "    plt.ylabel(r\"$x_2$\")\n",
        "    plt.xlabel(r\"$x_1$\")\n",
        "    plt.legend()\n",
        "\n",
        "    # Let's make use of a lot of operations we have learned above\n",
        "    model.to(device)\n",
        "    c0 = Tensor(to_rgba(\"C0\")).to(device)\n",
        "    c1 = Tensor(to_rgba(\"C1\")).to(device)\n",
        "    x1 = torch.arange(-0.5, 1.5, step=0.01, device=device)\n",
        "    x2 = torch.arange(-0.5, 1.5, step=0.01, device=device)\n",
        "    xx1, xx2 = torch.meshgrid(x1, x2)  # Meshgrid function as in numpy\n",
        "    model_inputs = torch.stack([xx1, xx2], dim=-1)\n",
        "    preds = model(model_inputs)\n",
        "    preds = torch.sigmoid(preds)\n",
        "    # Specifying \"None\" in a dimension creates a new one\n",
        "    output_image = (1 - preds) * c0[None, None] + preds * c1[None, None]\n",
        "    output_image = (\n",
        "        output_image.cpu().numpy()\n",
        "    )  # Convert to numpy array. This only works for tensors on CPU, hence first push to CPU\n",
        "    plt.imshow(output_image, origin=\"lower\", extent=(-0.5, 1.5, -0.5, 1.5))\n",
        "    plt.grid(False)\n",
        "\n",
        "\n",
        "visualize_classification(model, dataset.data, dataset.label)\n",
        "plt.show()\n"
      ],
      "metadata": {
        "colab": {
          "base_uri": "https://localhost:8080/",
          "height": 453
        },
        "id": "m84mjRsYgMqz",
        "outputId": "98ef7e66-9b54-4e0a-a450-39252856aebe"
      },
      "execution_count": 45,
      "outputs": [
        {
          "output_type": "stream",
          "name": "stderr",
          "text": [
            "/usr/local/lib/python3.10/dist-packages/torch/functional.py:534: UserWarning: torch.meshgrid: in an upcoming release, it will be required to pass the indexing argument. (Triggered internally at ../aten/src/ATen/native/TensorShape.cpp:3595.)\n",
            "  return _VF.meshgrid(tensors, **kwargs)  # type: ignore[attr-defined]\n"
          ]
        },
        {
          "output_type": "display_data",
          "data": {
            "text/plain": [
              "<Figure size 400x400 with 1 Axes>"
            ],
            "image/svg+xml": "<?xml version=\"1.0\" encoding=\"utf-8\" standalone=\"no\"?>\n<!DOCTYPE svg PUBLIC \"-//W3C//DTD SVG 1.1//EN\"\n  \"http://www.w3.org/Graphics/SVG/1.1/DTD/svg11.dtd\">\n<svg xmlns:xlink=\"http://www.w3.org/1999/xlink\" width=\"295.435pt\" height=\"281.634375pt\" viewBox=\"0 0 295.435 281.634375\" xmlns=\"http://www.w3.org/2000/svg\" version=\"1.1\">\n <metadata>\n  <rdf:RDF xmlns:dc=\"http://purl.org/dc/elements/1.1/\" xmlns:cc=\"http://creativecommons.org/ns#\" xmlns:rdf=\"http://www.w3.org/1999/02/22-rdf-syntax-ns#\">\n   <cc:Work>\n    <dc:type rdf:resource=\"http://purl.org/dc/dcmitype/StillImage\"/>\n    <dc:date>2025-01-03T05:24:03.866020</dc:date>\n    <dc:format>image/svg+xml</dc:format>\n    <dc:creator>\n     <cc:Agent>\n      <dc:title>Matplotlib v3.8.0, https://matplotlib.org/</dc:title>\n     </cc:Agent>\n    </dc:creator>\n   </cc:Work>\n  </rdf:RDF>\n </metadata>\n <defs>\n  <style type=\"text/css\">*{stroke-linejoin: round; stroke-linecap: butt}</style>\n </defs>\n <g id=\"figure_1\">\n  <g id=\"patch_1\">\n   <path d=\"M 0 281.634375 \nL 295.435 281.634375 \nL 295.435 0 \nL 0 0 \nz\n\" style=\"fill: #ffffff\"/>\n  </g>\n  <g id=\"axes_1\">\n   <g id=\"patch_2\">\n    <path d=\"M 58.523438 244.078125 \nL 280.283437 244.078125 \nL 280.283437 22.318125 \nL 58.523438 22.318125 \nz\n\" style=\"fill: #ffffff\"/>\n   </g>\n   <g clip-path=\"url(#p5289c7df90)\">\n    <image xlink:href=\"data:image/png;base64,\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\" id=\"image5ce64c0f8c\" transform=\"scale(1 -1) translate(0 -221.76)\" x=\"58.523438\" y=\"-22.318125\" width=\"221.76\" height=\"221.76\"/>\n   </g>\n   <g id=\"PathCollection_1\">\n    <defs>\n     <path id=\"m975914c106\" d=\"M 0 3 \nC 0.795609 3 1.55874 2.683901 2.12132 2.12132 \nC 2.683901 1.55874 3 0.795609 3 0 \nC 3 -0.795609 2.683901 -1.55874 2.12132 -2.12132 \nC 1.55874 -2.683901 0.795609 -3 0 -3 \nC -0.795609 -3 -1.55874 -2.683901 -2.12132 -2.12132 \nC -2.683901 -1.55874 -3 -0.795609 -3 0 \nC -3 0.795609 -2.683901 1.55874 -2.12132 2.12132 \nC -1.55874 2.683901 -0.795609 3 0 3 \nz\n\" style=\"stroke: #333333\"/>\n    </defs>\n    <g clip-path=\"url(#p5289c7df90)\">\n     <use xlink:href=\"#m975914c106\" x=\"113.195515\" y=\"186.220054\" style=\"fill: #1f77b4; stroke: #333333\"/>\n     <use xlink:href=\"#m975914c106\" x=\"221.710782\" y=\"80.846467\" style=\"fill: #1f77b4; stroke: #333333\"/>\n     <use xlink:href=\"#m975914c106\" x=\"243.232044\" y=\"82.16015\" style=\"fill: #1f77b4; stroke: #333333\"/>\n     <use xlink:href=\"#m975914c106\" x=\"123.269298\" y=\"195.12372\" style=\"fill: #1f77b4; stroke: #333333\"/>\n     <use xlink:href=\"#m975914c106\" x=\"117.203806\" y=\"195.632543\" style=\"fill: #1f77b4; stroke: #333333\"/>\n     <use xlink:href=\"#m975914c106\" x=\"92.948143\" y=\"183.1958\" style=\"fill: #1f77b4; stroke: #333333\"/>\n     <use xlink:href=\"#m975914c106\" x=\"230.366588\" y=\"77.971621\" style=\"fill: #1f77b4; stroke: #333333\"/>\n     <use xlink:href=\"#m975914c106\" x=\"221.678048\" y=\"72.24781\" style=\"fill: #1f77b4; stroke: #333333\"/>\n     <use xlink:href=\"#m975914c106\" x=\"111.330726\" y=\"195.237069\" style=\"fill: #1f77b4; stroke: #333333\"/>\n     <use xlink:href=\"#m975914c106\" x=\"226.092545\" y=\"73.960007\" style=\"fill: #1f77b4; stroke: #333333\"/>\n     <use xlink:href=\"#m975914c106\" x=\"118.976316\" y=\"191.830507\" style=\"fill: #1f77b4; stroke: #333333\"/>\n     <use xlink:href=\"#m975914c106\" x=\"240.494625\" y=\"56.793833\" style=\"fill: #1f77b4; stroke: #333333\"/>\n     <use xlink:href=\"#m975914c106\" x=\"226.507455\" y=\"81.203662\" style=\"fill: #1f77b4; stroke: #333333\"/>\n     <use xlink:href=\"#m975914c106\" x=\"221.800638\" y=\"77.31962\" style=\"fill: #1f77b4; stroke: #333333\"/>\n     <use xlink:href=\"#m975914c106\" x=\"111.558742\" y=\"201.723884\" style=\"fill: #1f77b4; stroke: #333333\"/>\n     <use xlink:href=\"#m975914c106\" x=\"107.53589\" y=\"179.56279\" style=\"fill: #1f77b4; stroke: #333333\"/>\n     <use xlink:href=\"#m975914c106\" x=\"237.067058\" y=\"103.875214\" style=\"fill: #1f77b4; stroke: #333333\"/>\n     <use xlink:href=\"#m975914c106\" x=\"239.903374\" y=\"98.203633\" style=\"fill: #1f77b4; stroke: #333333\"/>\n     <use xlink:href=\"#m975914c106\" x=\"216.952501\" y=\"78.431175\" style=\"fill: #1f77b4; stroke: #333333\"/>\n     <use xlink:href=\"#m975914c106\" x=\"101.773065\" y=\"198.973538\" style=\"fill: #1f77b4; stroke: #333333\"/>\n     <use xlink:href=\"#m975914c106\" x=\"239.23\" y=\"57.133746\" style=\"fill: #1f77b4; stroke: #333333\"/>\n     <use xlink:href=\"#m975914c106\" x=\"232.177523\" y=\"79.087901\" style=\"fill: #1f77b4; stroke: #333333\"/>\n     <use xlink:href=\"#m975914c106\" x=\"127.672885\" y=\"172.172485\" style=\"fill: #1f77b4; stroke: #333333\"/>\n     <use xlink:href=\"#m975914c106\" x=\"218.992926\" y=\"56.901864\" style=\"fill: #1f77b4; stroke: #333333\"/>\n     <use xlink:href=\"#m975914c106\" x=\"115.968899\" y=\"187.386303\" style=\"fill: #1f77b4; stroke: #333333\"/>\n     <use xlink:href=\"#m975914c106\" x=\"218.312949\" y=\"72.299531\" style=\"fill: #1f77b4; stroke: #333333\"/>\n     <use xlink:href=\"#m975914c106\" x=\"105.656917\" y=\"175.108704\" style=\"fill: #1f77b4; stroke: #333333\"/>\n     <use xlink:href=\"#m975914c106\" x=\"236.635096\" y=\"70.105937\" style=\"fill: #1f77b4; stroke: #333333\"/>\n     <use xlink:href=\"#m975914c106\" x=\"233.17307\" y=\"80.338555\" style=\"fill: #1f77b4; stroke: #333333\"/>\n     <use xlink:href=\"#m975914c106\" x=\"228.203395\" y=\"66.025246\" style=\"fill: #1f77b4; stroke: #333333\"/>\n     <use xlink:href=\"#m975914c106\" x=\"110.021339\" y=\"179.02908\" style=\"fill: #1f77b4; stroke: #333333\"/>\n     <use xlink:href=\"#m975914c106\" x=\"119.746142\" y=\"199.381179\" style=\"fill: #1f77b4; stroke: #333333\"/>\n     <use xlink:href=\"#m975914c106\" x=\"106.039897\" y=\"167.182692\" style=\"fill: #1f77b4; stroke: #333333\"/>\n     <use xlink:href=\"#m975914c106\" x=\"114.341698\" y=\"192.641004\" style=\"fill: #1f77b4; stroke: #333333\"/>\n     <use xlink:href=\"#m975914c106\" x=\"125.898594\" y=\"192.278562\" style=\"fill: #1f77b4; stroke: #333333\"/>\n     <use xlink:href=\"#m975914c106\" x=\"110.857315\" y=\"188.129039\" style=\"fill: #1f77b4; stroke: #333333\"/>\n     <use xlink:href=\"#m975914c106\" x=\"126.506099\" y=\"201.390996\" style=\"fill: #1f77b4; stroke: #333333\"/>\n     <use xlink:href=\"#m975914c106\" x=\"207.214366\" y=\"62.752964\" style=\"fill: #1f77b4; stroke: #333333\"/>\n     <use xlink:href=\"#m975914c106\" x=\"238.778991\" y=\"82.822342\" style=\"fill: #1f77b4; stroke: #333333\"/>\n     <use xlink:href=\"#m975914c106\" x=\"226.623046\" y=\"82.143542\" style=\"fill: #1f77b4; stroke: #333333\"/>\n     <use xlink:href=\"#m975914c106\" x=\"110.815765\" y=\"195.927818\" style=\"fill: #1f77b4; stroke: #333333\"/>\n     <use xlink:href=\"#m975914c106\" x=\"214.22789\" y=\"102.492744\" style=\"fill: #1f77b4; stroke: #333333\"/>\n     <use xlink:href=\"#m975914c106\" x=\"232.910258\" y=\"76.537965\" style=\"fill: #1f77b4; stroke: #333333\"/>\n     <use xlink:href=\"#m975914c106\" x=\"114.471897\" y=\"201.322981\" style=\"fill: #1f77b4; stroke: #333333\"/>\n     <use xlink:href=\"#m975914c106\" x=\"124.624715\" y=\"205.781717\" style=\"fill: #1f77b4; stroke: #333333\"/>\n     <use xlink:href=\"#m975914c106\" x=\"131.555264\" y=\"173.128814\" style=\"fill: #1f77b4; stroke: #333333\"/>\n     <use xlink:href=\"#m975914c106\" x=\"219.611254\" y=\"88.656715\" style=\"fill: #1f77b4; stroke: #333333\"/>\n     <use xlink:href=\"#m975914c106\" x=\"209.760052\" y=\"66.559184\" style=\"fill: #1f77b4; stroke: #333333\"/>\n     <use xlink:href=\"#m975914c106\" x=\"108.486509\" y=\"196.251498\" style=\"fill: #1f77b4; stroke: #333333\"/>\n     <use xlink:href=\"#m975914c106\" x=\"220.575601\" y=\"85.93973\" style=\"fill: #1f77b4; stroke: #333333\"/>\n     <use xlink:href=\"#m975914c106\" x=\"115.058788\" y=\"192.411682\" style=\"fill: #1f77b4; stroke: #333333\"/>\n     <use xlink:href=\"#m975914c106\" x=\"229.895752\" y=\"57.924442\" style=\"fill: #1f77b4; stroke: #333333\"/>\n     <use xlink:href=\"#m975914c106\" x=\"112.280493\" y=\"182.552864\" style=\"fill: #1f77b4; stroke: #333333\"/>\n     <use xlink:href=\"#m975914c106\" x=\"218.195244\" y=\"92.438423\" style=\"fill: #1f77b4; stroke: #333333\"/>\n     <use xlink:href=\"#m975914c106\" x=\"227.390466\" y=\"69.031492\" style=\"fill: #1f77b4; stroke: #333333\"/>\n     <use xlink:href=\"#m975914c106\" x=\"92.949807\" y=\"184.038091\" style=\"fill: #1f77b4; stroke: #333333\"/>\n     <use xlink:href=\"#m975914c106\" x=\"209.661453\" y=\"68.839158\" style=\"fill: #1f77b4; stroke: #333333\"/>\n     <use xlink:href=\"#m975914c106\" x=\"233.929427\" y=\"83.633705\" style=\"fill: #1f77b4; stroke: #333333\"/>\n     <use xlink:href=\"#m975914c106\" x=\"102.508209\" y=\"189.029698\" style=\"fill: #1f77b4; stroke: #333333\"/>\n     <use xlink:href=\"#m975914c106\" x=\"111.835358\" y=\"215.578994\" style=\"fill: #1f77b4; stroke: #333333\"/>\n     <use xlink:href=\"#m975914c106\" x=\"111.399635\" y=\"191.479002\" style=\"fill: #1f77b4; stroke: #333333\"/>\n     <use xlink:href=\"#m975914c106\" x=\"96.899612\" y=\"191.587679\" style=\"fill: #1f77b4; stroke: #333333\"/>\n     <use xlink:href=\"#m975914c106\" x=\"245.296645\" y=\"83.744325\" style=\"fill: #1f77b4; stroke: #333333\"/>\n     <use xlink:href=\"#m975914c106\" x=\"218.188469\" y=\"90.176102\" style=\"fill: #1f77b4; stroke: #333333\"/>\n     <use xlink:href=\"#m975914c106\" x=\"238.904561\" y=\"62.800786\" style=\"fill: #1f77b4; stroke: #333333\"/>\n     <use xlink:href=\"#m975914c106\" x=\"97.350652\" y=\"179.790426\" style=\"fill: #1f77b4; stroke: #333333\"/>\n     <use xlink:href=\"#m975914c106\" x=\"227.178569\" y=\"97.140489\" style=\"fill: #1f77b4; stroke: #333333\"/>\n     <use xlink:href=\"#m975914c106\" x=\"235.43282\" y=\"102.94976\" style=\"fill: #1f77b4; stroke: #333333\"/>\n     <use xlink:href=\"#m975914c106\" x=\"130.843263\" y=\"206.284387\" style=\"fill: #1f77b4; stroke: #333333\"/>\n     <use xlink:href=\"#m975914c106\" x=\"123.107291\" y=\"197.261204\" style=\"fill: #1f77b4; stroke: #333333\"/>\n     <use xlink:href=\"#m975914c106\" x=\"112.11527\" y=\"183.56805\" style=\"fill: #1f77b4; stroke: #333333\"/>\n     <use xlink:href=\"#m975914c106\" x=\"112.789919\" y=\"181.71065\" style=\"fill: #1f77b4; stroke: #333333\"/>\n     <use xlink:href=\"#m975914c106\" x=\"227.667659\" y=\"74.198881\" style=\"fill: #1f77b4; stroke: #333333\"/>\n     <use xlink:href=\"#m975914c106\" x=\"217.644525\" y=\"101.73884\" style=\"fill: #1f77b4; stroke: #333333\"/>\n     <use xlink:href=\"#m975914c106\" x=\"112.080495\" y=\"187.984213\" style=\"fill: #1f77b4; stroke: #333333\"/>\n     <use xlink:href=\"#m975914c106\" x=\"121.732773\" y=\"181.018964\" style=\"fill: #1f77b4; stroke: #333333\"/>\n     <use xlink:href=\"#m975914c106\" x=\"122.993177\" y=\"186.856615\" style=\"fill: #1f77b4; stroke: #333333\"/>\n     <use xlink:href=\"#m975914c106\" x=\"227.44228\" y=\"61.12244\" style=\"fill: #1f77b4; stroke: #333333\"/>\n     <use xlink:href=\"#m975914c106\" x=\"226.714805\" y=\"59.647478\" style=\"fill: #1f77b4; stroke: #333333\"/>\n     <use xlink:href=\"#m975914c106\" x=\"113.74136\" y=\"198.094838\" style=\"fill: #1f77b4; stroke: #333333\"/>\n     <use xlink:href=\"#m975914c106\" x=\"236.079494\" y=\"61.2117\" style=\"fill: #1f77b4; stroke: #333333\"/>\n     <use xlink:href=\"#m975914c106\" x=\"221.951996\" y=\"89.063668\" style=\"fill: #1f77b4; stroke: #333333\"/>\n     <use xlink:href=\"#m975914c106\" x=\"234.614736\" y=\"57.89601\" style=\"fill: #1f77b4; stroke: #333333\"/>\n     <use xlink:href=\"#m975914c106\" x=\"106.894142\" y=\"185.920992\" style=\"fill: #1f77b4; stroke: #333333\"/>\n     <use xlink:href=\"#m975914c106\" x=\"223.479784\" y=\"69.480465\" style=\"fill: #1f77b4; stroke: #333333\"/>\n     <use xlink:href=\"#m975914c106\" x=\"114.973638\" y=\"201.634928\" style=\"fill: #1f77b4; stroke: #333333\"/>\n     <use xlink:href=\"#m975914c106\" x=\"122.379358\" y=\"195.044299\" style=\"fill: #1f77b4; stroke: #333333\"/>\n     <use xlink:href=\"#m975914c106\" x=\"106.332763\" y=\"184.526148\" style=\"fill: #1f77b4; stroke: #333333\"/>\n     <use xlink:href=\"#m975914c106\" x=\"206.329809\" y=\"74.176331\" style=\"fill: #1f77b4; stroke: #333333\"/>\n     <use xlink:href=\"#m975914c106\" x=\"216.203329\" y=\"69.35652\" style=\"fill: #1f77b4; stroke: #333333\"/>\n     <use xlink:href=\"#m975914c106\" x=\"198.196515\" y=\"66.827799\" style=\"fill: #1f77b4; stroke: #333333\"/>\n     <use xlink:href=\"#m975914c106\" x=\"105.736999\" y=\"184.781798\" style=\"fill: #1f77b4; stroke: #333333\"/>\n     <use xlink:href=\"#m975914c106\" x=\"129.483873\" y=\"197.184571\" style=\"fill: #1f77b4; stroke: #333333\"/>\n     <use xlink:href=\"#m975914c106\" x=\"109.570319\" y=\"199.468055\" style=\"fill: #1f77b4; stroke: #333333\"/>\n     <use xlink:href=\"#m975914c106\" x=\"216.782036\" y=\"103.788253\" style=\"fill: #1f77b4; stroke: #333333\"/>\n     <use xlink:href=\"#m975914c106\" x=\"117.812493\" y=\"187.808871\" style=\"fill: #1f77b4; stroke: #333333\"/>\n     <use xlink:href=\"#m975914c106\" x=\"112.07121\" y=\"182.8646\" style=\"fill: #1f77b4; stroke: #333333\"/>\n     <use xlink:href=\"#m975914c106\" x=\"107.763042\" y=\"191.761072\" style=\"fill: #1f77b4; stroke: #333333\"/>\n     <use xlink:href=\"#m975914c106\" x=\"115.478187\" y=\"198.173384\" style=\"fill: #1f77b4; stroke: #333333\"/>\n     <use xlink:href=\"#m975914c106\" x=\"205.33931\" y=\"77.410811\" style=\"fill: #1f77b4; stroke: #333333\"/>\n     <use xlink:href=\"#m975914c106\" x=\"212.672576\" y=\"64.238434\" style=\"fill: #1f77b4; stroke: #333333\"/>\n     <use xlink:href=\"#m975914c106\" x=\"93.870909\" y=\"203.18529\" style=\"fill: #1f77b4; stroke: #333333\"/>\n     <use xlink:href=\"#m975914c106\" x=\"224.79543\" y=\"95.562328\" style=\"fill: #1f77b4; stroke: #333333\"/>\n    </g>\n   </g>\n   <g id=\"PathCollection_2\">\n    <defs>\n     <path id=\"m84a0549832\" d=\"M 0 3 \nC 0.795609 3 1.55874 2.683901 2.12132 2.12132 \nC 2.683901 1.55874 3 0.795609 3 0 \nC 3 -0.795609 2.683901 -1.55874 2.12132 -2.12132 \nC 1.55874 -2.683901 0.795609 -3 0 -3 \nC -0.795609 -3 -1.55874 -2.683901 -2.12132 -2.12132 \nC -2.683901 -1.55874 -3 -0.795609 -3 0 \nC -3 0.795609 -2.683901 1.55874 -2.12132 2.12132 \nC -1.55874 2.683901 -0.795609 3 0 3 \nz\n\" style=\"stroke: #333333\"/>\n    </defs>\n    <g clip-path=\"url(#p5289c7df90)\">\n     <use xlink:href=\"#m84a0549832\" x=\"220.767016\" y=\"176.250001\" style=\"fill: #ff7f0e; stroke: #333333\"/>\n     <use xlink:href=\"#m84a0549832\" x=\"231.131522\" y=\"176.467229\" style=\"fill: #ff7f0e; stroke: #333333\"/>\n     <use xlink:href=\"#m84a0549832\" x=\"221.678359\" y=\"190.72399\" style=\"fill: #ff7f0e; stroke: #333333\"/>\n     <use xlink:href=\"#m84a0549832\" x=\"107.947214\" y=\"67.389997\" style=\"fill: #ff7f0e; stroke: #333333\"/>\n     <use xlink:href=\"#m84a0549832\" x=\"236.60262\" y=\"192.866643\" style=\"fill: #ff7f0e; stroke: #333333\"/>\n     <use xlink:href=\"#m84a0549832\" x=\"116.464039\" y=\"81.977829\" style=\"fill: #ff7f0e; stroke: #333333\"/>\n     <use xlink:href=\"#m84a0549832\" x=\"211.96161\" y=\"200.698784\" style=\"fill: #ff7f0e; stroke: #333333\"/>\n     <use xlink:href=\"#m84a0549832\" x=\"140.604509\" y=\"78.801317\" style=\"fill: #ff7f0e; stroke: #333333\"/>\n     <use xlink:href=\"#m84a0549832\" x=\"234.084209\" y=\"205.395483\" style=\"fill: #ff7f0e; stroke: #333333\"/>\n     <use xlink:href=\"#m84a0549832\" x=\"207.912755\" y=\"179.980683\" style=\"fill: #ff7f0e; stroke: #333333\"/>\n     <use xlink:href=\"#m84a0549832\" x=\"219.991474\" y=\"169.907623\" style=\"fill: #ff7f0e; stroke: #333333\"/>\n     <use xlink:href=\"#m84a0549832\" x=\"88.749447\" y=\"66.726338\" style=\"fill: #ff7f0e; stroke: #333333\"/>\n     <use xlink:href=\"#m84a0549832\" x=\"129.402456\" y=\"67.502468\" style=\"fill: #ff7f0e; stroke: #333333\"/>\n     <use xlink:href=\"#m84a0549832\" x=\"113.328071\" y=\"92.374058\" style=\"fill: #ff7f0e; stroke: #333333\"/>\n     <use xlink:href=\"#m84a0549832\" x=\"113.576594\" y=\"64.737966\" style=\"fill: #ff7f0e; stroke: #333333\"/>\n     <use xlink:href=\"#m84a0549832\" x=\"96.72538\" y=\"62.279233\" style=\"fill: #ff7f0e; stroke: #333333\"/>\n     <use xlink:href=\"#m84a0549832\" x=\"223.201183\" y=\"192.99315\" style=\"fill: #ff7f0e; stroke: #333333\"/>\n     <use xlink:href=\"#m84a0549832\" x=\"209.100346\" y=\"176.132059\" style=\"fill: #ff7f0e; stroke: #333333\"/>\n     <use xlink:href=\"#m84a0549832\" x=\"216.824769\" y=\"177.791622\" style=\"fill: #ff7f0e; stroke: #333333\"/>\n     <use xlink:href=\"#m84a0549832\" x=\"122.450294\" y=\"78.528215\" style=\"fill: #ff7f0e; stroke: #333333\"/>\n     <use xlink:href=\"#m84a0549832\" x=\"205.889592\" y=\"185.273851\" style=\"fill: #ff7f0e; stroke: #333333\"/>\n     <use xlink:href=\"#m84a0549832\" x=\"241.721156\" y=\"192.01743\" style=\"fill: #ff7f0e; stroke: #333333\"/>\n     <use xlink:href=\"#m84a0549832\" x=\"234.877244\" y=\"190.061763\" style=\"fill: #ff7f0e; stroke: #333333\"/>\n     <use xlink:href=\"#m84a0549832\" x=\"214.690458\" y=\"193.281157\" style=\"fill: #ff7f0e; stroke: #333333\"/>\n     <use xlink:href=\"#m84a0549832\" x=\"239.750826\" y=\"172.669489\" style=\"fill: #ff7f0e; stroke: #333333\"/>\n     <use xlink:href=\"#m84a0549832\" x=\"102.71463\" y=\"87.297013\" style=\"fill: #ff7f0e; stroke: #333333\"/>\n     <use xlink:href=\"#m84a0549832\" x=\"237.432124\" y=\"175.02622\" style=\"fill: #ff7f0e; stroke: #333333\"/>\n     <use xlink:href=\"#m84a0549832\" x=\"124.792888\" y=\"75.206008\" style=\"fill: #ff7f0e; stroke: #333333\"/>\n     <use xlink:href=\"#m84a0549832\" x=\"221.765696\" y=\"174.447061\" style=\"fill: #ff7f0e; stroke: #333333\"/>\n     <use xlink:href=\"#m84a0549832\" x=\"90.961195\" y=\"76.692403\" style=\"fill: #ff7f0e; stroke: #333333\"/>\n     <use xlink:href=\"#m84a0549832\" x=\"112.328155\" y=\"84.039634\" style=\"fill: #ff7f0e; stroke: #333333\"/>\n     <use xlink:href=\"#m84a0549832\" x=\"214.784239\" y=\"198.548117\" style=\"fill: #ff7f0e; stroke: #333333\"/>\n     <use xlink:href=\"#m84a0549832\" x=\"208.031141\" y=\"178.033399\" style=\"fill: #ff7f0e; stroke: #333333\"/>\n     <use xlink:href=\"#m84a0549832\" x=\"116.308327\" y=\"79.654878\" style=\"fill: #ff7f0e; stroke: #333333\"/>\n     <use xlink:href=\"#m84a0549832\" x=\"231.359148\" y=\"178.616469\" style=\"fill: #ff7f0e; stroke: #333333\"/>\n     <use xlink:href=\"#m84a0549832\" x=\"116.769166\" y=\"85.978545\" style=\"fill: #ff7f0e; stroke: #333333\"/>\n     <use xlink:href=\"#m84a0549832\" x=\"114.294124\" y=\"88.187855\" style=\"fill: #ff7f0e; stroke: #333333\"/>\n     <use xlink:href=\"#m84a0549832\" x=\"245.040085\" y=\"199.098321\" style=\"fill: #ff7f0e; stroke: #333333\"/>\n     <use xlink:href=\"#m84a0549832\" x=\"221.293995\" y=\"175.576065\" style=\"fill: #ff7f0e; stroke: #333333\"/>\n     <use xlink:href=\"#m84a0549832\" x=\"103.698938\" y=\"75.770625\" style=\"fill: #ff7f0e; stroke: #333333\"/>\n     <use xlink:href=\"#m84a0549832\" x=\"127.898667\" y=\"77.42157\" style=\"fill: #ff7f0e; stroke: #333333\"/>\n     <use xlink:href=\"#m84a0549832\" x=\"130.644729\" y=\"63.284893\" style=\"fill: #ff7f0e; stroke: #333333\"/>\n     <use xlink:href=\"#m84a0549832\" x=\"231.522337\" y=\"196.664997\" style=\"fill: #ff7f0e; stroke: #333333\"/>\n     <use xlink:href=\"#m84a0549832\" x=\"104.102965\" y=\"79.111389\" style=\"fill: #ff7f0e; stroke: #333333\"/>\n     <use xlink:href=\"#m84a0549832\" x=\"219.355249\" y=\"179.737074\" style=\"fill: #ff7f0e; stroke: #333333\"/>\n     <use xlink:href=\"#m84a0549832\" x=\"116.036713\" y=\"89.971152\" style=\"fill: #ff7f0e; stroke: #333333\"/>\n     <use xlink:href=\"#m84a0549832\" x=\"122.358905\" y=\"71.193654\" style=\"fill: #ff7f0e; stroke: #333333\"/>\n     <use xlink:href=\"#m84a0549832\" x=\"121.48517\" y=\"73.963391\" style=\"fill: #ff7f0e; stroke: #333333\"/>\n     <use xlink:href=\"#m84a0549832\" x=\"212.311793\" y=\"180.459621\" style=\"fill: #ff7f0e; stroke: #333333\"/>\n     <use xlink:href=\"#m84a0549832\" x=\"104.097916\" y=\"93.187199\" style=\"fill: #ff7f0e; stroke: #333333\"/>\n     <use xlink:href=\"#m84a0549832\" x=\"120.533857\" y=\"69.61394\" style=\"fill: #ff7f0e; stroke: #333333\"/>\n     <use xlink:href=\"#m84a0549832\" x=\"205.690993\" y=\"177.286919\" style=\"fill: #ff7f0e; stroke: #333333\"/>\n     <use xlink:href=\"#m84a0549832\" x=\"227.085039\" y=\"200.08992\" style=\"fill: #ff7f0e; stroke: #333333\"/>\n     <use xlink:href=\"#m84a0549832\" x=\"118.478957\" y=\"70.023352\" style=\"fill: #ff7f0e; stroke: #333333\"/>\n     <use xlink:href=\"#m84a0549832\" x=\"123.52011\" y=\"85.381901\" style=\"fill: #ff7f0e; stroke: #333333\"/>\n     <use xlink:href=\"#m84a0549832\" x=\"211.205756\" y=\"187.65421\" style=\"fill: #ff7f0e; stroke: #333333\"/>\n     <use xlink:href=\"#m84a0549832\" x=\"204.407632\" y=\"189.820486\" style=\"fill: #ff7f0e; stroke: #333333\"/>\n     <use xlink:href=\"#m84a0549832\" x=\"121.267494\" y=\"81.027196\" style=\"fill: #ff7f0e; stroke: #333333\"/>\n     <use xlink:href=\"#m84a0549832\" x=\"86.011704\" y=\"86.786094\" style=\"fill: #ff7f0e; stroke: #333333\"/>\n     <use xlink:href=\"#m84a0549832\" x=\"109.616422\" y=\"93.155925\" style=\"fill: #ff7f0e; stroke: #333333\"/>\n     <use xlink:href=\"#m84a0549832\" x=\"123.724868\" y=\"72.790696\" style=\"fill: #ff7f0e; stroke: #333333\"/>\n     <use xlink:href=\"#m84a0549832\" x=\"106.173334\" y=\"81.712552\" style=\"fill: #ff7f0e; stroke: #333333\"/>\n     <use xlink:href=\"#m84a0549832\" x=\"111.375217\" y=\"75.724587\" style=\"fill: #ff7f0e; stroke: #333333\"/>\n     <use xlink:href=\"#m84a0549832\" x=\"124.228576\" y=\"85.759312\" style=\"fill: #ff7f0e; stroke: #333333\"/>\n     <use xlink:href=\"#m84a0549832\" x=\"241.904132\" y=\"193.443387\" style=\"fill: #ff7f0e; stroke: #333333\"/>\n     <use xlink:href=\"#m84a0549832\" x=\"99.965801\" y=\"62.935834\" style=\"fill: #ff7f0e; stroke: #333333\"/>\n     <use xlink:href=\"#m84a0549832\" x=\"242.487849\" y=\"179.542785\" style=\"fill: #ff7f0e; stroke: #333333\"/>\n     <use xlink:href=\"#m84a0549832\" x=\"231.888341\" y=\"168.981782\" style=\"fill: #ff7f0e; stroke: #333333\"/>\n     <use xlink:href=\"#m84a0549832\" x=\"207.654728\" y=\"200.658088\" style=\"fill: #ff7f0e; stroke: #333333\"/>\n     <use xlink:href=\"#m84a0549832\" x=\"210.783133\" y=\"213.473757\" style=\"fill: #ff7f0e; stroke: #333333\"/>\n     <use xlink:href=\"#m84a0549832\" x=\"114.742634\" y=\"64.140251\" style=\"fill: #ff7f0e; stroke: #333333\"/>\n     <use xlink:href=\"#m84a0549832\" x=\"212.944218\" y=\"174.680621\" style=\"fill: #ff7f0e; stroke: #333333\"/>\n     <use xlink:href=\"#m84a0549832\" x=\"202.305823\" y=\"163.487024\" style=\"fill: #ff7f0e; stroke: #333333\"/>\n     <use xlink:href=\"#m84a0549832\" x=\"103.742383\" y=\"68.777496\" style=\"fill: #ff7f0e; stroke: #333333\"/>\n     <use xlink:href=\"#m84a0549832\" x=\"122.795357\" y=\"79.00059\" style=\"fill: #ff7f0e; stroke: #333333\"/>\n     <use xlink:href=\"#m84a0549832\" x=\"233.675629\" y=\"178.965372\" style=\"fill: #ff7f0e; stroke: #333333\"/>\n     <use xlink:href=\"#m84a0549832\" x=\"109.768043\" y=\"72.215254\" style=\"fill: #ff7f0e; stroke: #333333\"/>\n     <use xlink:href=\"#m84a0549832\" x=\"119.322394\" y=\"80.391407\" style=\"fill: #ff7f0e; stroke: #333333\"/>\n     <use xlink:href=\"#m84a0549832\" x=\"118.042892\" y=\"82.992602\" style=\"fill: #ff7f0e; stroke: #333333\"/>\n     <use xlink:href=\"#m84a0549832\" x=\"220.487192\" y=\"173.243968\" style=\"fill: #ff7f0e; stroke: #333333\"/>\n     <use xlink:href=\"#m84a0549832\" x=\"226.848637\" y=\"165.836867\" style=\"fill: #ff7f0e; stroke: #333333\"/>\n     <use xlink:href=\"#m84a0549832\" x=\"233.927484\" y=\"179.677091\" style=\"fill: #ff7f0e; stroke: #333333\"/>\n     <use xlink:href=\"#m84a0549832\" x=\"143.969934\" y=\"78.564901\" style=\"fill: #ff7f0e; stroke: #333333\"/>\n     <use xlink:href=\"#m84a0549832\" x=\"207.056986\" y=\"202.488595\" style=\"fill: #ff7f0e; stroke: #333333\"/>\n     <use xlink:href=\"#m84a0549832\" x=\"248.217132\" y=\"201.72411\" style=\"fill: #ff7f0e; stroke: #333333\"/>\n     <use xlink:href=\"#m84a0549832\" x=\"217.539344\" y=\"199.287585\" style=\"fill: #ff7f0e; stroke: #333333\"/>\n     <use xlink:href=\"#m84a0549832\" x=\"106.914877\" y=\"86.997317\" style=\"fill: #ff7f0e; stroke: #333333\"/>\n     <use xlink:href=\"#m84a0549832\" x=\"105.112755\" y=\"78.562297\" style=\"fill: #ff7f0e; stroke: #333333\"/>\n     <use xlink:href=\"#m84a0549832\" x=\"235.820912\" y=\"201.596164\" style=\"fill: #ff7f0e; stroke: #333333\"/>\n     <use xlink:href=\"#m84a0549832\" x=\"105.463749\" y=\"84.533052\" style=\"fill: #ff7f0e; stroke: #333333\"/>\n     <use xlink:href=\"#m84a0549832\" x=\"94.19971\" y=\"80.559539\" style=\"fill: #ff7f0e; stroke: #333333\"/>\n     <use xlink:href=\"#m84a0549832\" x=\"129.195939\" y=\"69.979336\" style=\"fill: #ff7f0e; stroke: #333333\"/>\n     <use xlink:href=\"#m84a0549832\" x=\"107.849891\" y=\"72.369137\" style=\"fill: #ff7f0e; stroke: #333333\"/>\n     <use xlink:href=\"#m84a0549832\" x=\"241.945438\" y=\"199.60062\" style=\"fill: #ff7f0e; stroke: #333333\"/>\n     <use xlink:href=\"#m84a0549832\" x=\"203.545684\" y=\"185.119865\" style=\"fill: #ff7f0e; stroke: #333333\"/>\n     <use xlink:href=\"#m84a0549832\" x=\"114.656078\" y=\"66.725915\" style=\"fill: #ff7f0e; stroke: #333333\"/>\n     <use xlink:href=\"#m84a0549832\" x=\"239.746372\" y=\"197.654618\" style=\"fill: #ff7f0e; stroke: #333333\"/>\n    </g>\n   </g>\n   <g id=\"matplotlib.axis_1\">\n    <g id=\"xtick_1\">\n     <g id=\"line2d_1\">\n      <defs>\n       <path id=\"m40a9380c62\" d=\"M 0 0 \nL 0 3.5 \n\" style=\"stroke: #000000; stroke-width: 0.8\"/>\n      </defs>\n      <g>\n       <use xlink:href=\"#m40a9380c62\" x=\"58.523438\" y=\"244.078125\" style=\"stroke: #000000; stroke-width: 0.8\"/>\n      </g>\n     </g>\n     <g id=\"text_1\">\n      <!-- −0.5 -->\n      <g transform=\"translate(46.382031 258.676562) scale(0.1 -0.1)\">\n       <defs>\n        <path id=\"DejaVuSans-2212\" d=\"M 678 2272 \nL 4684 2272 \nL 4684 1741 \nL 678 1741 \nL 678 2272 \nz\n\" transform=\"scale(0.015625)\"/>\n        <path id=\"DejaVuSans-30\" d=\"M 2034 4250 \nQ 1547 4250 1301 3770 \nQ 1056 3291 1056 2328 \nQ 1056 1369 1301 889 \nQ 1547 409 2034 409 \nQ 2525 409 2770 889 \nQ 3016 1369 3016 2328 \nQ 3016 3291 2770 3770 \nQ 2525 4250 2034 4250 \nz\nM 2034 4750 \nQ 2819 4750 3233 4129 \nQ 3647 3509 3647 2328 \nQ 3647 1150 3233 529 \nQ 2819 -91 2034 -91 \nQ 1250 -91 836 529 \nQ 422 1150 422 2328 \nQ 422 3509 836 4129 \nQ 1250 4750 2034 4750 \nz\n\" transform=\"scale(0.015625)\"/>\n        <path id=\"DejaVuSans-2e\" d=\"M 684 794 \nL 1344 794 \nL 1344 0 \nL 684 0 \nL 684 794 \nz\n\" transform=\"scale(0.015625)\"/>\n        <path id=\"DejaVuSans-35\" d=\"M 691 4666 \nL 3169 4666 \nL 3169 4134 \nL 1269 4134 \nL 1269 2991 \nQ 1406 3038 1543 3061 \nQ 1681 3084 1819 3084 \nQ 2600 3084 3056 2656 \nQ 3513 2228 3513 1497 \nQ 3513 744 3044 326 \nQ 2575 -91 1722 -91 \nQ 1428 -91 1123 -41 \nQ 819 9 494 109 \nL 494 744 \nQ 775 591 1075 516 \nQ 1375 441 1709 441 \nQ 2250 441 2565 725 \nQ 2881 1009 2881 1497 \nQ 2881 1984 2565 2268 \nQ 2250 2553 1709 2553 \nQ 1456 2553 1204 2497 \nQ 953 2441 691 2322 \nL 691 4666 \nz\n\" transform=\"scale(0.015625)\"/>\n       </defs>\n       <use xlink:href=\"#DejaVuSans-2212\"/>\n       <use xlink:href=\"#DejaVuSans-30\" x=\"83.789062\"/>\n       <use xlink:href=\"#DejaVuSans-2e\" x=\"147.412109\"/>\n       <use xlink:href=\"#DejaVuSans-35\" x=\"179.199219\"/>\n      </g>\n     </g>\n    </g>\n    <g id=\"xtick_2\">\n     <g id=\"line2d_2\">\n      <g>\n       <use xlink:href=\"#m40a9380c62\" x=\"113.963437\" y=\"244.078125\" style=\"stroke: #000000; stroke-width: 0.8\"/>\n      </g>\n     </g>\n     <g id=\"text_2\">\n      <!-- 0.0 -->\n      <g transform=\"translate(106.011875 258.676562) scale(0.1 -0.1)\">\n       <use xlink:href=\"#DejaVuSans-30\"/>\n       <use xlink:href=\"#DejaVuSans-2e\" x=\"63.623047\"/>\n       <use xlink:href=\"#DejaVuSans-30\" x=\"95.410156\"/>\n      </g>\n     </g>\n    </g>\n    <g id=\"xtick_3\">\n     <g id=\"line2d_3\">\n      <g>\n       <use xlink:href=\"#m40a9380c62\" x=\"169.403437\" y=\"244.078125\" style=\"stroke: #000000; stroke-width: 0.8\"/>\n      </g>\n     </g>\n     <g id=\"text_3\">\n      <!-- 0.5 -->\n      <g transform=\"translate(161.451875 258.676562) scale(0.1 -0.1)\">\n       <use xlink:href=\"#DejaVuSans-30\"/>\n       <use xlink:href=\"#DejaVuSans-2e\" x=\"63.623047\"/>\n       <use xlink:href=\"#DejaVuSans-35\" x=\"95.410156\"/>\n      </g>\n     </g>\n    </g>\n    <g id=\"xtick_4\">\n     <g id=\"line2d_4\">\n      <g>\n       <use xlink:href=\"#m40a9380c62\" x=\"224.843437\" y=\"244.078125\" style=\"stroke: #000000; stroke-width: 0.8\"/>\n      </g>\n     </g>\n     <g id=\"text_4\">\n      <!-- 1.0 -->\n      <g transform=\"translate(216.891875 258.676562) scale(0.1 -0.1)\">\n       <defs>\n        <path id=\"DejaVuSans-31\" d=\"M 794 531 \nL 1825 531 \nL 1825 4091 \nL 703 3866 \nL 703 4441 \nL 1819 4666 \nL 2450 4666 \nL 2450 531 \nL 3481 531 \nL 3481 0 \nL 794 0 \nL 794 531 \nz\n\" transform=\"scale(0.015625)\"/>\n       </defs>\n       <use xlink:href=\"#DejaVuSans-31\"/>\n       <use xlink:href=\"#DejaVuSans-2e\" x=\"63.623047\"/>\n       <use xlink:href=\"#DejaVuSans-30\" x=\"95.410156\"/>\n      </g>\n     </g>\n    </g>\n    <g id=\"xtick_5\">\n     <g id=\"line2d_5\">\n      <g>\n       <use xlink:href=\"#m40a9380c62\" x=\"280.283437\" y=\"244.078125\" style=\"stroke: #000000; stroke-width: 0.8\"/>\n      </g>\n     </g>\n     <g id=\"text_5\">\n      <!-- 1.5 -->\n      <g transform=\"translate(272.331875 258.676562) scale(0.1 -0.1)\">\n       <use xlink:href=\"#DejaVuSans-31\"/>\n       <use xlink:href=\"#DejaVuSans-2e\" x=\"63.623047\"/>\n       <use xlink:href=\"#DejaVuSans-35\" x=\"95.410156\"/>\n      </g>\n     </g>\n    </g>\n    <g id=\"text_6\">\n     <!-- $x_1$ -->\n     <g transform=\"translate(164.053438 272.354687) scale(0.1 -0.1)\">\n      <defs>\n       <path id=\"DejaVuSans-Oblique-78\" d=\"M 3841 3500 \nL 2234 1784 \nL 3219 0 \nL 2559 0 \nL 1819 1388 \nL 531 0 \nL -166 0 \nL 1556 1844 \nL 641 3500 \nL 1300 3500 \nL 1972 2234 \nL 3144 3500 \nL 3841 3500 \nz\n\" transform=\"scale(0.015625)\"/>\n      </defs>\n      <use xlink:href=\"#DejaVuSans-Oblique-78\" transform=\"translate(0 0.3125)\"/>\n      <use xlink:href=\"#DejaVuSans-31\" transform=\"translate(59.179688 -16.09375) scale(0.7)\"/>\n     </g>\n    </g>\n   </g>\n   <g id=\"matplotlib.axis_2\">\n    <g id=\"ytick_1\">\n     <g id=\"line2d_6\">\n      <defs>\n       <path id=\"mdb529a86d3\" d=\"M 0 0 \nL -3.5 0 \n\" style=\"stroke: #000000; stroke-width: 0.8\"/>\n      </defs>\n      <g>\n       <use xlink:href=\"#mdb529a86d3\" x=\"58.523438\" y=\"244.078125\" style=\"stroke: #000000; stroke-width: 0.8\"/>\n      </g>\n     </g>\n     <g id=\"text_7\">\n      <!-- −0.50 -->\n      <g transform=\"translate(20.878125 247.877344) scale(0.1 -0.1)\">\n       <use xlink:href=\"#DejaVuSans-2212\"/>\n       <use xlink:href=\"#DejaVuSans-30\" x=\"83.789062\"/>\n       <use xlink:href=\"#DejaVuSans-2e\" x=\"147.412109\"/>\n       <use xlink:href=\"#DejaVuSans-35\" x=\"179.199219\"/>\n       <use xlink:href=\"#DejaVuSans-30\" x=\"242.822266\"/>\n      </g>\n     </g>\n    </g>\n    <g id=\"ytick_2\">\n     <g id=\"line2d_7\">\n      <g>\n       <use xlink:href=\"#mdb529a86d3\" x=\"58.523438\" y=\"216.358125\" style=\"stroke: #000000; stroke-width: 0.8\"/>\n      </g>\n     </g>\n     <g id=\"text_8\">\n      <!-- −0.25 -->\n      <g transform=\"translate(20.878125 220.157344) scale(0.1 -0.1)\">\n       <defs>\n        <path id=\"DejaVuSans-32\" d=\"M 1228 531 \nL 3431 531 \nL 3431 0 \nL 469 0 \nL 469 531 \nQ 828 903 1448 1529 \nQ 2069 2156 2228 2338 \nQ 2531 2678 2651 2914 \nQ 2772 3150 2772 3378 \nQ 2772 3750 2511 3984 \nQ 2250 4219 1831 4219 \nQ 1534 4219 1204 4116 \nQ 875 4013 500 3803 \nL 500 4441 \nQ 881 4594 1212 4672 \nQ 1544 4750 1819 4750 \nQ 2544 4750 2975 4387 \nQ 3406 4025 3406 3419 \nQ 3406 3131 3298 2873 \nQ 3191 2616 2906 2266 \nQ 2828 2175 2409 1742 \nQ 1991 1309 1228 531 \nz\n\" transform=\"scale(0.015625)\"/>\n       </defs>\n       <use xlink:href=\"#DejaVuSans-2212\"/>\n       <use xlink:href=\"#DejaVuSans-30\" x=\"83.789062\"/>\n       <use xlink:href=\"#DejaVuSans-2e\" x=\"147.412109\"/>\n       <use xlink:href=\"#DejaVuSans-32\" x=\"179.199219\"/>\n       <use xlink:href=\"#DejaVuSans-35\" x=\"242.822266\"/>\n      </g>\n     </g>\n    </g>\n    <g id=\"ytick_3\">\n     <g id=\"line2d_8\">\n      <g>\n       <use xlink:href=\"#mdb529a86d3\" x=\"58.523438\" y=\"188.638125\" style=\"stroke: #000000; stroke-width: 0.8\"/>\n      </g>\n     </g>\n     <g id=\"text_9\">\n      <!-- 0.00 -->\n      <g transform=\"translate(29.257812 192.437344) scale(0.1 -0.1)\">\n       <use xlink:href=\"#DejaVuSans-30\"/>\n       <use xlink:href=\"#DejaVuSans-2e\" x=\"63.623047\"/>\n       <use xlink:href=\"#DejaVuSans-30\" x=\"95.410156\"/>\n       <use xlink:href=\"#DejaVuSans-30\" x=\"159.033203\"/>\n      </g>\n     </g>\n    </g>\n    <g id=\"ytick_4\">\n     <g id=\"line2d_9\">\n      <g>\n       <use xlink:href=\"#mdb529a86d3\" x=\"58.523438\" y=\"160.918125\" style=\"stroke: #000000; stroke-width: 0.8\"/>\n      </g>\n     </g>\n     <g id=\"text_10\">\n      <!-- 0.25 -->\n      <g transform=\"translate(29.257812 164.717344) scale(0.1 -0.1)\">\n       <use xlink:href=\"#DejaVuSans-30\"/>\n       <use xlink:href=\"#DejaVuSans-2e\" x=\"63.623047\"/>\n       <use xlink:href=\"#DejaVuSans-32\" x=\"95.410156\"/>\n       <use xlink:href=\"#DejaVuSans-35\" x=\"159.033203\"/>\n      </g>\n     </g>\n    </g>\n    <g id=\"ytick_5\">\n     <g id=\"line2d_10\">\n      <g>\n       <use xlink:href=\"#mdb529a86d3\" x=\"58.523438\" y=\"133.198125\" style=\"stroke: #000000; stroke-width: 0.8\"/>\n      </g>\n     </g>\n     <g id=\"text_11\">\n      <!-- 0.50 -->\n      <g transform=\"translate(29.257812 136.997344) scale(0.1 -0.1)\">\n       <use xlink:href=\"#DejaVuSans-30\"/>\n       <use xlink:href=\"#DejaVuSans-2e\" x=\"63.623047\"/>\n       <use xlink:href=\"#DejaVuSans-35\" x=\"95.410156\"/>\n       <use xlink:href=\"#DejaVuSans-30\" x=\"159.033203\"/>\n      </g>\n     </g>\n    </g>\n    <g id=\"ytick_6\">\n     <g id=\"line2d_11\">\n      <g>\n       <use xlink:href=\"#mdb529a86d3\" x=\"58.523438\" y=\"105.478125\" style=\"stroke: #000000; stroke-width: 0.8\"/>\n      </g>\n     </g>\n     <g id=\"text_12\">\n      <!-- 0.75 -->\n      <g transform=\"translate(29.257812 109.277344) scale(0.1 -0.1)\">\n       <defs>\n        <path id=\"DejaVuSans-37\" d=\"M 525 4666 \nL 3525 4666 \nL 3525 4397 \nL 1831 0 \nL 1172 0 \nL 2766 4134 \nL 525 4134 \nL 525 4666 \nz\n\" transform=\"scale(0.015625)\"/>\n       </defs>\n       <use xlink:href=\"#DejaVuSans-30\"/>\n       <use xlink:href=\"#DejaVuSans-2e\" x=\"63.623047\"/>\n       <use xlink:href=\"#DejaVuSans-37\" x=\"95.410156\"/>\n       <use xlink:href=\"#DejaVuSans-35\" x=\"159.033203\"/>\n      </g>\n     </g>\n    </g>\n    <g id=\"ytick_7\">\n     <g id=\"line2d_12\">\n      <g>\n       <use xlink:href=\"#mdb529a86d3\" x=\"58.523438\" y=\"77.758125\" style=\"stroke: #000000; stroke-width: 0.8\"/>\n      </g>\n     </g>\n     <g id=\"text_13\">\n      <!-- 1.00 -->\n      <g transform=\"translate(29.257812 81.557344) scale(0.1 -0.1)\">\n       <use xlink:href=\"#DejaVuSans-31\"/>\n       <use xlink:href=\"#DejaVuSans-2e\" x=\"63.623047\"/>\n       <use xlink:href=\"#DejaVuSans-30\" x=\"95.410156\"/>\n       <use xlink:href=\"#DejaVuSans-30\" x=\"159.033203\"/>\n      </g>\n     </g>\n    </g>\n    <g id=\"ytick_8\">\n     <g id=\"line2d_13\">\n      <g>\n       <use xlink:href=\"#mdb529a86d3\" x=\"58.523438\" y=\"50.038125\" style=\"stroke: #000000; stroke-width: 0.8\"/>\n      </g>\n     </g>\n     <g id=\"text_14\">\n      <!-- 1.25 -->\n      <g transform=\"translate(29.257812 53.837344) scale(0.1 -0.1)\">\n       <use xlink:href=\"#DejaVuSans-31\"/>\n       <use xlink:href=\"#DejaVuSans-2e\" x=\"63.623047\"/>\n       <use xlink:href=\"#DejaVuSans-32\" x=\"95.410156\"/>\n       <use xlink:href=\"#DejaVuSans-35\" x=\"159.033203\"/>\n      </g>\n     </g>\n    </g>\n    <g id=\"ytick_9\">\n     <g id=\"line2d_14\">\n      <g>\n       <use xlink:href=\"#mdb529a86d3\" x=\"58.523438\" y=\"22.318125\" style=\"stroke: #000000; stroke-width: 0.8\"/>\n      </g>\n     </g>\n     <g id=\"text_15\">\n      <!-- 1.50 -->\n      <g transform=\"translate(29.257812 26.117344) scale(0.1 -0.1)\">\n       <use xlink:href=\"#DejaVuSans-31\"/>\n       <use xlink:href=\"#DejaVuSans-2e\" x=\"63.623047\"/>\n       <use xlink:href=\"#DejaVuSans-35\" x=\"95.410156\"/>\n       <use xlink:href=\"#DejaVuSans-30\" x=\"159.033203\"/>\n      </g>\n     </g>\n    </g>\n    <g id=\"text_16\">\n     <!-- $x_2$ -->\n     <g transform=\"translate(14.798437 138.548125) rotate(-90) scale(0.1 -0.1)\">\n      <use xlink:href=\"#DejaVuSans-Oblique-78\" transform=\"translate(0 0.3125)\"/>\n      <use xlink:href=\"#DejaVuSans-32\" transform=\"translate(59.179688 -16.09375) scale(0.7)\"/>\n     </g>\n    </g>\n   </g>\n   <g id=\"patch_3\">\n    <path d=\"M 58.523438 244.078125 \nL 58.523438 22.318125 \n\" style=\"fill: none; stroke: #000000; stroke-width: 0.8; stroke-linejoin: miter; stroke-linecap: square\"/>\n   </g>\n   <g id=\"patch_4\">\n    <path d=\"M 280.283437 244.078125 \nL 280.283437 22.318125 \n\" style=\"fill: none; stroke: #000000; stroke-width: 0.8; stroke-linejoin: miter; stroke-linecap: square\"/>\n   </g>\n   <g id=\"patch_5\">\n    <path d=\"M 58.523438 244.078125 \nL 280.283437 244.078125 \n\" style=\"fill: none; stroke: #000000; stroke-width: 0.8; stroke-linejoin: miter; stroke-linecap: square\"/>\n   </g>\n   <g id=\"patch_6\">\n    <path d=\"M 58.523438 22.318125 \nL 280.283437 22.318125 \n\" style=\"fill: none; stroke: #000000; stroke-width: 0.8; stroke-linejoin: miter; stroke-linecap: square\"/>\n   </g>\n   <g id=\"text_17\">\n    <!-- Dataset samples -->\n    <g transform=\"translate(119.060625 16.318125) scale(0.12 -0.12)\">\n     <defs>\n      <path id=\"DejaVuSans-44\" d=\"M 1259 4147 \nL 1259 519 \nL 2022 519 \nQ 2988 519 3436 956 \nQ 3884 1394 3884 2338 \nQ 3884 3275 3436 3711 \nQ 2988 4147 2022 4147 \nL 1259 4147 \nz\nM 628 4666 \nL 1925 4666 \nQ 3281 4666 3915 4102 \nQ 4550 3538 4550 2338 \nQ 4550 1131 3912 565 \nQ 3275 0 1925 0 \nL 628 0 \nL 628 4666 \nz\n\" transform=\"scale(0.015625)\"/>\n      <path id=\"DejaVuSans-61\" d=\"M 2194 1759 \nQ 1497 1759 1228 1600 \nQ 959 1441 959 1056 \nQ 959 750 1161 570 \nQ 1363 391 1709 391 \nQ 2188 391 2477 730 \nQ 2766 1069 2766 1631 \nL 2766 1759 \nL 2194 1759 \nz\nM 3341 1997 \nL 3341 0 \nL 2766 0 \nL 2766 531 \nQ 2569 213 2275 61 \nQ 1981 -91 1556 -91 \nQ 1019 -91 701 211 \nQ 384 513 384 1019 \nQ 384 1609 779 1909 \nQ 1175 2209 1959 2209 \nL 2766 2209 \nL 2766 2266 \nQ 2766 2663 2505 2880 \nQ 2244 3097 1772 3097 \nQ 1472 3097 1187 3025 \nQ 903 2953 641 2809 \nL 641 3341 \nQ 956 3463 1253 3523 \nQ 1550 3584 1831 3584 \nQ 2591 3584 2966 3190 \nQ 3341 2797 3341 1997 \nz\n\" transform=\"scale(0.015625)\"/>\n      <path id=\"DejaVuSans-74\" d=\"M 1172 4494 \nL 1172 3500 \nL 2356 3500 \nL 2356 3053 \nL 1172 3053 \nL 1172 1153 \nQ 1172 725 1289 603 \nQ 1406 481 1766 481 \nL 2356 481 \nL 2356 0 \nL 1766 0 \nQ 1100 0 847 248 \nQ 594 497 594 1153 \nL 594 3053 \nL 172 3053 \nL 172 3500 \nL 594 3500 \nL 594 4494 \nL 1172 4494 \nz\n\" transform=\"scale(0.015625)\"/>\n      <path id=\"DejaVuSans-73\" d=\"M 2834 3397 \nL 2834 2853 \nQ 2591 2978 2328 3040 \nQ 2066 3103 1784 3103 \nQ 1356 3103 1142 2972 \nQ 928 2841 928 2578 \nQ 928 2378 1081 2264 \nQ 1234 2150 1697 2047 \nL 1894 2003 \nQ 2506 1872 2764 1633 \nQ 3022 1394 3022 966 \nQ 3022 478 2636 193 \nQ 2250 -91 1575 -91 \nQ 1294 -91 989 -36 \nQ 684 19 347 128 \nL 347 722 \nQ 666 556 975 473 \nQ 1284 391 1588 391 \nQ 1994 391 2212 530 \nQ 2431 669 2431 922 \nQ 2431 1156 2273 1281 \nQ 2116 1406 1581 1522 \nL 1381 1569 \nQ 847 1681 609 1914 \nQ 372 2147 372 2553 \nQ 372 3047 722 3315 \nQ 1072 3584 1716 3584 \nQ 2034 3584 2315 3537 \nQ 2597 3491 2834 3397 \nz\n\" transform=\"scale(0.015625)\"/>\n      <path id=\"DejaVuSans-65\" d=\"M 3597 1894 \nL 3597 1613 \nL 953 1613 \nQ 991 1019 1311 708 \nQ 1631 397 2203 397 \nQ 2534 397 2845 478 \nQ 3156 559 3463 722 \nL 3463 178 \nQ 3153 47 2828 -22 \nQ 2503 -91 2169 -91 \nQ 1331 -91 842 396 \nQ 353 884 353 1716 \nQ 353 2575 817 3079 \nQ 1281 3584 2069 3584 \nQ 2775 3584 3186 3129 \nQ 3597 2675 3597 1894 \nz\nM 3022 2063 \nQ 3016 2534 2758 2815 \nQ 2500 3097 2075 3097 \nQ 1594 3097 1305 2825 \nQ 1016 2553 972 2059 \nL 3022 2063 \nz\n\" transform=\"scale(0.015625)\"/>\n      <path id=\"DejaVuSans-20\" transform=\"scale(0.015625)\"/>\n      <path id=\"DejaVuSans-6d\" d=\"M 3328 2828 \nQ 3544 3216 3844 3400 \nQ 4144 3584 4550 3584 \nQ 5097 3584 5394 3201 \nQ 5691 2819 5691 2113 \nL 5691 0 \nL 5113 0 \nL 5113 2094 \nQ 5113 2597 4934 2840 \nQ 4756 3084 4391 3084 \nQ 3944 3084 3684 2787 \nQ 3425 2491 3425 1978 \nL 3425 0 \nL 2847 0 \nL 2847 2094 \nQ 2847 2600 2669 2842 \nQ 2491 3084 2119 3084 \nQ 1678 3084 1418 2786 \nQ 1159 2488 1159 1978 \nL 1159 0 \nL 581 0 \nL 581 3500 \nL 1159 3500 \nL 1159 2956 \nQ 1356 3278 1631 3431 \nQ 1906 3584 2284 3584 \nQ 2666 3584 2933 3390 \nQ 3200 3197 3328 2828 \nz\n\" transform=\"scale(0.015625)\"/>\n      <path id=\"DejaVuSans-70\" d=\"M 1159 525 \nL 1159 -1331 \nL 581 -1331 \nL 581 3500 \nL 1159 3500 \nL 1159 2969 \nQ 1341 3281 1617 3432 \nQ 1894 3584 2278 3584 \nQ 2916 3584 3314 3078 \nQ 3713 2572 3713 1747 \nQ 3713 922 3314 415 \nQ 2916 -91 2278 -91 \nQ 1894 -91 1617 61 \nQ 1341 213 1159 525 \nz\nM 3116 1747 \nQ 3116 2381 2855 2742 \nQ 2594 3103 2138 3103 \nQ 1681 3103 1420 2742 \nQ 1159 2381 1159 1747 \nQ 1159 1113 1420 752 \nQ 1681 391 2138 391 \nQ 2594 391 2855 752 \nQ 3116 1113 3116 1747 \nz\n\" transform=\"scale(0.015625)\"/>\n      <path id=\"DejaVuSans-6c\" d=\"M 603 4863 \nL 1178 4863 \nL 1178 0 \nL 603 0 \nL 603 4863 \nz\n\" transform=\"scale(0.015625)\"/>\n     </defs>\n     <use xlink:href=\"#DejaVuSans-44\"/>\n     <use xlink:href=\"#DejaVuSans-61\" x=\"77.001953\"/>\n     <use xlink:href=\"#DejaVuSans-74\" x=\"138.28125\"/>\n     <use xlink:href=\"#DejaVuSans-61\" x=\"177.490234\"/>\n     <use xlink:href=\"#DejaVuSans-73\" x=\"238.769531\"/>\n     <use xlink:href=\"#DejaVuSans-65\" x=\"290.869141\"/>\n     <use xlink:href=\"#DejaVuSans-74\" x=\"352.392578\"/>\n     <use xlink:href=\"#DejaVuSans-20\" x=\"391.601562\"/>\n     <use xlink:href=\"#DejaVuSans-73\" x=\"423.388672\"/>\n     <use xlink:href=\"#DejaVuSans-61\" x=\"475.488281\"/>\n     <use xlink:href=\"#DejaVuSans-6d\" x=\"536.767578\"/>\n     <use xlink:href=\"#DejaVuSans-70\" x=\"634.179688\"/>\n     <use xlink:href=\"#DejaVuSans-6c\" x=\"697.65625\"/>\n     <use xlink:href=\"#DejaVuSans-65\" x=\"725.439453\"/>\n     <use xlink:href=\"#DejaVuSans-73\" x=\"786.962891\"/>\n    </g>\n   </g>\n   <g id=\"legend_1\">\n    <g id=\"patch_7\">\n     <path d=\"M 65.523438 59.674375 \nL 133.371875 59.674375 \nQ 135.371875 59.674375 135.371875 57.674375 \nL 135.371875 29.318125 \nQ 135.371875 27.318125 133.371875 27.318125 \nL 65.523438 27.318125 \nQ 63.523438 27.318125 63.523438 29.318125 \nL 63.523438 57.674375 \nQ 63.523438 59.674375 65.523438 59.674375 \nz\n\" style=\"fill: #ffffff; opacity: 0.8; stroke: #cccccc; stroke-linejoin: miter\"/>\n    </g>\n    <g id=\"PathCollection_3\">\n     <g>\n      <use xlink:href=\"#m975914c106\" x=\"77.523438\" y=\"36.291562\" style=\"fill: #1f77b4; stroke: #333333\"/>\n     </g>\n    </g>\n    <g id=\"text_18\">\n     <!-- Class 0 -->\n     <g transform=\"translate(95.523438 38.916562) scale(0.1 -0.1)\">\n      <defs>\n       <path id=\"DejaVuSans-43\" d=\"M 4122 4306 \nL 4122 3641 \nQ 3803 3938 3442 4084 \nQ 3081 4231 2675 4231 \nQ 1875 4231 1450 3742 \nQ 1025 3253 1025 2328 \nQ 1025 1406 1450 917 \nQ 1875 428 2675 428 \nQ 3081 428 3442 575 \nQ 3803 722 4122 1019 \nL 4122 359 \nQ 3791 134 3420 21 \nQ 3050 -91 2638 -91 \nQ 1578 -91 968 557 \nQ 359 1206 359 2328 \nQ 359 3453 968 4101 \nQ 1578 4750 2638 4750 \nQ 3056 4750 3426 4639 \nQ 3797 4528 4122 4306 \nz\n\" transform=\"scale(0.015625)\"/>\n      </defs>\n      <use xlink:href=\"#DejaVuSans-43\"/>\n      <use xlink:href=\"#DejaVuSans-6c\" x=\"69.824219\"/>\n      <use xlink:href=\"#DejaVuSans-61\" x=\"97.607422\"/>\n      <use xlink:href=\"#DejaVuSans-73\" x=\"158.886719\"/>\n      <use xlink:href=\"#DejaVuSans-73\" x=\"210.986328\"/>\n      <use xlink:href=\"#DejaVuSans-20\" x=\"263.085938\"/>\n      <use xlink:href=\"#DejaVuSans-30\" x=\"294.873047\"/>\n     </g>\n    </g>\n    <g id=\"PathCollection_4\">\n     <g>\n      <use xlink:href=\"#m84a0549832\" x=\"77.523438\" y=\"50.969687\" style=\"fill: #ff7f0e; stroke: #333333\"/>\n     </g>\n    </g>\n    <g id=\"text_19\">\n     <!-- Class 1 -->\n     <g transform=\"translate(95.523438 53.594687) scale(0.1 -0.1)\">\n      <use xlink:href=\"#DejaVuSans-43\"/>\n      <use xlink:href=\"#DejaVuSans-6c\" x=\"69.824219\"/>\n      <use xlink:href=\"#DejaVuSans-61\" x=\"97.607422\"/>\n      <use xlink:href=\"#DejaVuSans-73\" x=\"158.886719\"/>\n      <use xlink:href=\"#DejaVuSans-73\" x=\"210.986328\"/>\n      <use xlink:href=\"#DejaVuSans-20\" x=\"263.085938\"/>\n      <use xlink:href=\"#DejaVuSans-31\" x=\"294.873047\"/>\n     </g>\n    </g>\n   </g>\n  </g>\n </g>\n <defs>\n  <clipPath id=\"p5289c7df90\">\n   <rect x=\"58.523438\" y=\"22.318125\" width=\"221.76\" height=\"221.76\"/>\n  </clipPath>\n </defs>\n</svg>\n",
            "application/pdf": "[encoded data removed]"
          },
          "metadata": {}
        }
      ]
    }
  ]
}